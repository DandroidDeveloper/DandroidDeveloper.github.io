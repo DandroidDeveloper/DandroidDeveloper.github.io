{
 "cells": [
  {
   "cell_type": "markdown",
   "metadata": {},
   "source": [
    "<img src = \"synapse.jpg\" height=\"720\" width=\"1028\" style = \"text-align:center\"></img>"
   ]
  },
  {
   "cell_type": "markdown",
   "metadata": {},
   "source": [
    "<p style = \"text-align:center\"> The picture above is a 3d wireframe exploded view model of synaptic vesicles and synapses courtesy of National Geographic's <a href = \"https://www.youtube.com/watch?v=nvXuq9jRWKE\">youtube</a> channel. The picture is from a segment on how our brains communicate at the tiniest scale.</p>"
   ]
  },
  {
   "cell_type": "markdown",
   "metadata": {},
   "source": [
    "<p>The resources I will be using include Stephen Welch's great lecture on <a href = \"https://www.youtube.com/watch?v=bxe2T-V8XRs&list=PLiaHhY2iBX9hdHaRr6b7XevZtgZRa1PoU\">Neural Networks</a>, the <a href = \"http://interactivepython.org/UhZmZ/courselib/static/pythonds/index.html\">Interactive Python book,</a> and Patrick Winston's lectures on <a href = \"https://www.youtube.com/watch?v=TjZBTDzGeGg&list=PLUl4u3cNGP63gFHB6xb-kVBiQHYe_4hSi\">Artificial Intelligence</a> along with the accompanying <a href = \"http://www.amazon.com/s/ref=nb_sb_noss?url=search-alias%3Daps&field-keywords=patrick+winston+artificial+intelligence\">textbook.</a></p>\n",
    "<br>"
   ]
  },
  {
   "cell_type": "markdown",
   "metadata": {},
   "source": [
    "<h5>The Middle</h5>\n",
    "<p>I am fascinated by how things work. Computer Science gives one an outlet for this fascination, and the ability to model things and discover how they work. In the words of MIT Artificial Intelligence Professor Patrick Winston, making models allows one to \"understand the past, predict the future, and control the world.\"</p>\n",
    "<br>"
   ]
  },
  {
   "cell_type": "markdown",
   "metadata": {},
   "source": [
    "<p style = \"text-align:center\">One thing I have been trying to figure out for quite some time is how my brain works...</p>"
   ]
  },
  {
   "cell_type": "markdown",
   "metadata": {},
   "source": [
    "<img src = \"debugger.png\"></img>"
   ]
  },
  {
   "cell_type": "markdown",
   "metadata": {},
   "source": [
    "<div style = \"text-align:center\"><a href = \"https://xkcd.com/1163/\">XKCD</a></div>"
   ]
  },
  {
   "cell_type": "markdown",
   "metadata": {},
   "source": [
    "<p>I think the most interesting place to begin answering how our brains work, or more specifically how artificial neural networks work, is by comparing how we are different than the chimpanzees whom we share approximately 96 percent of our dna with. Most people would come to the conclusion that over the course of evolution, slow steady improvement eventually made our brains better than those of the chimpanzees. According to Professor Winston, <a href = \"https://www.youtube.com/watch?v=TjZBTDzGeGg&list=PLUl4u3cNGP63gFHB6xb-kVBiQHYe_4hSi\" >this</a> is not the case. \"From the fossil record, the story seems to be this. We humans have been around for about 200,000 years in our present anatomical form. However, for the first 150,000 years or so humans did not amount to much. Somehow, shortly before 50,000 years ago, one small group of us developed a capability that seperated us from all other species. It was an accident of evolution. It is also probably the case that we necked down as a species to a few thousand or few hundred individuals, something that made these accidental evolutionary changes more capable of sticking... This leads us to speculate on what it was that happened 50,000 years ago. Paleoanthropologists, <a href = \"https://en.wikipedia.org/wiki/Noam_Chomsky\">Noam Chomsky</a>, and many others have reached a similar conclusion.\" To quote Chomsky, \"It seems that shortly before 50,000 years ago, some small group of us developed the ability to take two concepts, and combine them to make a third concept, without disturbing the original two concepts; without limit.\"</p>"
   ]
  },
  {
   "cell_type": "markdown",
   "metadata": {},
   "source": [
    "<p>Winston declares that what Chomsky is saying is we began to learn how to describe things in a way that was intimately connected with language, and that in the end is what seperates us from chimpanzees. </p>"
   ]
  },
  {
   "cell_type": "markdown",
   "metadata": {},
   "source": [
    "<img src = \"evolution.jpg\" height=\"720\" width=\"720\"></img>"
   ]
  },
  {
   "cell_type": "markdown",
   "metadata": {},
   "source": [
    "<p>\"So you might think lets just study language. You can't do that because we actually think with our eyes. According to Winston, language does two things. Number one it enables us to make descriptions, descriptions enable us to tell stories, and story telling and story understanding is what all of learning is about. Number two, language enables us to marshal the resources of our perceptual systems, and even command our perceptual systems to imagine things we have never seen!\"</p>"
   ]
  },
  {
   "cell_type": "markdown",
   "metadata": {},
   "source": [
    "<p>To reference one of our previous examples, Theodorus had at his disposal sticks and sand. He took one stick, and another stick of equal length, and put them together at a right angle. Through sticks and sand he was able to communicate and derive many mathematical concepts.\n",
    "<br>\n",
    "<br>\n",
    "In computer science we extend this concept to model pretty much anything. The next section of this Ipython Notebook is going to be a study of how we model most things in Python up to human intelligence. This is the hard part. Humans are incredible at noticing patterns and pattern recognition, and it takes many neurons to perform these calculations. Lets start off by modeling a basic data structure that we now know the Egyptians came up with, Fractions.</p>"
   ]
  },
  {
   "cell_type": "markdown",
   "metadata": {},
   "source": [
    "<h4>Classes</h4>\n",
    "<p>As you may know, a fraction has a numerator and a denominator. We will initialize our class with these values.</p>"
   ]
  },
  {
   "cell_type": "code",
   "execution_count": 1,
   "metadata": {
    "collapsed": false
   },
   "outputs": [
    {
     "name": "stdout",
     "output_type": "stream",
     "text": [
      "Populating the interactive namespace from numpy and matplotlib\n"
     ]
    }
   ],
   "source": [
    "%pylab inline\n",
    "class Fraction:\n",
    "\n",
    "    def __init__(self,numerator,denominator):\n",
    "\n",
    "        self.num = numerator\n",
    "        self.den = denominator"
   ]
  },
  {
   "cell_type": "markdown",
   "metadata": {},
   "source": [
    "<p>Now we need a way to display our fraction in Ipython.</p>"
   ]
  },
  {
   "cell_type": "code",
   "execution_count": 2,
   "metadata": {
    "collapsed": true
   },
   "outputs": [],
   "source": [
    "def show(self):\n",
    "    print(self.num,\"/\",self.den)"
   ]
  },
  {
   "cell_type": "markdown",
   "metadata": {},
   "source": [
    "<p>Putting it together,</p>"
   ]
  },
  {
   "cell_type": "code",
   "execution_count": 3,
   "metadata": {
    "collapsed": true
   },
   "outputs": [],
   "source": [
    "class Fraction:\n",
    "\n",
    "    def __init__(self,numerator,denominator):\n",
    "\n",
    "        self.num = numerator\n",
    "        self.den = denominator\n",
    "    \n",
    "    def show(self):\n",
    "         print(self.num,\"/\",self.den)"
   ]
  },
  {
   "cell_type": "code",
   "execution_count": 4,
   "metadata": {
    "collapsed": false
   },
   "outputs": [
    {
     "name": "stdout",
     "output_type": "stream",
     "text": [
      "1 / 1\n"
     ]
    }
   ],
   "source": [
    "newFraction = Fraction(1,1)\n",
    "newFraction.show()"
   ]
  },
  {
   "cell_type": "code",
   "execution_count": 5,
   "metadata": {
    "collapsed": false
   },
   "outputs": [
    {
     "name": "stdout",
     "output_type": "stream",
     "text": [
      "<__main__.Fraction object at 0x7f4060d3bf98>\n"
     ]
    }
   ],
   "source": [
    "print(newFraction)"
   ]
  },
  {
   "cell_type": "markdown",
   "metadata": {},
   "source": [
    "<p>Now we need a string function for our fraction.</p>"
   ]
  },
  {
   "cell_type": "code",
   "execution_count": 6,
   "metadata": {
    "collapsed": true
   },
   "outputs": [],
   "source": [
    "def __str__(self):\n",
    "    return str(self.num)+\"/\"+str(self.den)"
   ]
  },
  {
   "cell_type": "code",
   "execution_count": 7,
   "metadata": {
    "collapsed": true
   },
   "outputs": [],
   "source": [
    "class Fraction:\n",
    "\n",
    "    def __init__(self,numerator,denominator):\n",
    "\n",
    "        self.num = numerator\n",
    "        self.den = denominator\n",
    "    \n",
    "    def show(self):\n",
    "         print(self.num,\"/\",self.den)\n",
    "            \n",
    "    def __str__(self):\n",
    "        return str(self.num)+\"/\"+str(self.den)"
   ]
  },
  {
   "cell_type": "code",
   "execution_count": 8,
   "metadata": {
    "collapsed": false
   },
   "outputs": [
    {
     "name": "stdout",
     "output_type": "stream",
     "text": [
      "1 / 1\n",
      "1/1\n"
     ]
    }
   ],
   "source": [
    "newFraction = Fraction(1,1)\n",
    "newFraction.show()\n",
    "print(newFraction)"
   ]
  },
  {
   "cell_type": "markdown",
   "metadata": {},
   "source": [
    "<p>In addition to the above functions, we also need a way to add two fraction objects together.</p>"
   ]
  },
  {
   "cell_type": "code",
   "execution_count": 9,
   "metadata": {
    "collapsed": true
   },
   "outputs": [],
   "source": [
    "def __add__(self,otherfraction):\n",
    "\n",
    "    newnum = self.num*otherfraction.den + self.den*otherfraction.num\n",
    "    newden = self.den * otherfraction.den\n",
    "    return Fraction(newnum,newden)"
   ]
  },
  {
   "cell_type": "code",
   "execution_count": 10,
   "metadata": {
    "collapsed": true
   },
   "outputs": [],
   "source": [
    "class Fraction:\n",
    "\n",
    "    def __init__(self,numerator,denominator):\n",
    "\n",
    "        self.num = numerator\n",
    "        self.den = denominator\n",
    "    \n",
    "    def show(self):\n",
    "         print(self.num,\"/\",self.den)\n",
    "            \n",
    "    def __str__(self):\n",
    "        return str(self.num)+\"/\"+str(self.den)\n",
    "    \n",
    "    def __add__(self,otherfraction):\n",
    "        newnum = self.num*otherfraction.den + self.den*otherfraction.num\n",
    "        newden = self.den * otherfraction.den\n",
    "\n",
    "        return Fraction(newnum,newden)\n",
    "    "
   ]
  },
  {
   "cell_type": "code",
   "execution_count": 11,
   "metadata": {
    "collapsed": false
   },
   "outputs": [
    {
     "name": "stdout",
     "output_type": "stream",
     "text": [
      "4/4\n"
     ]
    }
   ],
   "source": [
    "f1 = Fraction(1,2)\n",
    "f2 = Fraction(1,2)\n",
    "print(f1 + f2)"
   ]
  },
  {
   "cell_type": "markdown",
   "metadata": {},
   "source": [
    "<p>The addition function works, but it is not returning the fraction with the least common denominator, which in our case would be 1/1, or 1. This is where programming becomes powerful to users. We can modify our method to return what we want using logic. Additionally, notice that I am not calling an addition function, but rather the addition operator. What we are doing is referred to as overloading primitive operators. Python let's us change the behavior of it's built in classes in relation to our predefined fraction class. Next, let's define a function that returns the greatest common denominator of our fractions.</p>"
   ]
  },
  {
   "cell_type": "code",
   "execution_count": 12,
   "metadata": {
    "collapsed": false
   },
   "outputs": [
    {
     "name": "stdout",
     "output_type": "stream",
     "text": [
      "10\n"
     ]
    }
   ],
   "source": [
    "def gcd(m,n):\n",
    "    while m%n != 0:\n",
    "        oldm = m\n",
    "        oldn = n\n",
    "\n",
    "        m = oldn\n",
    "        n = oldm%oldn\n",
    "    return n\n",
    "\n",
    "print(gcd(20,10))"
   ]
  },
  {
   "cell_type": "markdown",
   "metadata": {},
   "source": [
    "<p>Buenisimo! Now, let's modify our addition function.</p>"
   ]
  },
  {
   "cell_type": "code",
   "execution_count": 13,
   "metadata": {
    "collapsed": true
   },
   "outputs": [],
   "source": [
    "def gcd(m,n):\n",
    "    while m%n != 0:\n",
    "        oldm = m\n",
    "        oldn = n\n",
    "\n",
    "        m = oldn\n",
    "        n = oldm%oldn\n",
    "    return n\n",
    "\n",
    "class Fraction:\n",
    "\n",
    "    def __init__(self,numerator,denominator):\n",
    "\n",
    "        self.num = numerator\n",
    "        self.den = denominator\n",
    "    \n",
    "    def show(self):\n",
    "         print(self.num,\"/\",self.den)\n",
    "            \n",
    "    def __str__(self):\n",
    "        return str(self.num)+\"/\"+str(self.den)\n",
    "    \n",
    "    def __add__(self,otherfraction):\n",
    "        newnum = self.num*otherfraction.den + self.den*otherfraction.num\n",
    "        newden = self.den * otherfraction.den\n",
    "        common = gcd(newnum,newden)\n",
    "        return Fraction(newnum//common,newden//common)"
   ]
  },
  {
   "cell_type": "code",
   "execution_count": 14,
   "metadata": {
    "collapsed": false
   },
   "outputs": [
    {
     "name": "stdout",
     "output_type": "stream",
     "text": [
      "1/1\n"
     ]
    }
   ],
   "source": [
    "f1 = Fraction(10,20)\n",
    "f2 = Fraction(10,20)\n",
    "print(f1 + f2)"
   ]
  },
  {
   "cell_type": "markdown",
   "metadata": {},
   "source": [
    "<p>Now that we have addition fully operational, let's work on subtraction, multiplication, and division.</p>"
   ]
  },
  {
   "cell_type": "code",
   "execution_count": 15,
   "metadata": {
    "collapsed": true
   },
   "outputs": [],
   "source": [
    "def gcd(m,n):\n",
    "    while m%n != 0:\n",
    "        oldm = m\n",
    "        oldn = n\n",
    "\n",
    "        m = oldn\n",
    "        n = oldm%oldn\n",
    "    return n\n",
    "\n",
    "class Fraction:\n",
    "\n",
    "    def __init__(self,numerator,denominator):\n",
    "\n",
    "        self.num = numerator\n",
    "        self.den = denominator\n",
    "    \n",
    "    def show(self):\n",
    "         print(self.num,\"/\",self.den)\n",
    "            \n",
    "    def __str__(self):\n",
    "        return str(self.num)+\"/\"+str(self.den)\n",
    "    \n",
    "    def __add__(self,otherfraction):\n",
    "        newnum = self.num*otherfraction.den + self.den*otherfraction.num\n",
    "        newden = self.den * otherfraction.den\n",
    "        common = gcd(newnum,newden)\n",
    "        return Fraction(newnum//common,newden//common)\n",
    "    \n",
    "    def __sub__(self,otherfraction):\n",
    "        newnum = self.num*otherfraction.den - self.den*otherfraction.num\n",
    "        newden = self.den * otherfraction.den\n",
    "        common = gcd(newnum,newden)\n",
    "        return Fraction(newnum//common,newden//common)\n",
    "    \n",
    "    def __mul__(self,otherfraction):\n",
    "        newnum = self.num*otherfraction.num\n",
    "        newden = self.den * otherfraction.den\n",
    "        common = gcd(newnum,newden)\n",
    "        return Fraction(newnum//common,newden//common)\n",
    "    \n",
    "    #We need to specify if we want to overload the // operator, floor div or the / operator, true div.\n",
    "    def __truediv__(self,otherfraction):\n",
    "        newnum = self.num*otherfraction.den\n",
    "        newden = self.den * otherfraction.num\n",
    "        common = gcd(newnum,newden)\n",
    "        return Fraction(newnum//common,newden//common)\n",
    "    "
   ]
  },
  {
   "cell_type": "code",
   "execution_count": 16,
   "metadata": {
    "collapsed": false
   },
   "outputs": [
    {
     "name": "stdout",
     "output_type": "stream",
     "text": [
      "1/1\n",
      "2/1\n",
      "2/1\n"
     ]
    }
   ],
   "source": [
    "f1 = Fraction(20,10)\n",
    "f2 = Fraction(10,10)\n",
    "print(f1 - f2)\n",
    "print(f1 * f2)\n",
    "print(f1 / f2)"
   ]
  },
  {
   "cell_type": "markdown",
   "metadata": {},
   "source": [
    "<p>Our fraction class appears to be working correctly so far. Now, let's overload the comparison operators like equality, greater than, and less than.</p>"
   ]
  },
  {
   "cell_type": "code",
   "execution_count": 17,
   "metadata": {
    "collapsed": true
   },
   "outputs": [],
   "source": [
    "def gcd(m,n):\n",
    "    while m%n != 0:\n",
    "        oldm = m\n",
    "        oldn = n\n",
    "\n",
    "        m = oldn\n",
    "        n = oldm%oldn\n",
    "    return n\n",
    "\n",
    "class Fraction:\n",
    "\n",
    "    def __init__(self,numerator,denominator):\n",
    "\n",
    "        self.num = numerator\n",
    "        self.den = denominator\n",
    "    \n",
    "    def show(self):\n",
    "         print(self.num,\"/\",self.den)\n",
    "            \n",
    "    def __str__(self):\n",
    "        return str(self.num)+\"/\"+str(self.den)\n",
    "    \n",
    "    def __add__(self,otherfraction):\n",
    "        newnum = self.num*otherfraction.den + self.den*otherfraction.num\n",
    "        newden = self.den * otherfraction.den\n",
    "        common = gcd(newnum,newden)\n",
    "        return Fraction(newnum//common,newden//common)\n",
    "    \n",
    "    def __sub__(self,otherfraction):\n",
    "        newnum = self.num*otherfraction.den - self.den*otherfraction.num\n",
    "        newden = self.den * otherfraction.den\n",
    "        common = gcd(newnum,newden)\n",
    "        return Fraction(newnum//common,newden//common)\n",
    "    \n",
    "    def __mul__(self,otherfraction):\n",
    "        newnum = self.num*otherfraction.num\n",
    "        newden = self.den * otherfraction.den\n",
    "        common = gcd(newnum,newden)\n",
    "        return Fraction(newnum//common,newden//common)\n",
    "    \n",
    "    #We need to specify if we want to overload the // operator, floor div or the / operator, true div.\n",
    "    def __truediv__(self,otherfraction):\n",
    "        newnum = self.num*otherfraction.den\n",
    "        newden = self.den * otherfraction.num\n",
    "        common = gcd(newnum,newden)\n",
    "        return Fraction(newnum//common,newden//common)\n",
    "    \n",
    "    def __eq__(self, other):\n",
    "        firstnum = self.num * other.den\n",
    "        secondnum = other.num * self.den\n",
    "\n",
    "        return firstnum == secondnum\n",
    "    \n",
    "    def __ne__(self, other):\n",
    "        firstnum = self.num * other.den\n",
    "        secondnum = other.num * self.den\n",
    "\n",
    "        return firstnum != secondnum\n",
    "    \n",
    "    def __lt__(self, other):\n",
    "        firstnum = self.num * other.den\n",
    "        secondnum = other.num * self.den\n",
    "\n",
    "        return firstnum < secondnum\n",
    "    \n",
    "    def __gt__(self, other):\n",
    "        firstnum = self.num * other.den\n",
    "        secondnum = other.num * self.den\n",
    "\n",
    "        return firstnum > secondnum"
   ]
  },
  {
   "cell_type": "code",
   "execution_count": 18,
   "metadata": {
    "collapsed": false
   },
   "outputs": [
    {
     "name": "stdout",
     "output_type": "stream",
     "text": [
      "False\n",
      "True\n",
      "False\n",
      "True\n"
     ]
    }
   ],
   "source": [
    "f1 = Fraction(1,1)\n",
    "f2 = Fraction(1,2)\n",
    "print(f1 == f2)\n",
    "print(f1 != f2)\n",
    "print(f1 < f2)\n",
    "print(f1 > f2)"
   ]
  },
  {
   "cell_type": "markdown",
   "metadata": {},
   "source": [
    "<p>Excellent! Of course, there are far more operators we could overload if we wanted to. For now, however, This class has presented the basic idea of how malleable programming can be. Now let's move on to stacks and linear data structures.</p>"
   ]
  },
  {
   "cell_type": "markdown",
   "metadata": {},
   "source": [
    "<h4>Stacks</h4>"
   ]
  },
  {
   "cell_type": "markdown",
   "metadata": {},
   "source": [
    "<p>A stack is a stack of stuff...literally. If you have a stack of books, thats a stack. Stacks obey LIFO logic, that is last in first out. This is because you can only put things on top of a stack and take things off of a stack. Putting things onto a stack is referred to as pushing, and taking an item off of the stack is referred to as popping. You can also 'peek' at the top item of the stack, and test if it 'isEmpty' and see it's 'size'. Let's program a stack using a python list.</p>"
   ]
  },
  {
   "cell_type": "code",
   "execution_count": 19,
   "metadata": {
    "collapsed": true
   },
   "outputs": [],
   "source": [
    "class Stack:\n",
    "    def __init__(self):\n",
    "        self.items = []\n",
    "    \n",
    "    def isEmpty(self):\n",
    "        return self.items == []\n",
    "\n",
    "    def push(self, item):\n",
    "        self.items.insert(0,item)\n",
    "\n",
    "    def pop(self):\n",
    "        return self.items.pop(0)\n",
    "\n",
    "    def peek(self):\n",
    "        return self.items[0]\n",
    "    \n",
    "    def size(self):\n",
    "        return len(self.items)\n"
   ]
  },
  {
   "cell_type": "code",
   "execution_count": 20,
   "metadata": {
    "collapsed": false
   },
   "outputs": [
    {
     "name": "stdout",
     "output_type": "stream",
     "text": [
      "True\n",
      "False\n",
      "3\n",
      "3\n",
      "2\n",
      "2\n",
      "1\n",
      "1\n",
      "True\n"
     ]
    }
   ],
   "source": [
    "s = Stack()\n",
    "print(s.isEmpty())\n",
    "s.push(1)\n",
    "print(s.isEmpty())\n",
    "s.push(2)\n",
    "s.push(3)\n",
    "print(s.peek())\n",
    "print(s.size())\n",
    "s.pop()\n",
    "print(s.peek())\n",
    "print(s.size())\n",
    "s.pop()\n",
    "print(s.peek())\n",
    "print(s.size())\n",
    "s.pop()\n",
    "print(s.isEmpty())"
   ]
  },
  {
   "cell_type": "markdown",
   "metadata": {},
   "source": [
    "<h4>Queues</h4>"
   ]
  },
  {
   "cell_type": "markdown",
   "metadata": {},
   "source": [
    "<p>Queue's are similar to stacks, and opposite in logic. A queue is like a line at a grocery store, you add things to the end (enqueue) and pop things off the front (dequeue). This logic is referred to as FIFO. Let's implement a queue in python.</p> "
   ]
  },
  {
   "cell_type": "code",
   "execution_count": 21,
   "metadata": {
    "collapsed": true
   },
   "outputs": [],
   "source": [
    "class Queue:\n",
    "    def __init__(self):\n",
    "        self.items = []\n",
    "\n",
    "    def isEmpty(self):\n",
    "        return self.items == []\n",
    "\n",
    "    def enqueue(self, item):\n",
    "        self.items.insert(0,item)\n",
    "\n",
    "    def dequeue(self):\n",
    "        return self.items.pop()\n",
    "\n",
    "    def size(self):\n",
    "        return len(self.items)"
   ]
  },
  {
   "cell_type": "code",
   "execution_count": 22,
   "metadata": {
    "collapsed": false
   },
   "outputs": [
    {
     "name": "stdout",
     "output_type": "stream",
     "text": [
      "0\n",
      "3\n",
      "Andrew\n",
      "Bill\n",
      "Colin\n",
      "0\n"
     ]
    }
   ],
   "source": [
    "#Some peeps in line\n",
    "\n",
    "q = Queue()\n",
    "print(q.size())\n",
    "q.enqueue('Andrew')\n",
    "q.enqueue('Bill')\n",
    "q.enqueue('Colin')\n",
    "print(q.size())\n",
    "print(q.dequeue())\n",
    "print(q.dequeue())\n",
    "print(q.dequeue())\n",
    "print(q.size())"
   ]
  },
  {
   "cell_type": "markdown",
   "metadata": {},
   "source": [
    "<h4>Dequeue</h4>"
   ]
  },
  {
   "cell_type": "markdown",
   "metadata": {},
   "source": [
    "<p>A dequeue, apart from being an insane scrabble word to throw on top of queue, is a further extension of a queue. Dequeues allow you to add things and remove things from the front and rear. A dequeue is actually a more correct representation of people in line at a grocery store, as it allows for more than one line, and provides the ability to get off the end of a line and move to another. This is how scheduling works in your operating system. You have threads or processes that get in lines on your processors, and if the processor is busy with that line, and the size is large, you move to another line that is shorter or not busy. I may go into scheduling a little later on, but for now let's build a basic dequeue.</p>"
   ]
  },
  {
   "cell_type": "code",
   "execution_count": 23,
   "metadata": {
    "collapsed": true
   },
   "outputs": [],
   "source": [
    "class Dequeue:\n",
    "    def __init__(self):\n",
    "        self.items = []\n",
    "\n",
    "    def isEmpty(self):\n",
    "        return self.items == []\n",
    "\n",
    "    def addFront(self, item):\n",
    "        self.items.append(item)\n",
    "\n",
    "    def addRear(self, item):\n",
    "        self.items.insert(0,item)\n",
    "\n",
    "    def removeFront(self):\n",
    "        return self.items.pop()\n",
    "\n",
    "    def removeRear(self):\n",
    "        return self.items.pop(0)\n",
    "\n",
    "    def size(self):\n",
    "        return len(self.items)"
   ]
  },
  {
   "cell_type": "code",
   "execution_count": 24,
   "metadata": {
    "collapsed": false
   },
   "outputs": [
    {
     "name": "stdout",
     "output_type": "stream",
     "text": [
      "True\n",
      "3\n",
      "Andrew\n",
      "Colin\n",
      "1\n",
      "Bill\n",
      "0\n"
     ]
    }
   ],
   "source": [
    "d = Dequeue()\n",
    "print(d.isEmpty())\n",
    "d.addFront('Bill')\n",
    "d.addFront('Andrew')\n",
    "d.addRear('Colin')\n",
    "print(d.size())\n",
    "print(d.removeFront())\n",
    "print(d.removeRear())\n",
    "print(d.size())\n",
    "print(d.removeRear())\n",
    "print(d.size())"
   ]
  },
  {
   "cell_type": "markdown",
   "metadata": {},
   "source": [
    "<h4>Unordered List</h4>"
   ]
  },
  {
   "cell_type": "code",
   "execution_count": 25,
   "metadata": {
    "collapsed": true
   },
   "outputs": [],
   "source": [
    "#TO DO!"
   ]
  },
  {
   "cell_type": "code",
   "execution_count": 26,
   "metadata": {
    "collapsed": true
   },
   "outputs": [],
   "source": [
    "class Node:\n",
    "    def __init__(self,initdata):\n",
    "        self.data = initdata\n",
    "        self.next = None\n",
    "\n",
    "    def getData(self):\n",
    "        return self.data\n",
    "\n",
    "    def getNext(self):\n",
    "        return self.next\n",
    "\n",
    "    def setData(self,newdata):\n",
    "        self.data = newdata\n",
    "\n",
    "    def setNext(self,newnext):\n",
    "        self.next = newnext"
   ]
  },
  {
   "cell_type": "code",
   "execution_count": 27,
   "metadata": {
    "collapsed": false
   },
   "outputs": [
    {
     "data": {
      "text/plain": [
       "1"
      ]
     },
     "execution_count": 27,
     "metadata": {},
     "output_type": "execute_result"
    }
   ],
   "source": [
    "temp = Node(1)\n",
    "temp.getData()"
   ]
  },
  {
   "cell_type": "code",
   "execution_count": 28,
   "metadata": {
    "collapsed": true
   },
   "outputs": [],
   "source": [
    "class UnorderedList:\n",
    "\n",
    "    def __init__(self):\n",
    "        self.head = None\n",
    "        \n",
    "    def isEmpty(self):\n",
    "        return self.head == None\n",
    "    \n",
    "    def add(self,item):\n",
    "        temp = Node(item)\n",
    "        temp.setNext(self.head)\n",
    "        self.head = temp    \n",
    "        \n",
    "    def size(self):\n",
    "        current = self.head\n",
    "        count = 0\n",
    "        while current != None:\n",
    "            count = count + 1\n",
    "            current = current.getNext()\n",
    "\n",
    "        return count\n",
    "    \n",
    "    def search(self,item):\n",
    "        current = self.head\n",
    "        found = False\n",
    "        while current != None and not found:\n",
    "            if current.getData() == item:\n",
    "                found = True\n",
    "            else:\n",
    "                current = current.getNext()\n",
    "\n",
    "        return found\n",
    "    \n",
    "    def remove(self,item):\n",
    "        current = self.head\n",
    "        previous = None\n",
    "        found = False\n",
    "        while not found:\n",
    "            if current.getData() == item:\n",
    "                found = True\n",
    "            else:\n",
    "                previous = current\n",
    "                current = current.getNext()\n",
    "\n",
    "        if previous == None:\n",
    "            self.head = current.getNext()\n",
    "        else:\n",
    "            previous.setNext(current.getNext())"
   ]
  },
  {
   "cell_type": "code",
   "execution_count": 29,
   "metadata": {
    "collapsed": false
   },
   "outputs": [
    {
     "name": "stdout",
     "output_type": "stream",
     "text": [
      "False\n",
      "True\n",
      "6\n",
      "False\n",
      "5\n"
     ]
    }
   ],
   "source": [
    "mylist = UnorderedList()\n",
    "mylist.add(1)\n",
    "mylist.add(2)\n",
    "mylist.add(3)\n",
    "mylist.add(4)\n",
    "mylist.add(5)\n",
    "mylist.add(6)\n",
    "print(mylist.isEmpty())\n",
    "print(mylist.search(4))\n",
    "print(mylist.size())\n",
    "mylist.remove(4)\n",
    "print(mylist.search(4))\n",
    "print(mylist.size())"
   ]
  },
  {
   "cell_type": "markdown",
   "metadata": {},
   "source": [
    "<h4>Ordered List</h4>"
   ]
  },
  {
   "cell_type": "code",
   "execution_count": 30,
   "metadata": {
    "collapsed": true
   },
   "outputs": [],
   "source": [
    "#TO DO!"
   ]
  },
  {
   "cell_type": "code",
   "execution_count": 31,
   "metadata": {
    "collapsed": true
   },
   "outputs": [],
   "source": [
    "class Node:\n",
    "    def __init__(self,initdata):\n",
    "        self.data = initdata\n",
    "        self.next = None\n",
    "\n",
    "    def getData(self):\n",
    "        return self.data\n",
    "\n",
    "    def getNext(self):\n",
    "        return self.next\n",
    "\n",
    "    def setData(self,newdata):\n",
    "        self.data = newdata\n",
    "\n",
    "    def setNext(self,newnext):\n",
    "        self.next = newnext\n",
    "        \n",
    "class OrderedList:\n",
    "\n",
    "    def __init__(self):\n",
    "        self.head = None\n",
    "        \n",
    "    def isEmpty(self):\n",
    "        return self.head == None\n",
    "    \n",
    "    def add(self,item):\n",
    "        current = self.head\n",
    "        previous = None\n",
    "        stop = False\n",
    "        while current != None and not stop:\n",
    "            if current.getData() > item:\n",
    "                stop = True\n",
    "            else:\n",
    "                previous = current\n",
    "                current = current.getNext()\n",
    "\n",
    "        temp = Node(item)\n",
    "        if previous == None:\n",
    "            temp.setNext(self.head)\n",
    "            self.head = temp\n",
    "        else:\n",
    "            temp.setNext(current)\n",
    "            previous.setNext(temp)    \n",
    "        \n",
    "    def size(self):\n",
    "        current = self.head\n",
    "        count = 0\n",
    "        while current != None:\n",
    "            count = count + 1\n",
    "            current = current.getNext()\n",
    "\n",
    "        return count\n",
    "    \n",
    "    def search(self,item):\n",
    "        current = self.head\n",
    "        found = False\n",
    "        stop = False\n",
    "        while current != None and not found and not stop:\n",
    "            if current.getData() == item:\n",
    "                found = True\n",
    "            else:\n",
    "                if current.getData() > item:\n",
    "                    stop = True\n",
    "                else:\n",
    "                    current = current.getNext()\n",
    "\n",
    "        return found\n",
    "    \n",
    "    def remove(self,item):\n",
    "        current = self.head\n",
    "        previous = None\n",
    "        found = False\n",
    "        while not found:\n",
    "            if current.getData() == item:\n",
    "                found = True\n",
    "            else:\n",
    "                previous = current\n",
    "                current = current.getNext()\n",
    "\n",
    "        if previous == None:\n",
    "            self.head = current.getNext()\n",
    "        else:\n",
    "            previous.setNext(current.getNext())"
   ]
  },
  {
   "cell_type": "code",
   "execution_count": 32,
   "metadata": {
    "collapsed": false
   },
   "outputs": [
    {
     "name": "stdout",
     "output_type": "stream",
     "text": [
      "False\n",
      "True\n",
      "6\n",
      "False\n",
      "5\n"
     ]
    }
   ],
   "source": [
    "mylist = OrderedList()\n",
    "mylist.add(1)\n",
    "mylist.add(2)\n",
    "mylist.add(3)\n",
    "mylist.add(4)\n",
    "mylist.add(5)\n",
    "mylist.add(6)\n",
    "print(mylist.isEmpty())\n",
    "print(mylist.search(4))\n",
    "print(mylist.size())\n",
    "mylist.remove(4)\n",
    "print(mylist.search(4))\n",
    "print(mylist.size())"
   ]
  },
  {
   "cell_type": "markdown",
   "metadata": {},
   "source": [
    "<h4>Recursion</h4>"
   ]
  },
  {
   "cell_type": "code",
   "execution_count": 33,
   "metadata": {
    "collapsed": true
   },
   "outputs": [],
   "source": [
    "#TO DO!"
   ]
  },
  {
   "cell_type": "markdown",
   "metadata": {},
   "source": [
    "<h4>Searching and Sorting</h4>"
   ]
  },
  {
   "cell_type": "code",
   "execution_count": 34,
   "metadata": {
    "collapsed": true
   },
   "outputs": [],
   "source": [
    "#TO DO!"
   ]
  },
  {
   "cell_type": "code",
   "execution_count": 35,
   "metadata": {
    "collapsed": false
   },
   "outputs": [
    {
     "name": "stdout",
     "output_type": "stream",
     "text": [
      "[[10, 2, 3, 5, 1, 4, 6, 7, 9, 8], [2, 10, 3, 5, 1, 4, 6, 7, 9, 8], [2, 3, 10, 5, 1, 4, 6, 7, 9, 8], [2, 3, 5, 10, 1, 4, 6, 7, 9, 8], [2, 3, 5, 1, 10, 4, 6, 7, 9, 8], [2, 3, 5, 1, 4, 10, 6, 7, 9, 8], [2, 3, 5, 1, 4, 6, 10, 7, 9, 8], [2, 3, 5, 1, 4, 6, 7, 10, 9, 8], [2, 3, 5, 1, 4, 6, 7, 9, 10, 8], [2, 3, 5, 1, 4, 6, 7, 9, 8, 10], [2, 3, 5, 1, 4, 6, 7, 9, 8, 10], [2, 3, 1, 5, 4, 6, 7, 9, 8, 10], [2, 3, 1, 4, 5, 6, 7, 9, 8, 10], [2, 3, 1, 4, 5, 6, 7, 8, 9, 10], [2, 3, 1, 4, 5, 6, 7, 8, 9, 10], [2, 1, 3, 4, 5, 6, 7, 8, 9, 10], [2, 1, 3, 4, 5, 6, 7, 8, 9, 10], [1, 2, 3, 4, 5, 6, 7, 8, 9, 10], [1, 2, 3, 4, 5, 6, 7, 8, 9, 10], [1, 2, 3, 4, 5, 6, 7, 8, 9, 10], [1, 2, 3, 4, 5, 6, 7, 8, 9, 10], [1, 2, 3, 4, 5, 6, 7, 8, 9, 10], [1, 2, 3, 4, 5, 6, 7, 8, 9, 10]]\n",
      "23\n"
     ]
    }
   ],
   "source": [
    "def generateBubbleSort(alist):\n",
    "    newListOfLists = []\n",
    "    for passnum in range(len(alist)-1,0,-1):\n",
    "        newListOfLists.append(list(alist))\n",
    "        for i in range(passnum):\n",
    "            if alist[i]>alist[i+1]:\n",
    "                temp = alist[i]\n",
    "                alist[i] = alist[i+1]\n",
    "                alist[i+1] = temp\n",
    "                newListOfLists.append(list(alist))\n",
    "    return newListOfLists\n",
    "\n",
    "alist = [10,2,3,5,1,4,6,7,9,8]\n",
    "newListOfLists = generateBubbleSort(alist)\n",
    "print(newListOfLists)\n",
    "print(len(newListOfLists))"
   ]
  },
  {
   "cell_type": "code",
   "execution_count": 36,
   "metadata": {
    "collapsed": false
   },
   "outputs": [],
   "source": [
    "from JSAnimation.IPython_display import display_animation\n",
    "import numpy as np\n",
    "import matplotlib.pyplot as plt\n",
    "import matplotlib.animation as animation\n",
    "\n",
    "#fig, ax = plt.subplots()\n",
    "\n",
    "#alist = [10, 2 ,3 ,1 , 4, 6, 7, 5, 9, 8]\n",
    "#newListOfLists = generateBubbleSort(alist)\n",
    "#print(newListOfLists)\n",
    "#print(len(newListOfLists))\n",
    "\n",
    "#line1, = ax.plot([], [], 'bo', ms=10)\n",
    "#line2, = ax.plot([], [], 'bo', ms=10)\n",
    "#line3, = ax.plot([], [], 'bo', ms=10)\n",
    "#line4, = ax.plot([], [], 'bo', ms=10)\n",
    "#line5, = ax.plot([], [], 'bo', ms=10)\n",
    "#line6, = ax.plot([], [], 'bo', ms=10)\n",
    "#line7, = ax.plot([], [], 'bo', ms=10)\n",
    "#line8, = ax.plot([], [], 'bo', ms=10)\n",
    "#line9, = ax.plot([], [], 'bo', ms=10)\n",
    "#line10, = ax.plot([], [], 'bo', ms=10)\n",
    "\n",
    "\n",
    "#Set y axes\n",
    "#ax.set_ylim(0, 10)\n",
    "\n",
    "#Set x axes\n",
    "#ax.set_xlim(0, 10)\n",
    "\n",
    "def animate(i):\n",
    "    line1.set_data(1,newListOfLists[i//10][0])  # update the data\n",
    "    line2.set_data(2,newListOfLists[i//10][1])  # update the data\n",
    "    line3.set_data(3,newListOfLists[i//10][2])  # update the data\n",
    "    line4.set_data(4,newListOfLists[i//10][3])  # update the data\n",
    "    line5.set_data(5,newListOfLists[i//10][4])  # update the data\n",
    "    line6.set_data(6,newListOfLists[i//10][5])  # update the data\n",
    "    line7.set_data(7,newListOfLists[i//10][6])  # update the data\n",
    "    line8.set_data(8,newListOfLists[i//10][7])  # update the data\n",
    "    line9.set_data(9,newListOfLists[i//10][8])  # update the data\n",
    "    line10.set_data(10,newListOfLists[i//10][9])  # update the data\n",
    "\n",
    "    return line1, line2, line3, line4, line5, line6, line7, line8, line9, line10\n",
    "\n",
    "\n",
    "# Init only required for blitting to give a clean slate.\n",
    "def init():\n",
    "    line1.set_data([],[])  # update the data\n",
    "    line2.set_data([],[])  # update the data\n",
    "    line3.set_data([],[])  # update the data\n",
    "    line4.set_data([],[])  # update the data\n",
    "    line5.set_data([],[])  # update the data\n",
    "    line6.set_data([],[])  # update the data\n",
    "    line7.set_data([],[])  # update the data\n",
    "    line8.set_data([],[])  # update the data\n",
    "    line9.set_data([],[])  # update the data\n",
    "    line10.set_data([],[])  # update the data\n",
    "\n",
    "    return line1, line2, line3, line4, line5, line6, line7, line8, line9, line10\n",
    "\n",
    "#ani = animation.FuncAnimation(fig, animate, np.arange(1, 230), init_func=init, interval=25, blit=True)\n",
    "#display_animation(ani, default_mode='once')\n",
    "#ani.save('BubbleSort.gif', writer='imagemagick')"
   ]
  },
  {
   "cell_type": "markdown",
   "metadata": {},
   "source": [
    "<img src = 'BubbleSort.gif'></img>"
   ]
  },
  {
   "cell_type": "code",
   "execution_count": 37,
   "metadata": {
    "collapsed": false
   },
   "outputs": [
    {
     "name": "stdout",
     "output_type": "stream",
     "text": [
      "[[10, 2, 3, 1, 4, 6, 7, 9, 8], [2, 10, 3, 1, 4, 6, 7, 9, 8], [2, 3, 10, 1, 4, 6, 7, 9, 8], [2, 3, 1, 10, 4, 6, 7, 9, 8], [2, 3, 1, 4, 10, 6, 7, 9, 8], [2, 3, 1, 4, 6, 10, 7, 9, 8], [2, 3, 1, 4, 6, 7, 10, 9, 8], [2, 3, 1, 4, 6, 7, 9, 10, 8], [2, 3, 1, 4, 6, 7, 9, 8, 10], [2, 3, 1, 4, 6, 7, 9, 8, 10], [2, 1, 3, 4, 6, 7, 9, 8, 10], [2, 1, 3, 4, 6, 7, 8, 9, 10], [2, 1, 3, 4, 6, 7, 8, 9, 10], [1, 2, 3, 4, 6, 7, 8, 9, 10], [1, 2, 3, 4, 6, 7, 8, 9, 10]]\n"
     ]
    }
   ],
   "source": [
    "def generateShortBubbleSort(alist):\n",
    "    newListOfLists = []\n",
    "    exchanges = True\n",
    "    passnum = len(alist)-1\n",
    "    while passnum > 0 and exchanges:\n",
    "        newListOfLists.append(list(alist))\n",
    "        exchanges = False\n",
    "        for i in range(passnum):\n",
    "            if alist[i]>alist[i+1]:\n",
    "                exchanges = True\n",
    "                temp = alist[i]\n",
    "                alist[i] = alist[i+1]\n",
    "                alist[i+1] = temp\n",
    "                newListOfLists.append(list(alist))\n",
    "\n",
    "        passnum = passnum-1\n",
    "    return newListOfLists\n",
    "\n",
    "alist = [10,2,3,1,4,6,7,9,8]\n",
    "newListOfLists = generateShortBubbleSort(alist)\n",
    "print(newListOfLists)"
   ]
  },
  {
   "cell_type": "code",
   "execution_count": 38,
   "metadata": {
    "collapsed": false
   },
   "outputs": [],
   "source": [
    "from JSAnimation.IPython_display import display_animation\n",
    "import numpy as np\n",
    "import matplotlib.pyplot as plt\n",
    "import matplotlib.animation as animation\n",
    "\n",
    "#fig, ax = plt.subplots()\n",
    "\n",
    "#alist = [10, 2 ,3 ,1 , 4, 6, 7, 5, 9, 8]\n",
    "#newListOfLists = generateShortBubbleSort(alist)\n",
    "#print(newListOfLists)\n",
    "#print(len(newListOfLists))\n",
    "\n",
    "#line1, = ax.plot([], [], 'bo', ms=10)\n",
    "#line2, = ax.plot([], [], 'bo', ms=10)\n",
    "#line3, = ax.plot([], [], 'bo', ms=10)\n",
    "#line4, = ax.plot([], [], 'bo', ms=10)\n",
    "#line5, = ax.plot([], [], 'bo', ms=10)\n",
    "#line6, = ax.plot([], [], 'bo', ms=10)\n",
    "#line7, = ax.plot([], [], 'bo', ms=10)\n",
    "#line8, = ax.plot([], [], 'bo', ms=10)\n",
    "#line9, = ax.plot([], [], 'bo', ms=10)\n",
    "#line10, = ax.plot([], [], 'bo', ms=10)\n",
    "\n",
    "\n",
    "#Set y axes\n",
    "#ax.set_ylim(0, 10)\n",
    "\n",
    "#Set x axes\n",
    "#ax.set_xlim(0, 10)\n",
    "\n",
    "def animate(i):\n",
    "    line1.set_data(1,newListOfLists[i//10][0])  # update the data\n",
    "    line2.set_data(2,newListOfLists[i//10][1])  # update the data\n",
    "    line3.set_data(3,newListOfLists[i//10][2])  # update the data\n",
    "    line4.set_data(4,newListOfLists[i//10][3])  # update the data\n",
    "    line5.set_data(5,newListOfLists[i//10][4])  # update the data\n",
    "    line6.set_data(6,newListOfLists[i//10][5])  # update the data\n",
    "    line7.set_data(7,newListOfLists[i//10][6])  # update the data\n",
    "    line8.set_data(8,newListOfLists[i//10][7])  # update the data\n",
    "    line9.set_data(9,newListOfLists[i//10][8])  # update the data\n",
    "    line10.set_data(10,newListOfLists[i//10][9])  # update the data\n",
    "\n",
    "    return line1, line2, line3, line4, line5, line6, line7, line8, line9, line10\n",
    "\n",
    "\n",
    "# Init only required for blitting to give a clean slate.\n",
    "def init():\n",
    "    line1.set_data([],[])  # update the data\n",
    "    line2.set_data([],[])  # update the data\n",
    "    line3.set_data([],[])  # update the data\n",
    "    line4.set_data([],[])  # update the data\n",
    "    line5.set_data([],[])  # update the data\n",
    "    line6.set_data([],[])  # update the data\n",
    "    line7.set_data([],[])  # update the data\n",
    "    line8.set_data([],[])  # update the data\n",
    "    line9.set_data([],[])  # update the data\n",
    "    line10.set_data([],[])  # update the data\n",
    "\n",
    "    return line1, line2, line3, line4, line5, line6, line7, line8, line9, line10\n",
    "\n",
    "#ani = animation.FuncAnimation(fig, animate, np.arange(1, 180), init_func=init,\n",
    "#                              interval=25, blit=True)\n",
    "#display_animation(ani, default_mode='once')\n",
    "#ani.save('ShortBubbleSort.gif', writer='imagemagick')"
   ]
  },
  {
   "cell_type": "markdown",
   "metadata": {},
   "source": [
    "<img src = 'ShortBubbleSort.gif'></img>"
   ]
  },
  {
   "cell_type": "code",
   "execution_count": 39,
   "metadata": {
    "collapsed": false
   },
   "outputs": [
    {
     "name": "stdout",
     "output_type": "stream",
     "text": [
      "[[10, 2, 3, 1, 4, 6, 7, 9, 8], [8, 2, 3, 1, 4, 6, 7, 9, 10], [8, 2, 3, 1, 4, 6, 7, 9, 10], [8, 2, 3, 1, 4, 6, 7, 9, 10], [7, 2, 3, 1, 4, 6, 8, 9, 10], [6, 2, 3, 1, 4, 7, 8, 9, 10], [4, 2, 3, 1, 6, 7, 8, 9, 10], [1, 2, 3, 4, 6, 7, 8, 9, 10], [1, 2, 3, 4, 6, 7, 8, 9, 10], [1, 2, 3, 4, 6, 7, 8, 9, 10], [1, 2, 3, 4, 6, 7, 8, 9, 10], [1, 2, 3, 4, 6, 7, 8, 9, 10]]\n"
     ]
    }
   ],
   "source": [
    "def generateSelectionSort(alist):\n",
    "    newListOfLists = []\n",
    "\n",
    "    for fillslot in range(len(alist)-1,0,-1):\n",
    "        newListOfLists.append(list(alist))\n",
    "        positionOfMax=0\n",
    "        for location in range(1,fillslot+1):\n",
    "            if alist[location]>alist[positionOfMax]:\n",
    "                positionOfMax = location\n",
    "                newListOfLists.append(list(alist))\n",
    "\n",
    "        temp = alist[fillslot]\n",
    "        alist[fillslot] = alist[positionOfMax]\n",
    "        alist[positionOfMax] = temp\n",
    "    return newListOfLists\n",
    "alist = [10,2,3,1,4,6,7,9,8]\n",
    "newListOfLists = generateSelectionSort(alist)\n",
    "print(newListOfLists)"
   ]
  },
  {
   "cell_type": "code",
   "execution_count": 40,
   "metadata": {
    "collapsed": false
   },
   "outputs": [],
   "source": [
    "from JSAnimation.IPython_display import display_animation\n",
    "import numpy as np\n",
    "import matplotlib.pyplot as plt\n",
    "import matplotlib.animation as animation\n",
    "\n",
    "#fig, ax = plt.subplots()\n",
    "\n",
    "#alist = [10, 2 ,3 ,1 , 4, 6, 7, 5, 9, 8]\n",
    "#newListOfLists = generateSelectionSort(alist)\n",
    "#print(newListOfLists)\n",
    "#print(len(newListOfLists))\n",
    "\n",
    "#line1, = ax.plot([], [], 'ro', ms=10)\n",
    "#line2, = ax.plot([], [], 'ro', ms=10)\n",
    "#line3, = ax.plot([], [], 'ro', ms=10)\n",
    "#line4, = ax.plot([], [], 'ro', ms=10)\n",
    "#line5, = ax.plot([], [], 'ro', ms=10)\n",
    "#line6, = ax.plot([], [], 'ro', ms=10)\n",
    "#line7, = ax.plot([], [], 'ro', ms=10)\n",
    "#line8, = ax.plot([], [], 'ro', ms=10)\n",
    "#line9, = ax.plot([], [], 'ro', ms=10)\n",
    "#line10, = ax.plot([], [], 'ro', ms=10)\n",
    "\n",
    "\n",
    "#Set y axes\n",
    "#ax.set_ylim(0, 10)\n",
    "\n",
    "#Set x axes\n",
    "#ax.set_xlim(0, 10)\n",
    "\n",
    "def animate(i):\n",
    "    line1.set_data(1,newListOfLists[i//10][0])  # update the data\n",
    "    line2.set_data(2,newListOfLists[i//10][1])  # update the data\n",
    "    line3.set_data(3,newListOfLists[i//10][2])  # update the data\n",
    "    line4.set_data(4,newListOfLists[i//10][3])  # update the data\n",
    "    line5.set_data(5,newListOfLists[i//10][4])  # update the data\n",
    "    line6.set_data(6,newListOfLists[i//10][5])  # update the data\n",
    "    line7.set_data(7,newListOfLists[i//10][6])  # update the data\n",
    "    line8.set_data(8,newListOfLists[i//10][7])  # update the data\n",
    "    line9.set_data(9,newListOfLists[i//10][8])  # update the data\n",
    "    line10.set_data(10,newListOfLists[i//10][9])  # update the data\n",
    "\n",
    "    return line1, line2, line3, line4, line5, line6, line7, line8, line9, line10\n",
    "\n",
    "\n",
    "# Init only required for blitting to give a clean slate.\n",
    "def init():\n",
    "    line1.set_data([],[])  # update the data\n",
    "    line2.set_data([],[])  # update the data\n",
    "    line3.set_data([],[])  # update the data\n",
    "    line4.set_data([],[])  # update the data\n",
    "    line5.set_data([],[])  # update the data\n",
    "    line6.set_data([],[])  # update the data\n",
    "    line7.set_data([],[])  # update the data\n",
    "    line8.set_data([],[])  # update the data\n",
    "    line9.set_data([],[])  # update the data\n",
    "    line10.set_data([],[])  # update the data\n",
    "\n",
    "    return line1, line2, line3, line4, line5, line6, line7, line8, line9, line10\n",
    "\n",
    "#ani = animation.FuncAnimation(fig, animate, np.arange(1, 160), init_func=init,\n",
    "#                              interval=25, blit=True)\n",
    "#display_animation(ani, default_mode='once')\n",
    "#ani.save('SelectionSort.gif', writer='imagemagick')"
   ]
  },
  {
   "cell_type": "markdown",
   "metadata": {},
   "source": [
    "<img src = 'SelectionSort.gif'></img>"
   ]
  },
  {
   "cell_type": "code",
   "execution_count": 41,
   "metadata": {
    "collapsed": false
   },
   "outputs": [
    {
     "name": "stdout",
     "output_type": "stream",
     "text": [
      "[[10, 2, 3, 1, 4, 6, 7, 9, 8], [2, 10, 3, 1, 4, 6, 7, 9, 8], [2, 10, 3, 1, 4, 6, 7, 9, 8], [2, 3, 10, 1, 4, 6, 7, 9, 8], [2, 3, 10, 1, 4, 6, 7, 9, 8], [1, 2, 3, 10, 4, 6, 7, 9, 8], [1, 2, 3, 10, 4, 6, 7, 9, 8], [1, 2, 3, 4, 10, 6, 7, 9, 8], [1, 2, 3, 4, 10, 6, 7, 9, 8], [1, 2, 3, 4, 6, 10, 7, 9, 8], [1, 2, 3, 4, 6, 10, 7, 9, 8], [1, 2, 3, 4, 6, 7, 10, 9, 8], [1, 2, 3, 4, 6, 7, 10, 9, 8], [1, 2, 3, 4, 6, 7, 9, 10, 8], [1, 2, 3, 4, 6, 7, 9, 10, 8], [1, 2, 3, 4, 6, 7, 8, 9, 10]]\n",
      "16\n"
     ]
    }
   ],
   "source": [
    "def generateInsertionSort(alist):\n",
    "    newListOfLists = []\n",
    "\n",
    "    for index in range(1,len(alist)):\n",
    "        newListOfLists.append(list(alist))\n",
    "\n",
    "        currentvalue = alist[index]\n",
    "        position = index\n",
    "\n",
    "        while position>0 and alist[position-1]>currentvalue:\n",
    "            alist[position]=alist[position-1]\n",
    "            position = position-1\n",
    "\n",
    "        alist[position]=currentvalue\n",
    "        newListOfLists.append(list(alist))\n",
    "\n",
    "    return newListOfLists\n",
    "\n",
    "alist = [10,2,3,1,4,6,7,9,8]\n",
    "newListOfLists = generateInsertionSort(alist)\n",
    "print(newListOfLists)\n",
    "print(len(newListOfLists))"
   ]
  },
  {
   "cell_type": "code",
   "execution_count": 42,
   "metadata": {
    "collapsed": false
   },
   "outputs": [],
   "source": [
    "from JSAnimation.IPython_display import display_animation\n",
    "import numpy as np\n",
    "import matplotlib.pyplot as plt\n",
    "import matplotlib.animation as animation\n",
    "\n",
    "#fig, ax = plt.subplots()\n",
    "\n",
    "#alist = [10, 2 ,3 ,1 , 4, 6, 7, 5, 9, 8]\n",
    "#newListOfLists = generateInsertionSort(alist)\n",
    "#print(newListOfLists)\n",
    "#print(len(newListOfLists))\n",
    "\n",
    "#line1, = ax.plot([], [], 'go', ms=10)\n",
    "#line2, = ax.plot([], [], 'go', ms=10)\n",
    "#line3, = ax.plot([], [], 'go', ms=10)\n",
    "#line4, = ax.plot([], [], 'go', ms=10)\n",
    "#line5, = ax.plot([], [], 'go', ms=10)\n",
    "#line6, = ax.plot([], [], 'go', ms=10)\n",
    "#line7, = ax.plot([], [], 'go', ms=10)\n",
    "#line8, = ax.plot([], [], 'go', ms=10)\n",
    "#line9, = ax.plot([], [], 'go', ms=10)\n",
    "#line10, = ax.plot([], [], 'go', ms=10)\n",
    "\n",
    "\n",
    "#Set y axes\n",
    "#ax.set_ylim(0, 10)\n",
    "\n",
    "#Set x axes\n",
    "#ax.set_xlim(0, 10)\n",
    "\n",
    "def animate(i):\n",
    "    line1.set_data(1,newListOfLists[i//10][0])  # update the data\n",
    "    line2.set_data(2,newListOfLists[i//10][1])  # update the data\n",
    "    line3.set_data(3,newListOfLists[i//10][2])  # update the data\n",
    "    line4.set_data(4,newListOfLists[i//10][3])  # update the data\n",
    "    line5.set_data(5,newListOfLists[i//10][4])  # update the data\n",
    "    line6.set_data(6,newListOfLists[i//10][5])  # update the data\n",
    "    line7.set_data(7,newListOfLists[i//10][6])  # update the data\n",
    "    line8.set_data(8,newListOfLists[i//10][7])  # update the data\n",
    "    line9.set_data(9,newListOfLists[i//10][8])  # update the data\n",
    "    line10.set_data(10,newListOfLists[i//10][9])  # update the data\n",
    "\n",
    "    return line1, line2, line3, line4, line5, line6, line7, line8, line9, line10\n",
    "\n",
    "\n",
    "# Init only required for blitting to give a clean slate.\n",
    "def init():\n",
    "    line1.set_data([],[])  # update the data\n",
    "    line2.set_data([],[])  # update the data\n",
    "    line3.set_data([],[])  # update the data\n",
    "    line4.set_data([],[])  # update the data\n",
    "    line5.set_data([],[])  # update the data\n",
    "    line6.set_data([],[])  # update the data\n",
    "    line7.set_data([],[])  # update the data\n",
    "    line8.set_data([],[])  # update the data\n",
    "    line9.set_data([],[])  # update the data\n",
    "    line10.set_data([],[])  # update the data\n",
    "\n",
    "    return line1, line2, line3, line4, line5, line6, line7, line8, line9, line10\n",
    "\n",
    "#ani = animation.FuncAnimation(fig, animate, np.arange(1, 180), init_func=init,\n",
    "#                              interval=25, blit=True)\n",
    "#display_animation(ani, default_mode='once')\n",
    "#ani.save('InsertionSort.gif', writer='imagemagick')"
   ]
  },
  {
   "cell_type": "markdown",
   "metadata": {},
   "source": [
    "<img src = 'InsertionSort.gif'></img>"
   ]
  },
  {
   "cell_type": "code",
   "execution_count": 43,
   "metadata": {
    "collapsed": false
   },
   "outputs": [
    {
     "name": "stdout",
     "output_type": "stream",
     "text": [
      "[[10, 2, 3, 1, 4, 6, 7, 9, 8], [4, 2, 3, 1, 8, 6, 7, 9, 10], [4, 2, 3, 1, 8, 6, 7, 9, 10], [4, 2, 3, 1, 8, 6, 7, 9, 10], [4, 2, 3, 1, 8, 6, 7, 9, 10], [4, 2, 3, 1, 8, 6, 7, 9, 10], [3, 2, 4, 1, 7, 6, 8, 9, 10], [3, 1, 4, 2, 7, 6, 8, 9, 10], [3, 1, 4, 2, 7, 6, 8, 9, 10], [1, 2, 3, 4, 6, 7, 8, 9, 10]]\n",
      "10\n"
     ]
    }
   ],
   "source": [
    "def generateShellSort(alist):\n",
    "    newListOfLists = []\n",
    "\n",
    "    sublistcount = len(alist)//2\n",
    "    while sublistcount > 0:\n",
    "        newListOfLists.append(list(alist))\n",
    "\n",
    "        for startposition in range(sublistcount):\n",
    "            gapInsertionSort(alist,startposition,sublistcount)\n",
    "            newListOfLists.append(list(alist))\n",
    "\n",
    "        sublistcount = sublistcount // 2\n",
    "    return newListOfLists\n",
    "def gapInsertionSort(alist,start,gap):\n",
    "    for i in range(start+gap,len(alist),gap):\n",
    "\n",
    "        currentvalue = alist[i]\n",
    "        position = i\n",
    "\n",
    "        while position>=gap and alist[position-gap]>currentvalue:\n",
    "            alist[position]=alist[position-gap]\n",
    "            position = position-gap\n",
    "\n",
    "        alist[position]=currentvalue\n",
    "        \n",
    "alist = [10,2,3,1,4,6,7,9,8]\n",
    "newListOfLists = generateShellSort(alist)\n",
    "print(newListOfLists)\n",
    "print(len(newListOfLists))"
   ]
  },
  {
   "cell_type": "code",
   "execution_count": 44,
   "metadata": {
    "collapsed": false
   },
   "outputs": [],
   "source": [
    "from JSAnimation.IPython_display import display_animation\n",
    "import numpy as np\n",
    "import matplotlib.pyplot as plt\n",
    "import matplotlib.animation as animation\n",
    "\n",
    "#fig, ax = plt.subplots()\n",
    "\n",
    "#alist = [10, 2 ,3 ,1 , 4, 6, 7, 5, 9, 8]\n",
    "#newListOfLists = generateShellSort(alist)\n",
    "#print(newListOfLists)\n",
    "#print(len(newListOfLists))\n",
    "\n",
    "#line1, = ax.plot([], [], 'yo', ms=10)\n",
    "#line2, = ax.plot([], [], 'yo', ms=10)\n",
    "#line3, = ax.plot([], [], 'yo', ms=10)\n",
    "#line4, = ax.plot([], [], 'yo', ms=10)\n",
    "#line5, = ax.plot([], [], 'yo', ms=10)\n",
    "#line6, = ax.plot([], [], 'yo', ms=10)\n",
    "#line7, = ax.plot([], [], 'yo', ms=10)\n",
    "#line8, = ax.plot([], [], 'yo', ms=10)\n",
    "#line9, = ax.plot([], [], 'yo', ms=10)\n",
    "#line10, = ax.plot([], [], 'yo', ms=10)\n",
    "\n",
    "\n",
    "#Set y axes\n",
    "#ax.set_ylim(0, 10)\n",
    "\n",
    "#Set x axes\n",
    "#ax.set_xlim(0, 10)\n",
    "\n",
    "def animate(i):\n",
    "    line1.set_data(1,newListOfLists[i//10][0])  # update the data\n",
    "    line2.set_data(2,newListOfLists[i//10][1])  # update the data\n",
    "    line3.set_data(3,newListOfLists[i//10][2])  # update the data\n",
    "    line4.set_data(4,newListOfLists[i//10][3])  # update the data\n",
    "    line5.set_data(5,newListOfLists[i//10][4])  # update the data\n",
    "    line6.set_data(6,newListOfLists[i//10][5])  # update the data\n",
    "    line7.set_data(7,newListOfLists[i//10][6])  # update the data\n",
    "    line8.set_data(8,newListOfLists[i//10][7])  # update the data\n",
    "    line9.set_data(9,newListOfLists[i//10][8])  # update the data\n",
    "    line10.set_data(10,newListOfLists[i//10][9])  # update the data\n",
    "\n",
    "    return line1, line2, line3, line4, line5, line6, line7, line8, line9, line10\n",
    "\n",
    "\n",
    "# Init only required for blitting to give a clean slate.\n",
    "def init():\n",
    "    line1.set_data([],[])  # update the data\n",
    "    line2.set_data([],[])  # update the data\n",
    "    line3.set_data([],[])  # update the data\n",
    "    line4.set_data([],[])  # update the data\n",
    "    line5.set_data([],[])  # update the data\n",
    "    line6.set_data([],[])  # update the data\n",
    "    line7.set_data([],[])  # update the data\n",
    "    line8.set_data([],[])  # update the data\n",
    "    line9.set_data([],[])  # update the data\n",
    "    line10.set_data([],[])  # update the data\n",
    "\n",
    "    return line1, line2, line3, line4, line5, line6, line7, line8, line9, line10\n",
    "\n",
    "#ani = animation.FuncAnimation(fig, animate, np.arange(1, 110), init_func=init,\n",
    "#                              interval=25, blit=True)\n",
    "#display_animation(ani, default_mode='once')\n",
    "#ani.save('ShellSort.gif', writer='imagemagick')"
   ]
  },
  {
   "cell_type": "markdown",
   "metadata": {},
   "source": [
    "<img src = 'ShellSort.gif'></img>"
   ]
  },
  {
   "cell_type": "code",
   "execution_count": 45,
   "metadata": {
    "collapsed": false
   },
   "outputs": [
    {
     "name": "stdout",
     "output_type": "stream",
     "text": [
      "[[8, 2, 3, 1, 4, 6, 7, 9, 10], [7, 2, 3, 1, 4, 6, 8, 9, 10], [6, 2, 3, 1, 4, 7, 8, 9, 10], [4, 2, 3, 1, 6, 7, 8, 9, 10], [1, 2, 3, 4, 6, 7, 8, 9, 10], [1, 2, 3, 4, 6, 7, 8, 9, 10], [1, 2, 3, 4, 6, 7, 8, 9, 10]]\n",
      "7\n"
     ]
    }
   ],
   "source": [
    "def generateQuickSort(alist):\n",
    "\n",
    "    quickSortHelper(alist,0,len(alist)-1)\n",
    "    return newListOfLists\n",
    "\n",
    "def quickSortHelper(alist,first,last):\n",
    "\n",
    "    if first<last:\n",
    "\n",
    "        splitpoint = partition(alist,first,last)\n",
    "\n",
    "        quickSortHelper(alist,first,splitpoint-1)\n",
    "        quickSortHelper(alist,splitpoint+1,last)\n",
    "\n",
    "\n",
    "\n",
    "def partition(alist,first,last):\n",
    "\n",
    "    pivotvalue = alist[first]\n",
    "\n",
    "    leftmark = first+1\n",
    "    rightmark = last\n",
    "\n",
    "    done = False\n",
    "    while not done:\n",
    "\n",
    "        while leftmark <= rightmark and alist[leftmark] <= pivotvalue:\n",
    "            leftmark = leftmark + 1\n",
    "\n",
    "        while alist[rightmark] >= pivotvalue and rightmark >= leftmark:\n",
    "            rightmark = rightmark -1\n",
    "\n",
    "        if rightmark < leftmark:\n",
    "            done = True\n",
    "\n",
    "        else:\n",
    "            temp = alist[leftmark]\n",
    "            alist[leftmark] = alist[rightmark]\n",
    "            alist[rightmark] = temp\n",
    "\n",
    "    temp = alist[first]\n",
    "    alist[first] = alist[rightmark]\n",
    "    alist[rightmark] = temp\n",
    "    newListOfLists.append(list(alist))\n",
    "    return rightmark\n",
    "\n",
    "alist = [10,2,3,1,4,6,7,9,8]\n",
    "newListOfLists = []\n",
    "newListOfLists = generateQuickSort(alist)\n",
    "print(newListOfLists)\n",
    "print(len(newListOfLists))"
   ]
  },
  {
   "cell_type": "code",
   "execution_count": 46,
   "metadata": {
    "collapsed": false
   },
   "outputs": [],
   "source": [
    "from JSAnimation.IPython_display import display_animation\n",
    "import numpy as np\n",
    "import matplotlib.pyplot as plt\n",
    "import matplotlib.animation as animation\n",
    "\n",
    "#fig, ax = plt.subplots()\n",
    "\n",
    "#alist = [10, 2 ,3 ,1 , 4, 6, 7, 5, 9, 8]\n",
    "#newListOfLists = []\n",
    "#newListOfLists.append(list(alist))\n",
    "#newListOfLists = generateQuickSort(alist)\n",
    "#print(newListOfLists)\n",
    "#print(len(newListOfLists))\n",
    "\n",
    "#line1, = ax.plot([], [], 'ro', ms=10)\n",
    "#line2, = ax.plot([], [], 'ro', ms=10)\n",
    "#line3, = ax.plot([], [], 'ro', ms=10)\n",
    "#line4, = ax.plot([], [], 'ro', ms=10)\n",
    "#line5, = ax.plot([], [], 'ro', ms=10)\n",
    "#line6, = ax.plot([], [], 'ro', ms=10)\n",
    "#line7, = ax.plot([], [], 'ro', ms=10)\n",
    "#line8, = ax.plot([], [], 'ro', ms=10)\n",
    "#line9, = ax.plot([], [], 'ro', ms=10)\n",
    "#line10, = ax.plot([], [], 'ro', ms=10)\n",
    "\n",
    "\n",
    "#Set y axes\n",
    "#ax.set_ylim(0, 10)\n",
    "\n",
    "#Set x axes\n",
    "#ax.set_xlim(0, 10)\n",
    "\n",
    "def animate(i):\n",
    "    line1.set_data(1,newListOfLists[i//10][0])  # update the data\n",
    "    line2.set_data(2,newListOfLists[i//10][1])  # update the data\n",
    "    line3.set_data(3,newListOfLists[i//10][2])  # update the data\n",
    "    line4.set_data(4,newListOfLists[i//10][3])  # update the data\n",
    "    line5.set_data(5,newListOfLists[i//10][4])  # update the data\n",
    "    line6.set_data(6,newListOfLists[i//10][5])  # update the data\n",
    "    line7.set_data(7,newListOfLists[i//10][6])  # update the data\n",
    "    line8.set_data(8,newListOfLists[i//10][7])  # update the data\n",
    "    line9.set_data(9,newListOfLists[i//10][8])  # update the data\n",
    "    line10.set_data(10,newListOfLists[i//10][9])  # update the data\n",
    "\n",
    "    return line1, line2, line3, line4, line5, line6, line7, line8, line9, line10\n",
    "\n",
    "\n",
    "# Init only required for blitting to give a clean slate.\n",
    "def init():\n",
    "    line1.set_data([],[])  # update the data\n",
    "    line2.set_data([],[])  # update the data\n",
    "    line3.set_data([],[])  # update the data\n",
    "    line4.set_data([],[])  # update the data\n",
    "    line5.set_data([],[])  # update the data\n",
    "    line6.set_data([],[])  # update the data\n",
    "    line7.set_data([],[])  # update the data\n",
    "    line8.set_data([],[])  # update the data\n",
    "    line9.set_data([],[])  # update the data\n",
    "    line10.set_data([],[])  # update the data\n",
    "\n",
    "    return line1, line2, line3, line4, line5, line6, line7, line8, line9, line10\n",
    "\n",
    "#ani = animation.FuncAnimation(fig, animate, np.arange(1, 80), init_func=init,\n",
    "#                              interval=25, blit=True)\n",
    "#display_animation(ani, default_mode='once')\n",
    "#ani.save('QuickSort.gif', writer='imagemagick')"
   ]
  },
  {
   "cell_type": "markdown",
   "metadata": {},
   "source": [
    "<img src = 'QuickSort.gif'></img>"
   ]
  },
  {
   "cell_type": "code",
   "execution_count": 47,
   "metadata": {
    "collapsed": false
   },
   "outputs": [
    {
     "name": "stdout",
     "output_type": "stream",
     "text": [
      "[5, [4, [], []], []]\n",
      "[3, [9, [4, [], []], []], [7, [], [6, [], []]]]\n",
      "[3, [9, [11, [4, [], []], []], []], [7, [], [6, [], []]]]\n",
      "[6, [], []]\n"
     ]
    }
   ],
   "source": [
    "def BinaryTree(r):\n",
    "    return [r, [], []]\n",
    "\n",
    "def insertLeft(root,newBranch):\n",
    "    t = root.pop(1)\n",
    "    if len(t) > 1:\n",
    "        root.insert(1,[newBranch,t,[]])\n",
    "    else:\n",
    "        root.insert(1,[newBranch, [], []])\n",
    "    return root\n",
    "\n",
    "def insertRight(root,newBranch):\n",
    "    t = root.pop(2)\n",
    "    if len(t) > 1:\n",
    "        root.insert(2,[newBranch,[],t])\n",
    "    else:\n",
    "        root.insert(2,[newBranch,[],[]])\n",
    "    return root\n",
    "\n",
    "def getRootVal(root):\n",
    "    return root[0]\n",
    "\n",
    "def setRootVal(root,newVal):\n",
    "    root[0] = newVal\n",
    "\n",
    "def getLeftChild(root):\n",
    "    return root[1]\n",
    "\n",
    "def getRightChild(root):\n",
    "    return root[2]\n",
    "\n",
    "r = BinaryTree(3)\n",
    "insertLeft(r,4)\n",
    "insertLeft(r,5)\n",
    "insertRight(r,6)\n",
    "insertRight(r,7)\n",
    "l = getLeftChild(r)\n",
    "print(l)\n",
    "\n",
    "setRootVal(l,9)\n",
    "print(r)\n",
    "insertLeft(l,11)\n",
    "print(r)\n",
    "print(getRightChild(getRightChild(r)))"
   ]
  },
  {
   "cell_type": "markdown",
   "metadata": {},
   "source": [
    "<h4>Coming Up</h4>\n",
    "<li>unordered list</li>\n",
    "<li>node</li>\n",
    "<li>ordered list</li>\n",
    "<li>recursion</li>\n",
    "<li>dynamic programming</li>\n",
    "<li>sorting and searching</li>\n",
    "<li>hashing</li>\n",
    "<li>trees and tree algorithms</li>\n",
    "<li>graphs and graph algorithms</li>"
   ]
  },
  {
   "cell_type": "markdown",
   "metadata": {},
   "source": [
    "<h4>Good Will Hunting Problem</h4>"
   ]
  },
  {
   "cell_type": "markdown",
   "metadata": {},
   "source": [
    "<img src = \"goodWillHunting.png\" align = \"left\"></src>"
   ]
  },
  {
   "cell_type": "markdown",
   "metadata": {},
   "source": [
    "<p>Draw all homeomorphically irreducible trees of size n = 10.</p>"
   ]
  },
  {
   "cell_type": "code",
   "execution_count": 73,
   "metadata": {
    "collapsed": false
   },
   "outputs": [
    {
     "name": "stdout",
     "output_type": "stream",
     "text": [
      "Populating the interactive namespace from numpy and matplotlib\n"
     ]
    },
    {
     "data": {
      "image/png": "[encoded data removed]",
      "text/plain": [
       "<matplotlib.figure.Figure at 0x7f2bdc0ba470>"
      ]
     },
     "metadata": {},
     "output_type": "display_data"
    }
   ],
   "source": [
    "%pylab inline\n",
    "from matplotlib.path import Path\n",
    "import matplotlib.patches as patches\n",
    "verts = [\n",
    "    (-1.5, .5), \n",
    "    (-1.5, 0),\n",
    "    (-1.5, -.5), \n",
    "    (-1.5, 0),\n",
    "    (0, 0),\n",
    "    (-.5, .5),\n",
    "    (0, 0),\n",
    "    (-.5, -.5),\n",
    "    (0, 0),\n",
    "    (0, .5),\n",
    "    (0, 0),\n",
    "    (0, -.5),\n",
    "    (0, 0), \n",
    "    (.5, .5), \n",
    "    (0, 0),\n",
    "    (.5, -.5)\n",
    "    ]\n",
    "\n",
    "codes = [Path.MOVETO,\n",
    "         Path.LINETO,\n",
    "         Path.LINETO,\n",
    "         Path.LINETO,\n",
    "         Path.LINETO,\n",
    "         Path.LINETO,\n",
    "         Path.LINETO,\n",
    "         Path.LINETO,\n",
    "         Path.LINETO,\n",
    "         Path.LINETO,\n",
    "         Path.LINETO,\n",
    "         Path.LINETO,\n",
    "         Path.LINETO,\n",
    "         Path.LINETO,\n",
    "         Path.LINETO,\n",
    "         Path.LINETO,\n",
    "         ]\n",
    "\n",
    "path = Path(verts, codes)\n",
    "\n",
    "fig = plt.figure()\n",
    "ax = fig.add_subplot(111)\n",
    "patch = patches.PathPatch(path, facecolor = 'White', lw=2)\n",
    "ax.add_patch(patch)\n",
    "ax.set_xlim(-2,2)\n",
    "ax.set_ylim(-2,2)\n",
    "plt.show()"
   ]
  },
  {
   "cell_type": "code",
   "execution_count": 80,
   "metadata": {
    "collapsed": false
   },
   "outputs": [
    {
     "name": "stdout",
     "output_type": "stream",
     "text": [
      "Populating the interactive namespace from numpy and matplotlib\n"
     ]
    },
    {
     "data": {
      "image/png": "[encoded data removed]",
      "text/plain": [
       "<matplotlib.figure.Figure at 0x7f2bd40850b8>"
      ]
     },
     "metadata": {},
     "output_type": "display_data"
    }
   ],
   "source": [
    "%pylab inline\n",
    "from matplotlib.path import Path\n",
    "import matplotlib.patches as patches\n",
    "verts = [\n",
    "    (-1.5, 0), \n",
    "    (-1, 0),\n",
    "    (-1, .5), \n",
    "    (-1, 0),\n",
    "    (-1, -.5),\n",
    "    (-1, 0),\n",
    "    (0, 0),\n",
    "    (-.5, -.5),\n",
    "    (0, 0),\n",
    "    (-.5, .5),\n",
    "    (0, 0),\n",
    "    (.5, 0),\n",
    "    (0, 0),\n",
    "    (.5, .5),\n",
    "    (0, 0),\n",
    "    (.5, -.5)\n",
    "    ]\n",
    "\n",
    "codes = [Path.MOVETO,\n",
    "         Path.LINETO,\n",
    "         Path.LINETO,\n",
    "         Path.LINETO,\n",
    "         Path.LINETO,\n",
    "         Path.LINETO,\n",
    "         Path.LINETO,\n",
    "         Path.LINETO,\n",
    "         Path.LINETO,\n",
    "         Path.LINETO,\n",
    "         Path.LINETO,\n",
    "         Path.LINETO,\n",
    "         Path.LINETO,\n",
    "         Path.LINETO,\n",
    "         Path.LINETO,\n",
    "         Path.LINETO,\n",
    "         ]\n",
    "\n",
    "path = Path(verts, codes)\n",
    "\n",
    "fig = plt.figure()\n",
    "ax = fig.add_subplot(111)\n",
    "patch = patches.PathPatch(path, facecolor = 'White', lw=2)\n",
    "ax.add_patch(patch)\n",
    "ax.set_xlim(-2,2)\n",
    "ax.set_ylim(-2,2)\n",
    "plt.show()"
   ]
  },
  {
   "cell_type": "code",
   "execution_count": 81,
   "metadata": {
    "collapsed": false
   },
   "outputs": [
    {
     "name": "stdout",
     "output_type": "stream",
     "text": [
      "Populating the interactive namespace from numpy and matplotlib\n"
     ]
    },
    {
     "data": {
      "image/png": "[encoded data removed]",
      "text/plain": [
       "<matplotlib.figure.Figure at 0x7f2bdc0a2828>"
      ]
     },
     "metadata": {},
     "output_type": "display_data"
    }
   ],
   "source": [
    "%pylab inline\n",
    "from matplotlib.path import Path\n",
    "import matplotlib.patches as patches\n",
    "verts = [\n",
    "    (-1, .5), \n",
    "    (-1, 0),\n",
    "    (-1, -.5), \n",
    "    (-1, 0),\n",
    "    (-.5, 0),\n",
    "    (-.5, .5),\n",
    "    (-.5, 0),\n",
    "    (-.5, -.5),\n",
    "    (-.5, 0),\n",
    "    (0, 0),\n",
    "    (0, .5),\n",
    "    (0, -.5),\n",
    "    (0, 0),\n",
    "    (.5, 0),\n",
    "    ]\n",
    "\n",
    "codes = [Path.MOVETO,\n",
    "         Path.LINETO,\n",
    "         Path.LINETO,\n",
    "         Path.LINETO,\n",
    "         Path.LINETO,\n",
    "         Path.LINETO,\n",
    "         Path.LINETO,\n",
    "         Path.LINETO,\n",
    "         Path.LINETO,\n",
    "         Path.LINETO,\n",
    "         Path.LINETO,\n",
    "         Path.LINETO,\n",
    "         Path.LINETO,\n",
    "         Path.LINETO,\n",
    "         ]\n",
    "\n",
    "path = Path(verts, codes)\n",
    "\n",
    "fig = plt.figure()\n",
    "ax = fig.add_subplot(111)\n",
    "patch = patches.PathPatch(path, facecolor = 'White', lw=2)\n",
    "ax.add_patch(patch)\n",
    "ax.set_xlim(-2,2)\n",
    "ax.set_ylim(-2,2)\n",
    "plt.show()"
   ]
  },
  {
   "cell_type": "code",
   "execution_count": 86,
   "metadata": {
    "collapsed": false
   },
   "outputs": [
    {
     "name": "stdout",
     "output_type": "stream",
     "text": [
      "Populating the interactive namespace from numpy and matplotlib\n"
     ]
    },
    {
     "data": {
      "image/png": "[encoded data removed]",
      "text/plain": [
       "<matplotlib.figure.Figure at 0x7f2bed8195c0>"
      ]
     },
     "metadata": {},
     "output_type": "display_data"
    }
   ],
   "source": [
    "%pylab inline\n",
    "from matplotlib.path import Path\n",
    "import matplotlib.patches as patches\n",
    "verts = [\n",
    "    (-1.5, .5), \n",
    "    (-1.5, 0),\n",
    "    (-1.5, -.5), \n",
    "    (-1.5, 0),\n",
    "    (-.5, 0),\n",
    "    (-1, .5),\n",
    "    (-.5, 0),\n",
    "    (0, .5),\n",
    "    (-.5, 0),\n",
    "    (.5, 0),\n",
    "    (.5, .5),\n",
    "    (.5, -.5),\n",
    "    (.5, 0),\n",
    "    ]\n",
    "\n",
    "codes = [Path.MOVETO,\n",
    "         Path.LINETO,\n",
    "         Path.LINETO,\n",
    "         Path.LINETO,\n",
    "         Path.LINETO,\n",
    "         Path.LINETO,\n",
    "         Path.LINETO,\n",
    "         Path.LINETO,\n",
    "         Path.LINETO,\n",
    "         Path.LINETO,\n",
    "         Path.LINETO,\n",
    "         Path.LINETO,\n",
    "         Path.LINETO,\n",
    "         ]\n",
    "\n",
    "path = Path(verts, codes)\n",
    "\n",
    "fig = plt.figure()\n",
    "ax = fig.add_subplot(111)\n",
    "patch = patches.PathPatch(path, facecolor = 'White', lw=2)\n",
    "ax.add_patch(patch)\n",
    "ax.set_xlim(-2,2)\n",
    "ax.set_ylim(-2,2)\n",
    "plt.show()"
   ]
  },
  {
   "cell_type": "code",
   "execution_count": 93,
   "metadata": {
    "collapsed": false
   },
   "outputs": [
    {
     "name": "stdout",
     "output_type": "stream",
     "text": [
      "Populating the interactive namespace from numpy and matplotlib\n"
     ]
    },
    {
     "data": {
      "image/png": "[encoded data removed]",
      "text/plain": [
       "<matplotlib.figure.Figure at 0x7f2bdc055780>"
      ]
     },
     "metadata": {},
     "output_type": "display_data"
    }
   ],
   "source": [
    "%pylab inline\n",
    "from matplotlib.path import Path\n",
    "import matplotlib.patches as patches\n",
    "verts = [\n",
    "    (-1.5, .5), \n",
    "    (-1.5, 0),\n",
    "    (-1.5, -.5), \n",
    "    (-1.5, 0),\n",
    "    (-1, 0),\n",
    "    (-1, 1.5),\n",
    "    (-1, 1),\n",
    "    (-.5, 1),\n",
    "    (-1, 1),\n",
    "    (-1, -.5),\n",
    "    (-1, -.5),\n",
    "    (-1, -.5),\n",
    "    (-.5, -.5),\n",
    "    (-1, -.5),\n",
    "    (-1, -1),\n",
    "    ]\n",
    "\n",
    "codes = [Path.MOVETO,\n",
    "         Path.LINETO,\n",
    "         Path.LINETO,\n",
    "         Path.LINETO,\n",
    "         Path.LINETO,\n",
    "         Path.LINETO,\n",
    "         Path.LINETO,\n",
    "         Path.LINETO,\n",
    "         Path.LINETO,\n",
    "         Path.LINETO,\n",
    "         Path.LINETO,\n",
    "         Path.LINETO,\n",
    "         Path.LINETO,\n",
    "         Path.LINETO,\n",
    "         Path.LINETO,\n",
    "         ]\n",
    "\n",
    "path = Path(verts, codes)\n",
    "\n",
    "fig = plt.figure()\n",
    "ax = fig.add_subplot(111)\n",
    "patch = patches.PathPatch(path, facecolor = 'White', lw=2)\n",
    "ax.add_patch(patch)\n",
    "ax.set_xlim(-2,2)\n",
    "ax.set_ylim(-2,2)\n",
    "plt.show()"
   ]
  },
  {
   "cell_type": "code",
   "execution_count": 97,
   "metadata": {
    "collapsed": false
   },
   "outputs": [
    {
     "name": "stdout",
     "output_type": "stream",
     "text": [
      "Populating the interactive namespace from numpy and matplotlib\n"
     ]
    },
    {
     "data": {
      "image/png": "[encoded data removed]",
      "text/plain": [
       "<matplotlib.figure.Figure at 0x7f2bdc075c50>"
      ]
     },
     "metadata": {},
     "output_type": "display_data"
    }
   ],
   "source": [
    "%pylab inline\n",
    "from matplotlib.path import Path\n",
    "import matplotlib.patches as patches\n",
    "verts = [\n",
    "    (-1.5, .5), \n",
    "    (-1, 0),\n",
    "    (-1.5, -.5), \n",
    "    (-1, 0),\n",
    "    (-1, .5),\n",
    "    (-1, 0),\n",
    "    (-1, -.5),\n",
    "    (-1, 0),\n",
    "    (0, 0),\n",
    "    (0, .5),\n",
    "    (0, 0),\n",
    "    (0, -.5),\n",
    "    (0, 0),\n",
    "    (.5, .5),\n",
    "    (0, 0),\n",
    "    (.5, -.5)\n",
    "    ]\n",
    "\n",
    "codes = [Path.MOVETO,\n",
    "         Path.LINETO,\n",
    "         Path.LINETO,\n",
    "         Path.LINETO,\n",
    "         Path.LINETO,\n",
    "         Path.LINETO,\n",
    "         Path.LINETO,\n",
    "         Path.LINETO,\n",
    "         Path.LINETO,\n",
    "         Path.LINETO,\n",
    "         Path.LINETO,\n",
    "         Path.LINETO,\n",
    "         Path.LINETO,\n",
    "         Path.LINETO,\n",
    "         Path.LINETO,\n",
    "         Path.LINETO,\n",
    "         ]\n",
    "\n",
    "path = Path(verts, codes)\n",
    "\n",
    "fig = plt.figure()\n",
    "ax = fig.add_subplot(111)\n",
    "patch = patches.PathPatch(path, facecolor = 'White', lw=2)\n",
    "ax.add_patch(patch)\n",
    "ax.set_xlim(-2,2)\n",
    "ax.set_ylim(-2,2)\n",
    "plt.show()"
   ]
  },
  {
   "cell_type": "code",
   "execution_count": 99,
   "metadata": {
    "collapsed": false
   },
   "outputs": [
    {
     "name": "stdout",
     "output_type": "stream",
     "text": [
      "Populating the interactive namespace from numpy and matplotlib\n"
     ]
    },
    {
     "data": {
      "image/png": "[encoded data removed]",
      "text/plain": [
       "<matplotlib.figure.Figure at 0x7f2bedab6358>"
      ]
     },
     "metadata": {},
     "output_type": "display_data"
    }
   ],
   "source": [
    "%pylab inline\n",
    "from matplotlib.path import Path\n",
    "import matplotlib.patches as patches\n",
    "verts = [\n",
    "    (-1.5, .5), \n",
    "    (-1.5, 0),\n",
    "    (-1.5, -.5), \n",
    "    (-1.5, 0),\n",
    "    (-1, 0),\n",
    "    (-1, -.5),\n",
    "    (-1, 0),\n",
    "    (-.5, 0),\n",
    "    (-.5, -.5),\n",
    "    (-.5, 0),\n",
    "    (0, 0),\n",
    "    (0, -.5),\n",
    "    (0, 0),\n",
    "    (0, .5),\n",
    "    (0, 0),\n",
    "    ]\n",
    "\n",
    "codes = [Path.MOVETO,\n",
    "         Path.LINETO,\n",
    "         Path.LINETO,\n",
    "         Path.LINETO,\n",
    "         Path.LINETO,\n",
    "         Path.LINETO,\n",
    "         Path.LINETO,\n",
    "         Path.LINETO,\n",
    "         Path.LINETO,\n",
    "         Path.LINETO,\n",
    "         Path.LINETO,\n",
    "         Path.LINETO,\n",
    "         Path.LINETO,\n",
    "         Path.LINETO,\n",
    "         Path.LINETO,\n",
    "         ]\n",
    "\n",
    "path = Path(verts, codes)\n",
    "\n",
    "fig = plt.figure()\n",
    "ax = fig.add_subplot(111)\n",
    "patch = patches.PathPatch(path, facecolor = 'White', lw=2)\n",
    "ax.add_patch(patch)\n",
    "ax.set_xlim(-2,2)\n",
    "ax.set_ylim(-2,2)\n",
    "plt.show()"
   ]
  },
  {
   "cell_type": "code",
   "execution_count": 103,
   "metadata": {
    "collapsed": false
   },
   "outputs": [
    {
     "name": "stdout",
     "output_type": "stream",
     "text": [
      "Populating the interactive namespace from numpy and matplotlib\n"
     ]
    },
    {
     "data": {
      "image/png": "[encoded data removed]",
      "text/plain": [
       "<matplotlib.figure.Figure at 0x7f2bd404b7f0>"
      ]
     },
     "metadata": {},
     "output_type": "display_data"
    }
   ],
   "source": [
    "%pylab inline\n",
    "from matplotlib.path import Path\n",
    "import matplotlib.patches as patches\n",
    "verts = [\n",
    "    (-1, -1), \n",
    "    (0, 0),\n",
    "    (-1, -.5), \n",
    "    (0, 0),\n",
    "    (-1, 0),\n",
    "    (0, 0),\n",
    "    (-1, .5),\n",
    "    (0, 0),\n",
    "    (-1, 1),\n",
    "    (0, 0),\n",
    "    (0, 1),\n",
    "    (0, 0),\n",
    "    (0, 0),\n",
    "    (0, -1),\n",
    "    (0, 0),\n",
    "    (.5, 1),\n",
    "    (0, 0),\n",
    "    (.5, -1)\n",
    "    ]\n",
    "\n",
    "codes = [Path.MOVETO,\n",
    "         Path.LINETO,\n",
    "         Path.LINETO,\n",
    "         Path.LINETO,\n",
    "         Path.LINETO,\n",
    "         Path.LINETO,\n",
    "         Path.LINETO,\n",
    "         Path.LINETO,\n",
    "         Path.LINETO,\n",
    "         Path.LINETO,\n",
    "         Path.LINETO,\n",
    "         Path.LINETO,\n",
    "         Path.LINETO,\n",
    "         Path.LINETO,\n",
    "         Path.LINETO,\n",
    "         Path.LINETO,\n",
    "         Path.LINETO,\n",
    "         Path.LINETO,\n",
    "         ]\n",
    "\n",
    "path = Path(verts, codes)\n",
    "\n",
    "fig = plt.figure()\n",
    "ax = fig.add_subplot(111)\n",
    "patch = patches.PathPatch(path, facecolor = 'White', lw=2)\n",
    "ax.add_patch(patch)\n",
    "ax.set_xlim(-2,2)\n",
    "ax.set_ylim(-2,2)\n",
    "plt.show()"
   ]
  },
  {
   "cell_type": "code",
   "execution_count": 112,
   "metadata": {
    "collapsed": false
   },
   "outputs": [
    {
     "name": "stdout",
     "output_type": "stream",
     "text": [
      "Populating the interactive namespace from numpy and matplotlib\n"
     ]
    },
    {
     "data": {
      "image/png": "[encoded data removed]",
      "text/plain": [
       "<matplotlib.figure.Figure at 0x7f2bdc021ac8>"
      ]
     },
     "metadata": {},
     "output_type": "display_data"
    }
   ],
   "source": [
    "%pylab inline\n",
    "from matplotlib.path import Path\n",
    "import matplotlib.patches as patches\n",
    "verts = [\n",
    "    (-1.5, .5), \n",
    "    (-1.5, -.5),\n",
    "    (-1.5, 0), \n",
    "    (-.5, 0),\n",
    "    (-.5, .5),\n",
    "    (-.5, 0),\n",
    "    (0, 0),\n",
    "    (0, -.5),\n",
    "    (0, 0),\n",
    "    (0, .5),\n",
    "    (0, 0),\n",
    "    (.5, .5),\n",
    "    (0, 0),\n",
    "    (.5, -.5)\n",
    "    ]\n",
    "\n",
    "codes = [Path.MOVETO,\n",
    "         Path.LINETO,\n",
    "         Path.LINETO,\n",
    "         Path.LINETO,\n",
    "         Path.LINETO,\n",
    "         Path.LINETO,\n",
    "         Path.LINETO,\n",
    "         Path.LINETO,\n",
    "         Path.LINETO,\n",
    "         Path.LINETO,\n",
    "         Path.LINETO,\n",
    "         Path.LINETO,\n",
    "         Path.LINETO,\n",
    "         Path.LINETO,\n",
    "         ]\n",
    "\n",
    "path = Path(verts, codes)\n",
    "\n",
    "fig = plt.figure()\n",
    "ax = fig.add_subplot(111)\n",
    "patch = patches.PathPatch(path, facecolor = 'White', lw=2)\n",
    "ax.add_patch(patch)\n",
    "ax.set_xlim(-2,2)\n",
    "ax.set_ylim(-2,2)\n",
    "plt.show()"
   ]
  },
  {
   "cell_type": "code",
   "execution_count": 115,
   "metadata": {
    "collapsed": false
   },
   "outputs": [
    {
     "name": "stdout",
     "output_type": "stream",
     "text": [
      "Populating the interactive namespace from numpy and matplotlib\n"
     ]
    },
    {
     "data": {
      "image/png": "[encoded data removed]",
      "text/plain": [
       "<matplotlib.figure.Figure at 0x7f2c147112b0>"
      ]
     },
     "metadata": {},
     "output_type": "display_data"
    }
   ],
   "source": [
    "%pylab inline\n",
    "from matplotlib.path import Path\n",
    "import matplotlib.patches as patches\n",
    "verts = [\n",
    "    (-1.5, 0), \n",
    "    (-1, 0),\n",
    "    (-1, .5), \n",
    "    (-1, -.5),\n",
    "    (-1, 0),\n",
    "    (-.5, 0),\n",
    "    (-.5, .5),\n",
    "    (-.5, 0),\n",
    "    (0, 0),\n",
    "    (0, .5),\n",
    "    (0, 0),\n",
    "    (0, -.5),\n",
    "    (0, 0),\n",
    "    (.5, 0)\n",
    "    ]\n",
    "\n",
    "codes = [Path.MOVETO,\n",
    "         Path.LINETO,\n",
    "         Path.LINETO,\n",
    "         Path.LINETO,\n",
    "         Path.LINETO,\n",
    "         Path.LINETO,\n",
    "         Path.LINETO,\n",
    "         Path.LINETO,\n",
    "         Path.LINETO,\n",
    "         Path.LINETO,\n",
    "         Path.LINETO,\n",
    "         Path.LINETO,\n",
    "         Path.LINETO,\n",
    "         Path.LINETO,\n",
    "         ]\n",
    "\n",
    "path = Path(verts, codes)\n",
    "\n",
    "fig = plt.figure()\n",
    "ax = fig.add_subplot(111)\n",
    "patch = patches.PathPatch(path, facecolor = 'White', lw=2)\n",
    "ax.add_patch(patch)\n",
    "ax.set_xlim(-2,2)\n",
    "ax.set_ylim(-2,2)\n",
    "plt.show()"
   ]
  },
  {
   "cell_type": "markdown",
   "metadata": {},
   "source": [
    "<h4>Databases</h4>"
   ]
  },
  {
   "cell_type": "markdown",
   "metadata": {},
   "source": [
    "<p>When one usually thinks of databases, they think of websites storing boring old data. This is sooooooooo wrong. Databases themselves are actually an incredibly complex and useful object. One of the coolest places databases are utilized is within language recognition. Natural language is very complex. Generally, when you have a command you want your computer to understand you have to translate it somehow so the computer understands you. Databases, specifically Relational Databases provide a gigantic piece of this puzzle as you will see in my example below.</p>"
   ]
  },
  {
   "cell_type": "markdown",
   "metadata": {},
   "source": [
    "<p>Database designers and UI designers have come up for an acronym to describe the basic functions a database should provide. CRUD.</p>\n",
    "<li>C: Create (Insert in SQL syntax)</li>\n",
    "<li>R: Read (Select in SQL syntax. In UI, read should also retrieve, search, and view)</li>\n",
    "<li>U: Update (Update in SQL syntax)</li>\n",
    "<li>D: Delete (Delete in SQL syntax)</li>"
   ]
  },
  {
   "cell_type": "code",
   "execution_count": 1,
   "metadata": {
    "collapsed": true
   },
   "outputs": [],
   "source": [
    "import sqlite3"
   ]
  },
  {
   "cell_type": "code",
   "execution_count": 82,
   "metadata": {
    "collapsed": false
   },
   "outputs": [],
   "source": [
    "#Initialize \n",
    "connection = sqlite3.connect(\"newDB.db\")\n",
    "\n",
    "cursor = connection.cursor()\n",
    "\n",
    "cursor.execute(\"\"\"DROP TABLE Contacts;\"\"\")\n",
    "\n",
    "sql_command = \"\"\"CREATE TABLE Contacts ( \n",
    "Contact_ID INTEGER PRIMARY KEY, \n",
    "First_Name VARCHAR(30), \n",
    "Middle_Initial CHAR(1),\n",
    "Last_Name VARCHAR(30),\n",
    "Phone_Number VARCHAR(20));\"\"\"\n",
    "\n",
    "#Create\n",
    "cursor.execute(sql_command)\n",
    "\n",
    "sql_command = \"\"\"INSERT INTO Contacts (Contact_ID, First_Name, Middle_Initial, Last_Name, Phone_Number) VALUES (NULL, \"John\", \"A\", \"Doe\", \"867-5309\");\"\"\"\n",
    "cursor.execute(sql_command)\n",
    "sql_command = \"\"\"INSERT INTO Contacts (Contact_ID, First_Name, Middle_Initial, Last_Name, Phone_Number) VALUES (NULL, \"Ziggy\", \"A\", \"Stardust\", \"867-5309\");\"\"\"\n",
    "cursor.execute(sql_command)\n",
    "\n",
    "# never forget this, if you want the changes to be saved:\n",
    "connection.commit()\n",
    "\n",
    "connection.close()"
   ]
  },
  {
   "cell_type": "code",
   "execution_count": 5,
   "metadata": {
    "collapsed": false
   },
   "outputs": [
    {
     "name": "stdout",
     "output_type": "stream",
     "text": [
      "Read:\n",
      "(1, 'John', 'A', 'Doe', '867-5309')\n",
      "(2, 'Ziggy', 'A', 'Stardust', '867-5309')\n"
     ]
    }
   ],
   "source": [
    "#Read\n",
    "connection = sqlite3.connect(\"newDB.db\")\n",
    "\n",
    "cursor = connection.cursor()\n",
    "\n",
    "cursor.execute(\"SELECT * FROM Contacts\") \n",
    "print(\"Read:\")\n",
    "result = cursor.fetchall() \n",
    "for r in result:\n",
    "    print(r)\n",
    "connection.close()"
   ]
  },
  {
   "cell_type": "code",
   "execution_count": 6,
   "metadata": {
    "collapsed": false
   },
   "outputs": [
    {
     "name": "stdout",
     "output_type": "stream",
     "text": [
      "SELECT FIRST_NAME FROM Contacts WHERE First_Name = \"John\" AND Last_Name = \"Doe\"\n",
      "John\n",
      "UPDATE Contacts SET First_Name = \"Moon Unit\" WHERE First_Name = \"John\" AND Last_Name = \"Doe\"\n",
      "Moon Unit\n",
      "\n",
      "SELECT Last_NAME FROM Contacts WHERE Last_Name = \"Doe\" AND First_Name = \"John\"\n",
      "Doe\n",
      "UPDATE Contacts SET Last_Name = \"Zappa\" WHERE First_Name = \"John\" AND Last_Name = \"Doe\"\n",
      "Zappa\n",
      "\n",
      "SELECT Phone_Number FROM Contacts WHERE First_Name = \"John\" AND Last_Name = \"Doe\"\n",
      "867-5309\n",
      "UPDATE Contacts SET Phone_Number = \"1-800-MYLEMON\" WHERE First_Name = \"John\" AND Last_Name = \"Doe\"\n",
      "1-800-MYLEMON\n",
      "\n"
     ]
    }
   ],
   "source": [
    "#Update\n",
    "def Update(parameter, data, identifier1, identifier2):\n",
    "    #Initialize \n",
    "    connection = sqlite3.connect(\"newDB.db\")\n",
    "    cursor = connection.cursor()\n",
    "    \n",
    "    #Case (python3 does not provide switch statements, so we will use ifs)\n",
    "    if(parameter == \"First_Name\"):\n",
    "        command1 = 'SELECT FIRST_NAME FROM Contacts WHERE First_Name = \"'\\\n",
    "        +identifier1+'\" AND Last_Name = \"'+identifier2+'\"'\n",
    "        print(command1)\n",
    "        cursor.execute(command1)\n",
    "        rows = cursor.fetchall()\n",
    "        for row in rows:\n",
    "            print (\"%s\" % (row[0]))\n",
    "        command2 = 'UPDATE Contacts SET First_Name = \"'+data+'\" WHERE First_Name = \"'\\\n",
    "        +identifier1+'\" AND Last_Name = \"'+identifier2+'\"'\n",
    "        print(command2)\n",
    "        cursor.execute(command2)\n",
    "        command1 = 'SELECT FIRST_NAME FROM Contacts WHERE First_Name = \"'\\\n",
    "        +data+'\" AND Last_Name = \"'+identifier2+'\"'\n",
    "        cursor.execute(command1)\n",
    "        rows = cursor.fetchall()\n",
    "        for row in rows:\n",
    "            print (\"%s\\n\" % (row[0]))\n",
    "    elif(parameter == \"Last_Name\"):\n",
    "        command1 = 'SELECT Last_NAME FROM Contacts WHERE Last_Name = \"'\\\n",
    "        +identifier2+'\" AND First_Name = \"'+identifier1+'\"'\n",
    "        print(command1)\n",
    "        cursor.execute(command1)\n",
    "        rows = cursor.fetchall()\n",
    "        for row in rows:\n",
    "            print (\"%s\" % (row[0]))\n",
    "        command2 = 'UPDATE Contacts SET Last_Name = \"'+data+'\" WHERE First_Name = \"'\\\n",
    "        +identifier1+'\" AND Last_Name = \"'+identifier2+'\"'\n",
    "        print(command2)\n",
    "        cursor.execute(command2)\n",
    "        command1 = 'SELECT Last_NAME FROM Contacts WHERE Last_Name = \"'\\\n",
    "        +data+'\" AND First_Name = \"'+identifier1+'\"'\n",
    "        cursor.execute(command1)\n",
    "        rows = cursor.fetchall()\n",
    "        for row in rows:\n",
    "            print (\"%s\\n\" % (row[0]))\n",
    "            \n",
    "    elif(parameter == \"Phone_Number\"):\n",
    "        command1 = 'SELECT Phone_Number FROM Contacts WHERE First_Name = \"'\\\n",
    "        +identifier1+'\" AND Last_Name = \"'+identifier2+'\"'\n",
    "        print(command1)\n",
    "        cursor.execute(command1)\n",
    "        rows = cursor.fetchall()\n",
    "        for row in rows:\n",
    "            print (\"%s\" % (row[0]))\n",
    "        command2 = 'UPDATE Contacts SET Phone_Number = \"'+data+'\" WHERE First_Name = \"'\\\n",
    "        +identifier1+'\" AND Last_Name = \"'+identifier2+'\"'\n",
    "        print(command2)\n",
    "        cursor.execute(command2)\n",
    "        command1 = 'SELECT Phone_Number FROM Contacts WHERE Phone_Number = \"'\\\n",
    "        +data+'\"'\n",
    "        cursor.execute(command1)\n",
    "        rows = cursor.fetchall()\n",
    "        for row in rows:\n",
    "            print (\"%s\\n\" % (row[0]))\n",
    "            \n",
    "            \n",
    "    connection.close()\n",
    "\n",
    "\n",
    "Update(\"First_Name\", \"Moon Unit\", \"John\", \"Doe\")\n",
    "Update(\"Last_Name\", \"Zappa\", \"John\", \"Doe\")\n",
    "Update(\"Phone_Number\", \"1-800-MYLEMON\", \"John\", \"Doe\")"
   ]
  },
  {
   "cell_type": "code",
   "execution_count": 7,
   "metadata": {
    "collapsed": false
   },
   "outputs": [
    {
     "name": "stdout",
     "output_type": "stream",
     "text": [
      "DELETE FROM Contacts WHERE First_Name = \"John\" AND Last_Name = \"Doe\"\n",
      "Read:\n",
      "\n",
      "(2, 'Ziggy', 'A', 'Stardust', '867-5309')\n"
     ]
    }
   ],
   "source": [
    "#Delete\n",
    "def Delete(identifier1, identifier2):\n",
    "    #Initialize \n",
    "    connection = sqlite3.connect(\"newDB.db\")\n",
    "    cursor = connection.cursor()\n",
    "    command1 = 'DELETE FROM Contacts WHERE First_Name = \"'\\\n",
    "    +identifier1+'\" AND Last_Name = \"'+identifier2+'\"'\n",
    "    print(command1)\n",
    "    cursor.execute(command1)\n",
    "    command1 = 'SELECT * FROM Contacts'\n",
    "    cursor.execute(command1)\n",
    "    result = cursor.fetchall()\n",
    "    print(\"Read:\\n\")\n",
    "    for r in result:\n",
    "        print(r)\n",
    "    connection.close()\n",
    "    \n",
    "Delete(\"John\", \"Doe\")"
   ]
  },
  {
   "cell_type": "markdown",
   "metadata": {},
   "source": [
    "<h4>Artificial Intelligence</h4>"
   ]
  },
  {
   "cell_type": "markdown",
   "metadata": {},
   "source": [
    "<h4>Data and Architecture</h4>"
   ]
  },
  {
   "cell_type": "markdown",
   "metadata": {},
   "source": [
    "<p>Before we begin building our neural network, we need to look at some naive biology to base the mechanics of our model on. </p>"
   ]
  },
  {
   "cell_type": "markdown",
   "metadata": {},
   "source": [
    "<img src = \"neuron.jpg\" height=\"400\" width=\"400\"></img>"
   ]
  },
  {
   "cell_type": "markdown",
   "metadata": {},
   "source": [
    "<p>Neurons and neuroscience are obviously incredibly complex subjects, so for our network we are going to abstract the basic concept of two specific and similar neurons, the artificial neuron and the perceptron (or sigmoid neuron). To quote Winston's textbook, Artificial Intelligence, \"most neurons, like the one shown [above] consist of a cell body plus one axon and many dendrites. The axon is a protuberance that delivers the neuron's output to connections with other neurons. Dendrites are protuberances that provide plenty of surface area, facilitating connection with the axons of other neurons. Dendrites often divide a great deal, forming extremely bushy dendritic trees. Axons divide to some extent, but far less than dendrites.\"</p>\n",
    "<br>\n",
    "<br>\n",
    "<img src = \"neurons.gif\"></img>\n",
    "<div style = \"text-align:center\">Source: <a href = \"http://i.imgur.com/IS81LLY.gif\">Neural Net Gif</a></div>\n"
   ]
  },
  {
   "cell_type": "markdown",
   "metadata": {},
   "source": [
    "<blockquote>\"A neuron does nothing unless the collective influence of all its inputs reaches a threshold level. Whenever that threshold level is reached, the neuron produces a full-strength output in the form of a narrow pulse that proceeds from the cell body, down the axon, and into the axon's branches. Whenever this happens, the neuron is said to fire. Because a neuron either fires or does nothing, it is said to be an all-or-none device.</blockquote>\n",
    "<br>\n",
    "<blockquote>Axons influence dendrites over narrow gaps called synapses. Stimulation at some synapses encourages neurons to fire. Stimulation at others discourages neurons from firing. There is mounting evidence that learning takes place in the vicinity of synapses and has something to do with the degree to which synapses translate the pulse traveling down one neuron's axon into excitation or inhibition of the next neuron.</blockquote>\n",
    "<br>\n",
    "<blockquote>The number of neurons in the human brain is staggering. Current estimates suggest there may be on the order of 10<sup>11</sup> neurons per person. If the number of neurons is staggering, the number of synapses must be toppling. In the cerebellum--that part of the brain that is crucial to motor coordination--a single neuron may receive inputs from as many as 10<sup>5</sup> synapses.\" </blockquote>"
   ]
  },
  {
   "cell_type": "markdown",
   "metadata": {},
   "source": [
    "<p style = \"text-align:center\">Artificial Intelligence, Patrick Winston</p>"
   ]
  },
  {
   "cell_type": "markdown",
   "metadata": {},
   "source": [
    "<p>Winston does an excellent job further describing how we can mimic biology in our Neural Network model...</p>"
   ]
  },
  {
   "cell_type": "markdown",
   "metadata": {},
   "source": [
    "<blockquote>\"Simulated neural nets typically consist of simulated neurons. The simulated neuron is viewed as a node connected to other nodes via links that correspond to axon-synapse-dendrite connections.\"</blockquote>\n",
    "<p style = \"text-align:center\">Artificial Intelligence, Patrick Winston</p>\n",
    "<br>\n",
    "<img src = \"simulatedNeuron.png\" height = \"400\" width = \"400\"></img>"
   ]
  },
  {
   "cell_type": "markdown",
   "metadata": {},
   "source": [
    "<p>In the <a href = \"http://3.bp.blogspot.com/-7RWgohC4pYE/VhtQ8IELsLI/AAAAAAAAA6I/_XFhMbjpcCY/s1600/Simple%2BNeural%2BNetwork.png\">Diagram</a> above, X is our input (in this case not a neuron!), W is a synaptic weight, the function is our neuron and its respective activation function, and Y is the output neuron. </p>"
   ]
  },
  {
   "cell_type": "markdown",
   "metadata": {},
   "source": [
    "<blockquote>\"Each link or (W) in the diagram is associated with a weight. Like a synapse, that weight determines the nature and strength of one neuron's influence on another. More specifically, one node's influence on another is the product of the influencing neuron's output value times the connecting link's weight. Thus, a large positive weight corresponds to strong excitation, and a small negative weight corresponds to weak inhibition.</blockquote>\n",
    "<blockquote>Each node combines the seperate influences received on its input links into an overall influence using an activation function. One simple activation function simply passes the sum of the input values through a threshold function to determine the node's output. The output of each node is either 0 or 1 depending on whether the sum of the inputs is below or above the threshold value used by the node's threshold function.</blockquote>\n",
    "<blockquote>Now you can understand what is modeled in these simplified neurons: the weights model synaptic properties; the adder models the influence-combining capability of the dendrites; and comparison with a threshold models the all-or-none characteristic imposed by electrochemical mechanisms in the cell body.\"</blockquote>"
   ]
  },
  {
   "cell_type": "markdown",
   "metadata": {},
   "source": [
    "<p style = \"text-align:center\">Artificial Intelligence, Patrick Winston</p>"
   ]
  },
  {
   "cell_type": "markdown",
   "metadata": {},
   "source": [
    "<br>\n",
    "<p>Now is a good time to introduce the example presented in Stephen Welch's lectures.</p>\n",
    "<blockquote>\"Suppose we recorded how many hours we slept, and how many hours we studied and the score we received on a test the next day. We can use artificial neural networks to predict a score based on hourse slept, and hours studying.\"</blockquote>"
   ]
  },
  {
   "cell_type": "markdown",
   "metadata": {},
   "source": [
    "<h4>Data</h4>\n",
    "<table style=\"width:100%\">\n",
    "  <tr>\n",
    "    <td>X (Hrs Sleep, Hrs Study)</td>\n",
    "    <td>y (Test Score)</td>\n",
    "  </tr>\n",
    "  <tr>\n",
    "    <td>(3, 5)</td>\n",
    "    <td>(75)</td>\n",
    "  </tr>\n",
    "    <tr>\n",
    "    <td>(5, 1)</td>\n",
    "    <td>(82)</td>\n",
    "  </tr>\n",
    "    <tr>\n",
    "    <td>(10, 2)</td>\n",
    "    <td>(93)</td>\n",
    "  </tr>\n",
    "    <tr>\n",
    "    <td>(8, 3)</td>\n",
    "    <td>(?)</td>\n",
    "  </tr>\n",
    "</table>"
   ]
  },
  {
   "cell_type": "markdown",
   "metadata": {},
   "source": [
    "<p>If you are not using the Ipython Notebook environment, then the first thing we have to do to program our Neural Network is import the necessary dependencies.</p>"
   ]
  },
  {
   "cell_type": "code",
   "execution_count": 48,
   "metadata": {
    "collapsed": true
   },
   "outputs": [],
   "source": [
    "import time #Algorithm Comparison\n",
    "import numpy as np #Matrix Multiplication\n",
    "import matplotlib as mpl #Graphs\n",
    "import matplotlib.pyplot as plt #Graphs\n",
    "from scipy import optimize #BFGS Algorithm\n",
    "from mpl_toolkits.mplot3d import Axes3D #Graphs\n",
    "import matplotlib.colors as colors #Heat Maps\n",
    "import matplotlib.cm as cmx #Heat Maps"
   ]
  },
  {
   "cell_type": "markdown",
   "metadata": {},
   "source": [
    "<p>Now lets model our data.</p>"
   ]
  },
  {
   "cell_type": "markdown",
   "metadata": {},
   "source": [
    "<p>X  =  (Hours Sleeping, Hours Studying)</p>"
   ]
  },
  {
   "cell_type": "code",
   "execution_count": 49,
   "metadata": {
    "collapsed": true
   },
   "outputs": [],
   "source": [
    "X = np.array(([3,5], [5,1], [10,2]), dtype=float)"
   ]
  },
  {
   "cell_type": "markdown",
   "metadata": {},
   "source": [
    "<p>y = (Test Score)</p>"
   ]
  },
  {
   "cell_type": "code",
   "execution_count": 50,
   "metadata": {
    "collapsed": true
   },
   "outputs": [],
   "source": [
    "y = np.array(([75], [82], [93]), dtype=float)"
   ]
  },
  {
   "cell_type": "markdown",
   "metadata": {},
   "source": [
    "<br>\n",
    "<br>\n",
    "<p>\"The problem above is referred to as a supervised regression problem. It is supervised because we have inputs and outputs, and it is a regression because we are predicting test score, which is a continuous function.\" -Stephen Welch</p>"
   ]
  },
  {
   "cell_type": "markdown",
   "metadata": {},
   "source": [
    "<h4>Architecture</h4>"
   ]
  },
  {
   "cell_type": "markdown",
   "metadata": {},
   "source": [
    "<img src = \"abstractneuralnet.png\"></img>"
   ]
  },
  {
   "cell_type": "markdown",
   "metadata": {},
   "source": [
    "<p>Source: <a href = \"https://www.youtube.com/watch?v=bxe2T-V8XRs&list=PLiaHhY2iBX9hdHaRr6b7XevZtgZRa1PoU\">Neural Networks Demystified</a>, Stephen C Welch</p>"
   ]
  },
  {
   "cell_type": "markdown",
   "metadata": {},
   "source": [
    "<p>Our neural network is comprised of two abstract objects, neurons and synapses.</p>"
   ]
  },
  {
   "cell_type": "markdown",
   "metadata": {},
   "source": [
    "<div style = \"float:left\"><img src = \"circle.png\" width = \"100\"></img></div><div><p>Neurons: a neuron adds up all the outputs from its synapses and applies an activation function.</p>\n",
    "<p>1.  Z = X<sub>1</sub> + X<sub>2</sub> + X<sub>3</sub></p>\n",
    "<p>2. a = 1 / (1 + e<sup>-Z</sup>) Using a sigmoid activation allows our neural network to model complex non-linear patterns.</p>\n",
    "</div>"
   ]
  },
  {
   "cell_type": "markdown",
   "metadata": {},
   "source": [
    "<div style = \"float:left\"><img src = \"line.jpg\" width = \"100\"></img></div><div><p>Synapses: a synapse takes a value from it's input, multiplies it by a synaptic Weight, then outputs the results.</p>\n",
    "<p>1. X*W</p>\n",
    "</div>"
   ]
  },
  {
   "cell_type": "markdown",
   "metadata": {},
   "source": [
    "<br>\n",
    "<p>This model for a perceptron is quite good so far, but our data needs to reflect the model before we can begin forward propagation. We will fix this problem by normalizing our data. We will take advantage of the fact that our test scores are out of 100 to normalize y, and we will simply divide X by the maximum value.</p>"
   ]
  },
  {
   "cell_type": "code",
   "execution_count": 51,
   "metadata": {
    "collapsed": false
   },
   "outputs": [
    {
     "name": "stdout",
     "output_type": "stream",
     "text": [
      "\n",
      "\n",
      "Artificial Neural Network\n",
      "\n",
      "\n",
      "Input Data\n",
      "[[  3.   5.]\n",
      " [  5.   1.]\n",
      " [ 10.   2.]]\n",
      "\n",
      "\n",
      "Output Data\n",
      "[[ 75.]\n",
      " [ 82.]\n",
      " [ 93.]]\n",
      "\n",
      "\n",
      "Normalized Input Data\n",
      "[[ 0.3  1. ]\n",
      " [ 0.5  0.2]\n",
      " [ 1.   0.4]]\n",
      "\n",
      "\n",
      "Normalized Output Data\n",
      "[[ 0.75]\n",
      " [ 0.82]\n",
      " [ 0.93]]\n"
     ]
    }
   ],
   "source": [
    "print('\\n')\n",
    "print('Artificial Neural Network')\n",
    "print('\\n')\n",
    "print('Input Data')\n",
    "print(X)\n",
    "print('\\n')\n",
    "print('Output Data')\n",
    "print(y)\n",
    "\n",
    "#Normalize Data\n",
    "print('\\n')\n",
    "print('Normalized Input Data')\n",
    "X = X/np.amax(X, axis=0)\n",
    "print(X)\n",
    "print('\\n')\n",
    "print('Normalized Output Data')\n",
    "y = y/100 #Max test score is 100\n",
    "print(y)"
   ]
  },
  {
   "cell_type": "markdown",
   "metadata": {},
   "source": [
    "<p>This completes the setup of our Data and Architecture. Next we will begin Forward Propagation.</p>"
   ]
  },
  {
   "cell_type": "markdown",
   "metadata": {},
   "source": [
    "<h4>Forward Propagation</h4>"
   ]
  },
  {
   "cell_type": "markdown",
   "metadata": {},
   "source": [
    "<p>We know the mechanics of neurons and synapses now, so lets combine that knowledge with our current model as Welch does in <a href = \"https://www.youtube.com/watch?v=UJwK6jAStmg&index=2&list=PLiaHhY2iBX9hdHaRr6b7XevZtgZRa1PoU\">Neural Networks Demystified.</a></p>"
   ]
  },
  {
   "cell_type": "markdown",
   "metadata": {},
   "source": [
    "<img src = \"completeAbstractneuralNet.png\"></img>"
   ]
  },
  {
   "cell_type": "markdown",
   "metadata": {},
   "source": [
    "<p>Forward Propagation is going to involve five steps.</p>\n",
    "<li>1. Normalize our data.</li>\n",
    "<li>2. Multiply our input matrix X by our first layer synaptic weights (W<sup>1</sup>) to find Z<sup>2</sup>.</li>\n",
    "<li>3. Apply our sigmoid activation function a<sup>2</sup> = 1 / (1 + e<sup>-Z</sup>)</li>\n",
    "<li>4. Multiply a<sup>2</sup> by our second layer synaptic weights (W<sup>2</sup>) to find Z<sup>3</sup>.</li>\n",
    "<li>5. Apply our sigmoid activation function to Z<sup>3</sup> to find yHat, or in other words, our predicted output!</li>"
   ]
  },
  {
   "cell_type": "code",
   "execution_count": 52,
   "metadata": {
    "collapsed": true
   },
   "outputs": [],
   "source": [
    "X = np.array(([3,5], [5,1], [10,2]), dtype=float)\n",
    "y = np.array(([75], [82], [93]), dtype=float)"
   ]
  },
  {
   "cell_type": "code",
   "execution_count": 53,
   "metadata": {
    "collapsed": false
   },
   "outputs": [
    {
     "data": {
      "text/plain": [
       "array([[  3.,   5.],\n",
       "       [  5.,   1.],\n",
       "       [ 10.,   2.]])"
      ]
     },
     "execution_count": 53,
     "metadata": {},
     "output_type": "execute_result"
    }
   ],
   "source": [
    "X"
   ]
  },
  {
   "cell_type": "code",
   "execution_count": 54,
   "metadata": {
    "collapsed": false
   },
   "outputs": [
    {
     "data": {
      "text/plain": [
       "array([[ 75.],\n",
       "       [ 82.],\n",
       "       [ 93.]])"
      ]
     },
     "execution_count": 54,
     "metadata": {},
     "output_type": "execute_result"
    }
   ],
   "source": [
    "y"
   ]
  },
  {
   "cell_type": "markdown",
   "metadata": {},
   "source": [
    "<p>1. Normalize Data</p>"
   ]
  },
  {
   "cell_type": "code",
   "execution_count": 55,
   "metadata": {
    "collapsed": true
   },
   "outputs": [],
   "source": [
    "X = X/np.amax(X, axis=0)\n",
    "y = y/100 #Max test score is 100"
   ]
  },
  {
   "cell_type": "code",
   "execution_count": 56,
   "metadata": {
    "collapsed": false
   },
   "outputs": [
    {
     "data": {
      "text/plain": [
       "array([[ 0.3,  1. ],\n",
       "       [ 0.5,  0.2],\n",
       "       [ 1. ,  0.4]])"
      ]
     },
     "execution_count": 56,
     "metadata": {},
     "output_type": "execute_result"
    }
   ],
   "source": [
    "X"
   ]
  },
  {
   "cell_type": "code",
   "execution_count": 57,
   "metadata": {
    "collapsed": false
   },
   "outputs": [
    {
     "data": {
      "text/plain": [
       "array([[ 0.75],\n",
       "       [ 0.82],\n",
       "       [ 0.93]])"
      ]
     },
     "execution_count": 57,
     "metadata": {},
     "output_type": "execute_result"
    }
   ],
   "source": [
    "y"
   ]
  },
  {
   "cell_type": "markdown",
   "metadata": {},
   "source": [
    "<p>2. Multiply our input matrix X by our first layer synaptic weights (W<sup>1</sup>) to find Z<sup>2</sup>.</p>"
   ]
  },
  {
   "cell_type": "markdown",
   "metadata": {},
   "source": [
    "<p>For now, lets just give W1 and W2 random values.</p>"
   ]
  },
  {
   "cell_type": "code",
   "execution_count": 58,
   "metadata": {
    "collapsed": true
   },
   "outputs": [],
   "source": [
    "W1 = np.random.randn(2, 3)\n",
    "W2 = np.random.randn(3,1)"
   ]
  },
  {
   "cell_type": "code",
   "execution_count": 59,
   "metadata": {
    "collapsed": false
   },
   "outputs": [
    {
     "data": {
      "text/plain": [
       "array([[-0.31679812, -0.83832642, -1.02953745],\n",
       "       [-0.51469889,  0.13131211, -0.11652595]])"
      ]
     },
     "execution_count": 59,
     "metadata": {},
     "output_type": "execute_result"
    }
   ],
   "source": [
    "W1"
   ]
  },
  {
   "cell_type": "code",
   "execution_count": 60,
   "metadata": {
    "collapsed": false
   },
   "outputs": [
    {
     "data": {
      "text/plain": [
       "array([[-1.67425966],\n",
       "       [ 0.05432855],\n",
       "       [-1.08136193]])"
      ]
     },
     "execution_count": 60,
     "metadata": {},
     "output_type": "execute_result"
    }
   ],
   "source": [
    "W2"
   ]
  },
  {
   "cell_type": "markdown",
   "metadata": {},
   "source": [
    "<p>We can take advantage of numpy's dot method to multiply our matrices X and W<sup>1</sup> to find Z<sup>2</sup></p>"
   ]
  },
  {
   "cell_type": "code",
   "execution_count": 61,
   "metadata": {
    "collapsed": true
   },
   "outputs": [],
   "source": [
    "z2 = np.dot(X, W1)"
   ]
  },
  {
   "cell_type": "code",
   "execution_count": 62,
   "metadata": {
    "collapsed": false
   },
   "outputs": [
    {
     "data": {
      "text/plain": [
       "array([[-0.60973833, -0.12018582, -0.42538719],\n",
       "       [-0.26133884, -0.39290079, -0.53807391],\n",
       "       [-0.52267768, -0.78580158, -1.07614783]])"
      ]
     },
     "execution_count": 62,
     "metadata": {},
     "output_type": "execute_result"
    }
   ],
   "source": [
    "z2"
   ]
  },
  {
   "cell_type": "markdown",
   "metadata": {},
   "source": [
    "<p>3. Apply our sigmoid activation function a<sup>2</sup> = 1 / (1 + e<sup>-Z</sup>)</p>"
   ]
  },
  {
   "cell_type": "code",
   "execution_count": 63,
   "metadata": {
    "collapsed": true
   },
   "outputs": [],
   "source": [
    "def sigmoid(z):\n",
    "    return 1/(1+np.exp(-z))"
   ]
  },
  {
   "cell_type": "markdown",
   "metadata": {},
   "source": [
    "<p>Before we go further we should test our sigmoid function.</p>"
   ]
  },
  {
   "cell_type": "code",
   "execution_count": 64,
   "metadata": {
    "collapsed": false
   },
   "outputs": [
    {
     "data": {
      "image/png": "[encoded data removed]",
      "text/plain": [
       "<matplotlib.figure.Figure at 0x7f405c1b5128>"
      ]
     },
     "metadata": {},
     "output_type": "display_data"
    }
   ],
   "source": [
    "testInput = np.arange(-6,6,0.01)\n",
    "plot(testInput, sigmoid(testInput), linewidth= 2)\n",
    "grid(1)"
   ]
  },
  {
   "cell_type": "markdown",
   "metadata": {},
   "source": [
    "<p>Looks Good!</p>"
   ]
  },
  {
   "cell_type": "code",
   "execution_count": 65,
   "metadata": {
    "collapsed": true
   },
   "outputs": [],
   "source": [
    "a2 = sigmoid(z2)"
   ]
  },
  {
   "cell_type": "code",
   "execution_count": 66,
   "metadata": {
    "collapsed": false
   },
   "outputs": [
    {
     "data": {
      "text/plain": [
       "array([[ 0.35211889,  0.46998966,  0.39522836],\n",
       "       [ 0.43503462,  0.40301919,  0.36863575],\n",
       "       [ 0.37222632,  0.31307086,  0.2542357 ]])"
      ]
     },
     "execution_count": 66,
     "metadata": {},
     "output_type": "execute_result"
    }
   ],
   "source": [
    "a2"
   ]
  },
  {
   "cell_type": "markdown",
   "metadata": {},
   "source": [
    "<p>4. Multiply a<sup>2</sup> by our second layer synaptic weights (W<sup>2</sup>) to find Z<sup>3</sup>.</p>"
   ]
  },
  {
   "cell_type": "code",
   "execution_count": 67,
   "metadata": {
    "collapsed": true
   },
   "outputs": [],
   "source": [
    "z3 = np.dot(z2, W2)"
   ]
  },
  {
   "cell_type": "code",
   "execution_count": 68,
   "metadata": {
    "collapsed": false
   },
   "outputs": [
    {
     "data": {
      "text/plain": [
       "array([[ 1.47432827],\n",
       "       [ 0.99805599],\n",
       "       [ 1.99611198]])"
      ]
     },
     "execution_count": 68,
     "metadata": {},
     "output_type": "execute_result"
    }
   ],
   "source": [
    "z3"
   ]
  },
  {
   "cell_type": "markdown",
   "metadata": {},
   "source": [
    "<p>5. Apply our sigmoid activation function to Z<sup>3</sup> to find yHat, or in other words, our predicted output!</p>"
   ]
  },
  {
   "cell_type": "code",
   "execution_count": 69,
   "metadata": {
    "collapsed": true
   },
   "outputs": [],
   "source": [
    "yHat = sigmoid(z3)"
   ]
  },
  {
   "cell_type": "code",
   "execution_count": 70,
   "metadata": {
    "collapsed": false
   },
   "outputs": [
    {
     "data": {
      "text/plain": [
       "array([[ 0.81371437],\n",
       "       [ 0.73067619],\n",
       "       [ 0.88038826]])"
      ]
     },
     "execution_count": 70,
     "metadata": {},
     "output_type": "execute_result"
    }
   ],
   "source": [
    "yHat"
   ]
  },
  {
   "cell_type": "markdown",
   "metadata": {},
   "source": [
    "<p>And there you have it! We have successfully predicted Test Scores given actual \"real-life\" examples of combinations of sleep and study. Why are our values so  poor?</p>"
   ]
  },
  {
   "cell_type": "markdown",
   "metadata": {},
   "source": [
    "<p>We have run into our first interesting problem in artificial intelligence. Although we have successfully modeled the functionality of a neuron and weight, our function does not give us good predictions. The problem is that we have not trained our network. Much like if we were to present the 45 degree triangle example to a baby, our neural network object is not smart enough to give good predictions or \"imagine\" a good answer. The solution is to train our network, but we have a few things to do first.</p>"
   ]
  },
  {
   "cell_type": "markdown",
   "metadata": {},
   "source": [
    "<h4>Basic Feed Forward (Forward Propagating) Neural Network</h4>"
   ]
  },
  {
   "cell_type": "code",
   "execution_count": 71,
   "metadata": {
    "collapsed": true
   },
   "outputs": [],
   "source": [
    "#Neural Network\n",
    "class NeuralNetwork(object):\n",
    "    def __init__(self):\n",
    "        #Hyperparameters\n",
    "        self.inputLayerSize = 2\n",
    "        self.outputLayerSize = 1\n",
    "        self.hiddenLayerSize = 3\n",
    "        \n",
    "        #Synaptic Weights\n",
    "        self.W1 = np.random.randn(self.inputLayerSize, self.hiddenLayerSize)\n",
    "        self.W2 = np.random.randn(self.hiddenLayerSize, self.outputLayerSize)\n",
    "        \n",
    "    def forward(self, X):\n",
    "        #Propagate inputs feed forward through our network\n",
    "        self.z2 = np.dot(X, self.W1)\n",
    "        self.a2 = self.sigmoid(self.z2)\n",
    "        self.z3 = np.dot(self.a2, self.W2)\n",
    "        yHat = self.sigmoid(self.z3)\n",
    "        return yHat\n",
    "    \n",
    "    def sigmoid(self, z):\n",
    "        #Apply sigmoid activation function\n",
    "        return 1/(1+np.exp(-z))"
   ]
  },
  {
   "cell_type": "code",
   "execution_count": 72,
   "metadata": {
    "collapsed": true
   },
   "outputs": [],
   "source": [
    "NN = NeuralNetwork()"
   ]
  },
  {
   "cell_type": "code",
   "execution_count": 73,
   "metadata": {
    "collapsed": true
   },
   "outputs": [],
   "source": [
    "yHat = NN.forward(X)"
   ]
  },
  {
   "cell_type": "code",
   "execution_count": 74,
   "metadata": {
    "collapsed": false
   },
   "outputs": [
    {
     "data": {
      "text/plain": [
       "array([[ 0.17123271],\n",
       "       [ 0.20695073],\n",
       "       [ 0.18449129]])"
      ]
     },
     "execution_count": 74,
     "metadata": {},
     "output_type": "execute_result"
    }
   ],
   "source": [
    "yHat"
   ]
  },
  {
   "cell_type": "code",
   "execution_count": 75,
   "metadata": {
    "collapsed": false
   },
   "outputs": [
    {
     "data": {
      "text/plain": [
       "<matplotlib.legend.Legend at 0x7f405c100898>"
      ]
     },
     "execution_count": 75,
     "metadata": {},
     "output_type": "execute_result"
    },
    {
     "data": {
      "image/png": "[encoded data removed]",
      "text/plain": [
       "<matplotlib.figure.Figure at 0x7f405c1008d0>"
      ]
     },
     "metadata": {},
     "output_type": "display_data"
    }
   ],
   "source": [
    "#Compare estimate, yHat, to actually score\n",
    "bar([0,1,2], y, width = 0.35, alpha=0.8)\n",
    "bar([0.35,1.35,2.35],yHat, width = 0.35, color='r', alpha=0.8)\n",
    "grid(1)\n",
    "legend(['y', 'yHat'])"
   ]
  },
  {
   "cell_type": "markdown",
   "metadata": {},
   "source": [
    "<p>To reiterate, our network is not making very good predictions. We need to fix this problem by minimizing the amount of error between our real life test values, y, and our Neural Network's predictions for y in regards to the values for the synaptic weights, yHat. We will explore the solution to this problem, Gradient Descent.</p> "
   ]
  },
  {
   "cell_type": "markdown",
   "metadata": {},
   "source": [
    "<h4>Gradient Descent</h4>"
   ]
  },
  {
   "cell_type": "markdown",
   "metadata": {},
   "source": [
    "<br>\n",
    "<p>Humans do not just think feed forward. Although feed forward networks are good for making decisions, and the perceptron model can get as advanced as NAND gates (as some research into circuits will show), they do not correct themselves when they make incorrect decisions. This is the problem with our network.</p>\n",
    "<br>\n",
    "<p>Imagine it is wintertime, and you need to drive to class in an old car. Before your car can run you must warm up the engine and the cold oil, allowing it to disperse around your car's inner mechanics. Each time you drive to class you are going to try a random value for time to warm up your car. The synaptic weight you apply to that time for it's quantification of success would be similar to the weights in our scenario. Eventually, we will devise a way to test some random values, find the best random value, and simulate learning. Right now, using our neural network, sometimes we would choose the right value for time, and sometimes we would not, and we would not account for error. The goal of this week's journal is to find a way to quantify this error. We will visit how to train the network in Week 4's journal.</p>\n",
    "<br>\n",
    "<p>Our data is dependent upon the input values X and y, and the synaptic weights. When we run our network feed forward on X, we can use the predicted results, yHat and y to analyze the error, or \"cost\" of our values for W. This function can be expressed as J=(y-yHat), where J is the cost. This function is good, but let's modify it somewhat. Later in this journal series, we will analyze why we chose this cost function, but for now, let us set J=1/2(y-yHat)<sup>2</sup>. Additionally, we have many synaptic weights, and we need to test all 9 of our values for W, so our function becomes: J = &Sigma;1/2(y-yHat)<sup>2</sup>.</p>\n",
    "<br>\n",
    "<p>As Stephen Welch states, \"When someone refers to training a network, what they really mean is minimizing a cost function.\"</p>\n",
    "<br>\n",
    "<p>Now that we know our goal, we need to simply adjust values of W to minimize our cost function. How long does this take however? Let's explore that question using Python's time class on just one synaptic weight for 1000 random values for W.</p>"
   ]
  },
  {
   "cell_type": "code",
   "execution_count": 76,
   "metadata": {
    "collapsed": true
   },
   "outputs": [],
   "source": [
    "import time\n",
    "\n",
    "weightsToTry = np.linspace(-5,5,1000)\n",
    "costs = np.zeros(1000)\n",
    "\n",
    "startTime = time.clock()\n",
    "for i in range(1000):\n",
    "    NN.W1[0,0] = weightsToTry[i]\n",
    "    yHat = NN.forward(X)\n",
    "    costs[i] = 0.5*sum((y-yHat)**2)\n",
    "    \n",
    "endTime = time.clock()"
   ]
  },
  {
   "cell_type": "code",
   "execution_count": 77,
   "metadata": {
    "collapsed": false
   },
   "outputs": [
    {
     "data": {
      "text/plain": [
       "0.03142099999999992"
      ]
     },
     "execution_count": 77,
     "metadata": {},
     "output_type": "execute_result"
    }
   ],
   "source": [
    "timeElapsed = endTime-startTime\n",
    "timeElapsed"
   ]
  },
  {
   "cell_type": "markdown",
   "metadata": {},
   "source": [
    "<br>\n",
    "<p>If we entertain the idea that the above result of about .3 seconds is reasonable, we can just plot our weights and the cost and pick the smallest value.</p>"
   ]
  },
  {
   "cell_type": "code",
   "execution_count": 78,
   "metadata": {
    "collapsed": false
   },
   "outputs": [
    {
     "data": {
      "text/plain": [
       "<matplotlib.text.Text at 0x7f405a061ac8>"
      ]
     },
     "execution_count": 78,
     "metadata": {},
     "output_type": "execute_result"
    },
    {
     "data": {
      "image/png": "[encoded data removed]",
      "text/plain": [
       "<matplotlib.figure.Figure at 0x7f405c0fc6d8>"
      ]
     },
     "metadata": {},
     "output_type": "display_data"
    }
   ],
   "source": [
    "plot(weightsToTry, costs)\n",
    "grid(1)\n",
    "ylabel('Cost')\n",
    "xlabel('Weight')"
   ]
  },
  {
   "cell_type": "markdown",
   "metadata": {},
   "source": [
    "<br>\n",
    "<p>We have indeed successfully minimized our cost function in terms of one synaptic weight, however, lets see how long it takes to simply try 1000 random values for 2 weights...</p>"
   ]
  },
  {
   "cell_type": "code",
   "execution_count": 79,
   "metadata": {
    "collapsed": true
   },
   "outputs": [],
   "source": [
    "weightsToTry = np.linspace(-5,5,1000)\n",
    "costs = np.zeros((1000, 1000))\n",
    "\n",
    "startTime = time.clock()\n",
    "for i in range(1000):\n",
    "    for j in range(1000):\n",
    "        NN.W1[0,0] = weightsToTry[i]\n",
    "        NN.W1[0,1] = weightsToTry[j]\n",
    "        yHat = NN.forward(X)\n",
    "        costs[i, j] = 0.5*sum((y-yHat)**2)\n",
    "    \n",
    "endTime = time.clock()"
   ]
  },
  {
   "cell_type": "code",
   "execution_count": 80,
   "metadata": {
    "collapsed": false
   },
   "outputs": [
    {
     "data": {
      "text/plain": [
       "14.943870999999998"
      ]
     },
     "execution_count": 80,
     "metadata": {},
     "output_type": "execute_result"
    }
   ],
   "source": [
    "timeElapsed = endTime-startTime\n",
    "timeElapsed"
   ]
  },
  {
   "cell_type": "markdown",
   "metadata": {},
   "source": [
    "<br>\n",
    "<p>Ouch, that is starting to take some time. This is due to dimensionality, as demonstrated by the calculation below which shows how long it would take to check 9 weights for 1000 random values. The answer is more than the time since the birth of the universe, so let's try and find a better way to minimize our cost function.</p>"
   ]
  },
  {
   "cell_type": "code",
   "execution_count": 81,
   "metadata": {
    "collapsed": false
   },
   "outputs": [
    {
     "data": {
      "text/plain": [
       "1268391679350583.5"
      ]
     },
     "execution_count": 81,
     "metadata": {},
     "output_type": "execute_result"
    }
   ],
   "source": [
    "0.04*(1000**(9-1))/(3600*24*365)"
   ]
  },
  {
   "cell_type": "markdown",
   "metadata": {},
   "source": [
    "<p>So far, our network takes some normalized input matrix, X and multiplies it by our first layer of synaptic weights W<sup>1</sup> to get matrix Z<sup>2</sup>. Next, this matrix is multiplied by our activation function, f(Z<sup>2</sup>) to get matrix a<sup>2</sup>. a<sup>2</sup> is multiplied by the second layer of synaptic weights W<sup>2</sup> to find Z<sup>3</sup>, and finally we apply our activation function to Z<sup>3</sup> to find yHat, our predicted test scores.</p>\n",
    "<br>\n",
    "<h4>Equations</h4>\n",
    "<li>1. Z<sup>(2)</sup> = XW<sup>(1)</sup></li>\n",
    "<li>2. a<sup>(2)</sup> = f( Z<sup>(2)</sup> )</li>\n",
    "<li>3. Z<sup>(3)</sup> = a<sup>(2)</sup>W<sup>(2)</sup></li>\n",
    "<li>4. yHat = f( Z<sup>(3)</sup> )\n",
    "<p>Additionally, we found that if we change the values for the weights, it has an effect on the output yHat. More specifically, if we create an equation for the difference between yHat and y, or a cost function J, we can quantify how wrong our predictions are and adjust the synaptic weights accordingly. We chose this cost function to be J = &Sigma;(1/2(y - yHat)<sup>2</sup>). By choosing the correct combination of synaptic weights we can minimize the cost function and ensure we are making the best possible predictions. Now our list of equations becomes...</p>\n",
    "<br>\n",
    "<h4>Equations</h4>\n",
    "<li>1. Z<sup>(2)</sup> = XW<sup>(1)</sup></li>\n",
    "<li>2. a<sup>(2)</sup> = f( Z<sup>(2)</sup> )</li>\n",
    "<li>3. Z<sup>(3)</sup> = a<sup>(2)</sup>W<sup>(2)</sup></li>\n",
    "<li>4. yHat = f( Z<sup>(3)</sup> )\n",
    "<li>5. J = &Sigma;(1/2(y - yHat)<sup>2</sup>)</li>"
   ]
  },
  {
   "cell_type": "markdown",
   "metadata": {},
   "source": [
    "<p>Let's rewrite our equations in terms of our cost function, J.</p>\n",
    "<br>\n",
    "<p>J = &Sigma; 1/2( y - f( f( XW<sup>(1)</sup> ) W<sup>(2)</sup> ) )<sup>2</sup>\n",
    "<br>\n",
    "<br>\n",
    "<li>J is dependent on our input matrix X, our input results y, the feed forward prediction matrix yHat, and the two synaptic weight matrices W<sup>(1)</sup> and W<sup>(2)</sup>.</li></p>"
   ]
  },
  {
   "cell_type": "markdown",
   "metadata": {},
   "source": [
    "<p>We have no control over our input data, as that is a model of real life information and if manipulated, would manipulate our results. What we do have to work with are our weights. If we can find how J changes in respect to W<sup>(1)</sup> and W<sup>(2)</sup>, or in other words the partial derivative of J in terms of W, or &part;J/&part;W<sup>(1)</sup> and &part;J/&part;W<sup>(2)</sup>, we can find where our function is going downhill.</p>"
   ]
  },
  {
   "cell_type": "markdown",
   "metadata": {},
   "source": [
    "<p>We can increase or decrease W<sup>(1)</sup> and W<sup>(2)</sup> and observe it's effect on our partial derivatives. If they are increasing we know that the rate of change is positive, and similarly if they are negative, the rate of change is decreasing. If we iteratively repeat this process until the partial derivatives stop decreasing, then we have reached the minimum of our cost function and have completed our objective; or in other words have found a combination of synaptic weights that minimizes the cost.</p>"
   ]
  },
  {
   "cell_type": "markdown",
   "metadata": {},
   "source": [
    "<img src = \"gradientDescent.png\" width = \"400\" align = \"left\"></img>"
   ]
  },
  {
   "cell_type": "markdown",
   "metadata": {},
   "source": [
    "<p>This is the core idea of Gradient Descent. We have a function and we find where the slope of that function is at a minimum, or zero. This value corresponds to the best possible synaptic weights for that synapse. The next step in our Neural Network is Backpropagation, so now we will need to derive values for &part;J/&part;W<sup>(1)</sup> and &part;J/&part;W<sup>(2)</sup></p>"
   ]
  },
  {
   "cell_type": "markdown",
   "metadata": {},
   "source": [
    "<p>*It is important to now bring up why we chose our cost function to be the sum of squared errors. If you examine the graph above, it is very clear to see where the minimum is, however observe the graph below.</p>"
   ]
  },
  {
   "cell_type": "markdown",
   "metadata": {},
   "source": [
    "<img src = \"localMin.gif\" width = \"400\" align = \"left\"></img>"
   ]
  },
  {
   "cell_type": "markdown",
   "metadata": {},
   "source": [
    "<p>As you can see, there is still a possibility that gradient descent will find a local minimum rather than the necessary global minimum. Luckily for us, the sum of squared errors function is naturally convex, and is naturally convex for really high dimensions as well, which is good for us considering our optimization space is 9 dimensional!</p>"
   ]
  },
  {
   "cell_type": "markdown",
   "metadata": {},
   "source": [
    "<h4>Backpropagation</h4>"
   ]
  },
  {
   "cell_type": "markdown",
   "metadata": {},
   "source": [
    "<p>The goal of Backpropagation is to find a function that we can program for our partial derivatives &part;J/&part;W<sup>(1)</sup> and &part;J/&part;W<sup>(2)</sup>. The reason we are finding two partial derivatives is because we have two layers of synaptic weights that determine our data flow. If one needed to modify their network in the future, they could simply calculate a partial derivative for each layer of weights.</p>"
   ]
  },
  {
   "cell_type": "markdown",
   "metadata": {},
   "source": [
    "<p>The shape of our synaptic weight matrices determine the shape of the corresponding partial derivative matrices. Let's verify these shapes using numpy's shape function.</p>"
   ]
  },
  {
   "cell_type": "code",
   "execution_count": 82,
   "metadata": {
    "collapsed": true
   },
   "outputs": [],
   "source": [
    "inputLayerSize = 2\n",
    "outputLayerSize = 1\n",
    "hiddenLayerSize = 3"
   ]
  },
  {
   "cell_type": "code",
   "execution_count": 83,
   "metadata": {
    "collapsed": false
   },
   "outputs": [
    {
     "data": {
      "text/plain": [
       "array([[ 0.18296915, -0.2555632 ,  0.90322049],\n",
       "       [ 1.39116427, -1.04542089, -0.4945492 ]])"
      ]
     },
     "execution_count": 83,
     "metadata": {},
     "output_type": "execute_result"
    }
   ],
   "source": [
    "W1 = np.random.randn(inputLayerSize, hiddenLayerSize)\n",
    "W1"
   ]
  },
  {
   "cell_type": "code",
   "execution_count": 84,
   "metadata": {
    "collapsed": false
   },
   "outputs": [
    {
     "data": {
      "text/plain": [
       "array([[-0.28989066],\n",
       "       [ 0.48354441],\n",
       "       [-0.01348249]])"
      ]
     },
     "execution_count": 84,
     "metadata": {},
     "output_type": "execute_result"
    }
   ],
   "source": [
    "W2 = np.random.randn(hiddenLayerSize, outputLayerSize)\n",
    "W2"
   ]
  },
  {
   "cell_type": "code",
   "execution_count": 85,
   "metadata": {
    "collapsed": false
   },
   "outputs": [
    {
     "data": {
      "text/plain": [
       "(2, 3)"
      ]
     },
     "execution_count": 85,
     "metadata": {},
     "output_type": "execute_result"
    }
   ],
   "source": [
    "W1.shape"
   ]
  },
  {
   "cell_type": "code",
   "execution_count": 86,
   "metadata": {
    "collapsed": false
   },
   "outputs": [
    {
     "data": {
      "text/plain": [
       "(3, 1)"
      ]
     },
     "execution_count": 86,
     "metadata": {},
     "output_type": "execute_result"
    }
   ],
   "source": [
    "W2.shape"
   ]
  },
  {
   "cell_type": "markdown",
   "metadata": {},
   "source": [
    "<p>So &part;J/&part;W<sup>(1)</sup> will have shape (2,3), and &part;J/&part;W<sup>(2)</sup> will have shape (3,1).</p>"
   ]
  },
  {
   "cell_type": "markdown",
   "metadata": {},
   "source": [
    "<p>Our cost function so far is J = &Sigma; 1/2( y - f( f( XW<sup>(1)</sup> ) W<sup>(2)</sup> ) )<sup>2</sup>.</p>\n",
    "<br>"
   ]
  },
  {
   "cell_type": "markdown",
   "metadata": {},
   "source": [
    "<h4>Deriving &part;J/&part;W<sup>(2)</sup></h4>\n",
    "<p>Let's work on &part;J/&part;W<sup>(2)</sup> first.</p>\n",
    "<li>&part;J/&part;W<sup>(2)</sup> = &Sigma;1/2( y - yHat )<sup>2</sup></li>"
   ]
  },
  {
   "cell_type": "markdown",
   "metadata": {},
   "source": [
    "<p>You may recall from your calculus classes that we have a nifty rule called the sum rule which states \"the derivative of the sum is equal to the sum of the derivatives. We are going to take advantage of this property and calculate our gradients one by one, batch style, one by one and then sum them instead of accounting for the summation in our equations. This allows us to rewrite our partial derivative as...</p>\n",
    "<br>\n",
    "<li>&part;J/&part;W<sup>(2)</sup> = 1/2( y - yHat )<sup>2</sup></li>"
   ]
  },
  {
   "cell_type": "markdown",
   "metadata": {},
   "source": [
    "<p>The second thing you may recall from your calculus classes is the power rule. Using the power rule we multiply the 1/2 by our exponent 2, and our partial derivative becomes...</p>\n",
    "<br>\n",
    "<li>&part;J/&part;W<sup>(2)</sup> = ( y - yHat )</li>"
   ]
  },
  {
   "cell_type": "markdown",
   "metadata": {},
   "source": [
    "<p>The THIRD thing you may recall from your calculus classes is the powerful chain rule. The chain rule is somewhat more complicated than the power or summation rule of differentiation.</p>\n",
    "<br>\n",
    "<p>Chain Rule, f of g prime is equal to g prime times f prime of g.</p>\n",
    "<li>( f o g )' = (f' 0 g ) * g'</li>"
   ]
  },
  {
   "cell_type": "markdown",
   "metadata": {},
   "source": [
    "<p>ex.\n",
    "<br>\n",
    "d/dx( 2x + 3x<sup>3</sup> )<sup>2</sup> = 2( 2x + 3x<sup>3</sup> )( 2 + 9x<sup>2</sup> )"
   ]
  },
  {
   "cell_type": "markdown",
   "metadata": {},
   "source": [
    "<p>Another way to express the chain rule is as the product of derivatives, \n",
    "<br>\n",
    "dZ/dX = dZ/dY * dY/dX\n",
    "<br>\n",
    "This will be really helpful later.</p>"
   ]
  },
  {
   "cell_type": "markdown",
   "metadata": {},
   "source": [
    "<li>&part;J/&part;W<sup>(2)</sup> = ( y - yHat )</li>\n",
    "<p>In our function, the derivative of y is simply zero.</p>\n",
    "<li>&part;J/&part;W<sup>(2)</sup> = ( y- yHat )</li>\n",
    "<p>yHat on the other hand, changes with respect to W2, so using the chain rule and multiplying by the partial derivative of yHat, our partial derivative becomes...</p>\n",
    "<br>\n",
    "<li>&part;J/&part;W<sup>(2)</sup> = -( y- yHat )&part;yHat/&part;W<sup>(2)</sup></li>"
   ]
  },
  {
   "cell_type": "markdown",
   "metadata": {},
   "source": [
    "<p>We need to put yHat in terms of W2. We know from our equations that yHat = 1/1+e<sup>-Z<sup>(3)</sup></sup>or, yHat = f(Z<sup>(3)</sup>. "
   ]
  },
  {
   "cell_type": "markdown",
   "metadata": {},
   "source": [
    "<p>From the chain rule, let's use the products of derivatives and rewrite our equation in terms of f(Z<sup>(3)</sup>).</p>\n",
    "<br>\n",
    "<li>&part;J/&part;W<sup>(2)</sup> = -( y- yHat )&part;yHat/&part;Z<sup>(3)</sup> * &part;Z<sup>(3)</sup>/&part;W<sup>(2)</sup></li>"
   ]
  },
  {
   "cell_type": "markdown",
   "metadata": {},
   "source": [
    "<p>To find &part;yHat/&part;Z<sup>(3)</sup> (our second term from the products of derivatives), we need to differentiate our activaction function f(z).</p>"
   ]
  },
  {
   "cell_type": "markdown",
   "metadata": {},
   "source": [
    "<li>f(z) = 1/1+e<sup>-z</sup></li>\n",
    "<br>\n",
    "<li>Using the division rule, f'g - g'f/g<sup>2</sup></li>\n",
    "<br>\n",
    "<li>f'(z) = 1<sup>u</sup>/1+e<sup>z</sup>v</li>\n",
    "<br>\n",
    "<li>u'v - uv' / g<sup>2</sup> = 0*v - 1*-e<sup>-z</sup> / (1+e<sup>-z</sup>)<sup>2</sup></li>\n",
    "<br>\n",
    "<li>f'(z) = e<sup>-z</sup> / ( 1 + e<sup>-z</sup>)<sup>2</sup>"
   ]
  },
  {
   "cell_type": "markdown",
   "metadata": {},
   "source": [
    "<p>We can now replace &part;yHat/&part;Z<sup>(3)</sup> with f'(Z<sup>(3)</sup>)</p>\n",
    "<br>\n",
    "<li>&part;J/&part;W<sup>(2)</sup> = -( y- yHat )f'(Z<sup>(3)</sup>) * &part;Z<sup>(3)</sup>/&part;W<sup>(2)</sup></li>"
   ]
  },
  {
   "cell_type": "markdown",
   "metadata": {},
   "source": [
    "<p>Now is a good time to switch back to our neural network and define a method to calculate sigmoid prime.</p>"
   ]
  },
  {
   "cell_type": "code",
   "execution_count": 87,
   "metadata": {
    "collapsed": true
   },
   "outputs": [],
   "source": [
    "#Sigmoid Function\n",
    "def sigmoid(z):\n",
    "     #Apply sigmoid activation function to scalar, vector, or matrix\n",
    "    return 1/(1+np.exp(-z))"
   ]
  },
  {
   "cell_type": "code",
   "execution_count": 88,
   "metadata": {
    "collapsed": true
   },
   "outputs": [],
   "source": [
    "#Sigmoid' Function\n",
    "def sigmoidPrime(z):\n",
    "    return np.exp(-z)/((1+np.exp(-z))**2)"
   ]
  },
  {
   "cell_type": "markdown",
   "metadata": {},
   "source": [
    "<p>If we implemented our derivative correctly, our sigmoidPrime function should be largest where the sigmoid function is the steepest.</p>"
   ]
  },
  {
   "cell_type": "code",
   "execution_count": 89,
   "metadata": {
    "collapsed": false
   },
   "outputs": [
    {
     "data": {
      "text/plain": [
       "<matplotlib.legend.Legend at 0x7f405c14f278>"
      ]
     },
     "execution_count": 89,
     "metadata": {},
     "output_type": "execute_result"
    },
    {
     "data": {
      "image/png": "[encoded data removed]",
      "text/plain": [
       "<matplotlib.figure.Figure at 0x7f405a098a20>"
      ]
     },
     "metadata": {},
     "output_type": "display_data"
    }
   ],
   "source": [
    "testValues = np.arange(-5,5,0.01)\n",
    "plot(testValues, sigmoid(testValues), linewidth=2)\n",
    "plot(testValues, sigmoidPrime(testValues), linewidth=2)\n",
    "grid(1)\n",
    "legend(['sigmoid', 'sigmoidPrime'])"
   ]
  },
  {
   "cell_type": "markdown",
   "metadata": {},
   "source": [
    "<p>Looks Good!</p>"
   ]
  },
  {
   "cell_type": "markdown",
   "metadata": {},
   "source": [
    "<p>The final term we have to differentiate is &part;Z<sup>(3)</sup>/&part;W<sup>(2)</sup>."
   ]
  },
  {
   "cell_type": "markdown",
   "metadata": {},
   "source": [
    "<p>We know from equation 3 that Z is dependent on a<sup>(2)</sup> and the weights from the second layer.</p>\n",
    "<br>\n",
    "<li>3. Z<sup>(3)</sup> = a<sup>(2)</sup>W<sup>(2)</sup></li>"
   ]
  },
  {
   "cell_type": "markdown",
   "metadata": {},
   "source": [
    "<p>If we rewrite our equation as a<sup>(2)</sup> = Z<sup>(3)</sup> / W<sup>(2)</sup>, we can see that there is a linear relationship between Z and W, where a is the slope.</p> "
   ]
  },
  {
   "cell_type": "markdown",
   "metadata": {},
   "source": [
    "<p>Stephen Welch makes a great point in his tutorial on Neural Networks about what is actually happening here.</p>\n",
    "<br>\n",
    "<p>\"Another way to think about what our calculus is doing here is that it is backpropagating the error to each weight. By multiplying by the activity on each synapse, the weights that contribute more to the overall error will have larger activations, yield larger &part;J/&part;W<sup>(2)</sup> values, and will be changed more when we perform gradient descent!</p>"
   ]
  },
  {
   "cell_type": "code",
   "execution_count": 90,
   "metadata": {
    "collapsed": true
   },
   "outputs": [],
   "source": [
    "yminusyHat = np.array(([\"-y-yHat\"],[\"-y-yHat\"],[\"-y-yHat\"]))"
   ]
  },
  {
   "cell_type": "code",
   "execution_count": 91,
   "metadata": {
    "collapsed": true
   },
   "outputs": [],
   "source": [
    "Z3 = np.array(([\"f'(z3)\"],[\"f'(z3)\"],[\"f'(z3)\"]))"
   ]
  },
  {
   "cell_type": "code",
   "execution_count": 92,
   "metadata": {
    "collapsed": true
   },
   "outputs": [],
   "source": [
    "delta3 = np.array(([\"delta3\"],[\"delta3\"],[\"delta3\"]))"
   ]
  },
  {
   "cell_type": "markdown",
   "metadata": {},
   "source": [
    "<li>&part;J/&part;W<sup>(2)</sup> = -( y- yHat )f'(Z<sup>(3)</sup>) * &part;Z<sup>(3)</sup>/&part;W<sup>(2)</sup></li>"
   ]
  },
  {
   "cell_type": "code",
   "execution_count": 93,
   "metadata": {
    "collapsed": false
   },
   "outputs": [
    {
     "data": {
      "text/plain": [
       "array([['-y-yHat'],\n",
       "       ['-y-yHat'],\n",
       "       ['-y-yHat']], \n",
       "      dtype='<U7')"
      ]
     },
     "execution_count": 93,
     "metadata": {},
     "output_type": "execute_result"
    }
   ],
   "source": [
    "yminusyHat"
   ]
  },
  {
   "cell_type": "markdown",
   "metadata": {},
   "source": [
    "<br>\n",
    "<p>The value of -(y-yHat) * f'(Z<sup>(3)</sup>) is also referred to as the backpropagating error, &delta;<sup>(3)</sup></p>"
   ]
  },
  {
   "cell_type": "code",
   "execution_count": 94,
   "metadata": {
    "collapsed": false
   },
   "outputs": [
    {
     "data": {
      "text/plain": [
       "array([[\"f'(z3)\"],\n",
       "       [\"f'(z3)\"],\n",
       "       [\"f'(z3)\"]], \n",
       "      dtype='<U6')"
      ]
     },
     "execution_count": 94,
     "metadata": {},
     "output_type": "execute_result"
    }
   ],
   "source": [
    "Z3"
   ]
  },
  {
   "cell_type": "code",
   "execution_count": 95,
   "metadata": {
    "collapsed": false
   },
   "outputs": [
    {
     "data": {
      "text/plain": [
       "array([['delta3'],\n",
       "       ['delta3'],\n",
       "       ['delta3']], \n",
       "      dtype='<U6')"
      ]
     },
     "execution_count": 95,
     "metadata": {},
     "output_type": "execute_result"
    }
   ],
   "source": [
    "delta3"
   ]
  },
  {
   "cell_type": "markdown",
   "metadata": {},
   "source": [
    "<li>We determined that &part;Z<sup>(3)</sup>/&part;W<sup>(2)</sup> is the activity, a<sup>(2)</sup> of each synapse, Therefore, if we transpose a<sup>(2)</sup> and multiply by &delta;<sup>(3)</sup>, we find &part;J/&part;W<sup>(2)</sup>!\n",
    "<br>\n",
    "<br>\n",
    "<li>&part;J/&part;W<sup>(2)</sup> = (a<sup>(2)</sup>)<sup>T</sup>&delta;<sup>(3)</sup></li>\n",
    "<li>&delta;<sup>(3)</sup> = - ( y - yHat ) f '( Z<sup>(3)</sup>)</li>"
   ]
  },
  {
   "cell_type": "markdown",
   "metadata": {},
   "source": [
    "<h4>Deriving &part;J/&part;W<sup>(1)</sup></h4>"
   ]
  },
  {
   "cell_type": "markdown",
   "metadata": {},
   "source": [
    "<p>As you may recall, our function for &part;J/&part;W<sup>(1)</sup> is...</p>\n",
    "<br>\n",
    "<li>&part;J/&part;W<sup>(1)</sup> = 1/2( y - yHat )<sup>2</sup></li>"
   ]
  },
  {
   "cell_type": "markdown",
   "metadata": {},
   "source": [
    "<p>We can start our derivation the same way as for &part;J/&part;W<sup>(2)</sup> = 1/2( y - yHat )<sup>2</sup> by using the power rule to get,</p>\n",
    "<br>\n",
    "<li>&part;J/&part;W<sup>(1)</sup> = ( y - yHat )</li>"
   ]
  },
  {
   "cell_type": "markdown",
   "metadata": {},
   "source": [
    "<p>Next we apply the chain rule,</p>\n",
    "<br>\n",
    "<li>&part;J&part;W<sup>1</sup> = -( y - yHat )&part;yHat/&part;W<sup>(1)</sup></li>\n",
    "<li>&part;J&part;W<sup>1</sup> = -( y - yHat ) * &part;yHat/&part;Z<sup>(3)</sup> * &part;yHat/&part;W<sup>(1)</sup></li>"
   ]
  },
  {
   "cell_type": "markdown",
   "metadata": {},
   "source": [
    "<p>We can differentiate &part;yHat/&part;Z<sup>(3)</sup> the same way as for &part;J/&part;W<sup>(2)</sup>,</p>\n",
    "<br>\n",
    "<li>&part;J&part;W<sup>1</sup> = -( y - yHat ) * f '( Z<sup>(3)</sup>) * &part;yHat/&part;W<sup>(1)</sup></li>\n",
    "<li>&delta;<sup>(3)</sup> = -( y - yHat ) f '(Z<sup>(3)</sup>)</li>"
   ]
  },
  {
   "cell_type": "markdown",
   "metadata": {},
   "source": [
    "<p>To find the derivative across our synapses, we use the product of derivatives to get,</p>\n",
    "<br>\n",
    "<li>&part;J/&part;W<sup>(3)</sup> = &delta;<sup>(3)</sup> &part;Z<sup>(3)</sup>/&part;a<sup>(2)</sup> &part;a<sup>(2)</sup>/&part;W<sup>(1)</sup></li>"
   ]
  },
  {
   "cell_type": "markdown",
   "metadata": {},
   "source": [
    "<p>This is different than our calculation for &part;J/&part;W<sup>(2)</sup>, because rather than a<sup>(2)</sup> being our slope, it is rather W<sup>(1)</sup> because we are trying to find the slope of &part;Z<sup>(3)</sup>/&part;a<sup>(2)</sup>.</p>\n",
    "<br>\n",
    "<li>Z<sup>(3)</sup> / a<sup>(2)</sup> = W<sup>(2)</sup></li>"
   ]
  },
  {
   "cell_type": "markdown",
   "metadata": {},
   "source": [
    "<p>Therefore, the next step is to multiply &delta;<sup>(3)</sup> by W<sup>(2)</sup><sup>T</sup></p>\n",
    "<br>\n",
    "<li>&part;J/&part;W<sup>(1)</sup> = &delta;<sup>(3)</sup> ( W<sup>(2)</sup> )<sup>T</sup> &part;a<sup>(2)</sup>/&part;W<sup>(1)</sup></li>"
   ]
  },
  {
   "cell_type": "markdown",
   "metadata": {},
   "source": [
    "<p>The next step is to derive &part;a<sup>(2)</sup>/&part;W<sup>(1)</sup></p>\n",
    "<br>\n",
    "<li>Using the product of derivatives, &part;J/&part;W<sup>(1)</sup> = &delta;<sup>(3)</sup> ( W<sup>(2)</sup> )<sup>T</sup> &part;a<sup>(2)</sup>/&part;Z<sup>(2)</sup> &part;Z<sup>(2)</sup>/&part;W<sup>(1)</sup></li>"
   ]
  },
  {
   "cell_type": "markdown",
   "metadata": {},
   "source": [
    "<p>From deriving &part;J/&part;W<sup>(2)</sup>, we know that,</p>\n",
    "<br>\n",
    "<li>&part;a<sup>(2)</sup>/&part;Z<sup>(2)</sup> = f '( Z<sup>(2)</sup> )</li>"
   ]
  },
  {
   "cell_type": "markdown",
   "metadata": {},
   "source": [
    "<p>This makes our partial derivative,</p>\n",
    "<br>\n",
    "<li>&part;J/&part;W<sup>(1)</sup> = &delta;<sup>(3)</sup> ( W<sup>(2)</sup> )<sup>T</sup> f '( Z<sup>(2)</sup> ) &part;Z<sup>(2)</sup>/&part;W<sup>(1)</sup></li>"
   ]
  },
  {
   "cell_type": "markdown",
   "metadata": {},
   "source": [
    "<p>There is a simple linear relationship between Z<sup>(2)</sup> and W<sup>(1)</sup>, from equation 1. Z<sup>(2)</sup> = XW<sup>(1)</sup>, where the slope is simply X. Now we have all the pieces of our partial derivative!</p>\n",
    "<br>\n",
    "<li>&part;J/&part;W<sup>(1)</sup> = X<sup>T</sup> &delta;<sup>(3)</sup> ( W<sup>(2)</sup> )<sup>T</sup> f '( Z<sup>(2)</sup> )</li>\n",
    "<li>&delta;<sup>(2)</sup> = &delta;<sup>(3)</sup> ( W<sup>(2)</sup> )<sup>T</sup> f '( Z<sup>(2)</sup> )</li>"
   ]
  },
  {
   "cell_type": "markdown",
   "metadata": {},
   "source": [
    "<p>Our full list of equations becomes...</p>\n",
    "<br>\n",
    "<h4>Equations</h4>\n",
    "<li>1. Z<sup>(2)</sup> = XW<sup>(1)</sup></li>\n",
    "<li>2. a<sup>(2)</sup> = f( Z<sup>(2)</sup> )</li>\n",
    "<li>3. Z<sup>(3)</sup> = a<sup>(2)</sup>W<sup>(2)</sup></li>\n",
    "<li>4. yHat = f( Z<sup>(3)</sup> )</li>\n",
    "<li>5. J = &Sigma;(1/2(y - yHat)<sup>2</sup>)</li>\n",
    "<li>6. &part;J/&part;W<sup>(2)</sup> = (a<sup>(2)</sup>)<sup>T</sup>&delta;<sup>(3)</sup></li>\n",
    "<li>7. &delta;<sup>(3)</sup> = - ( y - yHat ) f '( Z<sup>(3)</sup>)</li>\n",
    "<li>8. &part;J/&part;W<sup>(1)</sup> = X<sup>T</sup> &delta;<sup>(3)</sup> ( W<sup>(2)</sup> )<sup>T</sup> f '( Z<sup>(2)</sup> )</li>\n",
    "<li>9. &delta;<sup>(2)</sup> = &delta;<sup>(3)</sup> ( W<sup>(2)</sup> )<sup>T</sup> f '( Z<sup>(2)</sup> )</li>"
   ]
  },
  {
   "cell_type": "markdown",
   "metadata": {},
   "source": [
    "<p>Now let's write some code for our partial derivatives. We will refer to &part;J/&part;W<sup>(1)</sup> and DJDW1, and &part;J/&part;W<sup>(2)</sup> as DJDW2.</p>"
   ]
  },
  {
   "cell_type": "markdown",
   "metadata": {},
   "source": [
    "<p>&part;J/&part;W<sup>(1)</sup> = X<sup>T</sup> &delta;<sup>(3)</sup> ( W<sup>(2)</sup> )<sup>T</sup> f '( Z<sup>(2)</sup> ). We can represent this in python as,</p>"
   ]
  },
  {
   "cell_type": "markdown",
   "metadata": {},
   "source": [
    "<p>dJdW1 = np.dot(X.T, delta2)</p>"
   ]
  },
  {
   "cell_type": "markdown",
   "metadata": {},
   "source": [
    "<p>delta2 = np.dot(delta3, self.W2.T)*self.sigmoidPrime(self.z2)</p>"
   ]
  },
  {
   "cell_type": "markdown",
   "metadata": {},
   "source": [
    "<p>dJdW2 = np.dot(self.a2.T, delta3)</p>"
   ]
  },
  {
   "cell_type": "markdown",
   "metadata": {},
   "source": [
    "<p>delta3 = np.multiply(-(y-self.yHat), self.sigmoidPrime(self.z3))</p>"
   ]
  },
  {
   "cell_type": "markdown",
   "metadata": {},
   "source": [
    "<p>The full Neural Network Class with changes to the cost function...</p>"
   ]
  },
  {
   "cell_type": "code",
   "execution_count": 96,
   "metadata": {
    "collapsed": true
   },
   "outputs": [],
   "source": [
    "# Whole Class with additions:\n",
    "class Neural_Network(object):\n",
    "    def __init__(self):        \n",
    "        #Define Hyperparameters\n",
    "        self.inputLayerSize = 2\n",
    "        self.outputLayerSize = 1\n",
    "        self.hiddenLayerSize = 3\n",
    "        \n",
    "        #Weights (parameters)\n",
    "        self.W1 = np.random.randn(self.inputLayerSize,self.hiddenLayerSize)\n",
    "        self.W2 = np.random.randn(self.hiddenLayerSize,self.outputLayerSize)\n",
    "        \n",
    "    def forward(self, X):\n",
    "        #Propogate inputs though network\n",
    "        self.z2 = np.dot(X, self.W1)\n",
    "        self.a2 = self.sigmoid(self.z2)\n",
    "        self.z3 = np.dot(self.a2, self.W2)\n",
    "        yHat = self.sigmoid(self.z3) \n",
    "        return yHat\n",
    "        \n",
    "    def sigmoid(self, z):\n",
    "        #Apply sigmoid activation function to scalar, vector, or matrix\n",
    "        return 1/(1+np.exp(-z))\n",
    "    \n",
    "    def sigmoidPrime(self,z):\n",
    "        #Gradient of sigmoid\n",
    "        return np.exp(-z)/((1+np.exp(-z))**2)\n",
    "    \n",
    "    def costFunction(self, X, y):\n",
    "        #Compute cost for given X,y, use weights already stored in class.\n",
    "        self.yHat = self.forward(X)\n",
    "        J = 0.5*sum((y-self.yHat)**2)\n",
    "        return J\n",
    "        \n",
    "    def costFunctionPrime(self, X, y):\n",
    "        #Compute derivative with respect to W and W2 for a given X and y:\n",
    "        self.yHat = self.forward(X)\n",
    "        \n",
    "        delta3 = np.multiply(-(y-self.yHat), self.sigmoidPrime(self.z3))\n",
    "        dJdW2 = np.dot(self.a2.T, delta3)\n",
    "        \n",
    "        delta2 = np.dot(delta3, self.W2.T)*self.sigmoidPrime(self.z2)\n",
    "        dJdW1 = np.dot(X.T, delta2)  \n",
    "        \n",
    "        return dJdW1, dJdW2"
   ]
  },
  {
   "cell_type": "markdown",
   "metadata": {},
   "source": [
    "<p>\"We can now find DJDW, which will tell us which way is downhill in our 9 dimensional optimization space.\"</p>"
   ]
  },
  {
   "cell_type": "code",
   "execution_count": 97,
   "metadata": {
    "collapsed": true
   },
   "outputs": [],
   "source": [
    "X = np.array(([3,5], [5,1], [10,2]), dtype=float)\n",
    "y = np.array(([75], [82], [93]), dtype=float)"
   ]
  },
  {
   "cell_type": "code",
   "execution_count": 98,
   "metadata": {
    "collapsed": true
   },
   "outputs": [],
   "source": [
    "X = X/np.amax(X, axis=0)\n",
    "y = y/100 #Max test score is 100"
   ]
  },
  {
   "cell_type": "code",
   "execution_count": 99,
   "metadata": {
    "collapsed": true
   },
   "outputs": [],
   "source": [
    "NN = Neural_Network()"
   ]
  },
  {
   "cell_type": "code",
   "execution_count": 100,
   "metadata": {
    "collapsed": true
   },
   "outputs": [],
   "source": [
    "cost1 = NN.costFunction(X,y)"
   ]
  },
  {
   "cell_type": "code",
   "execution_count": 101,
   "metadata": {
    "collapsed": true
   },
   "outputs": [],
   "source": [
    "dJdW1, dJdW2 = NN.costFunctionPrime(X,y)"
   ]
  },
  {
   "cell_type": "code",
   "execution_count": 102,
   "metadata": {
    "collapsed": false
   },
   "outputs": [
    {
     "data": {
      "text/plain": [
       "array([[ 0.02170632,  0.06261837, -0.00596869],\n",
       "       [ 0.01671435,  0.07506566, -0.00726024]])"
      ]
     },
     "execution_count": 102,
     "metadata": {},
     "output_type": "execute_result"
    }
   ],
   "source": [
    "dJdW1"
   ]
  },
  {
   "cell_type": "code",
   "execution_count": 103,
   "metadata": {
    "collapsed": false
   },
   "outputs": [
    {
     "data": {
      "text/plain": [
       "array([[-0.09851492],\n",
       "       [-0.0624152 ],\n",
       "       [-0.05360596]])"
      ]
     },
     "execution_count": 103,
     "metadata": {},
     "output_type": "execute_result"
    }
   ],
   "source": [
    "dJdW2"
   ]
  },
  {
   "cell_type": "markdown",
   "metadata": {},
   "source": [
    "<p>\"If we move this way by adding a scalar times our derivative to all of our weights, our cost will increase.\"</p>"
   ]
  },
  {
   "cell_type": "code",
   "execution_count": 104,
   "metadata": {
    "collapsed": true
   },
   "outputs": [],
   "source": [
    "scalar = 3\n",
    "NN.W1 = NN.W1 + scalar*dJdW1\n",
    "NN.W2 = NN.W2 + scalar*dJdW2\n",
    "cost2 = NN.costFunction(X,y)"
   ]
  },
  {
   "cell_type": "code",
   "execution_count": 105,
   "metadata": {
    "collapsed": false
   },
   "outputs": [
    {
     "data": {
      "text/plain": [
       "0.35853888700290137"
      ]
     },
     "execution_count": 105,
     "metadata": {},
     "output_type": "execute_result"
    }
   ],
   "source": [
    "cost1"
   ]
  },
  {
   "cell_type": "code",
   "execution_count": 106,
   "metadata": {
    "collapsed": false
   },
   "outputs": [
    {
     "data": {
      "text/plain": [
       "0.44416656080309824"
      ]
     },
     "execution_count": 106,
     "metadata": {},
     "output_type": "execute_result"
    }
   ],
   "source": [
    "cost2"
   ]
  },
  {
   "cell_type": "markdown",
   "metadata": {},
   "source": [
    "<p>\"If we do the opposite, subtract our gradient from our weights, we will reduce our cost.\"</p>"
   ]
  },
  {
   "cell_type": "code",
   "execution_count": 107,
   "metadata": {
    "collapsed": true
   },
   "outputs": [],
   "source": [
    "dJdW1, dJdW2 = NN.costFunctionPrime(X,y)\n",
    "NN.W1 = NN.W1 - scalar*dJdW1\n",
    "NN.W2 = NN.W2 - scalar*dJdW2\n",
    "cost3 = NN.costFunction(X, y)"
   ]
  },
  {
   "cell_type": "code",
   "execution_count": 108,
   "metadata": {
    "collapsed": false
   },
   "outputs": [
    {
     "data": {
      "text/plain": [
       "0.44416656080309824"
      ]
     },
     "execution_count": 108,
     "metadata": {},
     "output_type": "execute_result"
    }
   ],
   "source": [
    "cost2"
   ]
  },
  {
   "cell_type": "code",
   "execution_count": 109,
   "metadata": {
    "collapsed": false
   },
   "outputs": [
    {
     "data": {
      "text/plain": [
       "0.34947877402243599"
      ]
     },
     "execution_count": 109,
     "metadata": {},
     "output_type": "execute_result"
    }
   ],
   "source": [
    "cost3"
   ]
  },
  {
   "cell_type": "markdown",
   "metadata": {},
   "source": [
    "<h4>Numerical Gradient Checking</h4>"
   ]
  },
  {
   "cell_type": "markdown",
   "metadata": {},
   "source": [
    "<p>Now that we found the rate of change of our cost function, we need a way to check for errors in our code. If we are going to modify our network in the future such as use a different cost function or optimization method, we need a way to make sure our gradients are still being calculated correctly. One way we can do this is by using the definition of the derivative to error check our gradients.</p>"
   ]
  },
  {
   "cell_type": "markdown",
   "metadata": {},
   "source": [
    "<p>Definition of the derivative:\n",
    "<br>\n",
    "f '(x) = lim<sub>&Delta;x&#8594;0</sub> f( x + &Delta;x ) - f( x ) / &Delta;x</p>"
   ]
  },
  {
   "cell_type": "markdown",
   "metadata": {},
   "source": [
    "<p>The definition of the derivative is really just a glorified slope formula, where the top part is the change in y, and the bottom is &Delta;x.</p>"
   ]
  },
  {
   "cell_type": "markdown",
   "metadata": {},
   "source": [
    "<p>By modifying the formula for the derivative somewhat, we can use it to test our gradients. If we use a reasonably small value for delta, or in our case epsilon, we can find the values around our gradient and compare them to the actual derivative.</p>"
   ]
  },
  {
   "cell_type": "code",
   "execution_count": 110,
   "metadata": {
    "collapsed": true
   },
   "outputs": [],
   "source": [
    "def f(x):\n",
    "    return x**2"
   ]
  },
  {
   "cell_type": "code",
   "execution_count": 111,
   "metadata": {
    "collapsed": true
   },
   "outputs": [],
   "source": [
    "epsilon = 1e-4\n",
    "x = 1.5"
   ]
  },
  {
   "cell_type": "code",
   "execution_count": 112,
   "metadata": {
    "collapsed": true
   },
   "outputs": [],
   "source": [
    "numericalGradient = (f(x+epsilon)- f(x-epsilon))/(2*epsilon)"
   ]
  },
  {
   "cell_type": "code",
   "execution_count": 113,
   "metadata": {
    "collapsed": false
   },
   "outputs": [
    {
     "data": {
      "text/plain": [
       "(2.9999999999996696, 3.0)"
      ]
     },
     "execution_count": 113,
     "metadata": {},
     "output_type": "execute_result"
    }
   ],
   "source": [
    "numericalGradient, 2*x"
   ]
  },
  {
   "cell_type": "markdown",
   "metadata": {},
   "source": [
    "<p>Looks close enough for me!</p>"
   ]
  },
  {
   "cell_type": "markdown",
   "metadata": {},
   "source": [
    "<p>Stephen Welch wrote a great method for iteratively calculating the numerical gradient for each of the gradients in our network, let's test this method.</p>"
   ]
  },
  {
   "cell_type": "code",
   "execution_count": 114,
   "metadata": {
    "collapsed": true
   },
   "outputs": [],
   "source": [
    "def computeNumericalGradient(N, X, y):\n",
    "        paramsInitial = N.getParams()\n",
    "        numgrad = np.zeros(paramsInitial.shape)\n",
    "        perturb = np.zeros(paramsInitial.shape)\n",
    "        e = 1e-4\n",
    "\n",
    "        for p in range(len(paramsInitial)):\n",
    "            #Set perturbation vector\n",
    "            perturb[p] = e\n",
    "            N.setParams(paramsInitial + perturb)\n",
    "            loss2 = N.costFunction(X, y)\n",
    "            \n",
    "            N.setParams(paramsInitial - perturb)\n",
    "            loss1 = N.costFunction(X, y)\n",
    "\n",
    "            #Compute Numerical Gradient\n",
    "            numgrad[p] = (loss2 - loss1) / (2*e)\n",
    "\n",
    "            #Return the value we changed to zero:\n",
    "            perturb[p] = 0\n",
    "            \n",
    "        #Return Params to original value:\n",
    "        N.setParams(paramsInitial)\n",
    "\n",
    "        return numgrad "
   ]
  },
  {
   "cell_type": "code",
   "execution_count": 115,
   "metadata": {
    "collapsed": true
   },
   "outputs": [],
   "source": [
    "class Neural_Network(object):\n",
    "    def __init__(self):        \n",
    "        #Define Hyperparameters\n",
    "        self.inputLayerSize = 2\n",
    "        self.outputLayerSize = 1\n",
    "        self.hiddenLayerSize = 3\n",
    "        \n",
    "        #Weights (parameters)\n",
    "        self.W1 = np.random.randn(self.inputLayerSize,self.hiddenLayerSize)\n",
    "        self.W2 = np.random.randn(self.hiddenLayerSize,self.outputLayerSize)\n",
    "        \n",
    "    def forward(self, X):\n",
    "        #Propogate inputs though network\n",
    "        self.z2 = np.dot(X, self.W1)\n",
    "        self.a2 = self.sigmoid(self.z2)\n",
    "        self.z3 = np.dot(self.a2, self.W2)\n",
    "        yHat = self.sigmoid(self.z3) \n",
    "        return yHat\n",
    "        \n",
    "    def sigmoid(self, z):\n",
    "        #Apply sigmoid activation function to scalar, vector, or matrix\n",
    "        return 1/(1+np.exp(-z))\n",
    "    \n",
    "    def sigmoidPrime(self,z):\n",
    "        #Gradient of sigmoid\n",
    "        return np.exp(-z)/((1+np.exp(-z))**2)\n",
    "    \n",
    "    def costFunction(self, X, y):\n",
    "        #Compute cost for given X,y, use weights already stored in class.\n",
    "        self.yHat = self.forward(X)\n",
    "        J = 0.5*sum((y-self.yHat)**2)\n",
    "        return J\n",
    "        \n",
    "    def costFunctionPrime(self, X, y):\n",
    "        #Compute derivative with respect to W and W2 for a given X and y:\n",
    "        self.yHat = self.forward(X)\n",
    "        \n",
    "        delta3 = np.multiply(-(y-self.yHat), self.sigmoidPrime(self.z3))\n",
    "        dJdW2 = np.dot(self.a2.T, delta3)\n",
    "        \n",
    "        delta2 = np.dot(delta3, self.W2.T)*self.sigmoidPrime(self.z2)\n",
    "        dJdW1 = np.dot(X.T, delta2)  \n",
    "        \n",
    "        return dJdW1, dJdW2\n",
    "    \n",
    "    #Helper Functions for interacting with other classes:\n",
    "    def getParams(self):\n",
    "        #Get W1 and W2 unrolled into vector:\n",
    "        params = np.concatenate((self.W1.ravel(), self.W2.ravel()))\n",
    "        return params\n",
    "    \n",
    "    def setParams(self, params):\n",
    "        #Set W1 and W2 using single paramater vector.\n",
    "        W1_start = 0\n",
    "        W1_end = self.hiddenLayerSize * self.inputLayerSize\n",
    "        self.W1 = np.reshape(params[W1_start:W1_end], (self.inputLayerSize , self.hiddenLayerSize))\n",
    "        W2_end = W1_end + self.hiddenLayerSize*self.outputLayerSize\n",
    "        self.W2 = np.reshape(params[W1_end:W2_end], (self.hiddenLayerSize, self.outputLayerSize))\n",
    "        \n",
    "    def computeGradients(self, X, y):\n",
    "        dJdW1, dJdW2 = self.costFunctionPrime(X, y)\n",
    "        return np.concatenate((dJdW1.ravel(), dJdW2.ravel()))"
   ]
  },
  {
   "cell_type": "code",
   "execution_count": 116,
   "metadata": {
    "collapsed": true
   },
   "outputs": [],
   "source": [
    "NN = Neural_Network()"
   ]
  },
  {
   "cell_type": "code",
   "execution_count": 117,
   "metadata": {
    "collapsed": true
   },
   "outputs": [],
   "source": [
    "X = np.array(([3,5], [5,1], [10,2]), dtype=float)\n",
    "y = np.array(([75], [82], [93]), dtype=float)"
   ]
  },
  {
   "cell_type": "code",
   "execution_count": 118,
   "metadata": {
    "collapsed": true
   },
   "outputs": [],
   "source": [
    "X = X/np.amax(X, axis=0)\n",
    "y = y/100 #Max test score is 100"
   ]
  },
  {
   "cell_type": "code",
   "execution_count": 119,
   "metadata": {
    "collapsed": false
   },
   "outputs": [
    {
     "data": {
      "text/plain": [
       "array([-0.01425815,  0.10417662,  0.01935537, -0.01120644,  0.08535441,\n",
       "        0.0151796 , -0.16809845, -0.09838607, -0.17430377])"
      ]
     },
     "execution_count": 119,
     "metadata": {},
     "output_type": "execute_result"
    }
   ],
   "source": [
    "numgrad = computeNumericalGradient(NN, X, y)\n",
    "numgrad"
   ]
  },
  {
   "cell_type": "code",
   "execution_count": 120,
   "metadata": {
    "collapsed": false
   },
   "outputs": [
    {
     "data": {
      "text/plain": [
       "array([-0.01425815,  0.10417662,  0.01935537, -0.01120644,  0.08535441,\n",
       "        0.0151796 , -0.16809845, -0.09838607, -0.17430377])"
      ]
     },
     "execution_count": 120,
     "metadata": {},
     "output_type": "execute_result"
    }
   ],
   "source": [
    "grad = NN.computeGradients(X,y)\n",
    "grad"
   ]
  },
  {
   "cell_type": "markdown",
   "metadata": {},
   "source": [
    "<p>By using numpy's built in norm method, we can calculate the difference between our calculations for the gradient, and the numerical gradient.</p>"
   ]
  },
  {
   "cell_type": "code",
   "execution_count": 121,
   "metadata": {
    "collapsed": false
   },
   "outputs": [
    {
     "data": {
      "text/plain": [
       "1.5779985284616467e-10"
      ]
     },
     "execution_count": 121,
     "metadata": {},
     "output_type": "execute_result"
    }
   ],
   "source": [
    "norm(grad-numgrad)/norm(grad+numgrad)"
   ]
  },
  {
   "cell_type": "markdown",
   "metadata": {},
   "source": [
    "<p>If this value is extremely small, then we know our gradients are being calculated correctly.</p>"
   ]
  },
  {
   "cell_type": "markdown",
   "metadata": {},
   "source": [
    "<h4>Training</h4>"
   ]
  },
  {
   "cell_type": "markdown",
   "metadata": {},
   "source": [
    "<p>There are many ways to optimize a neural network. Although Gradient Descent performs well, it still has it's limitations in the way that it could get stuck in a local minimum. Another way we can make sure our gradients and cost function are correct is to implement one of the optimization algorithms contained in the scipy package called the BFGS algorithm. This algorithm takes in a function, with the input and output data, and returns a cost and the gradients. Stephen Welch includes a wrapper function in the trainer method to implement this behavior in our neural network as seen below.</p>"
   ]
  },
  {
   "cell_type": "code",
   "execution_count": 122,
   "metadata": {
    "collapsed": true
   },
   "outputs": [],
   "source": [
    "import scipy as sp"
   ]
  },
  {
   "cell_type": "code",
   "execution_count": 123,
   "metadata": {
    "collapsed": true
   },
   "outputs": [],
   "source": [
    "import numpy as np"
   ]
  },
  {
   "cell_type": "code",
   "execution_count": 124,
   "metadata": {
    "collapsed": true
   },
   "outputs": [],
   "source": [
    "from scipy import optimize"
   ]
  },
  {
   "cell_type": "code",
   "execution_count": 125,
   "metadata": {
    "collapsed": true
   },
   "outputs": [],
   "source": [
    "class Neural_Network(object):\n",
    "    def __init__(self):        \n",
    "        #Define Hyperparameters\n",
    "        self.inputLayerSize = 2\n",
    "        self.outputLayerSize = 1\n",
    "        self.hiddenLayerSize = 3\n",
    "        \n",
    "        #Weights (parameters)\n",
    "        self.W1 = np.random.randn(self.inputLayerSize,self.hiddenLayerSize)\n",
    "        self.W2 = np.random.randn(self.hiddenLayerSize,self.outputLayerSize)\n",
    "        \n",
    "    def forward(self, X):\n",
    "        #Propogate inputs though network\n",
    "        self.z2 = np.dot(X, self.W1)\n",
    "        self.a2 = self.sigmoid(self.z2)\n",
    "        self.z3 = np.dot(self.a2, self.W2)\n",
    "        yHat = self.sigmoid(self.z3) \n",
    "        return yHat\n",
    "        \n",
    "    def sigmoid(self, z):\n",
    "        #Apply sigmoid activation function to scalar, vector, or matrix\n",
    "        return 1/(1+np.exp(-z))\n",
    "    \n",
    "    def sigmoidPrime(self,z):\n",
    "        #Gradient of sigmoid\n",
    "        return np.exp(-z)/((1+np.exp(-z))**2)\n",
    "    \n",
    "    def costFunction(self, X, y):\n",
    "        #Compute cost for given X,y, use weights already stored in class.\n",
    "        self.yHat = self.forward(X)\n",
    "        J = 0.5*sum((y-self.yHat)**2)\n",
    "        return J\n",
    "        \n",
    "    def costFunctionPrime(self, X, y):\n",
    "        #Compute derivative with respect to W and W2 for a given X and y:\n",
    "        self.yHat = self.forward(X)\n",
    "        \n",
    "        delta3 = np.multiply(-(y-self.yHat), self.sigmoidPrime(self.z3))\n",
    "        dJdW2 = np.dot(self.a2.T, delta3)\n",
    "        \n",
    "        delta2 = np.dot(delta3, self.W2.T)*self.sigmoidPrime(self.z2)\n",
    "        dJdW1 = np.dot(X.T, delta2)  \n",
    "        \n",
    "        return dJdW1, dJdW2\n",
    "    \n",
    "    #Helper Functions for interacting with other classes:\n",
    "    def getParams(self):\n",
    "        #Get W1 and W2 unrolled into vector:\n",
    "        params = np.concatenate((self.W1.ravel(), self.W2.ravel()))\n",
    "        return params\n",
    "    \n",
    "    def setParams(self, params):\n",
    "        #Set W1 and W2 using single paramater vector.\n",
    "        W1_start = 0\n",
    "        W1_end = self.hiddenLayerSize * self.inputLayerSize\n",
    "        self.W1 = np.reshape(params[W1_start:W1_end], (self.inputLayerSize , self.hiddenLayerSize))\n",
    "        W2_end = W1_end + self.hiddenLayerSize*self.outputLayerSize\n",
    "        self.W2 = np.reshape(params[W1_end:W2_end], (self.hiddenLayerSize, self.outputLayerSize))\n",
    "        \n",
    "    def computeGradients(self, X, y):\n",
    "        dJdW1, dJdW2 = self.costFunctionPrime(X, y)\n",
    "        return np.concatenate((dJdW1.ravel(), dJdW2.ravel()))"
   ]
  },
  {
   "cell_type": "code",
   "execution_count": 126,
   "metadata": {
    "collapsed": true
   },
   "outputs": [],
   "source": [
    "def computeNumericalGradient(N, X, y):\n",
    "        paramsInitial = N.getParams()\n",
    "        numgrad = np.zeros(paramsInitial.shape)\n",
    "        perturb = np.zeros(paramsInitial.shape)\n",
    "        e = 1e-4\n",
    "\n",
    "        for p in range(len(paramsInitial)):\n",
    "            #Set perturbation vector\n",
    "            perturb[p] = e\n",
    "            N.setParams(paramsInitial + perturb)\n",
    "            loss2 = N.costFunction(X, y)\n",
    "            \n",
    "            N.setParams(paramsInitial - perturb)\n",
    "            loss1 = N.costFunction(X, y)\n",
    "\n",
    "            #Compute Numerical Gradient\n",
    "            numgrad[p] = (loss2 - loss1) / (2*e)\n",
    "\n",
    "            #Return the value we changed to zero:\n",
    "            perturb[p] = 0\n",
    "            \n",
    "        #Return Params to original value:\n",
    "        N.setParams(paramsInitial)\n",
    "\n",
    "        return numgrad "
   ]
  },
  {
   "cell_type": "code",
   "execution_count": 127,
   "metadata": {
    "collapsed": true
   },
   "outputs": [],
   "source": [
    "class trainer(object):\n",
    "    def __init__(self, N):\n",
    "        #Make Local reference to network:\n",
    "        self.N = N\n",
    "        \n",
    "    def callbackF(self, params):\n",
    "        self.N.setParams(params)\n",
    "        self.J.append(self.N.costFunction(self.X, self.y))   \n",
    "        \n",
    "    def costFunctionWrapper(self, params, X, y):\n",
    "        self.N.setParams(params)\n",
    "        cost = self.N.costFunction(X, y)\n",
    "        grad = self.N.computeGradients(X,y)\n",
    "        \n",
    "        return cost, grad\n",
    "        \n",
    "    def train(self, X, y):\n",
    "        #Make an internal variable for the callback function:\n",
    "        self.X = X\n",
    "        self.y = y\n",
    "\n",
    "        #Make empty list to store costs:\n",
    "        self.J = []\n",
    "        \n",
    "        params0 = self.N.getParams()\n",
    "\n",
    "        options = {'maxiter': 200, 'disp' : True}\n",
    "        _res = sp.optimize.minimize(self.costFunctionWrapper, params0, jac=True, method='BFGS', \\\n",
    "                                 args=(X, y), options=options, callback=self.callbackF)\n",
    "\n",
    "        self.N.setParams(_res.x)\n",
    "        self.optimizationResults = _res"
   ]
  },
  {
   "cell_type": "markdown",
   "metadata": {},
   "source": [
    "<p>After our network is trained, the trainer method replaces our random values for W with the trained values.</p>"
   ]
  },
  {
   "cell_type": "code",
   "execution_count": 128,
   "metadata": {
    "collapsed": true
   },
   "outputs": [],
   "source": [
    "NN = Neural_Network()"
   ]
  },
  {
   "cell_type": "code",
   "execution_count": 129,
   "metadata": {
    "collapsed": true
   },
   "outputs": [],
   "source": [
    "X = np.array(([3,5], [5,1], [10,2]), dtype=float)\n",
    "y = np.array(([75], [82], [93]), dtype=float)"
   ]
  },
  {
   "cell_type": "code",
   "execution_count": 130,
   "metadata": {
    "collapsed": true
   },
   "outputs": [],
   "source": [
    "X = X/np.amax(X, axis=0)\n",
    "y = y/100 #Max test score is 100"
   ]
  },
  {
   "cell_type": "code",
   "execution_count": 131,
   "metadata": {
    "collapsed": true
   },
   "outputs": [],
   "source": [
    "T = trainer(NN)"
   ]
  },
  {
   "cell_type": "code",
   "execution_count": 132,
   "metadata": {
    "collapsed": false
   },
   "outputs": [
    {
     "name": "stdout",
     "output_type": "stream",
     "text": [
      "Optimization terminated successfully.\n",
      "         Current function value: 0.000000\n",
      "         Iterations: 53\n",
      "         Function evaluations: 55\n",
      "         Gradient evaluations: 55\n"
     ]
    }
   ],
   "source": [
    "T.train(X,y)"
   ]
  },
  {
   "cell_type": "markdown",
   "metadata": {},
   "source": [
    "<p>If we plot the cost against the number of iterations it takes to train the network, we can see the function decrease monotonically each time it trains the network with new gradients and costs. Additionally, we can see from the training output that it only took us 37 evaluations to minimize the cost function.</p>"
   ]
  },
  {
   "cell_type": "code",
   "execution_count": 133,
   "metadata": {
    "collapsed": false
   },
   "outputs": [
    {
     "data": {
      "text/plain": [
       "<matplotlib.text.Text at 0x7f405980bcc0>"
      ]
     },
     "execution_count": 133,
     "metadata": {},
     "output_type": "execute_result"
    },
    {
     "data": {
      "image/png": "[encoded data removed]",
      "text/plain": [
       "<matplotlib.figure.Figure at 0x7f405c1816d8>"
      ]
     },
     "metadata": {},
     "output_type": "display_data"
    }
   ],
   "source": [
    "plot(T.J)\n",
    "grid(1)\n",
    "xlabel('Iterations')\n",
    "ylabel('Cost')"
   ]
  },
  {
   "cell_type": "markdown",
   "metadata": {},
   "source": [
    "<p>As another way to error check our code, we can evaluate our gradients at our solution and expect to see very small values.</p>"
   ]
  },
  {
   "cell_type": "code",
   "execution_count": 134,
   "metadata": {
    "collapsed": false
   },
   "outputs": [
    {
     "data": {
      "text/plain": [
       "(array([[  6.16307956e-07,   1.13285698e-07,  -5.57903839e-07],\n",
       "        [  2.32235436e-06,   4.27219520e-07,  -1.41090940e-06]]),\n",
       " array([[  1.25346206e-06],\n",
       "        [  1.50672953e-06],\n",
       "        [  2.16453175e-07]]))"
      ]
     },
     "execution_count": 134,
     "metadata": {},
     "output_type": "execute_result"
    }
   ],
   "source": [
    "NN.costFunctionPrime(X,y)"
   ]
  },
  {
   "cell_type": "markdown",
   "metadata": {},
   "source": [
    "<p>At this point we have trained our network to predict an accurate score, which we can test by running our new trained data through the feed forward method.</p>"
   ]
  },
  {
   "cell_type": "code",
   "execution_count": 135,
   "metadata": {
    "collapsed": false
   },
   "outputs": [
    {
     "data": {
      "text/plain": [
       "array([[ 0.75001612],\n",
       "       [ 0.81999407],\n",
       "       [ 0.93001173]])"
      ]
     },
     "execution_count": 135,
     "metadata": {},
     "output_type": "execute_result"
    }
   ],
   "source": [
    "NN.forward(X)"
   ]
  },
  {
   "cell_type": "code",
   "execution_count": 136,
   "metadata": {
    "collapsed": false
   },
   "outputs": [
    {
     "data": {
      "text/plain": [
       "array([[ 0.75],\n",
       "       [ 0.82],\n",
       "       [ 0.93]])"
      ]
     },
     "execution_count": 136,
     "metadata": {},
     "output_type": "execute_result"
    }
   ],
   "source": [
    "y"
   ]
  },
  {
   "cell_type": "markdown",
   "metadata": {},
   "source": [
    "<p>As you can see, the values are very close to one another, validating our neural network! Now let's examine our input space for many values of sleeping and studying.</p>"
   ]
  },
  {
   "cell_type": "code",
   "execution_count": 137,
   "metadata": {
    "collapsed": true
   },
   "outputs": [],
   "source": [
    "#Test network for various combinations of sleep/study:\n",
    "hoursSleep = np.linspace(0, 10, 100)\n",
    "hoursStudy = np.linspace(0, 5, 100)\n",
    "\n",
    "#Normalize data (same way training data way normalized)\n",
    "hoursSleepNorm = hoursSleep/10.\n",
    "hoursStudyNorm = hoursStudy/5.\n",
    "\n",
    "#Create 2-d versions of input for plotting\n",
    "a, b  = np.meshgrid(hoursSleepNorm, hoursStudyNorm)\n",
    "\n",
    "#Join into a single input matrix:\n",
    "allInputs = np.zeros((a.size, 2))\n",
    "allInputs[:, 0] = a.ravel()\n",
    "allInputs[:, 1] = b.ravel()"
   ]
  },
  {
   "cell_type": "code",
   "execution_count": 138,
   "metadata": {
    "collapsed": true
   },
   "outputs": [],
   "source": [
    "allOutputs = NN.forward(allInputs)"
   ]
  },
  {
   "cell_type": "code",
   "execution_count": 139,
   "metadata": {
    "collapsed": false
   },
   "outputs": [
    {
     "data": {
      "text/plain": [
       "<matplotlib.text.Text at 0x7f40597eb940>"
      ]
     },
     "execution_count": 139,
     "metadata": {},
     "output_type": "execute_result"
    },
    {
     "data": {
      "image/png": "[encoded data removed]",
      "text/plain": [
       "<matplotlib.figure.Figure at 0x7f4059fe8588>"
      ]
     },
     "metadata": {},
     "output_type": "display_data"
    }
   ],
   "source": [
    "#Contour Plot:\n",
    "yy = np.dot(hoursStudy.reshape(100,1), np.ones((1,100)))\n",
    "xx = np.dot(hoursSleep.reshape(100,1), np.ones((1,100))).T\n",
    "\n",
    "CS = contour(xx,yy,100*allOutputs.reshape(100, 100))\n",
    "clabel(CS, inline=1, fontsize=10)\n",
    "xlabel('Hours Sleep')\n",
    "ylabel('Hours Study')"
   ]
  },
  {
   "cell_type": "code",
   "execution_count": 140,
   "metadata": {
    "collapsed": false
   },
   "outputs": [
    {
     "data": {
      "text/plain": [
       "<matplotlib.text.Text at 0x7f4059777ac8>"
      ]
     },
     "execution_count": 140,
     "metadata": {},
     "output_type": "execute_result"
    },
    {
     "data": {
      "image/png": "[encoded data removed]",
      "text/plain": [
       "<matplotlib.figure.Figure at 0x7f40597f6cc0>"
      ]
     },
     "metadata": {},
     "output_type": "display_data"
    }
   ],
   "source": [
    "#3D plot:\n",
    "\n",
    "##Uncomment to plot out-of-notebook (you'll be able to rotate)\n",
    "#%matplotlib qt\n",
    "\n",
    "from mpl_toolkits.mplot3d import Axes3D\n",
    "fig = plt.figure()\n",
    "ax = fig.gca(projection='3d')\n",
    "\n",
    "surf = ax.plot_surface(xx, yy, 100*allOutputs.reshape(100, 100), \\\n",
    "                       cmap=cm.jet)\n",
    "\n",
    "ax.set_xlabel('Hours Sleep')\n",
    "ax.set_ylabel('Hours Study')\n",
    "ax.set_zlabel('Test Score')"
   ]
  },
  {
   "cell_type": "markdown",
   "metadata": {},
   "source": [
    "<p>Our results look quite reasonable, and it seems like sleep actually had a greater impact on test score than hours studying which is interesting. At this point it may seem like we have successfully trained our network, but we made one of the most common mistakes in Neural Networks, we overfit our data.</p>"
   ]
  },
  {
   "cell_type": "markdown",
   "metadata": {},
   "source": [
    "<h4>Overfitting, Testing, and Regularization</h4>"
   ]
  },
  {
   "cell_type": "markdown",
   "metadata": {},
   "source": [
    "<p>Let's modify our data a bit to make our overfitting mistake more apparent.</p>"
   ]
  },
  {
   "cell_type": "code",
   "execution_count": 141,
   "metadata": {
    "collapsed": true
   },
   "outputs": [],
   "source": [
    "NN = Neural_Network()"
   ]
  },
  {
   "cell_type": "code",
   "execution_count": 142,
   "metadata": {
    "collapsed": true
   },
   "outputs": [],
   "source": [
    "# X = (hours sleeping, hours studying), y = Score on test\n",
    "X = np.array(([3,5], [5,1], [10,2], [6,1.5]), dtype=float)\n",
    "y = np.array(([75], [82], [93], [70]), dtype=float)"
   ]
  },
  {
   "cell_type": "code",
   "execution_count": 143,
   "metadata": {
    "collapsed": false
   },
   "outputs": [
    {
     "data": {
      "text/plain": [
       "<matplotlib.text.Text at 0x7f40596740b8>"
      ]
     },
     "execution_count": 143,
     "metadata": {},
     "output_type": "execute_result"
    },
    {
     "data": {
      "image/png": "[encoded data removed]",
      "text/plain": [
       "<matplotlib.figure.Figure at 0x7f405969fb70>"
      ]
     },
     "metadata": {},
     "output_type": "display_data"
    }
   ],
   "source": [
    "#Plot projections of our new data:\n",
    "fig = figure(0,(8,3))\n",
    "\n",
    "subplot(1,2,1)\n",
    "scatter(X[:,0], y)\n",
    "grid(1)\n",
    "xlabel('Hours Sleeping')\n",
    "ylabel('Test Score')\n",
    "\n",
    "subplot(1,2,2)\n",
    "scatter(X[:,1], y)\n",
    "grid(1)\n",
    "xlabel('Hours Studying')\n",
    "ylabel('Test Score')"
   ]
  },
  {
   "cell_type": "code",
   "execution_count": 144,
   "metadata": {
    "collapsed": true
   },
   "outputs": [],
   "source": [
    "#Normalize\n",
    "X = X/np.amax(X, axis=0)\n",
    "y = y/100 #Max test score is 100"
   ]
  },
  {
   "cell_type": "code",
   "execution_count": 145,
   "metadata": {
    "collapsed": false
   },
   "outputs": [
    {
     "name": "stdout",
     "output_type": "stream",
     "text": [
      "Optimization terminated successfully.\n",
      "         Current function value: 0.000000\n",
      "         Iterations: 146\n",
      "         Function evaluations: 164\n",
      "         Gradient evaluations: 164\n"
     ]
    }
   ],
   "source": [
    "#Train network with new data:\n",
    "T = trainer(NN)\n",
    "T.train(X,y)"
   ]
  },
  {
   "cell_type": "code",
   "execution_count": 146,
   "metadata": {
    "collapsed": false
   },
   "outputs": [
    {
     "data": {
      "text/plain": [
       "<matplotlib.text.Text at 0x7f40595f77f0>"
      ]
     },
     "execution_count": 146,
     "metadata": {},
     "output_type": "execute_result"
    },
    {
     "data": {
      "image/png": "[encoded data removed]",
      "text/plain": [
       "<matplotlib.figure.Figure at 0x7f4059779ba8>"
      ]
     },
     "metadata": {},
     "output_type": "display_data"
    }
   ],
   "source": [
    "#Plot cost during training:\n",
    "plot(T.J)\n",
    "grid(1)\n",
    "xlabel('Iterations')\n",
    "ylabel('Cost')"
   ]
  },
  {
   "cell_type": "code",
   "execution_count": 147,
   "metadata": {
    "collapsed": true
   },
   "outputs": [],
   "source": [
    "#Test network for various combinations of sleep/study:\n",
    "hoursSleep = linspace(0, 10, 100)\n",
    "hoursStudy = linspace(0, 5, 100)\n",
    "\n",
    "#Normalize data (same way training data way normalized)\n",
    "hoursSleepNorm = hoursSleep/10.\n",
    "hoursStudyNorm = hoursStudy/5.\n",
    "\n",
    "#Create 2-d versions of input for plotting\n",
    "a, b  = meshgrid(hoursSleepNorm, hoursStudyNorm)\n",
    "\n",
    "#Join into a single input matrix:\n",
    "allInputs = np.zeros((a.size, 2))\n",
    "allInputs[:, 0] = a.ravel()\n",
    "allInputs[:, 1] = b.ravel()"
   ]
  },
  {
   "cell_type": "code",
   "execution_count": 148,
   "metadata": {
    "collapsed": true
   },
   "outputs": [],
   "source": [
    "allOutputs = NN.forward(allInputs)"
   ]
  },
  {
   "cell_type": "code",
   "execution_count": 149,
   "metadata": {
    "collapsed": false
   },
   "outputs": [
    {
     "data": {
      "text/plain": [
       "<matplotlib.text.Text at 0x7f4059568c88>"
      ]
     },
     "execution_count": 149,
     "metadata": {},
     "output_type": "execute_result"
    },
    {
     "data": {
      "image/png": "[encoded data removed]",
      "text/plain": [
       "<matplotlib.figure.Figure at 0x7f405957db70>"
      ]
     },
     "metadata": {},
     "output_type": "display_data"
    }
   ],
   "source": [
    "#Contour Plot:\n",
    "yy = np.dot(hoursStudy.reshape(100,1), np.ones((1,100)))\n",
    "xx = np.dot(hoursSleep.reshape(100,1), np.ones((1,100))).T\n",
    "\n",
    "CS = contour(xx,yy,100*allOutputs.reshape(100, 100))\n",
    "clabel(CS, inline=1, fontsize=10)\n",
    "xlabel('Hours Sleep')\n",
    "ylabel('Hours Study')"
   ]
  },
  {
   "cell_type": "code",
   "execution_count": 150,
   "metadata": {
    "collapsed": false
   },
   "outputs": [
    {
     "data": {
      "text/plain": [
       "<matplotlib.text.Text at 0x7f405953b278>"
      ]
     },
     "execution_count": 150,
     "metadata": {},
     "output_type": "execute_result"
    },
    {
     "data": {
      "image/png": "[encoded data removed]",
      "text/plain": [
       "<matplotlib.figure.Figure at 0x7f40594f8f28>"
      ]
     },
     "metadata": {},
     "output_type": "display_data"
    }
   ],
   "source": [
    "from mpl_toolkits.mplot3d import Axes3D\n",
    "fig = plt.figure()\n",
    "ax = fig.gca(projection='3d')\n",
    "\n",
    "#Scatter training examples:\n",
    "ax.scatter(10*X[:,0], 5*X[:,1], 100*y, c='k', alpha = 1, s=30)\n",
    "\n",
    "\n",
    "surf = ax.plot_surface(xx, yy, 100*allOutputs.reshape(100, 100), \\\n",
    "                       cmap=cm.jet, alpha = 0.5)\n",
    "\n",
    "\n",
    "ax.set_xlabel('Hours Sleep')\n",
    "ax.set_ylabel('Hours Study')\n",
    "ax.set_zlabel('Test Score')"
   ]
  },
  {
   "cell_type": "markdown",
   "metadata": {},
   "source": [
    "<p>If we reexamine our solution space, we see how our model is overfitting the data. Our data is too closely fit to our input data, and this makes our network no longer reflective of the real world. One way to fix this problem is to have more examples for our network. For each weight, there is a general rule of thumb that you should have ten test cases. In our case that would mean we would need 90 sets of data for sleeping, studying, and test score. Since we do not have that much data we will have to use another strategy to correctly fit our network.</p>"
   ]
  },
  {
   "cell_type": "markdown",
   "metadata": {},
   "source": [
    "<p>Let's split our data into training and testing data to find the exact point where overfitting begins.</p>"
   ]
  },
  {
   "cell_type": "code",
   "execution_count": 151,
   "metadata": {
    "collapsed": true
   },
   "outputs": [],
   "source": [
    "#Training Data:\n",
    "trainX = np.array(([3,5], [5,1], [10,2], [6,1.5]), dtype=float)\n",
    "trainY = np.array(([75], [82], [93], [70]), dtype=float)\n",
    "\n",
    "#Testing Data:\n",
    "testX = np.array(([4, 5.5], [4.5,1], [9,2.5], [6, 2]), dtype=float)\n",
    "testY = np.array(([70], [89], [85], [75]), dtype=float)\n",
    "\n",
    "#Normalize:\n",
    "trainX = trainX/np.amax(trainX, axis=0)\n",
    "trainY = trainY/100 #Max test score is 100\n",
    "\n",
    "#Normalize by max of training data:\n",
    "testX = testX/np.amax(trainX, axis=0)\n",
    "testY = testY/100 #Max test score is 100"
   ]
  },
  {
   "cell_type": "code",
   "execution_count": 152,
   "metadata": {
    "collapsed": true
   },
   "outputs": [],
   "source": [
    "#Need to modify trainer class a bit to check testing error during training:\n",
    "class trainer(object):\n",
    "    def __init__(self, N):\n",
    "        #Make Local reference to network:\n",
    "        self.N = N\n",
    "        \n",
    "    def callbackF(self, params):\n",
    "        self.N.setParams(params)\n",
    "        self.J.append(self.N.costFunction(self.X, self.y))\n",
    "        self.testJ.append(self.N.costFunction(self.testX, self.testY))\n",
    "        \n",
    "    def costFunctionWrapper(self, params, X, y):\n",
    "        self.N.setParams(params)\n",
    "        cost = self.N.costFunction(X, y)\n",
    "        grad = self.N.computeGradients(X,y)\n",
    "        \n",
    "        return cost, grad\n",
    "        \n",
    "    def train(self, trainX, trainY, testX, testY):\n",
    "        #Make an internal variable for the callback function:\n",
    "        self.X = trainX\n",
    "        self.y = trainY\n",
    "        \n",
    "        self.testX = testX\n",
    "        self.testY = testY\n",
    "\n",
    "        #Make empty list to store training costs:\n",
    "        self.J = []\n",
    "        self.testJ = []\n",
    "        \n",
    "        params0 = self.N.getParams()\n",
    "\n",
    "        options = {'maxiter': 200, 'disp' : True}\n",
    "        _res = optimize.minimize(self.costFunctionWrapper, params0, jac=True, method='BFGS', \\\n",
    "                                 args=(trainX, trainY), options=options, callback=self.callbackF)\n",
    "\n",
    "        self.N.setParams(_res.x)\n",
    "        self.optimizationResults = _res"
   ]
  },
  {
   "cell_type": "code",
   "execution_count": 153,
   "metadata": {
    "collapsed": false
   },
   "outputs": [
    {
     "name": "stdout",
     "output_type": "stream",
     "text": [
      "Warning: Maximum number of iterations has been exceeded.\n",
      "         Current function value: 0.007199\n",
      "         Iterations: 200\n",
      "         Function evaluations: 223\n",
      "         Gradient evaluations: 223\n"
     ]
    }
   ],
   "source": [
    "#Train network with new data:\n",
    "NN = Neural_Network()\n",
    "\n",
    "T = trainer(NN)\n",
    "T.train(trainX, trainY, testX, testY)"
   ]
  },
  {
   "cell_type": "code",
   "execution_count": 154,
   "metadata": {
    "collapsed": false
   },
   "outputs": [
    {
     "data": {
      "text/plain": [
       "<matplotlib.text.Text at 0x7f40594a3780>"
      ]
     },
     "execution_count": 154,
     "metadata": {},
     "output_type": "execute_result"
    },
    {
     "data": {
      "image/png": "[encoded data removed]",
      "text/plain": [
       "<matplotlib.figure.Figure at 0x7f405946feb8>"
      ]
     },
     "metadata": {},
     "output_type": "display_data"
    }
   ],
   "source": [
    "#Plot cost during training:\n",
    "plot(T.J)\n",
    "plot(T.testJ)\n",
    "grid(1)\n",
    "xlabel('Iterations')\n",
    "ylabel('Cost')"
   ]
  },
  {
   "cell_type": "markdown",
   "metadata": {},
   "source": [
    "<p>We can see that our model is overfitting our data around iteration 20-40. How can we use this data to penalize our model for overfitting? One solution is to introduce a \"Regularization\" parameter, lambda to our function. This value of lambda will allow us to tune our cost function. As lambda gets too big, bigger penalties will be imposed on our model.</p>\n"
   ]
  },
  {
   "cell_type": "code",
   "execution_count": 155,
   "metadata": {
    "collapsed": true
   },
   "outputs": [],
   "source": [
    "#New complete class, with changes:\n",
    "class Neural_Network(object):\n",
    "    def __init__(self, Lambda=0):        \n",
    "        #Define Hyperparameters\n",
    "        self.inputLayerSize = 2\n",
    "        self.outputLayerSize = 1\n",
    "        self.hiddenLayerSize = 3\n",
    "        \n",
    "        #Weights (parameters)\n",
    "        self.W1 = np.random.randn(self.inputLayerSize,self.hiddenLayerSize)\n",
    "        self.W2 = np.random.randn(self.hiddenLayerSize,self.outputLayerSize)\n",
    "        \n",
    "        #Regularization Parameter:\n",
    "        self.Lambda = Lambda\n",
    "        \n",
    "    def forward(self, X):\n",
    "        #Propogate inputs though network\n",
    "        self.z2 = np.dot(X, self.W1)\n",
    "        self.a2 = self.sigmoid(self.z2)\n",
    "        self.z3 = np.dot(self.a2, self.W2)\n",
    "        yHat = self.sigmoid(self.z3) \n",
    "        return yHat\n",
    "        \n",
    "    def sigmoid(self, z):\n",
    "        #Apply sigmoid activation function to scalar, vector, or matrix\n",
    "        return 1/(1+np.exp(-z))\n",
    "    \n",
    "    def sigmoidPrime(self,z):\n",
    "        #Gradient of sigmoid\n",
    "        return np.exp(-z)/((1+np.exp(-z))**2)\n",
    "    \n",
    "    def costFunction(self, X, y):\n",
    "        #Compute cost for given X,y, use weights already stored in class.\n",
    "        self.yHat = self.forward(X)\n",
    "        J = 0.5*sum((y-self.yHat)**2)/X.shape[0] + (self.Lambda/2)*(sum(self.W1**2)+sum(self.W2**2))\n",
    "        return J\n",
    "        \n",
    "    def costFunctionPrime(self, X, y):\n",
    "        #Compute derivative with respect to W and W2 for a given X and y:\n",
    "        self.yHat = self.forward(X)\n",
    "        \n",
    "        delta3 = np.multiply(-(y-self.yHat), self.sigmoidPrime(self.z3))\n",
    "        #Add gradient of regularization term:\n",
    "        dJdW2 = np.dot(self.a2.T, delta3)/X.shape[0] + self.Lambda*self.W2\n",
    "        \n",
    "        delta2 = np.dot(delta3, self.W2.T)*self.sigmoidPrime(self.z2)\n",
    "        #Add gradient of regularization term:\n",
    "        dJdW1 = np.dot(X.T, delta2)/X.shape[0] + self.Lambda*self.W1\n",
    "        \n",
    "        return dJdW1, dJdW2\n",
    "    \n",
    "    #Helper functions for interacting with other methods/classes\n",
    "    def getParams(self):\n",
    "        #Get W1 and W2 Rolled into vector:\n",
    "        params = np.concatenate((self.W1.ravel(), self.W2.ravel()))\n",
    "        return params\n",
    "    \n",
    "    def setParams(self, params):\n",
    "        #Set W1 and W2 using single parameter vector:\n",
    "        W1_start = 0\n",
    "        W1_end = self.hiddenLayerSize*self.inputLayerSize\n",
    "        self.W1 = np.reshape(params[W1_start:W1_end], \\\n",
    "                             (self.inputLayerSize, self.hiddenLayerSize))\n",
    "        W2_end = W1_end + self.hiddenLayerSize*self.outputLayerSize\n",
    "        self.W2 = np.reshape(params[W1_end:W2_end], \\\n",
    "                             (self.hiddenLayerSize, self.outputLayerSize))\n",
    "        \n",
    "    def computeGradients(self, X, y):\n",
    "        dJdW1, dJdW2 = self.costFunctionPrime(X, y)\n",
    "        return np.concatenate((dJdW1.ravel(), dJdW2.ravel()))"
   ]
  },
  {
   "cell_type": "code",
   "execution_count": 156,
   "metadata": {
    "collapsed": true
   },
   "outputs": [],
   "source": [
    "NN = Neural_Network(Lambda=0.001)"
   ]
  },
  {
   "cell_type": "code",
   "execution_count": 157,
   "metadata": {
    "collapsed": true
   },
   "outputs": [],
   "source": [
    "#Make sure our gradients our correct after making changes:\n",
    "numgrad = computeNumericalGradient(NN, X, y)\n",
    "grad = NN.computeGradients(X,y)"
   ]
  },
  {
   "cell_type": "code",
   "execution_count": 158,
   "metadata": {
    "collapsed": false
   },
   "outputs": [
    {
     "data": {
      "text/plain": [
       "3.5857277922425613e-10"
      ]
     },
     "execution_count": 158,
     "metadata": {},
     "output_type": "execute_result"
    }
   ],
   "source": [
    "#Should be less than 1e-8:\n",
    "norm(grad-numgrad)/norm(grad+numgrad)"
   ]
  },
  {
   "cell_type": "code",
   "execution_count": 159,
   "metadata": {
    "collapsed": true
   },
   "outputs": [],
   "source": [
    "T = trainer(NN)"
   ]
  },
  {
   "cell_type": "code",
   "execution_count": 160,
   "metadata": {
    "collapsed": false
   },
   "outputs": [
    {
     "name": "stdout",
     "output_type": "stream",
     "text": [
      "Optimization terminated successfully.\n",
      "         Current function value: 0.004364\n",
      "         Iterations: 57\n",
      "         Function evaluations: 59\n",
      "         Gradient evaluations: 59\n"
     ]
    }
   ],
   "source": [
    "T.train(X,y,testX,testY)"
   ]
  },
  {
   "cell_type": "code",
   "execution_count": 161,
   "metadata": {
    "collapsed": false
   },
   "outputs": [
    {
     "data": {
      "text/plain": [
       "<matplotlib.text.Text at 0x7f40593cb550>"
      ]
     },
     "execution_count": 161,
     "metadata": {},
     "output_type": "execute_result"
    },
    {
     "data": {
      "image/png": "[encoded data removed]",
      "text/plain": [
       "<matplotlib.figure.Figure at 0x7f40594a5fd0>"
      ]
     },
     "metadata": {},
     "output_type": "display_data"
    }
   ],
   "source": [
    "plot(T.J)\n",
    "plot(T.testJ)\n",
    "grid(1)\n",
    "xlabel('Iterations')\n",
    "ylabel('Cost')"
   ]
  },
  {
   "cell_type": "code",
   "execution_count": 162,
   "metadata": {
    "collapsed": false
   },
   "outputs": [
    {
     "data": {
      "text/plain": [
       "<matplotlib.text.Text at 0x7f4059349438>"
      ]
     },
     "execution_count": 162,
     "metadata": {},
     "output_type": "execute_result"
    },
    {
     "data": {
      "image/png": "[encoded data removed]",
      "text/plain": [
       "<matplotlib.figure.Figure at 0x7f40594858d0>"
      ]
     },
     "metadata": {},
     "output_type": "display_data"
    }
   ],
   "source": [
    "allOutputs = NN.forward(allInputs)\n",
    "\n",
    "#Contour Plot:\n",
    "yy = np.dot(hoursStudy.reshape(100,1), np.ones((1,100)))\n",
    "xx = np.dot(hoursSleep.reshape(100,1), np.ones((1,100))).T\n",
    "\n",
    "CS = contour(xx,yy,100*allOutputs.reshape(100, 100))\n",
    "clabel(CS, inline=1, fontsize=10)\n",
    "xlabel('Hours Sleep')\n",
    "ylabel('Hours Study')"
   ]
  },
  {
   "cell_type": "code",
   "execution_count": 163,
   "metadata": {
    "collapsed": false
   },
   "outputs": [
    {
     "data": {
      "text/plain": [
       "<matplotlib.text.Text at 0x7f40592c1320>"
      ]
     },
     "execution_count": 163,
     "metadata": {},
     "output_type": "execute_result"
    },
    {
     "data": {
      "image/png": "[encoded data removed]",
      "text/plain": [
       "<matplotlib.figure.Figure at 0x7f40593edb00>"
      ]
     },
     "metadata": {},
     "output_type": "display_data"
    }
   ],
   "source": [
    "#3D plot:\n",
    "\n",
    "##Uncomment to plot out-of-notebook (you'll be able to rotate)\n",
    "#%matplotlib qt\n",
    "\n",
    "from mpl_toolkits.mplot3d import Axes3D\n",
    "fig = plt.figure()\n",
    "ax = fig.gca(projection='3d')\n",
    "\n",
    "ax.scatter(10*X[:,0], 5*X[:,1], 100*y, c='k', alpha = 1, s=30)\n",
    "\n",
    "\n",
    "surf = ax.plot_surface(xx, yy, 100*allOutputs.reshape(100, 100), \\\n",
    "                       cmap=cm.jet, alpha = 0.5)\n",
    "\n",
    "ax.set_xlabel('Hours Sleep')\n",
    "ax.set_ylabel('Hours Study')\n",
    "ax.set_zlabel('Test Score')"
   ]
  },
  {
   "cell_type": "markdown",
   "metadata": {},
   "source": [
    "<p>With the regularization parameter added, we can see that our model is not interested in exactly fitting our data anymore, our training and testing errors are closer, and we have reduced overfitting on our model. We can further reduce overfitting by increasing and tuning lambda. \n",
    "</p>"
   ]
  },
  {
   "cell_type": "markdown",
   "metadata": {},
   "source": [
    "<h4>MNIST and Neural Nets in Practice</h4>"
   ]
  },
  {
   "cell_type": "markdown",
   "metadata": {},
   "source": [
    "<p>There are many factors that determine how a neural network will function. One of these factors is your computer. Because neural networks are a mix of brute force and finesse, they will tax your computer if your dataset is large enough. This is the issue I ran into when I attempted to learn TensorFlow. I went through the first tutorials up until MNIST, and discovered that their digit recognition example takes about twenty minutes to run on my computer, which just will not do. My solution was to do more research into the open source neural network libraries, which seem to (like most other software), perform better than their enterprise counterparts. \n",
    "<br>\n",
    "<br>\n",
    "I found that the library Theano, used by Spotify and Torch, used by facebook have cult followings that make them superior to tensorflow. Theano, being a symbolic math language, was developed and is maintained by academics and offers superior functionality and expression to TensorFlow in my opinion. Torch is a well documented version of TensorFlow which also has a great neural network library. As an example of what Theano is capable of, check out this Spotify employee's open source <a href = \"http://benanne.github.io/2014/08/05/spotify-cnns.html\">Music Reccomendation</a> Neural Network.\n",
    "<br>\n",
    "<br>\n",
    "In addition to switching libraries, I found a way to accelerate my calculations on my GPU. Because my computer has a graphics card that is not integrated into the cpu, I am able to use NVIDIA's GPU wrapper library CUDA to speed up my programs. Theano and Torch were built on top of CUDA and is meant to perform seamlessly with GPU acceleration. As an added bonus, all of this functionality can be hooked by CPython within Ipython Notebook!</p>"
   ]
  },
  {
   "cell_type": "markdown",
   "metadata": {},
   "source": [
    "<h5>Theano Documentation and Citations</h5>\n",
    "<li>F. Bastien, P. Lamblin, R. Pascanu, J. Bergstra, I. Goodfellow, A. Bergeron, N. Bouchard, D. Warde-Farley and Y. Bengio. “Theano: new features and speed improvements”. NIPS 2012 deep learning workshop. (BibTex)</li>\n",
    "<li>J. Bergstra, O. Breuleux, F. Bastien, P. Lamblin, R. Pascanu, G. Desjardins, J. Turian, D. Warde-Farley and Y. Bengio. “Theano: A CPU and GPU Math Expression Compiler”. Proceedings of the Python for Scientific Computing Conference (SciPy) 2010. June 30 - July 3, Austin, TX (BibTeX)</li>\n",
    "<li><a href = \"http://deeplearning.net/software/theano/\">Documentation</a></li>"
   ]
  },
  {
   "cell_type": "markdown",
   "metadata": {},
   "source": [
    "<h4>Testing and Verifying GPU Acceleration</h4>"
   ]
  },
  {
   "cell_type": "code",
   "execution_count": 164,
   "metadata": {
    "collapsed": false
   },
   "outputs": [
    {
     "name": "stderr",
     "output_type": "stream",
     "text": [
      "Using gpu device 0: GeForce 840M (CNMeM is disabled, CuDNN 4007)\n",
      "WARNING (theano.sandbox.cuda): Ignoring call to use(-1), GPU number 0 is already in use.\n"
     ]
    },
    {
     "name": "stdout",
     "output_type": "stream",
     "text": [
      "[Elemwise{exp,no_inplace}(<TensorType(float64, vector)>)]\n",
      "Looping 1000 times took 4.425381 seconds\n",
      "Result is [ 1.23178032  1.61879341  1.52278065 ...,  2.20771815  2.29967753\n",
      "  1.62323285]\n",
      "Used the cpu\n"
     ]
    }
   ],
   "source": [
    "from theano import function, config, shared, sandbox\n",
    "import theano.tensor as T\n",
    "import numpy\n",
    "import time\n",
    "import theano.sandbox.cuda\n",
    "theano.sandbox.cuda.use(\"cpu\")\n",
    "config.floatX = 'float64'\n",
    "vlen = 10 * 30 * 768  # 10 x #cores x # threads per core\n",
    "iters = 1000\n",
    "rng = numpy.random.RandomState(22)\n",
    "x = shared(numpy.asarray(rng.rand(vlen), config.floatX))\n",
    "f = function([], T.exp(x))\n",
    "print(f.maker.fgraph.toposort())\n",
    "t0 = time.time()\n",
    "for i in range(iters):\n",
    "    r = f()\n",
    "t1 = time.time()\n",
    "print(\"Looping %d times took %f seconds\" % (iters, t1 - t0))\n",
    "print(\"Result is %s\" % (r,))\n",
    "if numpy.any([isinstance(x.op, T.Elemwise) for x in f.maker.fgraph.toposort()]):\n",
    "    print('Used the cpu')\n",
    "else:\n",
    "    print('Used the gpu')"
   ]
  },
  {
   "cell_type": "markdown",
   "metadata": {},
   "source": [
    "<p>The example above is one I modified from the Theano Doc's to show the difference between using the GPU and CPU. Theano has a configuration file for settings you would like to be rather permanent, and also allows you to call those settings from within python. By setting theano.sandbox.cuda.use(\"cpu\"), I force the computer to do the calculations on the CPU, regardless of the priority device. Additionally, Theano like's its information to be in float32 format to increase speed. Here I forced config.floatX = 'float64'. As you can see, the code for this program ran in about 5 seconds.</p>"
   ]
  },
  {
   "cell_type": "code",
   "execution_count": 165,
   "metadata": {
    "collapsed": false
   },
   "outputs": [
    {
     "name": "stdout",
     "output_type": "stream",
     "text": [
      "[GpuElemwise{exp,no_inplace}(<CudaNdarrayType(float32, vector)>), HostFromGpu(GpuElemwise{exp,no_inplace}.0)]\n",
      "Looping 1000 times took 1.590033 seconds\n",
      "Result is [ 1.23178029  1.61879349  1.52278066 ...,  2.20771813  2.29967761\n",
      "  1.62323296]\n",
      "Used the gpu\n",
      "gpu\n",
      "FAST_RUN\n"
     ]
    }
   ],
   "source": [
    "from theano import function, config, shared, sandbox\n",
    "import theano.tensor as T\n",
    "import numpy\n",
    "import time\n",
    "import theano.sandbox.cuda\n",
    "theano.sandbox.cuda.use(\"gpu\")\n",
    "config.floatX = 'float32'\n",
    "vlen = 10 * 30 * 768  # 10 x #cores x # threads per core\n",
    "iters = 1000\n",
    "rng = numpy.random.RandomState(22)\n",
    "x = shared(numpy.asarray(rng.rand(vlen), config.floatX))\n",
    "f = function([], T.exp(x), mode = 'FAST_RUN')\n",
    "print(f.maker.fgraph.toposort())\n",
    "t0 = time.time()\n",
    "for i in range(iters):\n",
    "    r = f()\n",
    "t1 = time.time()\n",
    "print(\"Looping %d times took %f seconds\" % (iters, t1 - t0))\n",
    "print(\"Result is %s\" % (r,))\n",
    "if numpy.any([isinstance(x.op, T.Elemwise) for x in f.maker.fgraph.toposort()]):\n",
    "    print('Used the cpu')\n",
    "else:\n",
    "    print('Used the gpu')\n",
    "    \n",
    "print(theano.config.device)\n",
    "print(theano.config.mode)"
   ]
  },
  {
   "cell_type": "markdown",
   "metadata": {},
   "source": [
    "<p>By forcing the theano.sandbox.cuda.use(\"gpu\"), config.floatX = 'float32', and mode = 'FAST_RUN', we can drastically speed up our calculations. As you can see, this program ran in under 2 seconds, about half to 3/4 as long as the previous example.</p>"
   ]
  },
  {
   "cell_type": "markdown",
   "metadata": {},
   "source": [
    "<h4>In Practice</h4>"
   ]
  },
  {
   "cell_type": "markdown",
   "metadata": {},
   "source": [
    "<p>Since I had some extra time over spring break, I decided to try and write a program that would take a picture of a handwritten digit, train a neural network on the MNIST Dataset, and offer a prediction of the handwritten digit at the end. Additionally, I wanted to do all of this with GPU acceleration, hosted on my Ipython Notebook Server. This meant gaining an in depth understanding of how Ipython uses dependencies, and how my computer uses python dist-packages. Through much trial, I compiled a python3 compatible version of OpenCV2, and linked it to the python dist-packages, allowing it to be used within Ipython. I had to do the same with theano, and cudaNN. The end result is a beautiful workflow that allows you to train neural networks, take pictures and do image manipulation, and use markdown all within your IDE, sped up by the GPU.</p>"
   ]
  },
  {
   "cell_type": "markdown",
   "metadata": {},
   "source": [
    "<p>The MNIST Dataset is famously hosted on Yann Lecunn's website, and can be downloaded for free <a href = \"http://yann.lecun.com/exdb/mnist/\">here</a>.</p>"
   ]
  },
  {
   "cell_type": "markdown",
   "metadata": {},
   "source": [
    "*Note, restart kernel before you run this script to unimport pylab inline."
   ]
  },
  {
   "cell_type": "code",
   "execution_count": 4,
   "metadata": {
    "collapsed": false
   },
   "outputs": [
    {
     "name": "stdout",
     "output_type": "stream",
     "text": [
      "Using OpenCV Version 3.1.0\n"
     ]
    }
   ],
   "source": [
    "#Capture Test Sample\n",
    "\n",
    "#Necessary Imports\n",
    "import os\n",
    "import sys\n",
    "import numpy as np\n",
    "import cv2\n",
    "from matplotlib import pyplot as plt\n",
    "from matplotlib.patches import Rectangle\n",
    "\n",
    "#Verify that we are using opencv version 3\n",
    "print(\"Using OpenCV Version\",cv2.__version__)\n",
    "\n",
    "#cmdstring = \"espeak 'Hello, Please hold a picture of a handwritten digit up to the webcam.'\"\n",
    "#os.system(cmdstring)\n",
    "\n",
    "# Camera 0 is the integrated web cam on my netbook\n",
    "#camera_port = 0\n",
    "\n",
    "#Let camera adjust for light levels\n",
    "#ramp_frames = 30\n",
    "\n",
    "# Now we can initialize the camera capture object with the cv2.VideoCapture class.\n",
    "# All it needs is the index to a camera port.\n",
    "#camera = cv2.VideoCapture(camera_port)\n",
    "\n",
    "# Captures a single image from the camera and returns it in PIL format\n",
    "#cmdstring = \"espeak 'Please drag the rectangle over the handwritten digit. When you are satisfied with the center, click the red X to exit.'\"\n",
    "#os.system(cmdstring)\n",
    "\n",
    "def get_image():\n",
    "#read is the easiest way to get a full image out of a VideoCapture object.\n",
    "    retval, im = camera.read()\n",
    "    return im\n",
    " \n",
    "# Ramp the camera - these frames will be discarded and are only used to allow v4l2\n",
    "# to adjust light levels, if necessary\n",
    "#for i in range(ramp_frames):\n",
    "#    temp = get_image()\n",
    "#print(\"Taking image...\")\n",
    "\n",
    "# Take the actual image we want to keep\n",
    "#capture = get_image()\n",
    "#file = \"test_image.png\"\n",
    "\n",
    "# A nice feature of the imwrite method is that it will automatically choose the\n",
    "# correct format based on the file extension you provide. Convenient!\n",
    "#cv2.imwrite(file, capture)\n",
    " \n",
    "# You'll want to release the camera, otherwise you won't be able to create a new\n",
    "# capture object until your script exits\n",
    "#del(camera)\n",
    "\n",
    "#Create a class that will contain callbacks within our image.\n",
    "class DraggableRectangle:\n",
    "    #Initialize the rectangle\n",
    "    def __init__(self, rect):\n",
    "        self.rect = rect\n",
    "        self.press = None\n",
    "\n",
    "    #Connect mouse listener to rectangle\n",
    "    def connect(self):\n",
    "        'connect to all the events we need'\n",
    "        self.cidpress = self.rect.figure.canvas.mpl_connect(\n",
    "            'button_press_event', self.on_press)\n",
    "        self.cidrelease = self.rect.figure.canvas.mpl_connect(\n",
    "            'button_release_event', self.on_release)\n",
    "        self.cidmotion = self.rect.figure.canvas.mpl_connect(\n",
    "            'motion_notify_event', self.on_motion)\n",
    "\n",
    "    def on_press(self, event):\n",
    "        'on button press we will see if the mouse is over us and store some data'\n",
    "        if event.inaxes != self.rect.axes: return\n",
    "\n",
    "        contains, attrd = self.rect.contains(event)\n",
    "        if not contains: return\n",
    "        print ('event contains', self.rect.xy)\n",
    "        x0, y0 = self.rect.xy\n",
    "        self.press = x0, y0, event.xdata, event.ydata\n",
    "\n",
    "    def on_motion(self, event):\n",
    "        'on motion we will move the rect if the mouse is over us'\n",
    "        if self.press is None: return\n",
    "        if event.inaxes != self.rect.axes: return\n",
    "        x0, y0, xpress, ypress = self.press\n",
    "        dx = event.xdata - xpress\n",
    "        dy = event.ydata - ypress\n",
    "        self.rect.set_x(x0+dx)\n",
    "        self.rect.set_y(y0+dy)\n",
    "        self.rect.figure.canvas.draw()\n",
    "\n",
    "\n",
    "    def on_release(self, event):\n",
    "        'on release we reset the press data'\n",
    "        self.press = None\n",
    "        self.rect.figure.canvas.draw()\n",
    "        newClip.X, newClip.Y = event.x-14, event.y\n",
    "\n",
    "\n",
    "        \n",
    "\n",
    "    def disconnect(self):\n",
    "        'disconnect all the stored connection ids'\n",
    "        self.rect.figure.canvas.mpl_disconnect(self.cidpress)\n",
    "        self.rect.figure.canvas.mpl_disconnect(self.cidrelease)\n",
    "        self.rect.figure.canvas.mpl_disconnect(self.cidmotion)\n",
    "        \n",
    "#Clip object to store center points of full image\n",
    "class NewClip:\n",
    "     def __init__(self, X, Y):\n",
    "        self.X = X\n",
    "        self.Y = Y \n",
    "    \n",
    "#Set our clip to the middle of the image    \n",
    "#newClip = NewClip((640/2),(480/2))\n",
    "\n",
    "#img = cv2.imread('test_image.png',0)\n",
    "#print(img.shape)\n",
    "#fig = plt.figure()\n",
    "\n",
    "#Display image with inverse grey scale...gray? make up your fucking mind english.\n",
    "#plt.imshow(img, cmap = 'Greys')\n",
    "\n",
    "#ax = plt.subplot()\n",
    "#currentAxis = plt.gca()\n",
    "#rect = Rectangle((newClip.X, newClip.Y), 28, 28,\n",
    "#                      alpha=.5, facecolor='white')\n",
    "#print(newClip.X, newClip.Y)\n",
    "#currentAxis.add_patch(rect)\n",
    "#dr = DraggableRectangle(rect)\n",
    "#dr.connect()\n",
    "#plt.show()\n",
    "\n",
    "\n",
    "#Show center points\n",
    "#print(newClip.X, newClip.Y)\n",
    "\n",
    "#clip = img[((480 - newClip.Y) -14):((480 - newClip.Y) + 14), \n",
    "#           ((newClip.X) - 14):((newClip.X) + 14)]\n",
    "\n",
    "#Verify that our clip is the correct dimension\n",
    "#print(clip.shape)\n",
    "#plt.imshow(clip, cmap = 'gray')\n",
    "#plt.show()\n",
    "#cmdstring = \"espeak 'If you are unsatisfied with the sample image, please restart the program.'\"\n",
    "#os.system(cmdstring)"
   ]
  },
  {
   "cell_type": "markdown",
   "metadata": {},
   "source": [
    "<p>In the above program, I wrote a method to grab a clip from a gray scale image the size of the MNIST images. This allows me to create my own test data. I will not go into detail on how I wrote the opencv program, as the focus is on neural networks, and it is quite well documented. The speech library I am using is espeak, for Ubuntu.</p>"
   ]
  },
  {
   "cell_type": "code",
   "execution_count": 167,
   "metadata": {
    "collapsed": false
   },
   "outputs": [
    {
     "data": {
      "image/png": "[encoded data removed]",
      "text/plain": [
       "<matplotlib.figure.Figure at 0x7f404a43eb00>"
      ]
     },
     "metadata": {},
     "output_type": "display_data"
    },
    {
     "name": "stdout",
     "output_type": "stream",
     "text": [
      "(28, 28)\n",
      "(1, 784)\n",
      "[[176 175 176 176 176 175 175 175 175 175 175 174 172 173 172 171 171 171\n",
      "  172 172 171 171 171 172 171 172 171 169 176 175 176 176 176 177 176 174\n",
      "  174 173 174 174 174 173 174 172 171 171 172 172 171 170 170 169 171 171\n",
      "  170 170 176 175 176 176 177 176 176 175 175 174 174 174 174 174 174 173\n",
      "  172 174 172 170 170 171 171 171 170 169 169 169 176 175 175 177 177 176\n",
      "  176 175 175 175 175 174 175 174 174 172 173 174 171 172 169 171 171 171\n",
      "  170 169 168 167 177 177 177 177 177 177 176 175 176 175 175 175 176 174\n",
      "  174 174 174 174 172 171 168 171 172 171 171 171 170 169 177 176 176 176\n",
      "  177 177 176 173 174 175 175 175 174 175 175 175 174 175 173 171 170 173\n",
      "  172 172 171 170 171 170 177 176 176 176 176 176 176 173 174 174 173 173\n",
      "  174 175 175 175 175 174 173 173 172 172 172 171 171 170 169 171 177 177\n",
      "  177 176 176 176 175 175 175 175 173 173 174 176 175 175 175 175 173 174\n",
      "  172 173 172 172 170 170 169 171 176 175 175 176 176 176 175 173 173 172\n",
      "  172 172 174 174 175 174 174 174 172 171 172 173 172 171 170 171 170 170\n",
      "  177 177 178 176 176 176 176 176 175 175 173 173 175 173 173 173 173 173\n",
      "  172 173 175 173 174 172 171 170 171 171 178 177 177 179 179 178 178 177\n",
      "  176 176 176 176 175 174 175 174 174 172 173 175 175 174 175 173 172 172\n",
      "  172 172 178 178 178 179 179 179 178 177 175 176 176 176 176 175 176 176\n",
      "  175 175 173 173 174 175 175 173 173 172 172 172 178 178 179 178 177 177\n",
      "  177 176 176 176 175 176 177 176 176 175 172 169 163 171 174 174 173 173\n",
      "  173 173 173 172 179 178 178 177 178 178 178 178 177 177 176 176 176 175\n",
      "  175 173 173 163 133 165 174 175 175 175 174 173 173 172 179 178 178 178\n",
      "  178 178 178 178 177 176 176 177 177 176 175 173 174 161 128 163 175 173\n",
      "  174 175 174 173 173 174 179 178 177 177 178 179 178 180 178 177 177 177\n",
      "  178 177 176 175 175 162 123 162 175 172 173 175 174 173 173 173 180 179\n",
      "  178 177 178 179 179 180 180 178 178 177 178 177 177 178 177 163 122 158\n",
      "  174 173 173 174 173 173 174 174 179 179 176 177 178 178 181 180 180 178\n",
      "  177 176 176 178 178 178 177 167 121 159 175 173 174 174 173 173 175 175\n",
      "  178 178 178 178 178 179 180 180 180 179 178 178 178 178 178 177 178 170\n",
      "  121 158 174 173 176 176 176 177 176 176 180 179 179 177 179 179 179 179\n",
      "  180 180 179 177 178 178 178 177 177 167 120 159 174 172 174 176 177 177\n",
      "  176 176 181 179 179 179 179 179 179 179 179 179 178 178 178 178 178 177\n",
      "  176 166 119 159 175 173 175 175 176 177 176 176 183 180 179 179 179 178\n",
      "  179 178 177 178 179 179 178 179 178 177 175 172 119 155 176 173 172 174\n",
      "  175 177 177 176 182 180 180 180 179 179 180 179 179 177 178 178 178 179\n",
      "  179 178 177 173 120 152 178 175 175 176 176 177 176 175 181 181 181 181\n",
      "  180 180 180 180 179 180 179 179 179 179 179 179 178 177 123 149 178 175\n",
      "  176 175 176 176 175 175 182 182 181 180 180 180 180 179 180 180 179 179\n",
      "  179 180 180 179 179 178 140 151 177 177 177 176 177 177 177 176 182 182\n",
      "  181 180 180 180 180 180 180 179 179 179 180 180 181 180 179 175 140 152\n",
      "  176 177 176 175 175 177 177 176 182 182 181 180 180 181 179 180 179 179\n",
      "  179 180 180 180 180 180 179 179 169 170 177 177 176 174 177 177 177 176\n",
      "  182 182 181 180 182 182 180 181 180 180 179 181 180 180 180 180 180 179\n",
      "  176 177 178 177 177 176 178 177 177 177]]\n",
      "[[ 0.          0.          0.          0.          0.          0.          0.\n",
      "   0.          0.          0.          0.          0.          0.          0.\n",
      "   0.          0.          0.          0.          0.          0.          0.\n",
      "   0.          0.          0.          0.          0.          0.          0.\n",
      "   0.          0.          0.          0.          0.          0.          0.\n",
      "   0.          0.          0.          0.          0.          0.          0.\n",
      "   0.          0.          0.          0.          0.          0.          0.\n",
      "   0.          0.          0.          0.          0.          0.          0.\n",
      "   0.          0.          0.          0.          0.          0.          0.\n",
      "   0.          0.          0.          0.          0.          0.          0.\n",
      "   0.          0.          0.          0.          0.          0.          0.\n",
      "   0.          0.          0.          0.          0.          0.          0.\n",
      "   0.          0.          0.          0.          0.          0.          0.\n",
      "   0.          0.          0.          0.          0.          0.          0.\n",
      "   0.          0.          0.          0.          0.          0.          0.\n",
      "   0.          0.          0.          0.          0.          0.          0.\n",
      "   0.          0.          0.          0.          0.          0.          0.\n",
      "   0.          0.          0.          0.          0.          0.          0.\n",
      "   0.          0.          0.          0.          0.          0.          0.\n",
      "   0.          0.          0.          0.          0.          0.          0.\n",
      "   0.          0.          0.          0.          0.          0.          0.\n",
      "   0.          0.          0.          0.          0.          0.          0.\n",
      "   0.          0.          0.          0.          0.          0.          0.\n",
      "   0.          0.          0.          0.          0.          0.          0.\n",
      "   0.          0.          0.          0.          0.          0.          0.\n",
      "   0.          0.          0.          0.          0.          0.          0.\n",
      "   0.          0.          0.          0.          0.          0.          0.\n",
      "   0.          0.          0.          0.          0.          0.          0.\n",
      "   0.          0.          0.          0.          0.          0.          0.\n",
      "   0.          0.          0.          0.          0.          0.          0.\n",
      "   0.          0.          0.          0.          0.          0.          0.\n",
      "   0.          0.          0.          0.          0.          0.          0.\n",
      "   0.          0.          0.          0.          0.          0.          0.\n",
      "   0.          0.          0.          0.          0.          0.          0.\n",
      "   0.          0.          0.          0.          0.          0.          0.\n",
      "   0.          0.          0.          0.          0.          0.          0.\n",
      "   0.          0.          0.          0.          0.          0.          0.\n",
      "   0.          0.          0.          0.          0.          0.          0.\n",
      "   0.          0.          0.          0.          0.          0.          0.\n",
      "   0.          0.          0.          0.          0.          0.          0.\n",
      "   0.          0.          0.          0.          0.          0.          0.\n",
      "   0.          0.          0.          0.          0.          0.          0.\n",
      "   0.          0.          0.          0.          0.          0.          0.\n",
      "   0.          0.          0.          0.          0.          0.          0.\n",
      "   0.          0.          0.          0.          0.          0.          0.\n",
      "   0.          0.          0.          0.          0.          0.          0.\n",
      "   0.          0.          0.          0.          0.          0.          0.\n",
      "   0.          0.          0.          0.          0.          0.          0.\n",
      "   0.          0.          0.          0.          0.          0.          0.\n",
      "   0.          0.          0.          0.          0.          0.          0.\n",
      "   0.          0.          0.          0.          0.          0.          0.\n",
      "   0.          0.          0.          0.          0.          0.          0.\n",
      "   0.          0.          0.          0.          0.          0.          0.\n",
      "   0.          0.          0.          0.          0.          0.          0.\n",
      "   0.          0.          0.          0.          0.91724139  0.          0.\n",
      "   0.          0.          0.          0.          0.          0.          0.\n",
      "   0.          0.          0.          0.          0.          0.          0.\n",
      "   0.          0.          0.          0.          0.          0.          0.\n",
      "   0.          0.          0.          0.          0.88275862  0.          0.\n",
      "   0.          0.          0.          0.          0.          0.          0.\n",
      "   0.          0.          0.          0.          0.          0.          0.\n",
      "   0.          0.          0.          0.          0.          0.          0.\n",
      "   0.          0.          0.          0.          0.84827584  0.          0.\n",
      "   0.          0.          0.          0.          0.          0.          0.\n",
      "   0.          0.          0.          0.          0.          0.          0.\n",
      "   0.          0.          0.          0.          0.          0.          0.\n",
      "   0.          0.          0.          0.          0.84137928  0.          0.\n",
      "   0.          0.          0.          0.          0.          0.          0.\n",
      "   0.          0.          0.          0.          0.          0.          0.\n",
      "   0.          0.          0.          0.          0.          0.          0.\n",
      "   0.          0.          0.          0.          0.83448273  0.          0.\n",
      "   0.          0.          0.          0.          0.          0.          0.\n",
      "   0.          0.          0.          0.          0.          0.          0.\n",
      "   0.          0.          0.          0.          0.          0.          0.\n",
      "   0.          0.          0.          0.          0.83448273  0.          0.\n",
      "   0.          0.          0.          0.          0.          0.          0.\n",
      "   0.          0.          0.          0.          0.          0.          0.\n",
      "   0.          0.          0.          0.          0.          0.          0.\n",
      "   0.          0.          0.          0.          0.82758623  0.          0.\n",
      "   0.          0.          0.          0.          0.          0.          0.\n",
      "   0.          0.          0.          0.          0.          0.          0.\n",
      "   0.          0.          0.          0.          0.          0.          0.\n",
      "   0.          0.          0.          0.          0.82068968  0.          0.\n",
      "   0.          0.          0.          0.          0.          0.          0.\n",
      "   0.          0.          0.          0.          0.          0.          0.\n",
      "   0.          0.          0.          0.          0.          0.          0.\n",
      "   0.          0.          0.          0.          0.82068968  0.          0.\n",
      "   0.          0.          0.          0.          0.          0.          0.\n",
      "   0.          0.          0.          0.          0.          0.          0.\n",
      "   0.          0.          0.          0.          0.          0.          0.\n",
      "   0.          0.          0.          0.          0.82758623  0.          0.\n",
      "   0.          0.          0.          0.          0.          0.          0.\n",
      "   0.          0.          0.          0.          0.          0.          0.\n",
      "   0.          0.          0.          0.          0.          0.          0.\n",
      "   0.          0.          0.          0.          0.84827584  0.          0.\n",
      "   0.          0.          0.          0.          0.          0.          0.\n",
      "   0.          0.          0.          0.          0.          0.          0.\n",
      "   0.          0.          0.          0.          0.          0.          0.\n",
      "   0.          0.          0.          0.          0.96551722  0.          0.\n",
      "   0.          0.          0.          0.          0.          0.          0.\n",
      "   0.          0.          0.          0.          0.          0.          0.\n",
      "   0.          0.          0.          0.          0.          0.          0.\n",
      "   0.          0.          0.          0.          0.96551722  0.          0.\n",
      "   0.          0.          0.          0.          0.          0.          0.\n",
      "   0.          0.          0.          0.          0.          0.          0.\n",
      "   0.          0.          0.          0.          0.          0.          0.\n",
      "   0.          0.          0.          0.          0.          0.          0.\n",
      "   0.          0.          0.          0.          0.          0.          0.\n",
      "   0.          0.          0.          0.          0.          0.          0.\n",
      "   0.          0.          0.          0.          0.          0.          0.\n",
      "   0.          0.          0.          0.          0.          0.          0.\n",
      "   0.          0.          0.          0.          0.          0.          0.        ]]\n"
     ]
    },
    {
     "data": {
      "image/png": "[encoded data removed]",
      "text/plain": [
       "<matplotlib.figure.Figure at 0x7f4012559ac8>"
      ]
     },
     "metadata": {},
     "output_type": "display_data"
    }
   ],
   "source": [
    "import numpy\n",
    "import os\n",
    "import sys\n",
    "import numpy as np\n",
    "import cv2\n",
    "from matplotlib import pyplot as plt\n",
    "from matplotlib.patches import Rectangle\n",
    "from theano import function, config, shared, sandbox\n",
    "import theano.tensor as T\n",
    "import theano.sandbox.cuda\n",
    "theano.sandbox.cuda.use(\"gpu\")\n",
    "config.floatX = 'float32'\n",
    "cmdstring = \"espeak 'Converting the test image to M N I S T format.'\"\n",
    "os.system(cmdstring)\n",
    "# Uncomment to choose a new test image\n",
    "#cv2.imwrite('one.png', clip)\n",
    "testArray = cv2.imread('one.png', 0)\n",
    "plt.imshow(testArray, 'gray')\n",
    "plt.show()\n",
    "print(testArray.shape)\n",
    "def convert(image):\n",
    "    image2 = image.reshape((1, 784))\n",
    "    print(image2.shape)\n",
    "    print(image2)\n",
    "    for i in range(image2.size):\n",
    "        if image2[[0],[i]] >= 145:\n",
    "            image2[[0],[i]] = 0.\n",
    "    return image2\n",
    "testArray = convert(testArray)\n",
    "testArray = testArray/145\n",
    "testArray = numpy.asarray(testArray, dtype=theano.config.floatX)\n",
    "print(testArray)\n",
    "errorCheck = testArray.reshape((28,28))\n",
    "plt.imshow(errorCheck, 'gray')\n",
    "plt.show()"
   ]
  },
  {
   "cell_type": "markdown",
   "metadata": {},
   "source": [
    "<p>The MNIST Data is stored in a very confusing packaging, so we need to convert the test clip into something our Neural Network will understand alongside the MNIST data. By reshaping the array to 1, 784 and using a threshhold function, we can replicate the black and white tensors stored in the pickle. Additionally, theano requires us to convert the data to float32 so this does not take forever.</p>"
   ]
  },
  {
   "cell_type": "code",
   "execution_count": 168,
   "metadata": {
    "collapsed": true
   },
   "outputs": [],
   "source": [
    "cmdstring = \"espeak 'Loading M N I S T dataset.'\"\n",
    "os.system(cmdstring)\n",
    "import gzip, numpy\n",
    "import pickle\n",
    "\n",
    "f = gzip.open('mnist.pkl.gz', 'rb')\n",
    "train_set, valid_set, test_set = pickle.load(f, encoding='iso-8859-1')\n",
    "f.close()"
   ]
  },
  {
   "cell_type": "markdown",
   "metadata": {},
   "source": [
    "<p>Function from the theano docs to unpack MNIST Data.</p>"
   ]
  },
  {
   "cell_type": "code",
   "execution_count": 169,
   "metadata": {
    "collapsed": true
   },
   "outputs": [],
   "source": [
    "cmdstring = \"espeak 'Storing variables to G P U.'\"\n",
    "os.system(cmdstring)\n",
    "from theano import function, config, shared, sandbox\n",
    "import theano.tensor as T\n",
    "import time\n",
    "import theano.sandbox.cuda\n",
    "theano.sandbox.cuda.use(\"gpu\")\n",
    "def shared_dataset(data_xy):\n",
    "    \"\"\" Function that loads the dataset into shared variables\n",
    "\n",
    "    The reason we store our dataset in shared variables is to allow\n",
    "    Theano to copy it into the GPU memory (when code is run on GPU).\n",
    "    Since copying data into the GPU is slow, copying a minibatch everytime\n",
    "    is needed (the default behaviour if the data is not in a shared\n",
    "    variable) would lead to a large decrease in performance.\n",
    "    \"\"\"\n",
    "    data_x, data_y = data_xy\n",
    "    shared_x = theano.shared(numpy.asarray(data_x, dtype=theano.config.floatX))\n",
    "    shared_y = theano.shared(numpy.asarray(data_y, dtype=theano.config.floatX))\n",
    "    # When storing data on the GPU it has to be stored as floats\n",
    "    # therefore we will store the labels as ``floatX`` as well\n",
    "    # (``shared_y`` does exactly that). But during our computations\n",
    "    # we need them as ints (we use labels as index, and if they are\n",
    "    # floats it doesn't make sense) therefore instead of returning\n",
    "    # ``shared_y`` we will have to cast it to int. This little hack\n",
    "    # lets us get around this issue\n",
    "    return shared_x, T.cast(shared_y, 'int32')\n",
    "\n",
    "test_set_x, test_set_y = shared_dataset(test_set)\n",
    "valid_set_x, valid_set_y = shared_dataset(valid_set)\n",
    "train_set_x, train_set_y = shared_dataset(train_set)\n",
    "\n",
    "batch_size = 500    # size of the minibatch\n",
    "\n",
    "# accessing the third minibatch of the training set\n",
    "\n",
    "data  = train_set_x[2 * batch_size: 3 * batch_size]\n",
    "label = train_set_y[2 * batch_size: 3 * batch_size]"
   ]
  },
  {
   "cell_type": "markdown",
   "metadata": {},
   "source": [
    "<p>Function from the theano docs to similarly store the MNIST Data in shared memory on the GPU, and split between test and training batches.</p>"
   ]
  },
  {
   "cell_type": "code",
   "execution_count": 170,
   "metadata": {
    "collapsed": false
   },
   "outputs": [
    {
     "name": "stdout",
     "output_type": "stream",
     "text": [
      "... loading data\n",
      "... building the model\n",
      "float32\n",
      "FAST_RUN\n",
      "gpu\n",
      "float32\n",
      "FAST_RUN\n",
      "gpu\n",
      "... training the model\n",
      "epoch 1, minibatch 83/83, validation error 12.458333 %\n",
      "float32\n",
      "FAST_RUN\n",
      "gpu\n",
      "     epoch 1, minibatch 83/83, test error of best model 12.375000 %\n",
      "epoch 2, minibatch 83/83, validation error 11.010417 %\n",
      "float32\n",
      "FAST_RUN\n",
      "gpu\n",
      "     epoch 2, minibatch 83/83, test error of best model 10.958333 %\n",
      "epoch 3, minibatch 83/83, validation error 10.312500 %\n",
      "float32\n",
      "FAST_RUN\n",
      "gpu\n",
      "     epoch 3, minibatch 83/83, test error of best model 10.312500 %\n",
      "epoch 4, minibatch 83/83, validation error 9.875000 %\n",
      "float32\n",
      "FAST_RUN\n",
      "gpu\n",
      "     epoch 4, minibatch 83/83, test error of best model 9.833333 %\n",
      "epoch 5, minibatch 83/83, validation error 9.562500 %\n",
      "float32\n",
      "FAST_RUN\n",
      "gpu\n",
      "     epoch 5, minibatch 83/83, test error of best model 9.479167 %\n",
      "epoch 6, minibatch 83/83, validation error 9.322917 %\n",
      "float32\n",
      "FAST_RUN\n",
      "gpu\n",
      "     epoch 6, minibatch 83/83, test error of best model 9.291667 %\n",
      "epoch 7, minibatch 83/83, validation error 9.187500 %\n",
      "float32\n",
      "FAST_RUN\n",
      "gpu\n",
      "     epoch 7, minibatch 83/83, test error of best model 9.000000 %\n",
      "epoch 8, minibatch 83/83, validation error 8.989583 %\n",
      "float32\n",
      "FAST_RUN\n",
      "gpu\n",
      "     epoch 8, minibatch 83/83, test error of best model 8.958333 %\n",
      "epoch 9, minibatch 83/83, validation error 8.937500 %\n",
      "float32\n",
      "FAST_RUN\n",
      "gpu\n",
      "     epoch 9, minibatch 83/83, test error of best model 8.812500 %\n",
      "epoch 10, minibatch 83/83, validation error 8.750000 %\n",
      "float32\n",
      "FAST_RUN\n",
      "gpu\n",
      "     epoch 10, minibatch 83/83, test error of best model 8.666667 %\n",
      "epoch 11, minibatch 83/83, validation error 8.666667 %\n",
      "float32\n",
      "FAST_RUN\n",
      "gpu\n",
      "     epoch 11, minibatch 83/83, test error of best model 8.520833 %\n",
      "epoch 12, minibatch 83/83, validation error 8.583333 %\n",
      "float32\n",
      "FAST_RUN\n",
      "gpu\n",
      "     epoch 12, minibatch 83/83, test error of best model 8.416667 %\n",
      "epoch 13, minibatch 83/83, validation error 8.489583 %\n",
      "float32\n",
      "FAST_RUN\n",
      "gpu\n",
      "     epoch 13, minibatch 83/83, test error of best model 8.291667 %\n",
      "epoch 14, minibatch 83/83, validation error 8.427083 %\n",
      "float32\n",
      "FAST_RUN\n",
      "gpu\n",
      "     epoch 14, minibatch 83/83, test error of best model 8.281250 %\n",
      "epoch 15, minibatch 83/83, validation error 8.354167 %\n",
      "float32\n",
      "FAST_RUN\n",
      "gpu\n",
      "     epoch 15, minibatch 83/83, test error of best model 8.270833 %\n",
      "epoch 16, minibatch 83/83, validation error 8.302083 %\n",
      "float32\n",
      "FAST_RUN\n",
      "gpu\n",
      "     epoch 16, minibatch 83/83, test error of best model 8.239583 %\n",
      "epoch 17, minibatch 83/83, validation error 8.250000 %\n",
      "float32\n",
      "FAST_RUN\n",
      "gpu\n",
      "     epoch 17, minibatch 83/83, test error of best model 8.177083 %\n",
      "epoch 18, minibatch 83/83, validation error 8.229167 %\n",
      "float32\n",
      "FAST_RUN\n",
      "gpu\n",
      "     epoch 18, minibatch 83/83, test error of best model 8.062500 %\n",
      "epoch 19, minibatch 83/83, validation error 8.260417 %\n",
      "float32\n",
      "FAST_RUN\n",
      "gpu\n",
      "epoch 20, minibatch 83/83, validation error 8.260417 %\n",
      "float32\n",
      "FAST_RUN\n",
      "gpu\n",
      "epoch 21, minibatch 83/83, validation error 8.208333 %\n",
      "float32\n",
      "FAST_RUN\n",
      "gpu\n",
      "     epoch 21, minibatch 83/83, test error of best model 7.947917 %\n",
      "epoch 22, minibatch 83/83, validation error 8.187500 %\n",
      "float32\n",
      "FAST_RUN\n",
      "gpu\n",
      "     epoch 22, minibatch 83/83, test error of best model 7.927083 %\n",
      "epoch 23, minibatch 83/83, validation error 8.156250 %\n",
      "float32\n",
      "FAST_RUN\n",
      "gpu\n",
      "     epoch 23, minibatch 83/83, test error of best model 7.958333 %\n",
      "epoch 24, minibatch 83/83, validation error 8.114583 %\n",
      "float32\n",
      "FAST_RUN\n",
      "gpu\n",
      "     epoch 24, minibatch 83/83, test error of best model 7.947917 %\n",
      "epoch 25, minibatch 83/83, validation error 8.093750 %\n",
      "float32\n",
      "FAST_RUN\n",
      "gpu\n",
      "     epoch 25, minibatch 83/83, test error of best model 7.947917 %\n",
      "epoch 26, minibatch 83/83, validation error 8.104167 %\n",
      "float32\n",
      "FAST_RUN\n",
      "gpu\n",
      "epoch 27, minibatch 83/83, validation error 8.104167 %\n",
      "float32\n",
      "FAST_RUN\n",
      "gpu\n",
      "epoch 28, minibatch 83/83, validation error 8.052083 %\n",
      "float32\n",
      "FAST_RUN\n",
      "gpu\n",
      "     epoch 28, minibatch 83/83, test error of best model 7.843750 %\n",
      "epoch 29, minibatch 83/83, validation error 8.052083 %\n",
      "float32\n",
      "FAST_RUN\n",
      "gpu\n",
      "epoch 30, minibatch 83/83, validation error 8.031250 %\n",
      "float32\n",
      "FAST_RUN\n",
      "gpu\n",
      "     epoch 30, minibatch 83/83, test error of best model 7.843750 %\n",
      "epoch 31, minibatch 83/83, validation error 8.010417 %\n",
      "float32\n",
      "FAST_RUN\n",
      "gpu\n",
      "     epoch 31, minibatch 83/83, test error of best model 7.833333 %\n",
      "epoch 32, minibatch 83/83, validation error 7.979167 %\n",
      "float32\n",
      "FAST_RUN\n",
      "gpu\n",
      "     epoch 32, minibatch 83/83, test error of best model 7.812500 %\n",
      "epoch 33, minibatch 83/83, validation error 7.947917 %\n",
      "float32\n",
      "FAST_RUN\n",
      "gpu\n",
      "     epoch 33, minibatch 83/83, test error of best model 7.739583 %\n",
      "epoch 34, minibatch 83/83, validation error 7.875000 %\n",
      "float32\n",
      "FAST_RUN\n",
      "gpu\n",
      "     epoch 34, minibatch 83/83, test error of best model 7.729167 %\n",
      "epoch 35, minibatch 83/83, validation error 7.885417 %\n",
      "float32\n",
      "FAST_RUN\n",
      "gpu\n",
      "epoch 36, minibatch 83/83, validation error 7.843750 %\n",
      "float32\n",
      "FAST_RUN\n",
      "gpu\n",
      "     epoch 36, minibatch 83/83, test error of best model 7.697917 %\n",
      "epoch 37, minibatch 83/83, validation error 7.802083 %\n",
      "float32\n",
      "FAST_RUN\n",
      "gpu\n",
      "     epoch 37, minibatch 83/83, test error of best model 7.635417 %\n",
      "epoch 38, minibatch 83/83, validation error 7.812500 %\n",
      "float32\n",
      "FAST_RUN\n",
      "gpu\n",
      "epoch 39, minibatch 83/83, validation error 7.812500 %\n",
      "float32\n",
      "FAST_RUN\n",
      "gpu\n",
      "epoch 40, minibatch 83/83, validation error 7.822917 %\n",
      "float32\n",
      "FAST_RUN\n",
      "gpu\n",
      "epoch 41, minibatch 83/83, validation error 7.791667 %\n",
      "float32\n",
      "FAST_RUN\n",
      "gpu\n",
      "     epoch 41, minibatch 83/83, test error of best model 7.625000 %\n",
      "epoch 42, minibatch 83/83, validation error 7.770833 %\n",
      "float32\n",
      "FAST_RUN\n",
      "gpu\n",
      "     epoch 42, minibatch 83/83, test error of best model 7.614583 %\n",
      "epoch 43, minibatch 83/83, validation error 7.750000 %\n",
      "float32\n",
      "FAST_RUN\n",
      "gpu\n",
      "     epoch 43, minibatch 83/83, test error of best model 7.593750 %\n",
      "epoch 44, minibatch 83/83, validation error 7.739583 %\n",
      "float32\n",
      "FAST_RUN\n",
      "gpu\n",
      "     epoch 44, minibatch 83/83, test error of best model 7.593750 %\n",
      "epoch 45, minibatch 83/83, validation error 7.739583 %\n",
      "float32\n",
      "FAST_RUN\n",
      "gpu\n",
      "epoch 46, minibatch 83/83, validation error 7.739583 %\n",
      "float32\n",
      "FAST_RUN\n",
      "gpu\n",
      "epoch 47, minibatch 83/83, validation error 7.739583 %\n",
      "float32\n",
      "FAST_RUN\n",
      "gpu\n",
      "epoch 48, minibatch 83/83, validation error 7.708333 %\n",
      "float32\n",
      "FAST_RUN\n",
      "gpu\n",
      "     epoch 48, minibatch 83/83, test error of best model 7.583333 %\n",
      "epoch 49, minibatch 83/83, validation error 7.677083 %\n",
      "float32\n",
      "FAST_RUN\n",
      "gpu\n",
      "     epoch 49, minibatch 83/83, test error of best model 7.572917 %\n",
      "epoch 50, minibatch 83/83, validation error 7.677083 %\n",
      "float32\n",
      "FAST_RUN\n",
      "gpu\n",
      "epoch 51, minibatch 83/83, validation error 7.677083 %\n",
      "float32\n",
      "FAST_RUN\n",
      "gpu\n",
      "epoch 52, minibatch 83/83, validation error 7.656250 %\n",
      "float32\n",
      "FAST_RUN\n",
      "gpu\n",
      "     epoch 52, minibatch 83/83, test error of best model 7.541667 %\n",
      "epoch 53, minibatch 83/83, validation error 7.656250 %\n",
      "float32\n",
      "FAST_RUN\n",
      "gpu\n",
      "epoch 54, minibatch 83/83, validation error 7.635417 %\n",
      "float32\n",
      "FAST_RUN\n",
      "gpu\n",
      "     epoch 54, minibatch 83/83, test error of best model 7.520833 %\n",
      "epoch 55, minibatch 83/83, validation error 7.635417 %\n",
      "float32\n",
      "FAST_RUN\n",
      "gpu\n",
      "epoch 56, minibatch 83/83, validation error 7.635417 %\n",
      "float32\n",
      "FAST_RUN\n",
      "gpu\n",
      "epoch 57, minibatch 83/83, validation error 7.604167 %\n",
      "float32\n",
      "FAST_RUN\n",
      "gpu\n",
      "     epoch 57, minibatch 83/83, test error of best model 7.489583 %\n",
      "epoch 58, minibatch 83/83, validation error 7.583333 %\n",
      "float32\n",
      "FAST_RUN\n",
      "gpu\n",
      "     epoch 58, minibatch 83/83, test error of best model 7.458333 %\n",
      "epoch 59, minibatch 83/83, validation error 7.572917 %\n",
      "float32\n",
      "FAST_RUN\n",
      "gpu\n",
      "     epoch 59, minibatch 83/83, test error of best model 7.468750 %\n",
      "epoch 60, minibatch 83/83, validation error 7.572917 %\n",
      "float32\n",
      "FAST_RUN\n",
      "gpu\n",
      "epoch 61, minibatch 83/83, validation error 7.583333 %\n",
      "float32\n",
      "FAST_RUN\n",
      "gpu\n",
      "epoch 62, minibatch 83/83, validation error 7.572917 %\n",
      "float32\n",
      "FAST_RUN\n",
      "gpu\n",
      "     epoch 62, minibatch 83/83, test error of best model 7.520833 %\n",
      "epoch 63, minibatch 83/83, validation error 7.562500 %\n",
      "float32\n",
      "FAST_RUN\n",
      "gpu\n",
      "     epoch 63, minibatch 83/83, test error of best model 7.510417 %\n",
      "epoch 64, minibatch 83/83, validation error 7.572917 %\n",
      "float32\n",
      "FAST_RUN\n",
      "gpu\n",
      "epoch 65, minibatch 83/83, validation error 7.562500 %\n",
      "float32\n",
      "FAST_RUN\n",
      "gpu\n",
      "epoch 66, minibatch 83/83, validation error 7.552083 %\n",
      "float32\n",
      "FAST_RUN\n",
      "gpu\n",
      "     epoch 66, minibatch 83/83, test error of best model 7.520833 %\n",
      "epoch 67, minibatch 83/83, validation error 7.552083 %\n",
      "float32\n",
      "FAST_RUN\n",
      "gpu\n",
      "epoch 68, minibatch 83/83, validation error 7.531250 %\n",
      "float32\n",
      "FAST_RUN\n",
      "gpu\n",
      "     epoch 68, minibatch 83/83, test error of best model 7.520833 %\n",
      "epoch 69, minibatch 83/83, validation error 7.531250 %\n",
      "float32\n",
      "FAST_RUN\n",
      "gpu\n",
      "epoch 70, minibatch 83/83, validation error 7.510417 %\n",
      "float32\n",
      "FAST_RUN\n",
      "gpu\n",
      "     epoch 70, minibatch 83/83, test error of best model 7.500000 %\n",
      "epoch 71, minibatch 83/83, validation error 7.520833 %\n",
      "float32\n",
      "FAST_RUN\n",
      "gpu\n",
      "epoch 72, minibatch 83/83, validation error 7.510417 %\n",
      "float32\n",
      "FAST_RUN\n",
      "gpu\n",
      "epoch 73, minibatch 83/83, validation error 7.500000 %\n",
      "float32\n",
      "FAST_RUN\n",
      "gpu\n",
      "     epoch 73, minibatch 83/83, test error of best model 7.489583 %\n",
      "Optimization complete with best validation score of 7.500000 %,with test performance 7.489583 %\n",
      "The code run for 74 epochs, with 4.149029 epochs/sec\n",
      "float32\n",
      "FAST_RUN\n",
      "gpu\n"
     ]
    },
    {
     "name": "stderr",
     "output_type": "stream",
     "text": [
      "The code for file __file__ ran for 17.8s\n"
     ]
    }
   ],
   "source": [
    "cmdstring = \"espeak 'Training Neural Network on 50000 handwritten characters.'\"\n",
    "os.system(cmdstring)\n",
    "#Teach our network to recognize handwritten digits\n",
    "\n",
    "\"\"\"\n",
    "This tutorial introduces logistic regression using Theano and stochastic\n",
    "gradient descent.\n",
    "\n",
    "Logistic regression is a probabilistic, linear classifier. It is parametrized\n",
    "by a weight matrix :math:`W` and a bias vector :math:`b`. Classification is\n",
    "done by projecting data points onto a set of hyperplanes, the distance to\n",
    "which is used to determine a class membership probability.\n",
    "\n",
    "Mathematically, this can be written as:\n",
    "\n",
    ".. math::\n",
    "  P(Y=i|x, W,b) &= softmax_i(W x + b) \\\\\n",
    "                &= \\frac {e^{W_i x + b_i}} {\\sum_j e^{W_j x + b_j}}\n",
    "\n",
    "\n",
    "The output of the model or prediction is then done by taking the argmax of\n",
    "the vector whose i'th element is P(Y=i|x).\n",
    "\n",
    ".. math::\n",
    "\n",
    "  y_{pred} = argmax_i P(Y=i|x,W,b)\n",
    "\n",
    "\n",
    "This tutorial presents a stochastic gradient descent optimization method\n",
    "suitable for large datasets.\n",
    "\n",
    "\n",
    "References:\n",
    "\n",
    "    - textbooks: \"Pattern Recognition and Machine Learning\" -\n",
    "                 Christopher M. Bishop, section 4.3.2\n",
    "\n",
    "\"\"\"\n",
    "\n",
    "from __future__ import print_function\n",
    "\n",
    "__docformat__ = 'restructedtext en'\n",
    "\n",
    "import six.moves.cPickle as pickle\n",
    "import gzip\n",
    "import os\n",
    "import sys\n",
    "import timeit\n",
    "\n",
    "class LogisticRegression(object):\n",
    "    \"\"\"Multi-class Logistic Regression Class\n",
    "\n",
    "    The logistic regression is fully described by a weight matrix :math:`W`\n",
    "    and bias vector :math:`b`. Classification is done by projecting data\n",
    "    points onto a set of hyperplanes, the distance to which is used to\n",
    "    determine a class membership probability.\n",
    "    \"\"\"\n",
    "\n",
    "    def __init__(self, input, n_in, n_out):\n",
    "        \"\"\" Initialize the parameters of the logistic regression\n",
    "\n",
    "        :type input: theano.tensor.TensorType\n",
    "        :param input: symbolic variable that describes the input of the\n",
    "                      architecture (one minibatch)\n",
    "\n",
    "        :type n_in: int\n",
    "        :param n_in: number of input units, the dimension of the space in\n",
    "                     which the datapoints lie\n",
    "\n",
    "        :type n_out: int\n",
    "        :param n_out: number of output units, the dimension of the space in\n",
    "                      which the labels lie\n",
    "\n",
    "        \"\"\"\n",
    "        # start-snippet-1\n",
    "        # initialize with 0 the weights W as a matrix of shape (n_in, n_out)\n",
    "        self.W = theano.shared(\n",
    "            value=numpy.zeros(\n",
    "                (n_in, n_out),\n",
    "                dtype=theano.config.floatX\n",
    "            ),\n",
    "            name='W',\n",
    "            borrow=True\n",
    "        )\n",
    "        # initialize the biases b as a vector of n_out 0s\n",
    "        self.b = theano.shared(\n",
    "            value=numpy.zeros(\n",
    "                (n_out,),\n",
    "                dtype=theano.config.floatX\n",
    "            ),\n",
    "            name='b',\n",
    "            borrow=True\n",
    "        )\n",
    "        print(theano.config.floatX)\n",
    "        print(theano.config.mode)\n",
    "        print(theano.config.device)\n",
    "        # symbolic expression for computing the matrix of class-membership\n",
    "        # probabilities\n",
    "        # Where:\n",
    "        # W is a matrix where column-k represent the separation hyperplane for\n",
    "        # class-k\n",
    "        # x is a matrix where row-j  represents input training sample-j\n",
    "        # b is a vector where element-k represent the free parameter of\n",
    "        # hyperplane-k\n",
    "        self.p_y_given_x = T.nnet.softmax(T.dot(input, self.W) + self.b)\n",
    "\n",
    "        # symbolic description of how to compute prediction as class whose\n",
    "        # probability is maximal\n",
    "        self.y_pred = T.argmax(self.p_y_given_x, axis=1)\n",
    "        # end-snippet-1\n",
    "\n",
    "        # parameters of the model\n",
    "        self.params = [self.W, self.b]\n",
    "\n",
    "        # keep track of model input\n",
    "        self.input = input\n",
    "\n",
    "    def negative_log_likelihood(self, y):\n",
    "        \"\"\"Return the mean of the negative log-likelihood of the prediction\n",
    "        of this model under a given target distribution.\n",
    "\n",
    "        .. math::\n",
    "\n",
    "            \\frac{1}{|\\mathcal{D}|} \\mathcal{L} (\\theta=\\{W,b\\}, \\mathcal{D}) =\n",
    "            \\frac{1}{|\\mathcal{D}|} \\sum_{i=0}^{|\\mathcal{D}|}\n",
    "                \\log(P(Y=y^{(i)}|x^{(i)}, W,b)) \\\\\n",
    "            \\ell (\\theta=\\{W,b\\}, \\mathcal{D})\n",
    "\n",
    "        :type y: theano.tensor.TensorType\n",
    "        :param y: corresponds to a vector that gives for each example the\n",
    "                  correct label\n",
    "\n",
    "        Note: we use the mean instead of the sum so that\n",
    "              the learning rate is less dependent on the batch size\n",
    "        \"\"\"\n",
    "        # start-snippet-2\n",
    "        # y.shape[0] is (symbolically) the number of rows in y, i.e.,\n",
    "        # number of examples (call it n) in the minibatch\n",
    "        # T.arange(y.shape[0]) is a symbolic vector which will contain\n",
    "        # [0,1,2,... n-1] T.log(self.p_y_given_x) is a matrix of\n",
    "        # Log-Probabilities (call it LP) with one row per example and\n",
    "        # one column per class LP[T.arange(y.shape[0]),y] is a vector\n",
    "        # v containing [LP[0,y[0]], LP[1,y[1]], LP[2,y[2]], ...,\n",
    "        # LP[n-1,y[n-1]]] and T.mean(LP[T.arange(y.shape[0]),y]) is\n",
    "        # the mean (across minibatch examples) of the elements in v,\n",
    "        # i.e., the mean log-likelihood across the minibatch.\n",
    "        return -T.mean(T.log(self.p_y_given_x)[T.arange(y.shape[0]), y])\n",
    "        # end-snippet-2\n",
    "\n",
    "    def errors(self, y):\n",
    "        \"\"\"Return a float representing the number of errors in the minibatch\n",
    "        over the total number of examples of the minibatch ; zero one\n",
    "        loss over the size of the minibatch\n",
    "\n",
    "        :type y: theano.tensor.TensorType\n",
    "        :param y: corresponds to a vector that gives for each example the\n",
    "                  correct label\n",
    "        \"\"\"\n",
    "\n",
    "        # check if y has same dimension of y_pred\n",
    "        if y.ndim != self.y_pred.ndim:\n",
    "            raise TypeError(\n",
    "                'y should have the same shape as self.y_pred',\n",
    "                ('y', y.type, 'y_pred', self.y_pred.type)\n",
    "            )\n",
    "        # check if y is of the correct datatype\n",
    "        if y.dtype.startswith('int'):\n",
    "            # the T.neq operator returns a vector of 0s and 1s, where 1\n",
    "            # represents a mistake in prediction\n",
    "            return T.mean(T.neq(self.y_pred, y))\n",
    "        else:\n",
    "            raise NotImplementedError()\n",
    "\n",
    "\n",
    "def load_data(dataset):\n",
    "    ''' Loads the dataset\n",
    "\n",
    "    :type dataset: string\n",
    "    :param dataset: the path to the dataset (here MNIST)\n",
    "    '''\n",
    "\n",
    "    #############\n",
    "    # LOAD DATA #\n",
    "    #############\n",
    "\n",
    "    # Download the MNIST dataset if it is not present\n",
    "    data_dir, data_file = os.path.split(dataset)\n",
    "    if data_dir == \"\" and not os.path.isfile(dataset):\n",
    "        # Check if dataset is in the data directory.\n",
    "        new_path = os.path.join(\n",
    "            os.path.split(__file__)[0],\n",
    "            \"..\",\n",
    "            \"data\",\n",
    "            dataset\n",
    "        )\n",
    "        if os.path.isfile(new_path) or data_file == 'mnist.pkl.gz':\n",
    "            dataset = new_path\n",
    "\n",
    "    if (not os.path.isfile(dataset)) and data_file == 'mnist.pkl.gz':\n",
    "        from six.moves import urllib\n",
    "        origin = (\n",
    "            'http://www.iro.umontreal.ca/~lisa/deep/data/mnist/mnist.pkl.gz'\n",
    "        )\n",
    "        print('Downloading data from %s' % origin)\n",
    "        urllib.request.urlretrieve(origin, dataset)\n",
    "\n",
    "    print('... loading data')\n",
    "\n",
    "    # Load the dataset\n",
    "    with gzip.open(dataset, 'rb') as f:\n",
    "        try:\n",
    "            train_set, valid_set, test_set = pickle.load(f, encoding='latin1')\n",
    "        except:\n",
    "            train_set, valid_set, test_set = pickle.load(f)\n",
    "    # train_set, valid_set, test_set format: tuple(input, target)\n",
    "    # input is a numpy.ndarray of 2 dimensions (a matrix)\n",
    "    # where each row corresponds to an example. target is a\n",
    "    # numpy.ndarray of 1 dimension (vector) that has the same length as\n",
    "    # the number of rows in the input. It should give the target\n",
    "    # to the example with the same index in the input.\n",
    "\n",
    "    def shared_dataset(data_xy, borrow=True):\n",
    "        \"\"\" Function that loads the dataset into shared variables\n",
    "\n",
    "        The reason we store our dataset in shared variables is to allow\n",
    "        Theano to copy it into the GPU memory (when code is run on GPU).\n",
    "        Since copying data into the GPU is slow, copying a minibatch everytime\n",
    "        is needed (the default behaviour if the data is not in a shared\n",
    "        variable) would lead to a large decrease in performance.\n",
    "        \"\"\"\n",
    "        data_x, data_y = data_xy\n",
    "        shared_x = theano.shared(numpy.asarray(data_x,\n",
    "                                               dtype=theano.config.floatX),\n",
    "                                 borrow=borrow)\n",
    "        shared_y = theano.shared(numpy.asarray(data_y,\n",
    "                                               dtype=theano.config.floatX),\n",
    "                                 borrow=borrow)\n",
    "        # When storing data on the GPU it has to be stored as floats\n",
    "        # therefore we will store the labels as ``floatX`` as well\n",
    "        # (``shared_y`` does exactly that). But during our computations\n",
    "        # we need them as ints (we use labels as index, and if they are\n",
    "        # floats it doesn't make sense) therefore instead of returning\n",
    "        # ``shared_y`` we will have to cast it to int. This little hack\n",
    "        # lets ous get around this issue\n",
    "        return shared_x, T.cast(shared_y, 'int32')\n",
    "\n",
    "    test_set_x, test_set_y = shared_dataset(test_set)\n",
    "    valid_set_x, valid_set_y = shared_dataset(valid_set)\n",
    "    train_set_x, train_set_y = shared_dataset(train_set)\n",
    "\n",
    "    rval = [(train_set_x, train_set_y), (valid_set_x, valid_set_y),\n",
    "            (test_set_x, test_set_y)]\n",
    "    return rval\n",
    "\n",
    "\n",
    "def sgd_optimization_mnist(learning_rate=0.13, n_epochs=1000,\n",
    "                           dataset='mnist.pkl.gz',\n",
    "                           batch_size=600):\n",
    "    \"\"\"\n",
    "    Demonstrate stochastic gradient descent optimization of a log-linear\n",
    "    model\n",
    "\n",
    "    This is demonstrated on MNIST.\n",
    "\n",
    "    :type learning_rate: float\n",
    "    :param learning_rate: learning rate used (factor for the stochastic\n",
    "                          gradient)\n",
    "\n",
    "    :type n_epochs: int\n",
    "    :param n_epochs: maximal number of epochs to run the optimizer\n",
    "\n",
    "    :type dataset: string\n",
    "    :param dataset: the path of the MNIST dataset file from\n",
    "                 http://www.iro.umontreal.ca/~lisa/deep/data/mnist/mnist.pkl.gz\n",
    "\n",
    "    \"\"\"\n",
    "    datasets = load_data(dataset)\n",
    "\n",
    "    train_set_x, train_set_y = datasets[0]\n",
    "    valid_set_x, valid_set_y = datasets[1]\n",
    "    test_set_x, test_set_y = datasets[2]\n",
    "\n",
    "    # compute number of minibatches for training, validation and testing\n",
    "    n_train_batches = train_set_x.get_value(borrow=True).shape[0] // batch_size\n",
    "    n_valid_batches = valid_set_x.get_value(borrow=True).shape[0] // batch_size\n",
    "    n_test_batches = test_set_x.get_value(borrow=True).shape[0] // batch_size\n",
    "\n",
    "    ######################\n",
    "    # BUILD ACTUAL MODEL #\n",
    "    ######################\n",
    "    print('... building the model')\n",
    "\n",
    "    # allocate symbolic variables for the data\n",
    "    index = T.lscalar()  # index to a [mini]batch\n",
    "\n",
    "    # generate symbolic variables for input (x and y represent a\n",
    "    # minibatch)\n",
    "    x = T.matrix('x')  # data, presented as rasterized images\n",
    "    y = T.ivector('y')  # labels, presented as 1D vector of [int] labels\n",
    "\n",
    "    # construct the logistic regression class\n",
    "    # Each MNIST image has size 28*28\n",
    "    classifier = LogisticRegression(input=x, n_in=28 * 28, n_out=10)\n",
    "\n",
    "    # the cost we minimize during training is the negative log likelihood of\n",
    "    # the model in symbolic format\n",
    "    cost = classifier.negative_log_likelihood(y)\n",
    "\n",
    "    # compiling a Theano function that computes the mistakes that are made by\n",
    "    # the model on a minibatch\n",
    "    test_model = theano.function(\n",
    "        inputs=[index],\n",
    "        outputs=classifier.errors(y),\n",
    "        givens={\n",
    "            x: test_set_x[index * batch_size: (index + 1) * batch_size],\n",
    "            y: test_set_y[index * batch_size: (index + 1) * batch_size]\n",
    "        }\n",
    "    ,mode = \"FAST_RUN\")\n",
    "\n",
    "    validate_model = theano.function(\n",
    "        inputs=[index],\n",
    "        outputs=classifier.errors(y),\n",
    "        givens={\n",
    "            x: valid_set_x[index * batch_size: (index + 1) * batch_size],\n",
    "            y: valid_set_y[index * batch_size: (index + 1) * batch_size]\n",
    "        }\n",
    "    ,mode = \"FAST_RUN\")\n",
    "\n",
    "    # compute the gradient of cost with respect to theta = (W,b)\n",
    "    g_W = T.grad(cost=cost, wrt=classifier.W)\n",
    "    g_b = T.grad(cost=cost, wrt=classifier.b)\n",
    "\n",
    "    # start-snippet-3\n",
    "    # specify how to update the parameters of the model as a list of\n",
    "    # (variable, update expression) pairs.\n",
    "    updates = [(classifier.W, classifier.W - learning_rate * g_W),\n",
    "               (classifier.b, classifier.b - learning_rate * g_b)]\n",
    "\n",
    "    # compiling a Theano function `train_model` that returns the cost, but in\n",
    "    # the same time updates the parameter of the model based on the rules\n",
    "    # defined in `updates`\n",
    "    train_model = theano.function(\n",
    "        inputs=[index],\n",
    "        outputs=cost,\n",
    "        updates=updates,\n",
    "        givens={\n",
    "            x: train_set_x[index * batch_size: (index + 1) * batch_size],\n",
    "            y: train_set_y[index * batch_size: (index + 1) * batch_size]\n",
    "        }\n",
    "    , mode = \"FAST_RUN\")\n",
    "    print(theano.config.floatX)\n",
    "    print(theano.config.mode)\n",
    "    print(theano.config.device)\n",
    "    # end-snippet-3\n",
    "\n",
    "    ###############\n",
    "    # TRAIN MODEL #\n",
    "    ###############\n",
    "    print('... training the model')\n",
    "    # early-stopping parameters\n",
    "    patience = 5000  # look as this many examples regardless\n",
    "    patience_increase = 2  # wait this much longer when a new best is\n",
    "                                  # found\n",
    "    improvement_threshold = 0.995  # a relative improvement of this much is\n",
    "                                  # considered significant\n",
    "    validation_frequency = min(n_train_batches, patience // 2)\n",
    "                                  # go through this many\n",
    "                                  # minibatche before checking the network\n",
    "                                  # on the validation set; in this case we\n",
    "                                  # check every epoch\n",
    "\n",
    "    best_validation_loss = numpy.inf\n",
    "    test_score = 0.\n",
    "    start_time = timeit.default_timer()\n",
    "\n",
    "    done_looping = False\n",
    "    epoch = 0\n",
    "    while (epoch < n_epochs) and (not done_looping):\n",
    "        epoch = epoch + 1\n",
    "        for minibatch_index in range(n_train_batches):\n",
    "\n",
    "            minibatch_avg_cost = train_model(minibatch_index)\n",
    "            # iteration number\n",
    "            iter = (epoch - 1) * n_train_batches + minibatch_index\n",
    "\n",
    "            if (iter + 1) % validation_frequency == 0:\n",
    "                # compute zero-one loss on validation set\n",
    "                validation_losses = [validate_model(i)\n",
    "                                     for i in range(n_valid_batches)]\n",
    "                this_validation_loss = numpy.mean(validation_losses)\n",
    "\n",
    "                print(\n",
    "                    'epoch %i, minibatch %i/%i, validation error %f %%' %\n",
    "                    (\n",
    "                        epoch,\n",
    "                        minibatch_index + 1,\n",
    "                        n_train_batches,\n",
    "                        this_validation_loss * 100.\n",
    "                    )\n",
    "                )\n",
    "                print(theano.config.floatX)\n",
    "                print(theano.config.mode)\n",
    "                print(theano.config.device)\n",
    "                # if we got the best validation score until now\n",
    "                if this_validation_loss < best_validation_loss:\n",
    "                    #improve patience if loss improvement is good enough\n",
    "                    if this_validation_loss < best_validation_loss *  \\\n",
    "                       improvement_threshold:\n",
    "                        patience = max(patience, iter * patience_increase)\n",
    "\n",
    "                    best_validation_loss = this_validation_loss\n",
    "                    # test it on the test set\n",
    "\n",
    "                    test_losses = [test_model(i)\n",
    "                                   for i in range(n_test_batches)]\n",
    "                    test_score = numpy.mean(test_losses)\n",
    "\n",
    "                    print(\n",
    "                        (\n",
    "                            '     epoch %i, minibatch %i/%i, test error of'\n",
    "                            ' best model %f %%'\n",
    "                        ) %\n",
    "                        (\n",
    "                            epoch,\n",
    "                            minibatch_index + 1,\n",
    "                            n_train_batches,\n",
    "                            test_score * 100.\n",
    "                        )\n",
    "                    )\n",
    "\n",
    "                    # save the best model\n",
    "                    with open('best_model.pkl', 'wb') as f:\n",
    "                        pickle.dump(classifier, f)\n",
    "\n",
    "            if patience <= iter:\n",
    "                done_looping = True\n",
    "                break\n",
    "\n",
    "    end_time = timeit.default_timer()\n",
    "    print(\n",
    "        (\n",
    "            'Optimization complete with best validation score of %f %%,'\n",
    "            'with test performance %f %%'\n",
    "        )\n",
    "        % (best_validation_loss * 100., test_score * 100.)\n",
    "    )\n",
    "    print('The code run for %d epochs, with %f epochs/sec' % (\n",
    "        epoch, 1. * epoch / (end_time - start_time)))\n",
    "    print(('The code for file ' +\n",
    "           os.path.split('__file__')[1] +\n",
    "           ' ran for %.1fs' % ((end_time - start_time))), file=sys.stderr)\n",
    "\n",
    "sgd_optimization_mnist()\n",
    "print(theano.config.floatX)\n",
    "print(theano.config.mode)\n",
    "print(theano.config.device)"
   ]
  },
  {
   "cell_type": "markdown",
   "metadata": {},
   "source": [
    "<p>Above is the Neural Network I plan to modify next week to use convolutional pooling. As you can see, the code uses the GPU, and runs in under 25 seconds, which is quite reasonable for 50,000 data inputs!</p>"
   ]
  },
  {
   "cell_type": "code",
   "execution_count": 171,
   "metadata": {
    "collapsed": false
   },
   "outputs": [
    {
     "name": "stdout",
     "output_type": "stream",
     "text": [
      "... loading data\n",
      "Predicted values for the first 10 examples in test set:\n",
      "[7 2 1 0 4 1 4 9 6 9]\n",
      "Predicted value for test sample:\n",
      "[5]\n"
     ]
    },
    {
     "data": {
      "image/png": "[encoded data removed]",
      "text/plain": [
       "<matplotlib.figure.Figure at 0x7f40480d8e48>"
      ]
     },
     "metadata": {},
     "output_type": "display_data"
    },
    {
     "data": {
      "image/png": "[encoded data removed]",
      "text/plain": [
       "<matplotlib.figure.Figure at 0x7f404809d9e8>"
      ]
     },
     "metadata": {},
     "output_type": "display_data"
    }
   ],
   "source": [
    "cmdstring = \"espeak 'Evaluating model and predicting label for test image.'\"\n",
    "os.system(cmdstring)\n",
    "def predict():\n",
    "    \"\"\"\n",
    "    An example of how to load a trained model and use it\n",
    "    to predict labels.\n",
    "    \"\"\"\n",
    "\n",
    "    # load the saved model\n",
    "    classifier = pickle.load(open('best_model.pkl', 'rb'))\n",
    "    # compile a predictor function\n",
    "    predict_model = theano.function(\n",
    "        inputs=[classifier.input],\n",
    "        outputs=classifier.y_pred)\n",
    "\n",
    "    # We can test it on some examples from test set\n",
    "    dataset='mnist.pkl.gz'\n",
    "    datasets = load_data(dataset)\n",
    "    test_set_x, test_set_y = datasets[2]\n",
    "    test_set_x = test_set_x.get_value()\n",
    "    predicted_values = predict_model(test_set_x[:10])\n",
    "    print(\"Predicted values for the first 10 examples in test set:\")\n",
    "    print(predicted_values)\n",
    "    predicted_values2 = predict_model(testArray)\n",
    "    print(\"Predicted value for test sample:\")\n",
    "    print(predicted_values2)\n",
    "    errorCheck = testArray.reshape((28,28))\n",
    "    plt.imshow(errorCheck, 'gray')\n",
    "    plt.show()\n",
    "    errorCheck2 = test_set_x[2].reshape((28,28))\n",
    "    plt.imshow(errorCheck2, 'gray')\n",
    "    plt.show()\n",
    "\n",
    "predict()"
   ]
  },
  {
   "cell_type": "markdown",
   "metadata": {},
   "source": [
    "<p>This function checks our test image, and the first ten provided test images againste the neural network's best epoch, or training dataset. As you can see, the program is correctly recognizing the provided data, but incorrectly categorizing my test image. I believe this is due to the small size of the clips (it makes it hard to get a perfectly centered image), and my threshholding function. Because the data are 1d arrays, uniformity is imperative. One way to account for this uniformity is to use what is called convolutional pooling on your image. Pooling is breaking the image down into different sections like our visual cortex does. This helps the neural network learn even if the images are off center or at an angle or rotated.</p>"
   ]
  },
  {
   "cell_type": "code",
   "execution_count": 172,
   "metadata": {
    "collapsed": false
   },
   "outputs": [
    {
     "name": "stdout",
     "output_type": "stream",
     "text": [
      "Epoch  0, Train loss 0.606     (validation : 0.241) ratio 0.397\n",
      "          Train accuracy 0.845 (validation : 0.935)\n",
      "Epoch  1, Train loss 0.210     (validation : 0.182) ratio 0.867\n",
      "          Train accuracy 0.940 (validation : 0.954)\n",
      "Epoch  2, Train loss 0.153     (validation : 0.125) ratio 0.816\n",
      "          Train accuracy 0.957 (validation : 0.967)\n",
      "Epoch  3, Train loss 0.124     (validation : 0.127) ratio 1.025\n",
      "          Train accuracy 0.965 (validation : 0.967)\n",
      "Epoch  4, Train loss 0.106     (validation : 0.106) ratio 1.005\n",
      "          Train accuracy 0.969 (validation : 0.973)\n",
      "Epoch  5, Train loss 0.093     (validation : 0.114) ratio 1.222\n",
      "          Train accuracy 0.973 (validation : 0.971)\n",
      "Epoch  6, Train loss 0.080     (validation : 0.096) ratio 1.190\n",
      "          Train accuracy 0.977 (validation : 0.971)\n",
      "Epoch  7, Train loss 0.076     (validation : 0.099) ratio 1.297\n",
      "          Train accuracy 0.978 (validation : 0.972)\n",
      "DONE\n",
      "(10, 3, 28, 28)\n"
     ]
    },
    {
     "data": {
      "image/png": "[encoded data removed]",
      "text/plain": [
       "<matplotlib.figure.Figure at 0x7f4008052588>"
      ]
     },
     "metadata": {},
     "output_type": "display_data"
    },
    {
     "data": {
      "image/png": "[encoded data removed]",
      "text/plain": [
       "<matplotlib.figure.Figure at 0x7f3febb28a20>"
      ]
     },
     "metadata": {},
     "output_type": "display_data"
    }
   ],
   "source": [
    "import numpy as np\n",
    "import theano\n",
    "import theano.tensor as T\n",
    "import lasagne\n",
    "import matplotlib.pyplot as plt\n",
    "import gzip\n",
    "import pickle\n",
    "\n",
    "# Seed for reproduciblity\n",
    "np.random.seed(42)\n",
    "\n",
    "f = gzip.open('mnist.pkl.gz', 'rb')\n",
    "train, val, test = pickle.load(f, encoding='iso-8859-1')\n",
    "#train, val, test = pickle.load(gzip.open('mnist.pkl.gz'))\n",
    "\n",
    "X_train, y_train = train\n",
    "X_val, y_val = val\n",
    "\n",
    "\n",
    "def batch_gen(X, y, N):\n",
    "    while True:\n",
    "        idx = np.random.choice(len(y), N)\n",
    "        yield X[idx].astype('float32'), y[idx].astype('int32')\n",
    "        \n",
    "# We need to reshape from a 1D feature vector to a 1 channel 2D image.\n",
    "# Then we apply 3 convolutional filters with 3x3 kernel size.\n",
    "l_in = lasagne.layers.InputLayer((None, 784))\n",
    "\n",
    "l_shape = lasagne.layers.ReshapeLayer(l_in, (-1, 1, 28, 28))\n",
    "\n",
    "l_conv = lasagne.layers.Conv2DLayer(l_shape, num_filters=3, filter_size=3, pad=1)\n",
    "\n",
    "l_out = lasagne.layers.DenseLayer(l_conv,\n",
    "                                  num_units=10,\n",
    "                                  nonlinearity=lasagne.nonlinearities.softmax)\n",
    "\n",
    "X_sym = T.matrix()\n",
    "y_sym = T.ivector()\n",
    "\n",
    "output = lasagne.layers.get_output(l_out, X_sym)\n",
    "pred = output.argmax(-1)\n",
    "\n",
    "loss = T.mean(lasagne.objectives.categorical_crossentropy(output, y_sym))\n",
    "\n",
    "acc = T.mean(T.eq(pred, y_sym))\n",
    "\n",
    "params = lasagne.layers.get_all_params(l_out)\n",
    "grad = T.grad(loss, params)\n",
    "updates = lasagne.updates.adam(grad, params, learning_rate=0.005)\n",
    "\n",
    "f_train = theano.function([X_sym, y_sym], [loss, acc], updates=updates)\n",
    "f_val = theano.function([X_sym, y_sym], [loss, acc])\n",
    "f_predict = theano.function([X_sym], pred)\n",
    "\n",
    "BATCH_SIZE = 600\n",
    "N_BATCHES = len(X_train) // BATCH_SIZE\n",
    "N_VAL_BATCHES = len(X_val) // BATCH_SIZE\n",
    "\n",
    "train_batches = batch_gen(X_train, y_train, BATCH_SIZE)\n",
    "val_batches = batch_gen(X_val, y_val, BATCH_SIZE)\n",
    "\n",
    "for epoch in range(8):\n",
    "    train_loss = 0\n",
    "    train_acc = 0\n",
    "    for _ in range(N_BATCHES):\n",
    "        X, y = next(train_batches)\n",
    "        loss, acc = f_train(X, y)\n",
    "        train_loss += loss\n",
    "        train_acc += acc\n",
    "    train_loss /= N_BATCHES\n",
    "    train_acc /= N_BATCHES\n",
    "\n",
    "    val_loss = 0\n",
    "    val_acc = 0\n",
    "    for _ in range(N_VAL_BATCHES):\n",
    "        X, y = next(val_batches)\n",
    "        loss, acc = f_val(X, y)\n",
    "        val_loss += loss\n",
    "        val_acc += acc\n",
    "    val_loss /= N_VAL_BATCHES\n",
    "    val_acc /= N_VAL_BATCHES\n",
    "    \n",
    "    print('Epoch {:2d}, Train loss {:.03f}     (validation : {:.03f}) ratio {:.03f}'.format(\n",
    "            epoch, train_loss, val_loss, val_loss/train_loss))\n",
    "    print('          Train accuracy {:.03f} (validation : {:.03f})'.format(train_acc, val_acc))\n",
    "print(\"DONE\")\n",
    "\n",
    "filtered = lasagne.layers.get_output(l_conv, X_sym)\n",
    "f_filter = theano.function([X_sym], filtered)\n",
    "\n",
    "# Filter the first few training examples\n",
    "im = f_filter(X_train[:10])\n",
    "print(im.shape)\n",
    "\n",
    "\n",
    "# Rearrange dimension so we can plot the result as RGB images\n",
    "im = np.rollaxis(np.rollaxis(im, 3, 1), 3, 1)\n",
    "\n",
    "plt.figure(figsize=(16,8))\n",
    "for i in range(10):\n",
    "    plt.subplot(1, 10, i+1)\n",
    "    plt.imshow(im[i], interpolation='nearest')\n",
    "    plt.axis('off')\n",
    "    \n",
    "im = f_filter(errorCheck)\n",
    "im = np.rollaxis(np.rollaxis(im, 3, 1), 3, 1)\n",
    "\n",
    "plt.figure(figsize=(16,8))\n",
    "for i in range(1):\n",
    "    plt.subplot(1, 10, i+1)\n",
    "    plt.imshow(im[i], interpolation='nearest')\n",
    "    plt.axis('off')"
   ]
  },
  {
   "cell_type": "code",
   "execution_count": 173,
   "metadata": {
    "collapsed": false
   },
   "outputs": [
    {
     "name": "stdout",
     "output_type": "stream",
     "text": [
      "[1]\n",
      "[1]\n"
     ]
    }
   ],
   "source": [
    "print(f_predict(X_train[6:7]))\n",
    "print(f_predict(testArray))"
   ]
  }
 ],
 "metadata": {
  "kernelspec": {
   "display_name": "Python 3",
   "language": "python",
   "name": "python3"
  },
  "language_info": {
   "codemirror_mode": {
    "name": "ipython",
    "version": 3
   },
   "file_extension": ".py",
   "mimetype": "text/x-python",
   "name": "python",
   "nbconvert_exporter": "python",
   "pygments_lexer": "ipython3",
   "version": "3.4.3"
  }
 },
 "nbformat": 4,
 "nbformat_minor": 0
}
