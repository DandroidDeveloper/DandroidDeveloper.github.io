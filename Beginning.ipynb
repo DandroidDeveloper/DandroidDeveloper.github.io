{
 "cells": [
  {
   "cell_type": "markdown",
   "metadata": {},
   "source": [
    "<img src = \"dontPanic.jpg\" align = \"left\" width = \"600\"></img>"
   ]
  },
  {
   "cell_type": "markdown",
   "metadata": {},
   "source": [
    "<p>A tribute to Douglas Adams\n",
    "<li>Most code is mine except for this great <a href = \"https://github.com/jakevdp/JSAnimation\">library</a> by Jake Vanderplas that converts matplotlib animations into javascript renderable in ipython notebook and the Schrodinger Equation Animation.</li>\n",
    "<br>\n",
    "Sources:\n",
    "<blockquote>\n",
    "<li>Neil Turok's <a href = \"https://www.youtube.com/watch?v=f1x9lgX8GaE\">Lecture</a> on Dark Matter and The Astonishing Simplicity of Everything</li>\n",
    "<li>Garrett Lisi's <a href = \"https://www.youtube.com/watch?v=y-Gk_Ddhr0M\">Ted Talk</a> and <a href = \"https://www.youtube.com/watch?v=B8lSTBmL2pY\">Lecture</a> on the E8 Lie Group, and Particle Physics</li>\n",
    "</blockquote>\n",
    "</p>"
   ]
  },
  {
   "cell_type": "markdown",
   "metadata": {},
   "source": [
    "<p>\n",
    "<h5>The Beginning.</h5>\n",
    "The Universe is &asymp; fourteen billion years old. Since the moment of the big bang, energy and time have been the factors shaping the Universe. Astoundingly, life has pulled a fast one on us. The Universe, at it's largest and smalles scales is actually quite simple. It is the middle part known as life, where we reside, that is most complicated. Our birth and death are understood, and our lives are chaotic.\n",
    "</p>"
   ]
  },
  {
   "cell_type": "markdown",
   "metadata": {},
   "source": [
    "<p>The Hitchhiker's Guide to the Galaxy:</p>\n",
    "<blockquote>\"The story so far: In the beginning, the Universe was created. This has made a lot of people very angry and has been widely regarded as a bad move.\"</blockquote>"
   ]
  },
  {
   "cell_type": "markdown",
   "metadata": {},
   "source": [
    "<img src = \"observableUniverse.png\" align = \"left\" width = \"500\"></img>\n",
    "<br>"
   ]
  },
  {
   "cell_type": "markdown",
   "metadata": {},
   "source": [
    "<cite>An illustration of the observable Universe on a logarithmic scale as depicted by Pablo Carlos Budassi.</cite>"
   ]
  },
  {
   "cell_type": "markdown",
   "metadata": {},
   "source": [
    "<h4>Observable Universe</h4>\n",
    "<p>As you look up into the night sky, information about small and large stars, near and far, enter your eyes. This information is interpreted by your visual cortex, and you see the stars. One unintuitive notion about star gazing, is that as you look outwards into space, you are actually looking backwards in time. This is because light takes time to reach us. \n",
    "<br>\n",
    "<br>\n",
    "As we travel backwards and away from the earth in time in the illustration above: the sun is in the middle orbited by the earth in our solar system, there is a vast expanst of space full of galaxies, and the cosmic web.\n",
    "<br>\n",
    "<br>\n",
    "The cosmic web is the structure of the Universe as it began to form at early times. After the cosmic web is a bright red ring, which signifies the hot plasma of the early Universe. Beyond this portion of the Universe is the Dark Ages; the information currently unavailable to us due to limitations in technology. When we develop ways to probe beyond the red ring of our Universe such as gravitational waves, we will be able to see how our Universe actually began.</p>  "
   ]
  },
  {
   "cell_type": "markdown",
   "metadata": {},
   "source": [
    "<h4>Scale</h4>\n",
    "<p>The picture above depicts objects with a logarithmic scale. This means that the objects are scaled relative to their distances away from eachother and relative to their size so there is uniformity when you are comparing distances and sizes. If you examine the picture above, you will notice that there is quite a bit of empty space. This space is referred to as Dark Energy. Dark Energy is responsible for the acceleration and the expansion of the Universe. As the Universe expands, information moves away from us, and reaches a point past which it is unobservable. There is a scale associated with the observable Universe based on this Dark Energy, and it is around the order of 10<sup>25</sup> in our picture. \n",
    "<br>\n",
    "<br>\n",
    "The smallest scale we can observe is the point right at the end of our picture. This scale is referred to as the Planck Scale. If we were to go backwards in time and try to fit a light wave into a singularity of this size, it would create a blackhole because there is so much energy being shoved into a small space. This order is around 10<sup>-35</sup>.\n",
    "<br>\n",
    "<br>\n",
    "The size of an individual cell relative to this scale is about 10<sup>-5</sup>. This puts human beings about exactly in the geometric mean, or in the middle of the scale of reality. <br>\n",
    "<br>\n",
    "Not only do we reside in the perfect scale to observe the Universe, it turns out that things at the largest scale, and things at the smallest scale are actually the easiest things about the Universe to understand as well.</p> "
   ]
  },
  {
   "cell_type": "markdown",
   "metadata": {},
   "source": [
    "<img src = \"historyOfTheUniverse.png\" align = \"left\" width = \"500\"></img>"
   ]
  },
  {
   "cell_type": "markdown",
   "metadata": {},
   "source": [
    "<h4>Shape</h4>\n",
    "<p>If you look at any region of space, you will find that it contains a history with the shape depicted above. All of space came from a singularity, resulting in the Big Bang. As you trace the space backwards in time it shrinks into nothing, and as you move forward in time, space is expanded by the Dark Energy.</p>"
   ]
  },
  {
   "cell_type": "markdown",
   "metadata": {},
   "source": [
    "<h4>Synchronicity</h4>\n",
    "<img src = \"planckSatellite.jpg\" align = \"left\" width = \"500\"></img>\n",
    "<br>"
   ]
  },
  {
   "cell_type": "markdown",
   "metadata": {},
   "source": [
    "<p>The picture above is courtesy of the Planck Satellite. It depicts the spherical sky above us in terms of variation in density. These variations in density create a variation in temperature because things emit radiation. These variations in temperature are only one part in one hundred thousand from place to place, making them very uniform. The second interesting thing about this picture is that it depicts synchronicity.</p>"
   ]
  },
  {
   "cell_type": "markdown",
   "metadata": {},
   "source": [
    "<img src = \"soundWave.gif\" align = \"left\" width = \"500\"></img>"
   ]
  },
  {
   "cell_type": "markdown",
   "metadata": {},
   "source": [
    "<p>If you strike a bell, all of the sound waves are synchronized because they all got excited at the same time. If you look at the graph produced by the sound waves, you can see this pattern and you can detect that it was struck at one moment.</p>"
   ]
  },
  {
   "cell_type": "markdown",
   "metadata": {},
   "source": [
    "<p>This is what happened in our Universe. All of the information is uniform in the picture from the Planck Satellite because all of the light waves were excited at the same moment, the big bang, oscilated a certain number of times, and reached the satellite. You cannot interpret this simply from the picture, but if you perform a fourier analysis (and add together the waves of different wavelengths) on the variations of temperature, you find the amplitude peaks reach their maximum, and decrease just like sound waves in a bell.</p>"
   ]
  },
  {
   "cell_type": "markdown",
   "metadata": {},
   "source": [
    "</p>It turns out the only number we need to describe the rest of the Universe is the scalar for Dark Energy, one part in one hundred thousand.<p>"
   ]
  },
  {
   "cell_type": "markdown",
   "metadata": {},
   "source": [
    "<br>\n",
    "<br>\n",
    "<h4>Scalars</h4>"
   ]
  },
  {
   "cell_type": "markdown",
   "metadata": {},
   "source": [
    "<img src = \"numberLine.png\" align = \"left\" width = \"500\"></img>"
   ]
  },
  {
   "cell_type": "markdown",
   "metadata": {},
   "source": [
    "<p>A scalar is a number without direction. Another word for this is a magnitude. Real numbers were the first scalars that were used by humans. We know these as 1, 2, 3, 4, 5, 6, 7, 8, 9, 10 and so forth. Let's use scalars to explore the functionality of python considering they have been around since we could rub two sticks together.</p>"
   ]
  },
  {
   "cell_type": "code",
   "execution_count": 1,
   "metadata": {
    "collapsed": false
   },
   "outputs": [
    {
     "name": "stdout",
     "output_type": "stream",
     "text": [
      "Populating the interactive namespace from numpy and matplotlib\n"
     ]
    }
   ],
   "source": [
    "#This is a comment, comments are just text that you use to describe your program. \n",
    "#In python, the # symbol specifies a comment. \n",
    "\n",
    "#Our first step is to import pylab inline.\n",
    "%pylab inline"
   ]
  },
  {
   "cell_type": "code",
   "execution_count": 2,
   "metadata": {
    "collapsed": true
   },
   "outputs": [],
   "source": [
    "#Next, we simply assign our scalar a value like we would on paper in pseudo code.\n",
    "s = 1\n",
    "\n",
    "#This stores a variable in the computer's memory that we can now access."
   ]
  },
  {
   "cell_type": "code",
   "execution_count": 3,
   "metadata": {
    "collapsed": false
   },
   "outputs": [
    {
     "name": "stdout",
     "output_type": "stream",
     "text": [
      "1\n"
     ]
    }
   ],
   "source": [
    "#As an example, if we want to print the value of S, we simply write...\n",
    "print(s)"
   ]
  },
  {
   "cell_type": "code",
   "execution_count": 4,
   "metadata": {
    "collapsed": false
   },
   "outputs": [
    {
     "data": {
      "text/plain": [
       "1"
      ]
     },
     "execution_count": 4,
     "metadata": {},
     "output_type": "execute_result"
    }
   ],
   "source": [
    "#Additionally, we can take advantage of pylab's inline functionality to print s.\n",
    "s"
   ]
  },
  {
   "cell_type": "code",
   "execution_count": 5,
   "metadata": {
    "collapsed": false
   },
   "outputs": [
    {
     "data": {
      "text/plain": [
       "2"
      ]
     },
     "execution_count": 5,
     "metadata": {},
     "output_type": "execute_result"
    }
   ],
   "source": [
    "#You can add two scalars together\n",
    "s+s"
   ]
  },
  {
   "cell_type": "code",
   "execution_count": 6,
   "metadata": {
    "collapsed": false
   },
   "outputs": [
    {
     "data": {
      "text/plain": [
       "0"
      ]
     },
     "execution_count": 6,
     "metadata": {},
     "output_type": "execute_result"
    }
   ],
   "source": [
    "#Or subtract scalars\n",
    "s-s"
   ]
  },
  {
   "cell_type": "code",
   "execution_count": 7,
   "metadata": {
    "collapsed": false
   },
   "outputs": [
    {
     "data": {
      "text/plain": [
       "2"
      ]
     },
     "execution_count": 7,
     "metadata": {},
     "output_type": "execute_result"
    }
   ],
   "source": [
    "#Multipy scalars\n",
    "s*2"
   ]
  },
  {
   "cell_type": "code",
   "execution_count": 8,
   "metadata": {
    "collapsed": false
   },
   "outputs": [
    {
     "data": {
      "text/plain": [
       "2"
      ]
     },
     "execution_count": 8,
     "metadata": {},
     "output_type": "execute_result"
    }
   ],
   "source": [
    "#And divide scalars\n",
    "2 // s"
   ]
  },
  {
   "cell_type": "markdown",
   "metadata": {},
   "source": [
    "<p>Notice that I used two division symbols above. When you use double division symbols, //, it specifies integer division.</p>"
   ]
  },
  {
   "cell_type": "code",
   "execution_count": 9,
   "metadata": {
    "collapsed": false
   },
   "outputs": [
    {
     "data": {
      "text/plain": [
       "1.0"
      ]
     },
     "execution_count": 9,
     "metadata": {},
     "output_type": "execute_result"
    }
   ],
   "source": [
    "#And one division sign divides while including decimals\n",
    "e/e"
   ]
  },
  {
   "cell_type": "code",
   "execution_count": 10,
   "metadata": {
    "collapsed": false
   },
   "outputs": [
    {
     "data": {
      "text/plain": [
       "1"
      ]
     },
     "execution_count": 10,
     "metadata": {},
     "output_type": "execute_result"
    }
   ],
   "source": [
    "#Absolute value\n",
    "abs(s)"
   ]
  },
  {
   "cell_type": "code",
   "execution_count": 11,
   "metadata": {
    "collapsed": false
   },
   "outputs": [
    {
     "data": {
      "text/plain": [
       "1"
      ]
     },
     "execution_count": 11,
     "metadata": {},
     "output_type": "execute_result"
    }
   ],
   "source": [
    "#s to the power of s\n",
    "pow(s, s)\n",
    "s**s"
   ]
  },
  {
   "cell_type": "markdown",
   "metadata": {},
   "source": [
    "<p>The next, most important and often unintuitive operator is modulus. Modulus in python is executed with the % operand, and you will recognize its importance almost immediately if you have ever been rock climbing, got your hand trapped in a crevace, and had to convert hours to days...</p>"
   ]
  },
  {
   "cell_type": "code",
   "execution_count": 12,
   "metadata": {
    "collapsed": false
   },
   "outputs": [
    {
     "name": "stdout",
     "output_type": "stream",
     "text": [
      "5.291666666666667\n",
      "7\n",
      "127 hours is: 5 Days and 7 hours.\n"
     ]
    }
   ],
   "source": [
    "day = 24\n",
    "hours = 127\n",
    "print(hours/day)\n",
    "print(hours % day)\n",
    "print(hours,\"hours is:\",hours//day,\"Days and\",hours%day,\"hours.\")"
   ]
  },
  {
   "cell_type": "markdown",
   "metadata": {},
   "source": [
    "<p>As you can see, 24 does not divide evenly into 127. When we do division, we find the answer to be 5.29 days. This does not really help us if we want to format the output as days and hours. One way to fix this is to use modulus. Modulus returns the remainder of a division operation. In this case, 127 hours is made of 5 days, with a remainder of 7 hours.</p>"
   ]
  },
  {
   "cell_type": "code",
   "execution_count": 13,
   "metadata": {
    "collapsed": false
   },
   "outputs": [
    {
     "name": "stdout",
     "output_type": "stream",
     "text": [
      "<class 'int'>\n",
      "<class 'float'>\n",
      "<class 'complex'>\n",
      "<class 'str'>\n"
     ]
    },
    {
     "data": {
      "text/plain": [
       "'(1+0j)'"
      ]
     },
     "execution_count": 13,
     "metadata": {},
     "output_type": "execute_result"
    }
   ],
   "source": [
    "#Numeric Data Types\n",
    "\n",
    "#Integer (as of python 3, ints are basically longs so there is no longer a long primitive datatype...)\n",
    "s = 1\n",
    "print(type(s))\n",
    "\n",
    "#Float\n",
    "s = float(s)\n",
    "print(type(s))\n",
    "\n",
    "#Complex (or lateral if you want to be esoteric)\n",
    "s = complex(s)\n",
    "print(type(s))\n",
    "\n",
    "\n",
    "#String (more correctly a list of characters, or a sequence in python 3 syntax)\n",
    "s = str(s)\n",
    "print(type(s))\n",
    "s"
   ]
  },
  {
   "cell_type": "markdown",
   "metadata": {},
   "source": [
    "<p>Let's examine the output of the cell above. Why would the answer be '(1 + 0j)'? Well, first we converted x to a float, making it 1.0, next we converted it to a complex number, which is horribly named because it just means our number has a component that lies on a different axis in our number space... hence + 0j. Next we converted the number to a list of hexadecimal 1's and 0's that the compliler interpreted as the characters (1 + 0j).</p> "
   ]
  },
  {
   "cell_type": "code",
   "execution_count": 14,
   "metadata": {
    "collapsed": false
   },
   "outputs": [
    {
     "name": "stdout",
     "output_type": "stream",
     "text": [
      "Hello World\n"
     ]
    }
   ],
   "source": [
    "#Strings\n",
    "hello = \"Hello\"\n",
    "world = \" World\"\n",
    "\n",
    "print(hello + world)"
   ]
  },
  {
   "cell_type": "markdown",
   "metadata": {},
   "source": [
    "<h4>Circuits</h4>\n",
    "<blockquote>\"An electric circuit is in many ways similar to your circulatory system. Your blood vessels, arteries, veins and capillaries are like the wires in a circuit. The blood vessels carry the flow of blood through your body. The wires in a circuit carry the electric current to various parts of an electrical or electronic system.\n",
    "<br>\n",
    "<br>\n",
    "Just as your heart produces the pressure to make blood circulate, a battery or generator produces the pressure or force to push electrons around a circuit. Voltage is the force and is measured in volts (V). A typical flashlight battery produces 1.5V, and the standard household electrical voltage is 110V or 220V.\"</blockquote>\n",
    "<cite><a href = \"http://science.howstuffworks.com/environmental/energy/circuit.htm\">-How Circuits Work</a></cite>"
   ]
  },
  {
   "cell_type": "markdown",
   "metadata": {},
   "source": [
    "<p>The basis of all logic in a computer is the transistor. Every computer chip has an insane number of transistors. Transistors are typically made of silicon, which as you may know does not normally allow electricity to flow through it. Silicon is therefore considered a semiconductor. By doping silicon with different materials, you can get it to behave more like a conductor, or more like a resistor. Typically, an N-type semiconductor carries an electric current out, and a P-type semiconductor carries current in. The circuit below depicts a diode with the N-type semiconductor as the triangle, and the P-type semiconductor as the line.\n",
    "<br>\n",
    "<br>\n",
    "<img src = \"494926fe525f0766b72da8aeffd64e89799ae379.gif\"></img>\n",
    "If you toyed around with an Arduino, you may have used the DC motor in one of your circuits. One lesson that you quickly learn is that as the circuit is broken, the motor still retains a bit of angular momentum. This causes the motor to continue to spin, and induct a current back through the circuit, causing a short. This is why induction motors typically have diodes before them. Diodes direct the current in one direction using semiconductors. To create a diode, you simply stack an N-type on top of a P-type semiconductor!\n",
    "\n",
    "<br>\n",
    "<br>\n",
    "A transistor is a bit more complicated, but relax, programming is never more challenging than a 1 or a 0 unless you are using a <a href = \"http://www.quantumplayground.net/#/home\">quantum computer.</a> A transistor is made up of a base current, that is either on or off, and a stack of PNP type semiconductors. When a current is applied to the base, there is an amplified current, and when there is no current to the base, there is a low current output. An amplified current output corresponds to a 1, and a low current output corresponds to a 0.\n",
    "<img src = \"transistors.gif\"></img></p>"
   ]
  },
  {
   "cell_type": "markdown",
   "metadata": {},
   "source": [
    "<img src = \"transistorAnimation.gif\"></img>"
   ]
  },
  {
   "cell_type": "markdown",
   "metadata": {},
   "source": [
    "<p>The above animation from circuitsgallery.com, is a great way to visualize what is happening in a transistor. When the switch is not activated there is a small current in the circuit that increases the amplitude of the transistor firing a 1 to start the motor, but is not strong enough to trip the transistor. When the switch is activated, the base current is applied to the transistor and completes the circuit! On an Arduino this is similar to sending 1's and 0's through serial communication to start a motor.</p>"
   ]
  },
  {
   "cell_type": "markdown",
   "metadata": {},
   "source": [
    "<p>This is the concept behind logic. A 1, or a 0. The hard disk of your computer is made up of millions of molecules that are positively or negatively charged, indicating a 1 or a 0 in memory. Additionally, every instruction on your cpu is at it's core a combination of 1's and 0's. As the read/write head of your computer searches the hard disk, it reads or writes a 1 or a 0 with an electric charge. The game of computer science is to figure out the best ways to manipulate electrons, 1's and 0's to complete tasks and model the real world to solve problems.</p>"
   ]
  },
  {
   "cell_type": "markdown",
   "metadata": {},
   "source": [
    "<h4>Logic Gates</h4>"
   ]
  },
  {
   "cell_type": "markdown",
   "metadata": {},
   "source": [
    "<p>By combining transistors, we can model many different types of complex circuits and logic gates.</p>"
   ]
  },
  {
   "cell_type": "markdown",
   "metadata": {},
   "source": [
    "<p>Python has three built in logic gates, or boolean operations.</p>\n",
    "<table style=\"width:100%\">\n",
    "  <tr>\n",
    "    <td>x or y</td>\n",
    "    <td>if x is false, then y, else x</td> \n",
    "  </tr>\n",
    "  <tr>\n",
    "    <td>x and y</td>\n",
    "    <td>if x is false, then x, else y</td> \n",
    "  </tr>\n",
    "  <tr>\n",
    "    <tr>\n",
    "    <td>not x</td>\n",
    "    <td>if x is false, then True, else False</td> \n",
    "  </tr>\n",
    "</table>"
   ]
  },
  {
   "cell_type": "markdown",
   "metadata": {},
   "source": [
    "<p>Let's define our first function in python to test the positivities of two electrons using the python built in boolean operators.</p>"
   ]
  },
  {
   "cell_type": "code",
   "execution_count": 15,
   "metadata": {
    "collapsed": false
   },
   "outputs": [
    {
     "name": "stdout",
     "output_type": "stream",
     "text": [
      "1\n",
      "1\n",
      "1\n",
      "0\n"
     ]
    }
   ],
   "source": [
    "def testOr(e1, e2):\n",
    "    return e1 or e2\n",
    "e1 = 1\n",
    "e2 = 1\n",
    "\n",
    "print(testOr(e1, e2))\n",
    "\n",
    "e1 = 1\n",
    "e2 = 0\n",
    "print(testOr(e1, e2))\n",
    "\n",
    "e1 = 0\n",
    "e2 = 1\n",
    "print(testOr(e1, e2))\n",
    "\n",
    "e1 = 0\n",
    "e2 = 0\n",
    "print(testOr(e1, e2))"
   ]
  },
  {
   "cell_type": "code",
   "execution_count": 16,
   "metadata": {
    "collapsed": false
   },
   "outputs": [
    {
     "name": "stdout",
     "output_type": "stream",
     "text": [
      "1\n",
      "1\n",
      "1\n",
      "0\n"
     ]
    }
   ],
   "source": [
    "def testAnd(e1, e2):\n",
    "    return e1 and e2\n",
    "e1 = 1\n",
    "e2 = 1\n",
    "\n",
    "print(testOr(e1, e2))\n",
    "\n",
    "e1 = 1\n",
    "e2 = 0\n",
    "print(testOr(e1, e2))\n",
    "\n",
    "e1 = 0\n",
    "e2 = 1\n",
    "print(testOr(e1, e2))\n",
    "\n",
    "e1 = 0\n",
    "e2 = 0\n",
    "print(testOr(e1, e2))"
   ]
  },
  {
   "cell_type": "code",
   "execution_count": 17,
   "metadata": {
    "collapsed": false
   },
   "outputs": [
    {
     "name": "stdout",
     "output_type": "stream",
     "text": [
      "False\n",
      "False\n"
     ]
    }
   ],
   "source": [
    "def testNot(e1):\n",
    "    return not e1\n",
    "\n",
    "e1 = 1\n",
    "print(testNot(e1))\n",
    "\n",
    "e2 = 0\n",
    "print(testNot(e1))"
   ]
  },
  {
   "cell_type": "markdown",
   "metadata": {},
   "source": [
    "<p>As you can see, the or operators are working perfectly. Examine the above logic in the table yourself to verify this.</p>"
   ]
  },
  {
   "cell_type": "markdown",
   "metadata": {},
   "source": [
    "<h4>Arrays</h4>"
   ]
  },
  {
   "cell_type": "markdown",
   "metadata": {},
   "source": [
    "<p>Say we have some data corresponding to 1's and 0's. How would we create a mental model of that and translate it to python? Well, one way to do this is to create what is called a list. A list is just what it sounds like, a list of stuff. Your stuff can be anything from a string (words), an integer, a double (has decimal points), to an object (an abstract representation of data). Most other languages refer to this data structure as an array, because in mathematics a one dimensional list of stuff is considered an array.\n",
    "</p>"
   ]
  },
  {
   "cell_type": "code",
   "execution_count": 18,
   "metadata": {
    "collapsed": false
   },
   "outputs": [
    {
     "name": "stdout",
     "output_type": "stream",
     "text": [
      "Value 0 is 1\n",
      "Value 2 is 1\n",
      "Value 3 is 1\n",
      "[1, 0, 1, 1, 0]\n"
     ]
    }
   ],
   "source": [
    "#Array\n",
    "Data = [1,0,1,1,0]\n",
    "\n",
    "#Function\n",
    "def checkData(d):\n",
    "    \n",
    "    #For Loop\n",
    "    for n in range(len(d)):\n",
    "        \n",
    "        #Conditional Statement\n",
    "        if d[n] == 1:\n",
    "            \n",
    "            #Input/Output\n",
    "            print(\"Value\", n,\"is 1\")\n",
    "\n",
    "#Pass data to function   \n",
    "checkData(Data)\n",
    "\n",
    "#Input/Output\n",
    "print(Data)"
   ]
  },
  {
   "cell_type": "code",
   "execution_count": 19,
   "metadata": {
    "collapsed": false
   },
   "outputs": [
    {
     "name": "stdout",
     "output_type": "stream",
     "text": [
      "Value 0 is 1\n",
      "Value 2 is 1\n",
      "Value 3 is 1\n",
      "[1 0 1 1 0]\n"
     ]
    }
   ],
   "source": [
    "#Another way to specify an array within Ipthon is with numpy\n",
    "import numpy as np\n",
    "\n",
    "Data = np.array([1,0,1,1,0])\n",
    "checkData(Data)\n",
    "print(Data)"
   ]
  },
  {
   "cell_type": "markdown",
   "metadata": {},
   "source": [
    "<p>Here are some basic list operations...</p>"
   ]
  },
  {
   "cell_type": "code",
   "execution_count": 20,
   "metadata": {
    "collapsed": false
   },
   "outputs": [
    {
     "name": "stdout",
     "output_type": "stream",
     "text": [
      "1\n",
      "2\n",
      "3\n",
      "1\n",
      "2\n",
      "3\n",
      "Length:  3\n"
     ]
    }
   ],
   "source": [
    "#Initialize a list\n",
    "mylist = []\n",
    "\n",
    "#Add something to the end\n",
    "mylist.append(1)\n",
    "mylist.append(2)\n",
    "mylist.append(3)\n",
    "\n",
    "#Print and access specific elements in the list\n",
    "print(mylist[0])\n",
    "print(mylist[1])\n",
    "print(mylist[2])\n",
    "\n",
    "#Iterate through list\n",
    "for x in mylist:\n",
    "    print (x)\n",
    "    \n",
    "    \n",
    "#Get size of list\n",
    "print(\"Length: \",len(mylist))"
   ]
  },
  {
   "cell_type": "markdown",
   "metadata": {},
   "source": [
    "<h4>Loops</h4>"
   ]
  },
  {
   "cell_type": "code",
   "execution_count": 21,
   "metadata": {
    "collapsed": true
   },
   "outputs": [],
   "source": [
    "primes = [2, 3, 5, 7]"
   ]
  },
  {
   "cell_type": "markdown",
   "metadata": {},
   "source": [
    "<p>Python offers many different types of loops, or ways to iterate over data. This is similar to the &Sigma; operator in mathematics.</p>"
   ]
  },
  {
   "cell_type": "code",
   "execution_count": 22,
   "metadata": {
    "collapsed": false
   },
   "outputs": [
    {
     "name": "stdout",
     "output_type": "stream",
     "text": [
      "2\n",
      "3\n",
      "5\n",
      "7\n"
     ]
    }
   ],
   "source": [
    "#For Loop\n",
    "for prime in primes:\n",
    "    print (prime)"
   ]
  },
  {
   "cell_type": "code",
   "execution_count": 23,
   "metadata": {
    "collapsed": false
   },
   "outputs": [
    {
     "name": "stdout",
     "output_type": "stream",
     "text": [
      "2\n",
      "3\n",
      "5\n",
      "7\n"
     ]
    }
   ],
   "source": [
    "#For Loop using length of list (or array)... in numpy syntax is array.len I believe.\n",
    "for x in range(len(primes)):\n",
    "    print (primes[x])"
   ]
  },
  {
   "cell_type": "code",
   "execution_count": 24,
   "metadata": {
    "collapsed": false
   },
   "outputs": [
    {
     "name": "stdout",
     "output_type": "stream",
     "text": [
      "2\n",
      "3\n",
      "5\n",
      "7\n"
     ]
    }
   ],
   "source": [
    "#While Loop\n",
    "count = 0\n",
    "while count < len(primes):\n",
    "    print (primes[count])\n",
    "    count += 1  # This is the same as count = count + 1"
   ]
  },
  {
   "cell_type": "code",
   "execution_count": 25,
   "metadata": {
    "collapsed": false
   },
   "outputs": [
    {
     "name": "stdout",
     "output_type": "stream",
     "text": [
      "2\n",
      "3\n",
      "5\n",
      "\n",
      "\n",
      "\n",
      "3\n",
      "5\n",
      "7\n"
     ]
    }
   ],
   "source": [
    "#Break Statements\n",
    "\n",
    "# Prints out first three primes\n",
    "count = 0\n",
    "while True:\n",
    "    print(primes[count])\n",
    "    count += 1\n",
    "    if count >= 3:\n",
    "        break\n",
    "\n",
    "print(\"\\n\\n\")\n",
    "\n",
    "# Prints out only odd primes\n",
    "for x in range(len(primes)):\n",
    "    # Check if x is even\n",
    "    if primes[x] % 2 == 0:\n",
    "        continue\n",
    "    print(primes[x])"
   ]
  },
  {
   "cell_type": "code",
   "execution_count": 26,
   "metadata": {
    "collapsed": false
   },
   "outputs": [
    {
     "name": "stdout",
     "output_type": "stream",
     "text": [
      "2\n",
      "3\n",
      "5\n",
      "7\n",
      "count value reached 4\n",
      "\n",
      "\n",
      "\n",
      "3\n",
      "5\n",
      "7\n",
      "Array element 8 is not printed because for loop is terminated because of break but not due to fail in condition\n"
     ]
    }
   ],
   "source": [
    "#Else\n",
    "\n",
    "# Prints out four primes\n",
    "count=0\n",
    "while(count<4):\n",
    "    print(primes[count])\n",
    "    count +=1\n",
    "else:\n",
    "    print(\"count value reached %d\" %(count))\n",
    "\n",
    "    \n",
    "print(\"\\n\\n\")\n",
    "\n",
    "\n",
    "for i in range(1,len(primes)):\n",
    "    if(i%7==0):\n",
    "        break\n",
    "    print(primes[i])\n",
    "else:\n",
    "    print(\"Array element\",primes[i]+1,\"is not printed\\\n",
    " because for loop is terminated because of break but not due to fail in condition\")"
   ]
  },
  {
   "cell_type": "markdown",
   "metadata": {},
   "source": [
    "<h4>Graphs</h4>"
   ]
  },
  {
   "cell_type": "markdown",
   "metadata": {},
   "source": [
    "<p>Graphs are incredibly important tools in computer programming because they allow you to visualize what is going on. Let's graph a simple line.</p>"
   ]
  },
  {
   "cell_type": "code",
   "execution_count": 27,
   "metadata": {
    "collapsed": false
   },
   "outputs": [
    {
     "data": {
      "image/png": "[encoded data removed]",
      "text/plain": [
       "<matplotlib.figure.Figure at 0x7feab95a7c88>"
      ]
     },
     "metadata": {},
     "output_type": "display_data"
    }
   ],
   "source": [
    "#Import numpy(a matrix library) and matplotlib (a graphing library)\n",
    "import numpy as np\n",
    "import matplotlib.pyplot as plt\n",
    "\n",
    "#Set up our data.\n",
    "\n",
    "#An easy way to represent a line in matplotlib is by using numpy.linspace().\n",
    "#linspace creates a sample space of points, and then is supplied start and stop values for\n",
    "#the line length. Our line would represent the number 1 in 1 dimension.\n",
    "x = np.linspace(0, 1)\n",
    "y = np.linspace(0,1)\n",
    "\n",
    "line, = plt.plot(x, y, linewidth=2)\n",
    "\n",
    "plt.show()"
   ]
  },
  {
   "cell_type": "markdown",
   "metadata": {},
   "source": [
    "<h4>Spiral of Theodorus</h4>"
   ]
  },
  {
   "cell_type": "markdown",
   "metadata": {},
   "source": [
    "<p>Although Theodorus' work was lost, Plato catalogued it extensively. Theodorus came up with what I consider to be one of the most important concepts in math, the spiral of Theodorus. Picture yourself as an ancient greek, whose only tools are a sandbox and two sticks of equal length. Theodorus found that if you place the two sticks at right angles, you can derive all kinds of mathematical concepts.</p>"
   ]
  },
  {
   "cell_type": "markdown",
   "metadata": {},
   "source": [
    "<img src = \"spiralOfTheodorus.png\" align = \"left\" width = \"500\"></img>"
   ]
  },
  {
   "cell_type": "markdown",
   "metadata": {},
   "source": [
    "<p>If we label our sides a, b, and c we can remodel the function for the spiral of Theodorus.\n",
    "<br>\n",
    "<br>\n",
    "<li>a = 1</li>\n",
    "<li>b = &radic;<span style=\"text-decoration:overline;\">&nbsp;n&nbsp;</span></li>\n",
    "<li>c = &radic;<span style=\"text-decoration:overline;\">&nbsp;n + 1&nbsp;</span></li>\n",
    "</p>"
   ]
  },
  {
   "cell_type": "code",
   "execution_count": 28,
   "metadata": {
    "collapsed": false
   },
   "outputs": [
    {
     "name": "stdout",
     "output_type": "stream",
     "text": [
      "Triangle: 1  a: 1  b: 0.0  c: 1.0\n",
      "Triangle: 2  a: 1  b: 1.0  c: 1.41421356237\n",
      "Triangle: 3  a: 1  b: 1.41421356237  c: 1.73205080757\n",
      "Triangle: 4  a: 1  b: 1.73205080757  c: 2.0\n",
      "Triangle: 5  a: 1  b: 2.0  c: 2.2360679775\n",
      "Triangle: 6  a: 1  b: 2.2360679775  c: 2.44948974278\n",
      "Triangle: 7  a: 1  b: 2.44948974278  c: 2.64575131106\n",
      "Triangle: 8  a: 1  b: 2.64575131106  c: 2.82842712475\n",
      "Triangle: 9  a: 1  b: 2.82842712475  c: 3.0\n",
      "Triangle: 10  a: 1  b: 3.0  c: 3.16227766017\n",
      "Triangle: 11  a: 1  b: 3.16227766017  c: 3.31662479036\n",
      "Triangle: 12  a: 1  b: 3.31662479036  c: 3.46410161514\n",
      "Triangle: 13  a: 1  b: 3.46410161514  c: 3.60555127546\n",
      "Triangle: 14  a: 1  b: 3.60555127546  c: 3.74165738677\n",
      "Triangle: 15  a: 1  b: 3.74165738677  c: 3.87298334621\n",
      "Triangle: 16  a: 1  b: 3.87298334621  c: 4.0\n",
      "Triangle: 17  a: 1  b: 4.0  c: 4.12310562562\n"
     ]
    }
   ],
   "source": [
    "#Spiral of Theodorus\n",
    "\n",
    "#Define a function that will print the results of the Spiral of Theodorus\n",
    "#n = the number of triangles you want to step through\n",
    "def spiralOfTheodorus(n):\n",
    "    \n",
    "    #A simple for loop that loops through n, incrementing i upon execution of the loop\n",
    "    for i in range(n):\n",
    "        \n",
    "        #Side a = 1\n",
    "        a = 1\n",
    "        \n",
    "        #Side b = sqrt(n)\n",
    "        b = numpy.sqrt(i)\n",
    "        \n",
    "        #Side c = sqrt(n+1)\n",
    "        c = numpy.sqrt(i + 1)\n",
    "        \n",
    "        #Print the output\n",
    "        print(\"Triangle:\",i+1,\" a:\",a,\" b:\",b,\" c:\",c)\n",
    "\n",
    "#Execute the function\n",
    "spiralOfTheodorus(17)"
   ]
  },
  {
   "cell_type": "markdown",
   "metadata": {},
   "source": [
    "<p>There is a historical signifigance for why I chose 17 as the number of triangles, but I will leave that up to the reader to figure out. We can test how our function performed by checking the last triangle.</p>"
   ]
  },
  {
   "cell_type": "code",
   "execution_count": 29,
   "metadata": {
    "collapsed": false
   },
   "outputs": [
    {
     "name": "stdout",
     "output_type": "stream",
     "text": [
      "a = 1 b = 4.0 c = 4.12310562562\n"
     ]
    }
   ],
   "source": [
    "print(\"a =\",1,\"b =\",np.sqrt(16),\"c =\",np.sqrt(17))"
   ]
  },
  {
   "cell_type": "markdown",
   "metadata": {},
   "source": [
    "<h4>Pythagorean Theorem</h4>"
   ]
  },
  {
   "cell_type": "markdown",
   "metadata": {},
   "source": [
    "<img src = \"pythagoreanTheorem.png\" align = \"left\"></img>"
   ]
  },
  {
   "cell_type": "markdown",
   "metadata": {},
   "source": [
    "<p>Pythagorus built upon the Spiral of Theodorus, and created the Pythagorean Theorem. Pythagorus found that if he took three squares of sides equal length, he could describe all kinds of mathematics. Most importantly he proved that a<sup>2</sup> + b<sup>2</sup> = c<sup>2</sup>."
   ]
  },
  {
   "cell_type": "markdown",
   "metadata": {},
   "source": [
    "<p>A square is defined as having sides of equal length. To find the area of a square, we simply \"square\" the length of one of the sides. If a = 1, a<sup>2</sup> = 1. Additionally, if we add the areas of squares a and b, we get the area of square c. This is the basis of the pythagorean theorem, and we can model it quite simply in python.</p>"
   ]
  },
  {
   "cell_type": "code",
   "execution_count": 30,
   "metadata": {
    "collapsed": false
   },
   "outputs": [
    {
     "name": "stdout",
     "output_type": "stream",
     "text": [
      "a = 1 b = 2 c = 2.2360679775\n"
     ]
    }
   ],
   "source": [
    "#Pythagorean Theorem\n",
    "\n",
    "#Define a function that will print the results of the pythagorean theorem\n",
    "#This function takes an argument for the length of a and b, and calculates c\n",
    "def pythagoreanTheorem(a,b):\n",
    "    \n",
    "    #If a^2 + b^2 = c^2, using simple algebra c = sqrt(a^2+b^2)\n",
    "    c = np.sqrt((a**2)+(b**2))\n",
    "    \n",
    "    #Print a, b, c\n",
    "    print(\"a =\",a,\"b =\",b,\"c =\",c)\n",
    "\n",
    "#Execute function\n",
    "pythagoreanTheorem(1,2)"
   ]
  },
  {
   "cell_type": "markdown",
   "metadata": {},
   "source": [
    "<p>We can test our results as follows. \n",
    "<br>\n",
    "<br>\n",
    "1. If a<sup>2</sup> + b<sup>2</sup> = c<sup>2</sup>, then using simple algebra,\n",
    "<br>\n",
    "<br>\n",
    "2. c = &radic;<span style=\"text-decoration:overline;\">&nbsp;a<sup>2</sup> + b<sup>2</sup>&nbsp;</span>\n",
    "<br>\n",
    "<br>\n",
    "3. a = 1, b = 2 \n",
    "<br>\n",
    "<br>\n",
    "4. c = &radic;<span style=\"text-decoration:overline;\">&nbsp;1<sup>2</sup> + 2<sup>2</sup>&nbsp;</span>\n",
    "<br>\n",
    "<br>\n",
    "4. c = &radic;<span style=\"text-decoration:overline;\">&nbsp;5&nbsp;</span>\n",
    "</p>"
   ]
  },
  {
   "cell_type": "code",
   "execution_count": 31,
   "metadata": {
    "collapsed": false
   },
   "outputs": [
    {
     "name": "stdout",
     "output_type": "stream",
     "text": [
      "2.2360679775\n"
     ]
    }
   ],
   "source": [
    "print(np.sqrt(5))"
   ]
  },
  {
   "cell_type": "markdown",
   "metadata": {},
   "source": [
    "<h4>Imaginary Numbers</h4>"
   ]
  },
  {
   "cell_type": "markdown",
   "metadata": {},
   "source": [
    "<p>i<sup>2</sup> = -1\n",
    "</p>"
   ]
  },
  {
   "cell_type": "markdown",
   "metadata": {},
   "source": [
    "<p>Ancient civilizations really only cared about natural numbers like 1, 2, and 3. This is because the only things humans needed to do back then was add and subtract stuff. Then the Egyptians expanded on this idea to facilitate monetary transactions by inventing fractions. The next big innovation in the number line was 0 and negative numbers with the invention of debt.\n",
    "<br>\n",
    "<br>\n",
    "Around five centuries ago, a mathematician by the name of Del Ferro was playing around with the quadratic formula trying to find an equation to cubic functions. At that time, mathematicians would hold duels, and they made money by winning these math duels. Del Ferro successfully found an equation for cubic functions, and kept this equation secret in order to win. The only problem was that his equation did not work for certain numbers due to square roots of negatives. \n",
    "<br>\n",
    "<br>\n",
    "Del Ferro kept his formula secret to his dying day, on which he told he passed his knowledge to his only student Foir. Foir, with his new formula got cocky and challenged Fontana Tartaglia, another respected mathematician to a duel believing he would win. Tartaglia already claimed he could solve cubic functions, but he was lying. Before the match however, he actually figured it out and beat Foir. \n",
    "<br>\n",
    "<br>\n",
    "Tartaglia ended up sharing his and Foir's secret formula for cubics under pressure from Cardan, who discovered Del Ferro's original work and decided it was not a big deal for him to publish Del Ferro's work to the public. It was not until another generation of mathematicians that Bombelli, Cardan's student made significant strides with the cubic function. \n",
    "<br>\n",
    "<br>\n",
    "Bombelli is credited with being one of the first mathematicians to allow square roots of negatives to exist in his equation, or the imaginary number. Additionally this allowed him to find the solution to Cardan's problem. Bombelli never gave his work any credit however, and regarded it as sophistry. \n",
    "<br>\n",
    "<br>\n",
    "A century later, Euler started using i in his algebra, and made what is regarded as the most important discovery in mathematics, solving the imaginary number problem.</p>"
   ]
  },
  {
   "cell_type": "markdown",
   "metadata": {},
   "source": [
    "<img src = \"x+iy.gif\" align = \"left\" width = \"200\"></img>"
   ]
  },
  {
   "cell_type": "markdown",
   "metadata": {},
   "source": [
    "<p>If we imagine a number, x as a scalar, and add an imaginary component iy, we can enlarge our space of numbers. Now numbers can have a real part, and an imaginary part and are two dimensional. In other words, we can do a scalar transformation of x along the number line, and we can also do a scalar transformation in the direction of iy.</p> "
   ]
  },
  {
   "cell_type": "markdown",
   "metadata": {},
   "source": [
    "<p>Using pythagorus' theorem, and it's derived geometry, we can now make a model of a complex number. Our graphing library has a nice circular graph that takes polar coordinates, so we are going to have to convert our point to polar coordinates before we can graph it.</p>"
   ]
  },
  {
   "cell_type": "code",
   "execution_count": 32,
   "metadata": {
    "collapsed": false
   },
   "outputs": [
    {
     "name": "stdout",
     "output_type": "stream",
     "text": [
      "sqrt(2) = 1.41421356237\n",
      "1.41421356237\n",
      "0.785398163397\n"
     ]
    },
    {
     "data": {
      "image/png": "[encoded data removed]",
      "text/plain": [
       "<matplotlib.figure.Figure at 0x7feab95cd6d8>"
      ]
     },
     "metadata": {},
     "output_type": "display_data"
    }
   ],
   "source": [
    "#Plot a 2d number\n",
    "\n",
    "#Convert from cartesian to polar coordinates\n",
    "#r = sqrt(x^2 + iy^2)\n",
    "#theta = tan^-1(iy/x)\n",
    "\n",
    "#x\n",
    "x = 1\n",
    "\n",
    "#imaginary number\n",
    "i = 1\n",
    "\n",
    "#y\n",
    "y = 1\n",
    "\n",
    "#radius conversion from x and y\n",
    "r = np.sqrt((x**2)+(y**2))\n",
    "\n",
    "#check radius\n",
    "print(\"sqrt(2) =\",np.sqrt(2))\n",
    "print(r)\n",
    "\n",
    "#theta conversion from x and y\n",
    "theta = np.arctan2(y, x)\n",
    "\n",
    "#check theta\n",
    "print(theta)\n",
    "\n",
    "#graph area\n",
    "area = 100*r**2\n",
    "\n",
    "#polar coordinates\n",
    "ax = plt.subplot(111, projection='polar')\n",
    "\n",
    "#plot number: theta = angle, r = radius, c = color, s = size\n",
    "c = plt.scatter(theta, r, c='red', s=area)\n",
    "\n",
    "#set the alpha channel (transparency)\n",
    "c.set_alpha(0.75)\n",
    "\n",
    "#show the plot\n",
    "plt.show()"
   ]
  },
  {
   "cell_type": "markdown",
   "metadata": {},
   "source": [
    "<p>To make sure our graph is correct, we can use some simple logic. If we look at the Spiral of Theodorus, we will notice that angles of 45 degrees are special because sides a and b are equal. For our graph, we made sides a and b equal to 1. The Spiral of Theodorus, and geometry from the Pythagorean theorem says that side c, or in our case our radius, should be equal to &radic;<span style=\"text-decoration:overline;\">&nbsp;1<sup>2</sup> + 1<sup>2</sup>&nbsp;</span>, or more simply, &radic;<span style=\"text-decoration:overline;\">&nbsp;2&nbsp;</span></p>"
   ]
  },
  {
   "cell_type": "code",
   "execution_count": 33,
   "metadata": {
    "collapsed": false
   },
   "outputs": [
    {
     "name": "stdout",
     "output_type": "stream",
     "text": [
      "Our radius is, 1.41421356237 The square root of 2 is, 1.41421356237\n"
     ]
    }
   ],
   "source": [
    "print(\"Our radius is,\",r,\"The square root of 2 is,\",np.sqrt(2))"
   ]
  },
  {
   "cell_type": "markdown",
   "metadata": {},
   "source": [
    "<h4>The Exponential Function</h4>"
   ]
  },
  {
   "cell_type": "markdown",
   "metadata": {},
   "source": [
    "<p>The most brilliant mathematician of the eighteenth century was Leonhard Euler. Euler is credited for some of the most amazing proofs in mathematics, and specifically, the invention of the Euler number, e. e is the number that describes exponential growth. Exponential growth is quite intuitive. For example, if you have bacteria that multiply exponentially over time, their graph would look like the one below.</p>"
   ]
  },
  {
   "cell_type": "markdown",
   "metadata": {},
   "source": [
    "<img src = \"exponentialFunction.png\" align = \"left\" width = \"300\"></img>"
   ]
  },
  {
   "cell_type": "markdown",
   "metadata": {},
   "source": [
    "<p>Let's see if we can model exponential growth using Python.</p>"
   ]
  },
  {
   "cell_type": "code",
   "execution_count": 34,
   "metadata": {
    "collapsed": false
   },
   "outputs": [],
   "source": [
    "#Exponential Growth\n",
    "\n",
    "#Import dependencies for animations\n",
    "from JSAnimation.IPython_display import display_animation\n",
    "import matplotlib.animation as animation\n",
    "\n",
    "\n",
    "#Define a callback function for our model data\n",
    "def modelData():\n",
    "    \n",
    "    #define parameters\n",
    "    \n",
    "    #length of time\n",
    "    t_max = 10.0\n",
    "    \n",
    "    #change in time\n",
    "    dt = 0.1\n",
    "    \n",
    "    #x initial state\n",
    "    x = 0.0\n",
    "    \n",
    "    #time initial state\n",
    "    t = 0.0\n",
    "    \n",
    "    #update parameters\n",
    "    while t < t_max:\n",
    "        \n",
    "        #x = e^t\n",
    "        x = np.exp(t)\n",
    "        \n",
    "        #increment time\n",
    "        t = t + dt\n",
    "        \n",
    "        #return parameters\n",
    "        yield x, t\n",
    "\n",
    "#Define our model\n",
    "def modelPoints(modelData):\n",
    "    \n",
    "    #set x and t\n",
    "    x, t = modelData[0], modelData[1]\n",
    "    \n",
    "    #set text displaying time\n",
    "    time_text.set_text(time_template%(t))\n",
    "    \n",
    "    #pass data to line object\n",
    "    line.set_data(t, x)\n",
    "    \n",
    "    #return line for matplotlib animation and time text\n",
    "    return line, time_text\n",
    "\n",
    "#Create a new plot\n",
    "#fig = plt.figure()\n",
    "\n",
    "#Add axes\n",
    "#ax = fig.add_subplot(111)\n",
    "\n",
    "#Plot line (empty x, empty y, red circles, 10 miliseconds)\n",
    "#line, = ax.plot([], [], 'ro', ms=10)\n",
    "\n",
    "#Set y axes\n",
    "#ax.set_ylim(1, 22026)\n",
    "\n",
    "#Set x axes\n",
    "#ax.set_xlim(0, 10)\n",
    "\n",
    "#Set time display format\n",
    "#time_template = 'Time = %.1f s'\n",
    "\n",
    "#Initialize time text\n",
    "#time_text = ax.text(0.05, 0.9, '', transform=ax.transAxes)\n",
    "\n",
    "#Animate\n",
    "#anim = animation.FuncAnimation(fig, modelPoints, modelData, blit=True, interval=10, repeat=True)\n",
    "\n",
    "#Display in javascript\n",
    "#display_animation(anim, default_mode='reflect')\n",
    "#print(mpl.__version__)\n",
    "#anim.save('exponentialFunction.gif', writer='imagemagick')"
   ]
  },
  {
   "cell_type": "markdown",
   "metadata": {},
   "source": [
    "<img src = 'exponentialFunction.gif'></img>"
   ]
  },
  {
   "cell_type": "markdown",
   "metadata": {},
   "source": [
    "<p>We can easily validate our animation by simply plugging t into the exponential function. In our case, f(x) = e<sup>t</sup>, and finding the value at t = 10.</p>"
   ]
  },
  {
   "cell_type": "code",
   "execution_count": 35,
   "metadata": {
    "collapsed": false
   },
   "outputs": [
    {
     "name": "stdout",
     "output_type": "stream",
     "text": [
      "e^10 = 22026.4657948\n"
     ]
    }
   ],
   "source": [
    "print(\"e^10 =\",np.exp(10))"
   ]
  },
  {
   "cell_type": "markdown",
   "metadata": {},
   "source": [
    "<p>If you examine the last frame of our animation, you will see the point is at (t=10, x=22026), accounting for a small error in the image scale between time and x.</p> "
   ]
  },
  {
   "cell_type": "markdown",
   "metadata": {},
   "source": [
    "<h4>Waves</h4>"
   ]
  },
  {
   "cell_type": "markdown",
   "metadata": {},
   "source": [
    "<p>Euler, being the inventor of the euler number, thought it would be a great idea to see what happened if he applied his number to imaginary numbers. It turns out, that if you exponentiate the imaginary number, really cool things happen.</p>"
   ]
  },
  {
   "cell_type": "markdown",
   "metadata": {},
   "source": [
    "<img src = \"eulerIdentity.png\" align = \"left\" width = \"200\"></img>"
   ]
  },
  {
   "cell_type": "markdown",
   "metadata": {},
   "source": [
    "<p>Euler found that if you grow exponentially to the imaginary number multiplied by an angle, you can describe rotations around a circle. For instance:\n",
    "<br>\n",
    "<br>\n",
    "1. If e<sup>i&pi;</sup> = cos(&pi;) + isin(&pi;), pi being in radians,\n",
    "<br>\n",
    "<br>\n",
    "2. cos(&pi;) = -1,\n",
    "<br>\n",
    "<br>\n",
    "3. sin(&pi;) = 0,\n",
    "<br>\n",
    "<br>\n",
    "4. e<sup>i&pi;</sup> = -1....or in other words, a 180 degree rotation.</p>"
   ]
  },
  {
   "cell_type": "markdown",
   "metadata": {},
   "source": [
    "<p>As theta iterates, a point with a corresponding complex number would rotate around the circle. It's real part would go back and forth, or oscillate, much like many things around us in nature.</p>"
   ]
  },
  {
   "cell_type": "markdown",
   "metadata": {},
   "source": [
    "<img src = \"fourierOne.gif\" align = \"left\" width = \"200\"></img>"
   ]
  },
  {
   "cell_type": "markdown",
   "metadata": {},
   "source": [
    "<p>Let's model this behavior by creating a program that displays two graphs of three points. \n",
    "<br>\n",
    "<br>\n",
    "Graph 1:\n",
    "<br>\n",
    "Point 1, labeled in red, will correspond to the real and imaginary parts of our complex number. Point 2, labeled in blue, will correspond to the real part.\n",
    "<br>\n",
    "<br>\n",
    "Graph 2:\n",
    "<br>\n",
    "Point 3, labeled in green, will correspond to a sinusoidal wave with the real part of our function as it's amplitude.</p>"
   ]
  },
  {
   "cell_type": "code",
   "execution_count": 36,
   "metadata": {
    "collapsed": false
   },
   "outputs": [],
   "source": [
    "#Define a callback function for our model data\n",
    "def modelData():\n",
    "    \n",
    "    #define parameters\n",
    "    \n",
    "    #length of time\n",
    "    t_max = 10.0\n",
    "    \n",
    "    #change in time\n",
    "    dt = 0.1\n",
    "    \n",
    "    #time initial state\n",
    "    t = 0.0\n",
    "    \n",
    "    #update parameters\n",
    "    while t < t_max:\n",
    "        \n",
    "        #theta\n",
    "        theta = (t * 4) / (2*np.pi)\n",
    "        \n",
    "        #radius\n",
    "        r = 1\n",
    "        \n",
    "        #increment time\n",
    "        t = t + dt\n",
    "        \n",
    "        #return parameters\n",
    "        yield r, theta, t\n",
    "\n",
    "#Define our model\n",
    "def modelPoints(modelData):\n",
    "    \n",
    "    #set r, theta, and t\n",
    "    r, theta, t = modelData[0], modelData[1],modelData[2]\n",
    "\n",
    "    #pass data to line objects\n",
    "    \n",
    "    #A revolution around the circle corresponding to the complex plane\n",
    "    line1.set_data(theta,r)\n",
    "    \n",
    "    #An oscillation between -1 and 1 depicting the real part\n",
    "    line2.set_data(0,np.cos(theta))\n",
    "    \n",
    "    #A wave using the real part for amplitude\n",
    "    line3.set_data(np.cos(theta)/2,t)\n",
    "    \n",
    "    #return line for matplotlib animation and time text\n",
    "    return line1, line2, line3\n",
    "\n",
    "#Create a new plot\n",
    "#fig = plt.figure(1)\n",
    "\n",
    "#Add wave subplot\n",
    "#ax = fig.add_subplot(211)\n",
    "\n",
    "#Set y axes\n",
    "#ax.set_ylim(0,10)\n",
    "\n",
    "#Set x axes\n",
    "#ax.set_xlim(-1, 1)\n",
    "\n",
    "#Plot wave\n",
    "#line3, = ax.plot([],[], 'go', ms=10)\n",
    "\n",
    "#Add polar subplot\n",
    "#ax = fig.add_subplot(212, projection='polar')\n",
    "\n",
    "#Plot line (empty x, empty y, red circles, 10 miliseconds)\n",
    "#line1, = ax.plot([], [], 'ro', ms=10)\n",
    "\n",
    "#Plot line (empty x, empty y, blue circles, 10 miliseconds)\n",
    "#line2, = ax.plot([], [], 'bo', ms=10)\n",
    "\n",
    "#Set y axes\n",
    "#ax.set_ylim(0,1)\n",
    "\n",
    "#Set x axes\n",
    "#ax.set_xlim(0, 2*np.pi)\n",
    "\n",
    "#Animate\n",
    "#anim = animation.FuncAnimation(fig, modelPoints, modelData, blit=False, interval=10, repeat=True)\n",
    "\n",
    "#Display in javascript\n",
    "#display_animation(anim, default_mode='loop')\n",
    "\n",
    "#anim.save('wave.gif', writer='imagemagick')"
   ]
  },
  {
   "cell_type": "markdown",
   "metadata": {},
   "source": [
    "<img src = 'wave.gif'></img>"
   ]
  },
  {
   "cell_type": "markdown",
   "metadata": {},
   "source": [
    "<h4>Light</h4>"
   ]
  },
  {
   "cell_type": "markdown",
   "metadata": {},
   "source": [
    "<p>When Maxwell discovered his equations of electricity and magnetism, the consequence was that he could describe light using waves.</p>"
   ]
  },
  {
   "cell_type": "markdown",
   "metadata": {},
   "source": [
    "<img src = \"lightAnimation.gif\" align = \"left\"></img>"
   ]
  },
  {
   "cell_type": "markdown",
   "metadata": {},
   "source": [
    "<p>In the animation above, the blue arrows are the magnetic field, the red arrows are the electric field, and this field pattern moves along space-time at the speed of light.</p>"
   ]
  },
  {
   "cell_type": "markdown",
   "metadata": {},
   "source": [
    "<p>What is interesting about Maxwell's equations is that they have no scale. You can take a light wave and shrink it down to an x-ray or gamma ray, or you can scale it up to radio waves and they all obey the same equations.</p>"
   ]
  },
  {
   "cell_type": "markdown",
   "metadata": {},
   "source": [
    "<p>We can model a light wave by creating two oscilating waves that are perpendicular to each other. The amplitude will be a real part of a complex number. Wave 1 will travel in the x, z plane and Wave 2 will travel in the y, z plane. The z axis will represent time.</p>"
   ]
  },
  {
   "cell_type": "code",
   "execution_count": 37,
   "metadata": {
    "collapsed": false
   },
   "outputs": [],
   "source": [
    "#LightWave\n",
    "from JSAnimation.IPython_display import display_animation\n",
    "import matplotlib.animation as animation\n",
    "import mpl_toolkits.mplot3d.axes3d as p3\n",
    "\n",
    "\n",
    "#Define function generator for plane\n",
    "def generate(X1, Y1, phi):\n",
    "    Z1 = 0\n",
    "    return Z1\n",
    "\n",
    "#Define our model data\n",
    "def modelData():\n",
    "    t_max = 10.0\n",
    "    dt = .1\n",
    "    t = 0.0\n",
    "    x = 0\n",
    "    y = 0\n",
    "    z = 0\n",
    "    while t < t_max:        \n",
    "        t = t + dt\n",
    "        x = x\n",
    "        y = y\n",
    "        z = z\n",
    "        yield x, y, z, ax, fig, t\n",
    "        \n",
    "#Define our model points\n",
    "def modelPoints(modelData):      \n",
    "    x, y, z, ax, fig, t = modelData[0], modelData[1], modelData[2], modelData[3], modelData[4], modelData[5]\n",
    "    theta = (t * 4) / (2*np.pi)\n",
    "    ax.cla()\n",
    "    Z1 = generate(X1, Y1, 0)\n",
    "    wframe = ax.plot_wireframe(X1, Y1, Z1, rstride=2, cstride=2, color = \"blue\")\n",
    "    wframe = ax.plot_wireframe(Z2, X2, Y2, rstride=2, cstride=2, color = \"red\")\n",
    "    line1, = ax.plot([], [], [], 'bo', ms=10)\n",
    "    line2, = ax.plot([], [], [], 'ro', ms=10)\n",
    "    line3, = ax.plot([], [], [], 'yo', ms=10)\n",
    "    line1.set_data(np.cos(theta),t)\n",
    "    line1.set_3d_properties(0)\n",
    "    line2.set_data(0,t)\n",
    "    line2.set_3d_properties(np.cos(theta))\n",
    "    line3.set_data(0,t)\n",
    "    line3.set_3d_properties(0)\n",
    "    ax.set_xlim(-1, 1)\n",
    "    ax.set_ylim(0, 10)\n",
    "    ax.set_zlim(-1, 1)\n",
    "    return wframe\n",
    "    \n",
    "#fig = plt.figure()\n",
    "\n",
    "#ax = p3.Axes3D(fig)\n",
    "\n",
    "#xs = np.linspace(-1, 1, 50)\n",
    "\n",
    "#ys = np.linspace(0, 10, 50)\n",
    "\n",
    "#X1, Y1 = np.meshgrid(xs, ys)\n",
    "\n",
    "#Z1 = generate(X1, Y1, 0.0)\n",
    "\n",
    "#X2, Y2 = np.meshgrid(ys, xs)\n",
    "\n",
    "#Z2 = generate(X1, Y1, 0.0)\n",
    "\n",
    "#anim = animation.FuncAnimation(fig, modelPoints, modelData, blit=False, interval=20, repeat=True)\n",
    "\n",
    "#display_animation(anim, default_mode='loop')\n",
    "#anim.save('lightWave.gif', writer='imagemagick')"
   ]
  },
  {
   "cell_type": "markdown",
   "metadata": {},
   "source": [
    "<img src = 'lightWave.gif'></img>"
   ]
  },
  {
   "cell_type": "markdown",
   "metadata": {},
   "source": [
    "<h4>Heat</h4>"
   ]
  },
  {
   "cell_type": "markdown",
   "metadata": {},
   "source": [
    "<p>Waves do not describe everything so far. One thing we need to account for is heat. If waves existed in Maxwell's equation with no other caveats, then the sun literally would not be able to exist. Waves can carry energy. If you allow waves of arbitrary wavelength, you can fit an arbitrary number of those waves into any volume of space. This is because waves carry energy. If there was an infinity of short waves, they would carry the heat of the sun away in an instant because when the sun reaches thermal equilibrium, it shares its energy in equal partitions. This is true of any hot object. Thankfully, light is not a wave however, it is actually a particle!\n",
    "<br>\n",
    "<br>\n",
    "This is what Planck discovered, he was tasked with making a more efficient lightbulb and he figured out why really hot objects emit light. Plancks law is that the energy that light carries is a new constant of nature, called Planck's constant multiplied by the frequency of light. The frequency is higher the shorter the wavelength which solves our sun problem.<br>\n",
    "<br>\n",
    "In fact, if you look at the sun: we know the temperature of the sun, we know the energy, which is carried by each lightwave, and we also know the frequency of visible light. If you take the ratio, you get plancks constant, h.</p>"
   ]
  },
  {
   "cell_type": "markdown",
   "metadata": {},
   "source": [
    "<p>Let's model the Planck Constant. Let's say you're shining blue light of frequency 6.2 x 10<sup>14</sup> hertz on a piece of metal, causing electrons to be produced from the surface.\n",
    "<br>\n",
    "<br>\n",
    "<li>Einstein-Planck Relation, E = hf.</li>\n",
    "</p>"
   ]
  },
  {
   "cell_type": "code",
   "execution_count": 38,
   "metadata": {
    "collapsed": false
   },
   "outputs": [
    {
     "name": "stdout",
     "output_type": "stream",
     "text": [
      "4.1105999999999995e-19 Joules\n"
     ]
    }
   ],
   "source": [
    "#Planck's Constant Problem\n",
    "f = 6.2*(10**14)\n",
    "h = 6.63*(10**-34)\n",
    "print(h*f,\"Joules\")"
   ]
  },
  {
   "cell_type": "markdown",
   "metadata": {},
   "source": [
    "<h4>Wave Particle Duality</h4>"
   ]
  },
  {
   "cell_type": "markdown",
   "metadata": {},
   "source": [
    "<img src = \"soubleSlitTwo.gif\" align = \"left\" width = \"500\"></img>"
   ]
  },
  {
   "cell_type": "markdown",
   "metadata": {},
   "source": [
    "<p>In the animation above, everything is working properly, except for when the light hits the screen at the end. As you can see, the light is delivering itself in discrete packets creating an interference pattern... This is because light behaves as a wave and a particle.</p> "
   ]
  },
  {
   "cell_type": "markdown",
   "metadata": {},
   "source": [
    "<p>Lets graph the interference pattern for our light wave using a double slit.</p>"
   ]
  },
  {
   "cell_type": "code",
   "execution_count": 39,
   "metadata": {
    "collapsed": false
   },
   "outputs": [],
   "source": [
    "#Wave Particle Duality\n",
    "\n",
    "#Import 3d axis dependencies\n",
    "import mpl_toolkits.mplot3d.axes3d as p3\n",
    "\n",
    "#Define our model data\n",
    "def modelData():\n",
    "    t_max = 10.0\n",
    "    dt = 0.1\n",
    "    theta = 0.0\n",
    "    t = 0.0\n",
    "    while t < t_max:\n",
    "        theta = (t * 4) / (2*np.pi)\n",
    "        t = t + dt\n",
    "        yield theta, t\n",
    "\n",
    "#Define our model points\n",
    "def modelPoints(modelData):\n",
    "    theta, t = modelData[0], modelData[1]\n",
    "    x = theta\n",
    "    y = (np.cos(np.sin(theta)))**2\n",
    "    line1.set_data(np.cos(theta),t)\n",
    "    line1.set_3d_properties(0)\n",
    "    line2.set_data(0,t)\n",
    "    line2.set_3d_properties(np.cos(theta))\n",
    "    line3.set_data(x, y)\n",
    "    return line1, line2, line3\n",
    "\n",
    "#Add our plot\n",
    "#fig = plt.figure()\n",
    "\n",
    "#Set 3d flag\n",
    "#ax = fig.add_subplot(2, 1, 2, projection='3d')\n",
    "\n",
    "#Plot Electric and Magnetic fields\n",
    "#line1, = ax.plot([], [], [], 'bo', ms=10)\n",
    "#line2, = ax.plot([], [], [], 'ro', ms=10)\n",
    "\n",
    "\n",
    "#Set axis parameters\n",
    "#ax.set_xlim(1, -1)\n",
    "\n",
    "#ax.set_ylim(0, 10)\n",
    "\n",
    "#ax.set_zlim(1, -1)\n",
    "\n",
    "#ax = fig.add_subplot(2, 1, 1)\n",
    "\n",
    "#ax.set_xlim(0, 2 *np.pi)\n",
    "\n",
    "#ax.set_ylim(.3,1)\n",
    "\n",
    "#line3, = ax.plot([], [], 'yo', ms=10)\n",
    "\n",
    "\n",
    "#anim = animation.FuncAnimation(fig, modelPoints, modelData, blit=True, interval=10, repeat=True)\n",
    "\n",
    "#display_animation(anim, default_mode='loop')\n",
    "\n",
    "#anim.save('waveParticleDuality.gif', writer='imagemagick')"
   ]
  },
  {
   "cell_type": "markdown",
   "metadata": {},
   "source": [
    "<img src = 'waveParticleDuality.gif'></img>"
   ]
  },
  {
   "cell_type": "markdown",
   "metadata": {},
   "source": [
    "<h4>General Relativity</h4>"
   ]
  },
  {
   "cell_type": "markdown",
   "metadata": {},
   "source": [
    "<p>Let's revisit light.</p>\n",
    "<img src = \"lightAnimation.gif\" align = \"left\"></img>"
   ]
  },
  {
   "cell_type": "markdown",
   "metadata": {},
   "source": [
    "<p>If you know the speed of light, motion fails to make sense in Newtonian Physics. Much like a leopard intuitively knows that if he accelerates while chasing a gazelle he will catch it, humans intuitively assume that if they chase light, it's speed will decrease as well. This is fundamentally incorrect.</p>\n",
    "<p>This is where relativity comes in. Light travels at the speed of light, no matter how fast you chase after it by Maxwell's equations.</p>"
   ]
  },
  {
   "cell_type": "markdown",
   "metadata": {},
   "source": [
    "<img src = \"relativityLight.gif\" align = \"left\"></img>"
   ]
  },
  {
   "cell_type": "markdown",
   "metadata": {},
   "source": [
    "<p>Suppose the source light is a flashlight in a car moving at the speed of light. If the circle is the observer viewing the light, he would suppose he was seeing the light at twice the speed of light, however this is not what happens.</p>\n",
    "<p>This is where Einstein came up with his theory of relativity. Einstein proposed that the space time is stretched in time and space to always go at 45 degrees to the observer. This allows the light to reach the observer at a different time.</p> "
   ]
  },
  {
   "cell_type": "markdown",
   "metadata": {},
   "source": [
    "<p>Time and space depend on the observer.</p>"
   ]
  },
  {
   "cell_type": "code",
   "execution_count": 40,
   "metadata": {
    "collapsed": true
   },
   "outputs": [],
   "source": [
    "#TO DO!"
   ]
  },
  {
   "cell_type": "markdown",
   "metadata": {},
   "source": [
    "<h4>Gravity</h4>"
   ]
  },
  {
   "cell_type": "markdown",
   "metadata": {},
   "source": [
    "<p>If space and time are not rigid, that must mean they can bend. This allows for an explanation of gravity!</p>\n",
    "<img src = \"gravity.gif\" align = \"left\"></img>"
   ]
  },
  {
   "cell_type": "markdown",
   "metadata": {},
   "source": [
    "<p>The earth and the sun bend space and time, creating a depression around which other objects can orbit. As soon as you make space time malleable, you can entertain that all of space time came out of something much, much smaller; an idea that was proposed by Alexander Freidman.</p>"
   ]
  },
  {
   "cell_type": "code",
   "execution_count": 41,
   "metadata": {
    "collapsed": true
   },
   "outputs": [],
   "source": [
    "#TO DO!"
   ]
  },
  {
   "cell_type": "markdown",
   "metadata": {},
   "source": [
    "<h4>Schrodinger's Equation</h4>"
   ]
  },
  {
   "cell_type": "markdown",
   "metadata": {},
   "source": [
    "<p>Planck set the beginnings of quantum theory by allowing light waves to carry high or low amounts of energy in packets depending on their length. This gave way to the Schrodinger equation, which summarizes everything we know about Physics.</p>"
   ]
  },
  {
   "cell_type": "markdown",
   "metadata": {},
   "source": [
    "<img src = \"schrodingerEquation.png\" align = \"left\"></img>"
   ]
  },
  {
   "cell_type": "markdown",
   "metadata": {},
   "source": [
    "<p>You will see in this theory:\n",
    "<br>\n",
    "<br>\n",
    "<li>e, Euler's number approximately equal to 2.71828.</li>\n",
    "<li>i, the imaginary number over h, Planck's constant approximately = 6.626070040(81) x 10<sup>-34</sup>JS.</li>\n",
    "<li>Feynman's rewriting of Schrodinger's Equation rewritten as an integral followed by how the angle of things wander around our sphere. Next is Einstein's theory of Gravity R / 16 &pi;G the curvature of space and time (spin 2).</li>\n",
    "<li>Maxwell's theory of electromagnetism and the weak and strong force (spin 1, photons).</li>\n",
    "<li>Dirac's equation for the electron (spin 1/2).</li>\n",
    "<li>The Higgs Equations (spin 0).</li>"
   ]
  },
  {
   "cell_type": "markdown",
   "metadata": {},
   "source": [
    "<p>Jake Vanderplass' implementation of the Schrodinger Equation...</p>"
   ]
  },
  {
   "cell_type": "code",
   "execution_count": 1,
   "metadata": {
    "collapsed": false
   },
   "outputs": [],
   "source": [
    "\"\"\"\n",
    "General Numerical Solver for the 1D Time-Dependent Schrodinger's equation.\n",
    "\n",
    "author: Jake Vanderplas\n",
    "email: vanderplas@astro.washington.edu\n",
    "website: http://jakevdp.github.com\n",
    "license: BSD\n",
    "Please feel free to use and modify this, but keep the above information. Thanks!\n",
    "\"\"\"\n",
    "\n",
    "import numpy as np\n",
    "from matplotlib import pyplot as pl\n",
    "from matplotlib import animation\n",
    "from scipy.fftpack import fft,ifft\n",
    "\n",
    "\n",
    "class Schrodinger(object):\n",
    "    \"\"\"\n",
    "    Class which implements a numerical solution of the time-dependent\n",
    "    Schrodinger equation for an arbitrary potential\n",
    "    \"\"\"\n",
    "    def __init__(self, x, psi_x0, V_x,\n",
    "                 k0 = None, hbar=1, m=1, t0=0.0):\n",
    "        \"\"\"\n",
    "        Parameters\n",
    "        ----------\n",
    "        x : array_like, float\n",
    "            length-N array of evenly spaced spatial coordinates\n",
    "        psi_x0 : array_like, complex\n",
    "            length-N array of the initial wave function at time t0\n",
    "        V_x : array_like, float\n",
    "             length-N array giving the potential at each x\n",
    "        k0 : float\n",
    "            the minimum value of k.  Note that, because of the workings of the\n",
    "            fast fourier transform, the momentum wave-number will be defined\n",
    "            in the range\n",
    "              k0 < k < 2*pi / dx\n",
    "            where dx = x[1]-x[0].  If you expect nonzero momentum outside this\n",
    "            range, you must modify the inputs accordingly.  If not specified,\n",
    "            k0 will be calculated such that the range is [-k0,k0]\n",
    "        hbar : float\n",
    "            value of planck's constant (default = 1)\n",
    "        m : float\n",
    "            particle mass (default = 1)\n",
    "        t0 : float\n",
    "            initial tile (default = 0)\n",
    "        \"\"\"\n",
    "        # Validation of array inputs\n",
    "        self.x, psi_x0, self.V_x = map(np.asarray, (x, psi_x0, V_x))\n",
    "        N = self.x.size\n",
    "        assert self.x.shape == (N,)\n",
    "        assert psi_x0.shape == (N,)\n",
    "        assert self.V_x.shape == (N,)\n",
    "\n",
    "        # Set internal parameters\n",
    "        self.hbar = hbar\n",
    "        self.m = m\n",
    "        self.t = t0\n",
    "        self.dt_ = None\n",
    "        self.N = len(x)\n",
    "        self.dx = self.x[1] - self.x[0]\n",
    "        self.dk = 2 * np.pi / (self.N * self.dx)\n",
    "\n",
    "        # set momentum scale\n",
    "        if k0 == None:\n",
    "            self.k0 = -0.5 * self.N * self.dk\n",
    "        else:\n",
    "            self.k0 = k0\n",
    "        self.k = self.k0 + self.dk * np.arange(self.N)\n",
    "\n",
    "        self.psi_x = psi_x0\n",
    "        self.compute_k_from_x()\n",
    "\n",
    "        # variables which hold steps in evolution of the\n",
    "        self.x_evolve_half = None\n",
    "        self.x_evolve = None\n",
    "        self.k_evolve = None\n",
    "\n",
    "        # attributes used for dynamic plotting\n",
    "        self.psi_x_line = None\n",
    "        self.psi_k_line = None\n",
    "        self.V_x_line = None\n",
    "\n",
    "    def _set_psi_x(self, psi_x):\n",
    "        self.psi_mod_x = (psi_x * np.exp(-1j * self.k[0] * self.x)\n",
    "                          * self.dx / np.sqrt(2 * np.pi))\n",
    "\n",
    "    def _get_psi_x(self):\n",
    "        return (self.psi_mod_x * np.exp(1j * self.k[0] * self.x)\n",
    "                * np.sqrt(2 * np.pi) / self.dx)\n",
    "\n",
    "    def _set_psi_k(self, psi_k):\n",
    "        self.psi_mod_k = psi_k * np.exp(1j * self.x[0]\n",
    "                                        * self.dk * np.arange(self.N))\n",
    "\n",
    "    def _get_psi_k(self):\n",
    "        return self.psi_mod_k * np.exp(-1j * self.x[0] * \n",
    "                                        self.dk * np.arange(self.N))\n",
    "    \n",
    "    def _get_dt(self):\n",
    "        return self.dt_\n",
    "\n",
    "    def _set_dt(self, dt):\n",
    "        if dt != self.dt_:\n",
    "            self.dt_ = dt\n",
    "            self.x_evolve_half = np.exp(-0.5 * 1j * self.V_x\n",
    "                                         / self.hbar * dt )\n",
    "            self.x_evolve = self.x_evolve_half * self.x_evolve_half\n",
    "            self.k_evolve = np.exp(-0.5 * 1j * self.hbar /\n",
    "                                    self.m * (self.k * self.k) * dt)\n",
    "    \n",
    "    psi_x = property(_get_psi_x, _set_psi_x)\n",
    "    psi_k = property(_get_psi_k, _set_psi_k)\n",
    "    dt = property(_get_dt, _set_dt)\n",
    "\n",
    "    def compute_k_from_x(self):\n",
    "        self.psi_mod_k = fft(self.psi_mod_x)\n",
    "\n",
    "    def compute_x_from_k(self):\n",
    "        self.psi_mod_x = ifft(self.psi_mod_k)\n",
    "\n",
    "    def time_step(self, dt, Nsteps = 1):\n",
    "        \"\"\"\n",
    "        Perform a series of time-steps via the time-dependent\n",
    "        Schrodinger Equation.\n",
    "\n",
    "        Parameters\n",
    "        ----------\n",
    "        dt : float\n",
    "            the small time interval over which to integrate\n",
    "        Nsteps : float, optional\n",
    "            the number of intervals to compute.  The total change\n",
    "            in time at the end of this method will be dt * Nsteps.\n",
    "            default is N = 1\n",
    "        \"\"\"\n",
    "        self.dt = dt\n",
    "\n",
    "        if Nsteps > 0:\n",
    "            self.psi_mod_x *= self.x_evolve_half\n",
    "\n",
    "        for i in range(Nsteps - 1):\n",
    "            self.compute_k_from_x()\n",
    "            self.psi_mod_k *= self.k_evolve\n",
    "            self.compute_x_from_k()\n",
    "            self.psi_mod_x *= self.x_evolve\n",
    "\n",
    "        self.compute_k_from_x()\n",
    "        self.psi_mod_k *= self.k_evolve\n",
    "\n",
    "        self.compute_x_from_k()\n",
    "        self.psi_mod_x *= self.x_evolve_half\n",
    "\n",
    "        self.compute_k_from_x()\n",
    "\n",
    "        self.t += dt * Nsteps\n",
    "\n",
    "\n",
    "######################################################################\n",
    "# Helper functions for gaussian wave-packets\n",
    "\n",
    "def gauss_x(x, a, x0, k0):\n",
    "    \"\"\"\n",
    "    a gaussian wave packet of width a, centered at x0, with momentum k0\n",
    "    \"\"\" \n",
    "    return ((a * np.sqrt(np.pi)) ** (-0.5)\n",
    "            * np.exp(-0.5 * ((x - x0) * 1. / a) ** 2 + 1j * x * k0))\n",
    "\n",
    "def gauss_k(k,a,x0,k0):\n",
    "    \"\"\"\n",
    "    analytical fourier transform of gauss_x(x), above\n",
    "    \"\"\"\n",
    "    return ((a / np.sqrt(np.pi))**0.5\n",
    "            * np.exp(-0.5 * (a * (k - k0)) ** 2 - 1j * (k - k0) * x0))\n",
    "\n",
    "\n",
    "######################################################################\n",
    "# Utility functions for running the animation\n",
    "\n",
    "def theta(x):\n",
    "    \"\"\"\n",
    "    theta function :\n",
    "      returns 0 if x<=0, and 1 if x>0\n",
    "    \"\"\"\n",
    "    x = np.asarray(x)\n",
    "    y = np.zeros(x.shape)\n",
    "    y[x > 0] = 1.0\n",
    "    return y\n",
    "\n",
    "def square_barrier(x, width, height):\n",
    "    return height * (theta(x) - theta(x - width))\n",
    "\n",
    "######################################################################\n",
    "# Create the animation\n",
    "\n",
    "# specify time steps and duration\n",
    "dt = 0.01\n",
    "N_steps = 50\n",
    "t_max = 120\n",
    "frames = int(t_max / float(N_steps * dt))\n",
    "\n",
    "# specify constants\n",
    "hbar = 1.0   # planck's constant\n",
    "m = 1.9      # particle mass\n",
    "\n",
    "# specify range in x coordinate\n",
    "N = 2 ** 11\n",
    "dx = 0.1\n",
    "x = dx * (np.arange(N) - 0.5 * N)\n",
    "\n",
    "# specify potential\n",
    "V0 = 1.5\n",
    "L = hbar / np.sqrt(2 * m * V0)\n",
    "a = 3 * L\n",
    "x0 = -60 * L\n",
    "V_x = square_barrier(x, a, V0)\n",
    "V_x[x < -98] = 1E6\n",
    "V_x[x > 98] = 1E6\n",
    "\n",
    "# specify initial momentum and quantities derived from it\n",
    "p0 = np.sqrt(2 * m * 0.2 * V0)\n",
    "dp2 = p0 * p0 * 1./80\n",
    "d = hbar / np.sqrt(2 * dp2)\n",
    "\n",
    "k0 = p0 / hbar\n",
    "v0 = p0 / m\n",
    "psi_x0 = gauss_x(x, d, x0, k0)\n",
    "\n",
    "# define the Schrodinger object which performs the calculations\n",
    "S = Schrodinger(x=x,\n",
    "                psi_x0=psi_x0,\n",
    "                V_x=V_x,\n",
    "                hbar=hbar,\n",
    "                m=m,\n",
    "                k0=-28)\n",
    "\n",
    "######################################################################\n",
    "# Set up plot\n",
    "#fig = pl.figure()\n",
    "\n",
    "# plotting limits\n",
    "#xlim = (-100, 100)\n",
    "#klim = (-5, 5)\n",
    "\n",
    "# top axes show the x-space data\n",
    "#ymin = 0\n",
    "#ymax = V0\n",
    "#ax1 = fig.add_subplot(211, xlim=xlim,\n",
    "#                      ylim=(ymin - 0.2 * (ymax - ymin),\n",
    "#                            ymax + 0.2 * (ymax - ymin)))\n",
    "#psi_x_line, = ax1.plot([], [], c='r', label=r'$|\\psi(x)|$')\n",
    "#V_x_line, = ax1.plot([], [], c='k', label=r'$V(x)$')\n",
    "#center_line = ax1.axvline(0, c='k', ls=':',\n",
    "#                          label = r\"$x_0 + v_0t$\")\n",
    "\n",
    "#title = ax1.set_title(\"\")\n",
    "#ax1.legend(prop=dict(size=12))\n",
    "#ax1.set_xlabel('$x$')\n",
    "#ax1.set_ylabel(r'$|\\psi(x)|$')\n",
    "\n",
    "# bottom axes show the k-space data\n",
    "#ymin = abs(S.psi_k).min()\n",
    "#ymax = abs(S.psi_k).max()\n",
    "#ax2 = fig.add_subplot(212, xlim=klim,\n",
    "#                      ylim=(ymin - 0.2 * (ymax - ymin),\n",
    "#                            ymax + 0.2 * (ymax - ymin)))\n",
    "#psi_k_line, = ax2.plot([], [], c='r', label=r'$|\\psi(k)|$')\n",
    "\n",
    "#p0_line1 = ax2.axvline(-p0 / hbar, c='k', ls=':', label=r'$\\pm p_0$')\n",
    "#p0_line2 = ax2.axvline(p0 / hbar, c='k', ls=':')\n",
    "#mV_line = ax2.axvline(np.sqrt(2 * V0) / hbar, c='k', ls='--',\n",
    "#                      label=r'$\\sqrt{2mV_0}$')\n",
    "#ax2.legend(prop=dict(size=12))\n",
    "#ax2.set_xlabel('$k$')\n",
    "#ax2.set_ylabel(r'$|\\psi(k)|$')\n",
    "\n",
    "#V_x_line.set_data(S.x, S.V_x)\n",
    "\n",
    "######################################################################\n",
    "# Animate plot\n",
    "def init():\n",
    "    psi_x_line.set_data([], [])\n",
    "    V_x_line.set_data([], [])\n",
    "    center_line.set_data([], [])\n",
    "\n",
    "    psi_k_line.set_data([], [])\n",
    "    title.set_text(\"\")\n",
    "    return (psi_x_line, V_x_line, center_line, psi_k_line, title)\n",
    "\n",
    "def animate(i):\n",
    "    S.time_step(dt, N_steps)\n",
    "    psi_x_line.set_data(S.x, 4 * abs(S.psi_x))\n",
    "    V_x_line.set_data(S.x, S.V_x)\n",
    "    center_line.set_data(2 * [x0 + S.t * p0 / m], [0, 1])\n",
    "\n",
    "    psi_k_line.set_data(S.k, abs(S.psi_k))\n",
    "    title.set_text(\"t = %.2f\" % S.t)\n",
    "    return (psi_x_line, V_x_line, center_line, psi_k_line, title)\n",
    "\n",
    "# call the animator.  blit=True means only re-draw the parts that have changed.\n",
    "#anim = animation.FuncAnimation(fig, animate, init_func=init,\n",
    "#                               frames=frames, interval=30, blit=True)\n",
    "\n",
    "\n",
    "# uncomment the following line to save the video in mp4 format.  This\n",
    "# requires either mencoder or ffmpeg to be installed on your system\n",
    "\n",
    "#anim.save('schrodinger_barrier.mp4', fps=15, extra_args=['-vcodec', 'libx264'])\n",
    "\n",
    "#display_animation(anim, default_mode='loop')\n",
    "\n",
    "#anim.save('schrodingerBarrier.gif', writer='imagemagick')"
   ]
  },
  {
   "cell_type": "markdown",
   "metadata": {},
   "source": [
    "<img src = 'schrodingerBarrier.gif'></img>"
   ]
  },
  {
   "cell_type": "markdown",
   "metadata": {},
   "source": [
    "<p>Well, that about does it for things in Physics that we observe, and catches the reader up to the present. Next, let's examine the point particles in our Universe.</p>"
   ]
  },
  {
   "cell_type": "markdown",
   "metadata": {},
   "source": [
    "<h3>Elementary Particles (Work in progress, I hope to implement my own elementary particle explorer in the future)</h3>"
   ]
  },
  {
   "cell_type": "markdown",
   "metadata": {},
   "source": [
    "<img src = \"E8LieGroup.png\" align = \"left\" width = \"600\"></img>"
   ]
  },
  {
   "cell_type": "markdown",
   "metadata": {},
   "source": [
    "<li>As Garrett Lisi states on his website,</li>\n",
    "<br>\n",
    "<blockquote>\n",
    "\"Every known elementary particle is identified by its charges with respect to the electromagnetic, weak, strong, and gravitational forces. Electrons have electric charge -1, up quarks 2/3, down quarks -1/3, and neutrinos 0, with antiparticles having opposite electric charges. In the Standard Model these electric charges are a combination of the particles' hypercharge, Y, and weak charge, W.\n",
    "<br>\n",
    "<br>\n",
    "These charges correspond to the geometry of Lie groups, and unified models of particle physics correspond to how the Lie groups of the Standard Model and gravity embed in larger Lie groups, up to the largest simple exceptional Lie group, E8.\"\n",
    "</blockquote>"
   ]
  },
  {
   "cell_type": "markdown",
   "metadata": {},
   "source": [
    "<h4>Supersymmetry Breaking</h4>\n",
    "<li><a href=\"https://en.wikipedia.org/wiki/Chronology_of_the_universe#Very_early_universe\">Wikipedia</a></li>\n",
    "<blockquote>\n",
    "\"If supersymmetry is a property of our universe, then it must be broken at an energy that is no lower than 1 TeV, the electroweak symmetry scale. The masses of particles and their superpartners would then no longer be equal, which could explain why no superpartners of known particles have ever been observed.\"\n",
    "</blockquote>"
   ]
  },
  {
   "cell_type": "markdown",
   "metadata": {},
   "source": [
    "<h4>Time</h4>\n",
    "<p>Imagine you place a pencil on it's tip.</p>"
   ]
  },
  {
   "cell_type": "markdown",
   "metadata": {},
   "source": [
    "<img src = \"symmetry.png\" align = \"left\" width = \"400\"></img>"
   ]
  },
  {
   "cell_type": "markdown",
   "metadata": {},
   "source": [
    "<p>When you let go, the pencil will inevitably fall. When the pencil falls, it provides us with a sense of direction and scale. We can say move an arbitrary number of pencil lengths some arbitrary direction away from the pencil, and end up at a destination relative to the pencil. This is how symmetry breaking works in our Universe.</p>"
   ]
  },
  {
   "cell_type": "markdown",
   "metadata": {},
   "source": [
    "<p>Space is comprised of an X, Y, and Z direction, and exists in the flow of time, T. This gives us the four dimensions we experience as reality. Now imagine this four dimensional fabric of space time without space or time in it.</p>"
   ]
  },
  {
   "cell_type": "markdown",
   "metadata": {},
   "source": [
    "<p>Let's start by just graphing nothing. In order to graph nothing, we have to decide what nothing means to us. To me, nothing is the absence of matter. In our universe, the framework for this would be our space-time framework, or the 4d fiber we experience as reality. A four dimensional framework roughly means that we need three directions and a unit of time to describe something. At each moment, each of us has a three-dimensional direction and a unit of time in the space-time fiber. Below I wrote a program to display an animation of 3 space and time. This graph has to be an animation for it to make sense to human beings, but we could also create a graph in 3d with color as the fourth dimension.</p> "
   ]
  },
  {
   "cell_type": "code",
   "execution_count": 43,
   "metadata": {
    "collapsed": false
   },
   "outputs": [],
   "source": [
    "#Nothing\n",
    "\n",
    "#An incredible library that converts matplotlib animations to gifs and renderable animations in Ipython\n",
    "from JSAnimation.IPython_display import display_animation\n",
    "\n",
    "#Animation libraries and dependencies\n",
    "import matplotlib.animation as animation\n",
    "import mpl_toolkits.mplot3d.axes3d as p3\n",
    "\n",
    "\n",
    "#Define function generator for plane\n",
    "def generate(X, Y, phi):\n",
    "    Z = 0\n",
    "    return Z\n",
    "\n",
    "#Define our model data\n",
    "def modelData():\n",
    "    t_max = 1\n",
    "    dt = 0.1\n",
    "    t = 0.0\n",
    "    x = 0\n",
    "    y = 0\n",
    "    z = 0\n",
    "    while t < t_max:        \n",
    "        t = t + dt\n",
    "        x = x\n",
    "        y = y\n",
    "        z = z\n",
    "        yield x, y, z, ax, fig, t\n",
    "        \n",
    "#Define our model points\n",
    "def modelPoints(modelData):      \n",
    "    x, y, z, ax, fig, t = modelData[0], modelData[1], modelData[2], modelData[3], modelData[4], modelData[5]\n",
    "    return t\n",
    "    \n",
    "#fig = plt.figure()\n",
    "\n",
    "#ax = p3.Axes3D(fig)\n",
    "\n",
    "#anim = animation.FuncAnimation(fig, modelPoints, modelData, blit=False, interval=1, repeat=True)\n",
    "\n",
    "#display_animation(anim, default_mode='once')\n",
    "#anim.save('Universe.gif', writer='imagemagick')"
   ]
  },
  {
   "cell_type": "markdown",
   "metadata": {},
   "source": [
    "<img src = 'Universe.gif'></img>"
   ]
  },
  {
   "cell_type": "markdown",
   "metadata": {},
   "source": [
    "<p>As you can see, our graph successfully does nothing if we play the animation!</p>"
   ]
  },
  {
   "cell_type": "markdown",
   "metadata": {},
   "source": [
    "<p>At the \"time\" of the Big Bang there was a super hot, super dense singularity, and physicists believe that, much like our pencil example, time spontaneously chose a direction and broke symmetry to begin our universe.</p>\n",
    "<img src = \"spacetime.png\" align = \"left\" width = \"400\"></img>"
   ]
  },
  {
   "cell_type": "markdown",
   "metadata": {},
   "source": [
    "<p>Now let's add a 2d grid to our animation to represent a chunk of the space time fiber bundle, and add a length of time.</p>"
   ]
  },
  {
   "cell_type": "code",
   "execution_count": 44,
   "metadata": {
    "collapsed": false
   },
   "outputs": [],
   "source": [
    "#SpaceTime\n",
    "from JSAnimation.IPython_display import display_animation\n",
    "import matplotlib.animation as animation\n",
    "import mpl_toolkits.mplot3d.axes3d as p3\n",
    "\n",
    "\n",
    "#Define function generator for plane\n",
    "def generate(X, Y, phi):\n",
    "    Z = 0\n",
    "    return Z\n",
    "\n",
    "#Define our model data\n",
    "def modelData():\n",
    "    t_max = 10.0\n",
    "    dt = 0.1\n",
    "    t = 0.0\n",
    "    x = 0\n",
    "    y = 0\n",
    "    z = 0\n",
    "    while t < t_max:        \n",
    "        t = t + dt\n",
    "        x = x\n",
    "        y = y\n",
    "        z = z\n",
    "        yield x, y, z, ax, fig, t\n",
    "        \n",
    "#Define our model points\n",
    "def modelPoints(modelData):      \n",
    "    x, y, z, ax, fig, t = modelData[0], modelData[1], modelData[2], modelData[3], modelData[4], modelData[5]\n",
    "    ax.cla()\n",
    "    Z = generate(X, Y, 0)\n",
    "    wframe = ax.plot_wireframe(X, Y, Z, rstride=2, cstride=2, color = \"black\")\n",
    "    ax.set_xlim(-1, 1)\n",
    "    ax.set_ylim(-1, 1)\n",
    "    ax.set_zlim(-1, 1)\n",
    "    return wframe\n",
    "    \n",
    "#fig = plt.figure()\n",
    "\n",
    "#ax = p3.Axes3D(fig)\n",
    "\n",
    "#xs = np.linspace(-1, 1, 50)\n",
    "\n",
    "#ys = np.linspace(-1, 1, 50)\n",
    "\n",
    "#X, Y = np.meshgrid(xs, ys)\n",
    "\n",
    "#Z = generate(X, Y, 0.0)\n",
    "\n",
    "#anim = animation.FuncAnimation(fig, modelPoints, modelData, blit=False, interval=20, repeat=True)\n",
    "\n",
    "#display_animation(anim, default_mode='once')\n",
    "#anim.save('SpaceTime.gif', writer='imagemagick')"
   ]
  },
  {
   "cell_type": "markdown",
   "metadata": {},
   "source": [
    "<img src = 'SpaceTime.gif'></img>"
   ]
  },
  {
   "cell_type": "markdown",
   "metadata": {},
   "source": [
    "<p>When this singularity chose a direction for the flow of time, it spewed its contents in that direction, and if we fast-forward approximately fourteen billion years, we have the conditions for matter, and if we move perpendicular in space to the flow of time, we arrive at a tiny blue planet called Earth.</p>"
   ]
  },
  {
   "cell_type": "markdown",
   "metadata": {},
   "source": [
    "<img src = \"earth.jpg\" align = \"left\" width = \"400\"></img>"
   ]
  },
  {
   "cell_type": "markdown",
   "metadata": {},
   "source": [
    "<cite>--Image courtesy of NASA</cite>"
   ]
  },
  {
   "cell_type": "markdown",
   "metadata": {},
   "source": [
    "<br>\n",
    "<p>As Garrett Lisi explains in his <a href = \"https://www.youtube.com/watch?v=wfALJzn1hE8\">Ted Talk</a> on particle physics however,</p>\n",
    "<blockquote>\"The flow of time is not linear. Matter actually bends time and causes time to ripple, we observe these ripples as gravitational waves. In fact, the Earth is so dense that it actually bends the flow of time towards it's center to give us the gravity that keeps us from flying into space!\"</blockquote>"
   ]
  },
  {
   "cell_type": "markdown",
   "metadata": {},
   "source": [
    "<p>So what is this matter stuff...</p>\n",
    "<br>\n",
    "<p>According to Lisi,</p>\n",
    "<blockquote>\"At each point in space time there is another internal space, with many dimensions, that are perpendicular to our three dimensions of space X, Y, and Z. This internal space is attached to space time and moves over it. For each different direction in this inner space, there is a corresponding different kind of elementary particle that can exist at a point in space time!\"</blockquote>"
   ]
  },
  {
   "cell_type": "markdown",
   "metadata": {},
   "source": [
    "<h4>Electroweak symmetry breaking and the quark epoch</h4>\n",
    "<li><a href=\"https://en.wikipedia.org/wiki/Chronology_of_the_universe#Very_early_universe\">Wikipedia</a></li>\n",
    "<li>Between &asymp;10−12 second and 10−6 second after the Big Bang\n",
    "</li>\n",
    "<blockquote>\n",
    "\"As the universe's temperature falls below a certain very high energy level, it is believed that the Higgs field spontaneously acquires a vacuum expectation value, which breaks electroweak gauge symmetry. This has two related effects:\n",
    "<br>\n",
    "<br>\n",
    "The weak force and electromagnetic force, and their respective bosons (the W and Z bosons and photon) manifest differently in the present universe, with different ranges;\n",
    "Via the Higgs mechanism, all elementary particles interacting with the Higgs field become massive, having been massless at higher energy levels.\n",
    "At the end of this epoch, the fundamental interactions of gravitation, electromagnetism, the strong interaction and the weak interaction have now taken their present forms, and fundamental particles have mass, but the temperature of the universe is still too high to allow quarks to bind together to form hadrons.\"\n",
    "</blockquote>"
   ]
  },
  {
   "cell_type": "markdown",
   "metadata": {},
   "source": [
    "<h4>Higgs Field</h4>\n",
    "<br>\n",
    "<p>Lisi goes on in his <a href=\"https://www.youtube.com/watch?v=wfALJzn1hE8\">Ted Talk</a> to explain how the higgs field give the massive particles their mass, and does a great job describing how all elementary particles exist together in one sacred geometrical figure, the E8 Lie Group.</p>\n",
    "<img src = \"innerspace.png\" align = \"left\" width = \"400\"></img>"
   ]
  },
  {
   "cell_type": "code",
   "execution_count": 45,
   "metadata": {
    "collapsed": false
   },
   "outputs": [],
   "source": [
    "#Symmetry Breaking\n",
    "from JSAnimation.IPython_display import display_animation\n",
    "import matplotlib.animation as animation\n",
    "import mpl_toolkits.mplot3d.axes3d as p3\n",
    "\n",
    "\n",
    "#Define function generator for plane\n",
    "def generate(X, Y, theta):\n",
    "    Z = .5*(np.cos(np.pi*np.sqrt((X**2)+(Y**2))))\n",
    "    return Z\n",
    "\n",
    "#Define our model data\n",
    "def modelData():\n",
    "    t_max = 10.0\n",
    "    dt = 0.1\n",
    "    t = 0.0\n",
    "    x = 0\n",
    "    y = 0\n",
    "    z = .5\n",
    "    while t < t_max:        \n",
    "        t = t + dt\n",
    "        x = x\n",
    "        y = y\n",
    "        z = z\n",
    "        yield x, y, z, ax, fig, t\n",
    "        \n",
    "#Define our model points\n",
    "def modelPoints(modelData):      \n",
    "    x, y, z, ax, fig, t = modelData[0], modelData[1], modelData[2], modelData[3], modelData[4], modelData[5]\n",
    "    ax.cla()\n",
    "    theta = t\n",
    "    xs = np.linspace(-1, 1, 50)\n",
    "    ys = np.linspace(-1, 1, 50)\n",
    "    X, Y = np.meshgrid(xs, ys)\n",
    "    Z = generate(X, Y, theta)\n",
    "    wframe = ax.plot_wireframe(X, Y, Z, rstride=2, cstride=2, color = \"black\")\n",
    "    line1, = ax.plot([x], [y], [z],'bo', ms=20)\n",
    "    x = x + np.exp(t)/22026\n",
    "    y = y + np.exp(t)/22026\n",
    "    z = .5*(np.cos(np.pi*np.sqrt((x**2)+(y**2))))\n",
    "    line1.set_data(x, y)\n",
    "    line1.set_3d_properties(z)\n",
    "    ax.set_xlim(-1, 1)\n",
    "    ax.set_ylim(-1, 1)\n",
    "    ax.set_zlim(-1, 1)\n",
    "    return wframe, line1\n",
    "    \n",
    "#fig = plt.figure()\n",
    "\n",
    "#ax = p3.Axes3D(fig)\n",
    "\n",
    "#anim = animation.FuncAnimation(fig, modelPoints, modelData, blit=False, interval=20, repeat=True)\n",
    "\n",
    "#display_animation(anim, default_mode='once')\n",
    "#anim.save('SymmetryBreaking.gif', writer='imagemagick')"
   ]
  },
  {
   "cell_type": "markdown",
   "metadata": {},
   "source": [
    "<img src = 'SymmetryBreaking.gif'></img>"
   ]
  },
  {
   "cell_type": "markdown",
   "metadata": {},
   "source": [
    "<p>\"One very important part of this inner space are the four dimensions corresponding to the Higgs Field. Imagine the balls above to be perfectly smooth, 4d surfaces. Via symmetry breaking, we choose one direction to be special. This is very similar to how the flow of time becomes special in space time, but we are dealing with the internal space of particle physics now.\"</p>"
   ]
  },
  {
   "cell_type": "code",
   "execution_count": 46,
   "metadata": {
    "collapsed": false
   },
   "outputs": [],
   "source": [
    "#Higgs\n",
    "from JSAnimation.IPython_display import display_animation\n",
    "import matplotlib.animation as animation\n",
    "import mpl_toolkits.mplot3d.axes3d as p3\n",
    "\n",
    "\n",
    "#Define function generator for plane\n",
    "def generate(X, Y, phi):\n",
    "    Z = 0\n",
    "    return Z\n",
    "\n",
    "#Define our model data\n",
    "def modelData():\n",
    "    t_max = 10\n",
    "    dt = 0.1\n",
    "    t = 0.0\n",
    "    x = 0\n",
    "    y = 0\n",
    "    z = 0\n",
    "    while t < t_max:        \n",
    "        t = t + dt\n",
    "        x = x\n",
    "        y = y\n",
    "        z = z\n",
    "        yield x, y, z, ax, fig, t\n",
    "        \n",
    "#Define our model points\n",
    "def modelPoints(modelData):      \n",
    "    x, y, z, ax, fig, t = modelData[0], modelData[1], modelData[2], modelData[3], modelData[4], modelData[5]\n",
    "    if t >= 9.8:\n",
    "        line1, = ax.plot([x], [y], [z],'bo', ms=100)\n",
    "        line1.set_data(x, y)\n",
    "        line1.set_3d_properties(z)\n",
    "        line2, = ax.plot([x], [y], [z],'w^', ms=50)\n",
    "        line2.set_data(x, y)\n",
    "        line2.set_3d_properties(z+.25)\n",
    "        ax.set_xlim(-1, 1)\n",
    "        ax.set_ylim(-1, 1)\n",
    "        ax.set_zlim(-1, 1)\n",
    "        return t, line1, line2\n",
    "    else:\n",
    "        line1, = ax.plot([x], [y], [z],'bo', ms=100)\n",
    "        line1.set_data(x, y)\n",
    "        line1.set_3d_properties(z)\n",
    "        ax.set_xlim(-1, 1)\n",
    "        ax.set_ylim(-1, 1)\n",
    "        ax.set_zlim(-1, 1)\n",
    "        return t, line1\n",
    "    \n",
    "#fig = plt.figure()\n",
    "\n",
    "#ax = p3.Axes3D(fig)\n",
    "\n",
    "#anim = animation.FuncAnimation(fig, modelPoints, modelData, blit=False, interval=10, repeat=True)\n",
    "\n",
    "#display_animation(anim, default_mode='once')\n",
    "#anim.save('Higgs.gif', writer='imagemagick')"
   ]
  },
  {
   "cell_type": "markdown",
   "metadata": {},
   "source": [
    "<img src = 'Higgs.gif'></img>"
   ]
  },
  {
   "cell_type": "markdown",
   "metadata": {},
   "source": [
    "<p>\"With the higgs direction picked out, we now have what is referred to as the Higgs Background.\"</p>"
   ]
  },
  {
   "cell_type": "code",
   "execution_count": 47,
   "metadata": {
    "collapsed": false
   },
   "outputs": [],
   "source": [
    "#Higgs Field\n",
    "from JSAnimation.IPython_display import display_animation\n",
    "import matplotlib.animation as animation\n",
    "import mpl_toolkits.mplot3d.axes3d as p3\n",
    "\n",
    "\n",
    "#Define function generator for plane\n",
    "def generate(X, Y, phi):\n",
    "    Z = 0\n",
    "    return Z\n",
    "\n",
    "#Define our model data\n",
    "def modelData():\n",
    "    t_max = 10.0\n",
    "    dt = 0.1\n",
    "    t = 0.0\n",
    "    x = 0\n",
    "    y = 0\n",
    "    z = 0\n",
    "    while t < t_max:        \n",
    "        t = t + dt\n",
    "        x = x\n",
    "        y = y\n",
    "        z = z\n",
    "        yield x, y, z, ax, fig, t\n",
    "\n",
    "#Define our model points\n",
    "def modelPoints(modelData):\n",
    "    x, y, z, ax, fig, t = modelData[0], modelData[1], modelData[2], modelData[3], modelData[4], modelData[5]\n",
    "    if t >= 9.8:\n",
    "        ax.cla()\n",
    "        Z = generate(X, Y, 0)\n",
    "        wframe = ax.plot_wireframe(X, Y, Z, rstride=2, cstride=2, color = \"black\")\n",
    "        line1, = ax.plot([x], [y], [z],'bo', ms=10)\n",
    "        line1.set_data(x-1, y-1)\n",
    "        line1.set_3d_properties(z)\n",
    "        line2, = ax.plot([x], [y], [z],'bo', ms=10)\n",
    "        line2.set_data(x-.5, y-1)\n",
    "        line2.set_3d_properties(z)\n",
    "        line3, = ax.plot([x], [y], [z],'bo', ms=10)\n",
    "        line3.set_data(x, y-1)\n",
    "        line3.set_3d_properties(z)\n",
    "        line4, = ax.plot([x], [y], [z],'bo', ms=10)\n",
    "        line4.set_data(x+.5, y-1)\n",
    "        line4.set_3d_properties(z)\n",
    "        line5, = ax.plot([x], [y], [z],'bo', ms=10)\n",
    "        line5.set_data(x+1, y-1)\n",
    "        line5.set_3d_properties(z)\n",
    "        line6, = ax.plot([x], [y], [z],'bo', ms=10)\n",
    "        line6.set_data(x-1, y-.5)\n",
    "        line6.set_3d_properties(z)\n",
    "        line7, = ax.plot([x], [y], [z],'bo', ms=10)\n",
    "        line7.set_data(x-.5, y-.5)\n",
    "        line7.set_3d_properties(z)\n",
    "        line8, = ax.plot([x], [y], [z],'bo', ms=10)\n",
    "        line8.set_data(x, y-.5)\n",
    "        line8.set_3d_properties(z)\n",
    "        line9, = ax.plot([x], [y], [z],'bo', ms=10)\n",
    "        line9.set_data(x+.5, y-.5)\n",
    "        line9.set_3d_properties(z)\n",
    "        line10, = ax.plot([x], [y], [z],'bo', ms=10)\n",
    "        line10.set_data(x+1, y-.5)\n",
    "        line10.set_3d_properties(z)\n",
    "        line11, = ax.plot([x], [y], [z],'bo', ms=10)\n",
    "        line11.set_data(x-1, y)\n",
    "        line11.set_3d_properties(z)\n",
    "        line12, = ax.plot([x], [y], [z],'bo', ms=10)\n",
    "        line12.set_data(x-.5, y)\n",
    "        line12.set_3d_properties(z)\n",
    "        line13, = ax.plot([x], [y], [z],'bo', ms=10)\n",
    "        line13.set_data(x, y)\n",
    "        line13.set_3d_properties(z)\n",
    "        line14, = ax.plot([x], [y], [z],'bo', ms=10)\n",
    "        line14.set_data(x+.5, y)\n",
    "        line14.set_3d_properties(z)\n",
    "        line15, = ax.plot([x], [y], [z],'bo', ms=10)\n",
    "        line15.set_data(x+1, y)\n",
    "        line15.set_3d_properties(z)\n",
    "        line16, = ax.plot([x], [y], [z],'bo', ms=10)\n",
    "        line16.set_data(x-1, y+.5)\n",
    "        line16.set_3d_properties(z)\n",
    "        line17, = ax.plot([x], [y], [z],'bo', ms=10)\n",
    "        line17.set_data(x-.5, y+.5)\n",
    "        line17.set_3d_properties(z)\n",
    "        line18, = ax.plot([x], [y], [z],'bo', ms=10)\n",
    "        line18.set_data(x, y+.5)\n",
    "        line18.set_3d_properties(z)\n",
    "        line19, = ax.plot([x], [y], [z],'bo', ms=10)\n",
    "        line19.set_data(x+.5, y+.5)\n",
    "        line19.set_3d_properties(z)\n",
    "        line20, = ax.plot([x], [y], [z],'bo', ms=10)\n",
    "        line20.set_data(x+1, y+.5)\n",
    "        line20.set_3d_properties(z)\n",
    "        line21, = ax.plot([x], [y], [z],'bo', ms=10)\n",
    "        line21.set_data(x-1, y+1)\n",
    "        line21.set_3d_properties(z)\n",
    "        line22, = ax.plot([x], [y], [z],'bo', ms=10)\n",
    "        line22.set_data(x-.5, y+1)\n",
    "        line22.set_3d_properties(z)\n",
    "        line23, = ax.plot([x], [y], [z],'bo', ms=10)\n",
    "        line23.set_data(x, y+1)\n",
    "        line23.set_3d_properties(z)\n",
    "        line24, = ax.plot([x], [y], [z],'bo', ms=10)\n",
    "        line24.set_data(x+.5, y+1)\n",
    "        line24.set_3d_properties(z)\n",
    "        line25, = ax.plot([x], [y], [z],'bo', ms=10)\n",
    "        line25.set_data(x+1, y+1)\n",
    "        line25.set_3d_properties(z)\n",
    "        line26, = ax.plot([x], [y], [z],'w^', ms=5)\n",
    "        line26.set_data(x-1, y-1)\n",
    "        line26.set_3d_properties(z)\n",
    "        line27, = ax.plot([x], [y], [z],'w^', ms=5)\n",
    "        line27.set_data(x-.5, y-1)\n",
    "        line27.set_3d_properties(z)\n",
    "        line28, = ax.plot([x], [y], [z],'w^', ms=5)\n",
    "        line28.set_data(x, y-1)\n",
    "        line28.set_3d_properties(z)\n",
    "        line29, = ax.plot([x], [y], [z],'w^', ms=5)\n",
    "        line29.set_data(x+.5, y-1)\n",
    "        line29.set_3d_properties(z)\n",
    "        line30, = ax.plot([x], [y], [z],'w^', ms=5)\n",
    "        line30.set_data(x+1, y-1)\n",
    "        line30.set_3d_properties(z)\n",
    "        line31, = ax.plot([x], [y], [z],'w^', ms=5)\n",
    "        line31.set_data(x-1, y-.5)\n",
    "        line31.set_3d_properties(z)\n",
    "        line32, = ax.plot([x], [y], [z],'w^', ms=5)\n",
    "        line32.set_data(x-.5, y-.5)\n",
    "        line32.set_3d_properties(z)\n",
    "        line33, = ax.plot([x], [y], [z],'w^', ms=5)\n",
    "        line33.set_data(x, y-.5)\n",
    "        line33.set_3d_properties(z)\n",
    "        line34, = ax.plot([x], [y], [z],'w^', ms=5)\n",
    "        line34.set_data(x+.5, y-.5)\n",
    "        line34.set_3d_properties(z)\n",
    "        line35, = ax.plot([x], [y], [z],'w^', ms=5)\n",
    "        line35.set_data(x+1, y-.5)\n",
    "        line35.set_3d_properties(z)\n",
    "        line36, = ax.plot([x], [y], [z],'w^', ms=5)\n",
    "        line36.set_data(x-1, y)\n",
    "        line36.set_3d_properties(z)\n",
    "        line37, = ax.plot([x], [y], [z],'w^', ms=5)\n",
    "        line37.set_data(x-.5, y)\n",
    "        line37.set_3d_properties(z)\n",
    "        line38, = ax.plot([x], [y], [z],'w^', ms=5)\n",
    "        line38.set_data(x, y)\n",
    "        line38.set_3d_properties(z)\n",
    "        line39, = ax.plot([x], [y], [z],'w^', ms=5)\n",
    "        line39.set_data(x+.5, y)\n",
    "        line39.set_3d_properties(z)\n",
    "        line40, = ax.plot([x], [y], [z],'w^', ms=5)\n",
    "        line40.set_data(x+1, y)\n",
    "        line40.set_3d_properties(z)\n",
    "        line41, = ax.plot([x], [y], [z],'w^', ms=5)\n",
    "        line41.set_data(x-1, y+.5)\n",
    "        line41.set_3d_properties(z)\n",
    "        line42, = ax.plot([x], [y], [z],'w^', ms=5)\n",
    "        line42.set_data(x-.5, y+.5)\n",
    "        line42.set_3d_properties(z)\n",
    "        line43, = ax.plot([x], [y], [z],'w^', ms=5)\n",
    "        line43.set_data(x, y+.5)\n",
    "        line43.set_3d_properties(z)\n",
    "        line44, = ax.plot([x], [y], [z],'w^', ms=5)\n",
    "        line44.set_data(x+.5, y+.5)\n",
    "        line44.set_3d_properties(z)\n",
    "        line45, = ax.plot([x], [y], [z],'w^', ms=5)\n",
    "        line45.set_data(x+1, y+.5)\n",
    "        line45.set_3d_properties(z)\n",
    "        line46, = ax.plot([x], [y], [z],'w^', ms=5)\n",
    "        line46.set_data(x-1, y+1)\n",
    "        line46.set_3d_properties(z)\n",
    "        line47, = ax.plot([x], [y], [z],'w^', ms=5)\n",
    "        line47.set_data(x-.5, y+1)\n",
    "        line47.set_3d_properties(z)\n",
    "        line48, = ax.plot([x], [y], [z],'w^', ms=5)\n",
    "        line48.set_data(x, y+1)\n",
    "        line48.set_3d_properties(z)\n",
    "        line49, = ax.plot([x], [y], [z],'w^', ms=5)\n",
    "        line49.set_data(x+.5, y+1)\n",
    "        line49.set_3d_properties(z)\n",
    "        line50, = ax.plot([x], [y], [z],'w^', ms=5)\n",
    "        line50.set_data(x+1, y+1)\n",
    "        line50.set_3d_properties(z)\n",
    "        ax.set_xlim(-1, 1)\n",
    "        ax.set_ylim(-1, 1)\n",
    "        ax.set_zlim(-1, 1)\n",
    "        return line1, line2, line3, line4, line5, \n",
    "        line6, line7, line8, line9, line10, line11, line12, \n",
    "        line13, line14, line15, line16, line17, line18, \n",
    "        line19, line20, line21, line22, line23, line24, \n",
    "        line25, line26, line27, line28, line29, line30, \n",
    "        line31, line32, line33, line34, line35, line36, \n",
    "        line37, line38, line39, line40, line41, line42,\n",
    "        line43, line44, line45, line46, line47, line48, \n",
    "        line49, line50, wframe\n",
    "    else:\n",
    "        ax.cla()\n",
    "        Z = generate(X, Y, 0)\n",
    "        line1, = ax.plot([x], [y], [z],'bo', ms=10)\n",
    "        line1.set_data(x-1, y-1)\n",
    "        line1.set_3d_properties(z)\n",
    "        line2, = ax.plot([x], [y], [z],'bo', ms=10)\n",
    "        line2.set_data(x-.5, y-1)\n",
    "        line2.set_3d_properties(z)\n",
    "        line3, = ax.plot([x], [y], [z],'bo', ms=10)\n",
    "        line3.set_data(x, y-1)\n",
    "        line3.set_3d_properties(z)\n",
    "        line4, = ax.plot([x], [y], [z],'bo', ms=10)\n",
    "        line4.set_data(x+.5, y-1)\n",
    "        line4.set_3d_properties(z)\n",
    "        line5, = ax.plot([x], [y], [z],'bo', ms=10)\n",
    "        line5.set_data(x+1, y-1)\n",
    "        line5.set_3d_properties(z)\n",
    "        line6, = ax.plot([x], [y], [z],'bo', ms=10)\n",
    "        line6.set_data(x-1, y-.5)\n",
    "        line6.set_3d_properties(z)\n",
    "        line7, = ax.plot([x], [y], [z],'bo', ms=10)\n",
    "        line7.set_data(x-.5, y-.5)\n",
    "        line7.set_3d_properties(z)\n",
    "        line8, = ax.plot([x], [y], [z],'bo', ms=10)\n",
    "        line8.set_data(x, y-.5)\n",
    "        line8.set_3d_properties(z)\n",
    "        line9, = ax.plot([x], [y], [z],'bo', ms=10)\n",
    "        line9.set_data(x+.5, y-.5)\n",
    "        line9.set_3d_properties(z)\n",
    "        line10, = ax.plot([x], [y], [z],'bo', ms=10)\n",
    "        line10.set_data(x+1, y-.5)\n",
    "        line10.set_3d_properties(z)\n",
    "        line11, = ax.plot([x], [y], [z],'bo', ms=10)\n",
    "        line11.set_data(x-1, y)\n",
    "        line11.set_3d_properties(z)\n",
    "        line12, = ax.plot([x], [y], [z],'bo', ms=10)\n",
    "        line12.set_data(x-.5, y)\n",
    "        line12.set_3d_properties(z)\n",
    "        line13, = ax.plot([x], [y], [z],'bo', ms=10)\n",
    "        line13.set_data(x, y)\n",
    "        line13.set_3d_properties(z)\n",
    "        line14, = ax.plot([x], [y], [z],'bo', ms=10)\n",
    "        line14.set_data(x+.5, y)\n",
    "        line14.set_3d_properties(z)\n",
    "        line15, = ax.plot([x], [y], [z],'bo', ms=10)\n",
    "        line15.set_data(x+1, y)\n",
    "        line15.set_3d_properties(z)\n",
    "        line16, = ax.plot([x], [y], [z],'bo', ms=10)\n",
    "        line16.set_data(x-1, y+.5)\n",
    "        line16.set_3d_properties(z)\n",
    "        line17, = ax.plot([x], [y], [z],'bo', ms=10)\n",
    "        line17.set_data(x-.5, y+.5)\n",
    "        line17.set_3d_properties(z)\n",
    "        line18, = ax.plot([x], [y], [z],'bo', ms=10)\n",
    "        line18.set_data(x, y+.5)\n",
    "        line18.set_3d_properties(z)\n",
    "        line19, = ax.plot([x], [y], [z],'bo', ms=10)\n",
    "        line19.set_data(x+.5, y+.5)\n",
    "        line19.set_3d_properties(z)\n",
    "        line20, = ax.plot([x], [y], [z],'bo', ms=10)\n",
    "        line20.set_data(x+1, y+.5)\n",
    "        line20.set_3d_properties(z)\n",
    "        line21, = ax.plot([x], [y], [z],'bo', ms=10)\n",
    "        line21.set_data(x-1, y+1)\n",
    "        line21.set_3d_properties(z)\n",
    "        line22, = ax.plot([x], [y], [z],'bo', ms=10)\n",
    "        line22.set_data(x-.5, y+1)\n",
    "        line22.set_3d_properties(z)\n",
    "        line23, = ax.plot([x], [y], [z],'bo', ms=10)\n",
    "        line23.set_data(x, y+1)\n",
    "        line23.set_3d_properties(z)\n",
    "        line24, = ax.plot([x], [y], [z],'bo', ms=10)\n",
    "        line24.set_data(x+.5, y+1)\n",
    "        line24.set_3d_properties(z)\n",
    "        line25, = ax.plot([x], [y], [z],'bo', ms=10)\n",
    "        line25.set_data(x+1, y+1)\n",
    "        line25.set_3d_properties(z)\n",
    "        wframe = ax.plot_wireframe(X, Y, Z, rstride=2, cstride=2, color = \"black\")\n",
    "        ax.set_xlim(-1, 1)\n",
    "        ax.set_ylim(-1, 1)\n",
    "        ax.set_zlim(-1, 1)\n",
    "        return line1, line2, line3, line4, line5, line6, \n",
    "        line7, line8, line9, line10, line11, line12, \n",
    "        line13, line14, line15, line16, line17, line18, \n",
    "        line19, line20, line21, line22, line23, line24, \n",
    "        line25, wframe\n",
    "\n",
    "#fig = plt.figure()\n",
    "\n",
    "#ax = p3.Axes3D(fig)\n",
    "\n",
    "#xs = np.linspace(-1, 1, 50)\n",
    "\n",
    "#ys = np.linspace(-1, 1, 50)\n",
    "\n",
    "#X, Y = np.meshgrid(xs, ys)\n",
    "\n",
    "#Z = generate(X, Y, 0.0)\n",
    "\n",
    "#anim = animation.FuncAnimation(fig, modelPoints, modelData, blit=True, interval=20, repeat=True)\n",
    "\n",
    "#display_animation(anim, default_mode='once')\n",
    "\n",
    "#anim.save('HiggsField.gif', writer='imagemagick')"
   ]
  },
  {
   "cell_type": "markdown",
   "metadata": {},
   "source": [
    "<img src = 'HiggsField.gif'></img>"
   ]
  },
  {
   "cell_type": "markdown",
   "metadata": {},
   "source": [
    "<br>\n",
    "<p>\"Just like time can ripple, this Higgs Field can also ripple. A ripple, in the direction of the Higgs Field over space time, creates what we see as a Higgs Boson! This particle has actually been popped into existence in the Large Hadron Collider at Geneva.\"</p>"
   ]
  },
  {
   "cell_type": "markdown",
   "metadata": {},
   "source": [
    "<br>\n",
    "<p>\"To understand how this validated theory explains how particles get mass, you have to understand how the Higgs shape twists around the inner space of elementary particles, specifically in regards to the Electroweak Force...\"</p>"
   ]
  },
  {
   "cell_type": "markdown",
   "metadata": {},
   "source": [
    "<p>\"Enter the Strong Nuclear Force, the Electroweak Force, and Gravity!\"</p>\n",
    "<img src = \"innerspacecomplete.png\" align = \"left\" width = \"400\"></img>"
   ]
  },
  {
   "cell_type": "markdown",
   "metadata": {},
   "source": [
    "<cite>-<a href=\"https://www.youtube.com/watch?v=wfALJzn1hE8\">Ted X Maui</a>,Garrett Lixi</cite>"
   ]
  },
  {
   "cell_type": "markdown",
   "metadata": {},
   "source": [
    "<h4>Electroweak Force</h4>\n",
    "<p>\"The Electroweak Force is comprised of weak charge, W and hypercharge, &gamma;.\"</p>"
   ]
  },
  {
   "cell_type": "markdown",
   "metadata": {},
   "source": [
    "<img src = \"electroweak.png\" align = \"left\" width = \"400\"></img>"
   ]
  },
  {
   "cell_type": "markdown",
   "metadata": {},
   "source": [
    "<p>\"The Higgs direction is not uniform along this electroweak torus, it actually twists around it. These twists correspond to the charges of that Higgs direction.\"</p>\n",
    "<img src = \"higgsfieldelectroweaktwists.png\" align = \"left\" width = \"400\"></img>"
   ]
  },
  {
   "cell_type": "code",
   "execution_count": 48,
   "metadata": {
    "collapsed": false
   },
   "outputs": [],
   "source": [
    "#ElectroWeakTorusHiggs\n",
    "from JSAnimation.IPython_display import display_animation\n",
    "import matplotlib.animation as animation\n",
    "import mpl_toolkits.mplot3d.axes3d as p3\n",
    "\n",
    "\n",
    "#Define function generator for plane\n",
    "def generate(X, Y, Z):\n",
    "\n",
    "    return Z\n",
    "\n",
    "#Define our model data\n",
    "def modelData():\n",
    "    t_max = 20.0\n",
    "    dt = .2\n",
    "    t = 0.0\n",
    "    x = 0\n",
    "    y = 0\n",
    "    z = 0\n",
    "    while t < t_max:        \n",
    "        t = t + dt\n",
    "        x = x\n",
    "        y = y\n",
    "        z = z\n",
    "        yield x, y, z, ax, fig, t\n",
    "        \n",
    "#Define our model points\n",
    "def modelPoints(modelData):      \n",
    "    x, y, z, ax, fig, t = modelData[0], modelData[1], modelData[2], modelData[3], modelData[4], modelData[5]\n",
    "    ax.cla()\n",
    "    Z = generate(X, Y, 0)\n",
    "    c, a = 2, 1\n",
    "    x = ((c + a*np.cos(theta)) * np.cos(phi))/np.pi\n",
    "    y = ((c + a*np.cos(theta)) * np.sin(phi))/np.pi\n",
    "    z = (a * np.sin(theta))/np.pi\n",
    "    wframe = ax.plot_wireframe(x, y, z, rstride=2, cstride=2, color = \"yellow\")\n",
    "    x = (((c + a*np.cos(2*np.pi+t/2)) * np.cos(2*np.pi+t/2))/np.pi)\n",
    "    y = (((c + a*np.cos(2*np.pi+t/2)) * np.sin(2*np.pi+t/2))/np.pi)\n",
    "    z = ((a * np.sin(2 * np.pi+t/2))/np.pi)\n",
    "    line, = ax.plot([x], [y], [z],'bo', ms=20)\n",
    "    ax.set_xlim(-1, 1)\n",
    "    ax.set_ylim(-1, 1)\n",
    "    ax.set_zlim(-1, 1)\n",
    "    return wframe, line\n",
    "    \n",
    "#fig = plt.figure()\n",
    "\n",
    "#ax = p3.Axes3D(fig)\n",
    "\n",
    "#n = 100\n",
    "\n",
    "#theta = np.linspace(0, 2.*np.pi, n)\n",
    "#phi = np.linspace(0, 2.*np.pi, n)\n",
    "#theta, phi = np.meshgrid(theta, phi)\n",
    "\n",
    "#anim = animation.FuncAnimation(fig, modelPoints, modelData, blit=False, interval=20, repeat=True)\n",
    "\n",
    "#display_animation(anim, default_mode='reflect')\n",
    "#anim.save('ElectroWeakTorusHiggs.gif', writer='imagemagick')"
   ]
  },
  {
   "cell_type": "markdown",
   "metadata": {},
   "source": [
    "<img src = 'ElectroWeakTorusHiggs.gif'></img>"
   ]
  },
  {
   "cell_type": "markdown",
   "metadata": {},
   "source": [
    "<p>\"Although this geometry is very complicated, you can simply count the number of twists the Higgs Field makes around the torus, and plot them relative to the weak charge and hypercharge to form a nice graph.\"</p>"
   ]
  },
  {
   "cell_type": "markdown",
   "metadata": {},
   "source": [
    "<img src = \"higgsgraph.png\" align = \"left\" width = \"400\"></img>"
   ]
  },
  {
   "cell_type": "markdown",
   "metadata": {},
   "source": [
    "<p>\"This is how the symmetry of the Electroweak force gets broken. Perpendicular to this Higgs direction is what we call Electric Charge, which makes an angle called the weak mixing angle, and this Electric Charge is made of part hypercharge, and part weak charge. All of the other elementary particles that we know of can be plotted relative to their twists around the Electroweak torus, and we can plot them according to these twists and see their charges.\"</p>"
   ]
  },
  {
   "cell_type": "markdown",
   "metadata": {},
   "source": [
    "<img src = \"blankgraph.png\" align = \"left\" width = \"400\"></img>"
   ]
  },
  {
   "cell_type": "markdown",
   "metadata": {},
   "source": [
    "<p>\"Here is our graph of the weak charge and hypercharge.\"</p>"
   ]
  },
  {
   "cell_type": "markdown",
   "metadata": {},
   "source": [
    "<img src = \"higgsgraph.png\" align = \"left\" width = \"400\"></img>"
   ]
  },
  {
   "cell_type": "markdown",
   "metadata": {},
   "source": [
    "<p>\"Here is the graph with the three components of the Higgs Field added in.\"</p>"
   ]
  },
  {
   "cell_type": "markdown",
   "metadata": {},
   "source": [
    "<img src = \"wandzbosons.png\" align = \"left\" width = \"400\"></img>"
   ]
  },
  {
   "cell_type": "markdown",
   "metadata": {},
   "source": [
    "<p>\"The W Bosons.(The photons and Z<sub>0</sub> do not twist, they are parallel around this torus; so they sit in the center of this diagram).\"</p>"
   ]
  },
  {
   "cell_type": "markdown",
   "metadata": {},
   "source": [
    "<img src = \"electron.png\" align = \"left\" width = \"400\"></img>"
   ]
  },
  {
   "cell_type": "markdown",
   "metadata": {},
   "source": [
    "<p>\"The electron, which has four different parts, its left and right part, and the particle and antiparticle.\"</p>"
   ]
  },
  {
   "cell_type": "markdown",
   "metadata": {},
   "source": [
    "<img src = \"quarksandneutrinos.png\" align = \"left\" width = \"400\"></img>"
   ]
  },
  {
   "cell_type": "markdown",
   "metadata": {},
   "source": [
    "<p>\"The quarks and neutrinos also have four parts.\"</p>"
   ]
  },
  {
   "cell_type": "markdown",
   "metadata": {},
   "source": [
    "<br>\n",
    "<p>\"By now you should have picked up on the fundamental pattern of our universe. There are other particles you may have heard of, such as the bottom and top quarks, but they have the same number of twists as the up and down quarks so there is alot of overlap.\"</p>"
   ]
  },
  {
   "cell_type": "markdown",
   "metadata": {},
   "source": [
    "<p>\"You can rotate this diagram by the weak mixing angle, and see how the Higgs particle interacts with all of these particles to give them their mass!\"</p>\n",
    "<img src = \"mass.png\" align = \"left\" width = \"400\"></img>"
   ]
  },
  {
   "cell_type": "markdown",
   "metadata": {},
   "source": [
    "<p>\"Let's examine the graph with the Higgs direction added in. As an example, the Higgs direction, when added to the right handed part of the electron, turns into the left handed part of the electron. What is happening is, at each point in space time there is an electron, the electron is bouncing back and forth between it's left and righthanded parts interacting with the Higgs Background to give it mass!\"</p> "
   ]
  },
  {
   "cell_type": "markdown",
   "metadata": {},
   "source": [
    "<img src = \"higgsdirection.png\" align = \"left\" width = \"400\"></img>"
   ]
  },
  {
   "cell_type": "markdown",
   "metadata": {},
   "source": [
    "<p>\"This happens for every other massive particle, giving us all of the elementary particles we see!\"</p>\n",
    "<img src = \"particleswesee.png\" align = \"left\" width = \"400\"></img>"
   ]
  },
  {
   "cell_type": "markdown",
   "metadata": {},
   "source": [
    "<cite>-<a href=\"https://www.youtube.com/watch?v=wfALJzn1hE8\">Ted X Maui</a>,Garrett Lixi</cite>"
   ]
  },
  {
   "cell_type": "markdown",
   "metadata": {},
   "source": [
    "<h4>Strong Nuclear Force</h4>"
   ]
  },
  {
   "cell_type": "markdown",
   "metadata": {},
   "source": [
    "<p>\"As we mentioned earlier, inside this internal elementary particle space, there is another force called the Strong Nuclear force. The strong force is what hold the atoms nucleus together and The strong Nuclear force can also be modeled as a torus, and gravity can be viewed as a hyperbolic torus.\"</p>"
   ]
  },
  {
   "cell_type": "markdown",
   "metadata": {},
   "source": [
    "<img src = \"forces.png\" align = \"left\" width = \"400\"></img>"
   ]
  },
  {
   "cell_type": "markdown",
   "metadata": {},
   "source": [
    "<p>\"The quarks also twist around the Strong Nuclear Force torus as well, which creates color charge. Gluons also twist around the strong Torus and carry the strong force. When they interact with the quarks, they change their color, and this is what binds quarks together to give us the atomic nuclei.\"</p>\n",
    "<img src = \"matter.png\" align = \"left\" width = \"500\"></img>"
   ]
  },
  {
   "cell_type": "markdown",
   "metadata": {},
   "source": [
    "<br>\n",
    "<p>\"This is how all the matter we know of in the Universe comes to exist...</p>\n",
    "<br>\n",
    "<p>A down quark and two up quarks make a proton of total electric charge +1,<br>An up quark and two down quarks make a neutron with total electric charge of zero,<br>These clump together, bound by the strong force, orbited by electrons, bound by photons, and we see Everything around us in the Universe. All of this described by a sacred geometry.\"</p>"
   ]
  },
  {
   "cell_type": "markdown",
   "metadata": {},
   "source": [
    "<cite>-<a href=\"https://www.youtube.com/watch?v=wfALJzn1hE8\">Ted X Maui</a>,Garrett Lixi</cite>"
   ]
  },
  {
   "cell_type": "markdown",
   "metadata": {},
   "source": [
    "<h4>Life</h4>"
   ]
  },
  {
   "cell_type": "markdown",
   "metadata": {},
   "source": [
    "<h4>Habitable epoch</h4>\n",
    "<li><a href=\"https://en.wikipedia.org/wiki/Chronology_of_the_universe#Very_early_universe\">Wikipedia</a></li>\n",
    "<blockquote>\n",
    "\"The chemistry of life may have begun shortly after the Big Bang, 13.8 billion years ago, during a habitable epoch when the Universe was only 10-17 million years old.\"\n",
    "</blockquote>"
   ]
  },
  {
   "cell_type": "markdown",
   "metadata": {},
   "source": [
    "<h4>Structural Formation</h4>\n",
    "<li>&asymp;14 billion years after the Big Bang</li>\n",
    "<li><a href = \"https://en.wikipedia.org/wiki/Chronology_of_the_universe#Very_early_universe\">Wikipedia</a></li>\n",
    "<blockquote>\n",
    "\"Structure formation in the big bang model proceeds hierarchically, with smaller structures forming before larger ones. The first structures to form are quasars, which are thought to be bright, early active galaxies, and population III stars. Before this epoch, the evolution of the universe could be understood through linear cosmological perturbation theory: that is, all structures could be understood as small deviations from a perfect homogeneous universe. This is computationally relatively easy to study. At this point non-linear structures begin to form, and the computational problem becomes much more difficult, involving, for example, N-body simulations with billions of particles.\"\n",
    "</blockquote>\n",
    "\n",
    "<h4>Reionization</h4>\n",
    "<li>&asymp;150 million to 1 billion years after the Big Bang</li>\n",
    "<li><a href = \"https://en.wikipedia.org/wiki/Chronology_of_the_universe#Very_early_universe\">Wikipedia</a></li>\n",
    "<blockquote>\n",
    "\"The first stars and quasars form from gravitational collapse. The intense radiation they emit reionizes the surrounding universe. From this point on, most of the universe is composed of plasma.\"\n",
    "</blockquote>\n",
    "\n",
    "\n",
    "<h4>Formation of Stars</h4>\n",
    "<li><a href = \"https://en.wikipedia.org/wiki/Chronology_of_the_universe#Very_early_universe\">Wikipedia</a></li>\n",
    "<blockquote>\n",
    "\"The first stars, most likely Population III stars, form and start the process of turning the light elements that were formed in the Big Bang (hydrogen, helium and lithium) into heavier elements. However, as yet there have been no observed Population III stars, and understanding of them is currently based on computational models of their formation and evolution. Fortunately observations of the Cosmic Microwave Background radiation can be used to date when star formation began in earnest. Analysis of such observations made by the European Space Agency's Planck telescope, as reported by BBC News in early February, 2015, concludes that the first generation of stars lit up 560 million years after the Big Bang.\" </blockquote>\n",
    "\n",
    "<h4>Formation of Galaxies</h4>\n",
    "<li><a href = \"https://en.wikipedia.org/wiki/Chronology_of_the_universe#Very_early_universe\">Wikipedia</a></li>\n",
    "\n",
    "<blockquote>\n",
    "\"Large volumes of matter collapse to form a galaxy. Population II stars are formed early on in this process, with Population I stars formed later.\n",
    "<br>\n",
    "<br>\n",
    "Johannes Schedler's project has identified a quasar CFHQS 1641+3755 at 12.7 billion light-years away, when the universe was just 7% of its present age.\n",
    "<br>\n",
    "<br>\n",
    "On July 11, 2007, using the 10-metre Keck II telescope on Mauna Kea, Richard Ellis of the California Institute of Technology at Pasadena and his team found six star forming galaxies about 13.2 billion light years away and therefore created when the universe was only 500 million years old. Only about 10 of these extremely early objects are currently known. More recent observations have shown these ages to be shorter than previously indicated. The most distant galaxy observed as of October 2013 has been reported to be 13.1 billion light years away.\n",
    "<br>\n",
    "<br>\n",
    "The Hubble Ultra Deep Field shows a number of small galaxies merging to form larger ones, at 13 billion light years, when the universe was only 5% its current age. This age estimate is now believed to be slightly shorter.\n",
    "<br>\n",
    "<br>\n",
    "Based upon the emerging science of nucleocosmochronology, the Galactic thin disk of the Milky Way is estimated to have been formed 8.8 ± 1.7 billion years ago.\"\n",
    "</blockquote>\n",
    "\n",
    "<h4>Formation of Groups, Clusters and Superclusters</h4>\n",
    "<li><a href = \"https://en.wikipedia.org/wiki/Chronology_of_the_universe#Very_early_universe\">Wikipedia</a></li>\n",
    "\n",
    "<blockquote>\n",
    "\"Gravitational attraction pulls galaxies towards each other to form groups, clusters and superclusters.\"\n",
    "</blockquote>\n",
    "\n",
    "<h4>Formation of the Solar System</h4>\n",
    "<li>&asymp;9 billion years after the Big Bang</li>\n",
    "<li><a href = \"https://en.wikipedia.org/wiki/Chronology_of_the_universe#Very_early_universe\">Wikipedia</a></li>\n",
    "\n",
    "<blockquote>\n",
    "\"The Solar System began forming about 4.6 billion years ago, or about 9 billion years after the Big Bang. A fragment of a molecular cloud made mostly of hydrogen and traces of other elements began to collapse, forming a large sphere in the center which would become the Sun, as well as a surrounding disk. The surrounding accretion disk would coalesce into a multitude of smaller objects that would become planets, asteroids, and comets. The Sun is a late-generation star, and the Solar System incorporates matter created by previous generations of stars.\"\n",
    "</blockquote>"
   ]
  }
 ],
 "metadata": {
  "kernelspec": {
   "display_name": "Python 3",
   "language": "python",
   "name": "python3"
  },
  "language_info": {
   "codemirror_mode": {
    "name": "ipython",
    "version": 3
   },
   "file_extension": ".py",
   "mimetype": "text/x-python",
   "name": "python",
   "nbconvert_exporter": "python",
   "pygments_lexer": "ipython3",
   "version": "3.4.3"
  }
 },
 "nbformat": 4,
 "nbformat_minor": 0
}
